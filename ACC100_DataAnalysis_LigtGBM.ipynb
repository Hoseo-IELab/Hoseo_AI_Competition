{
 "cells": [
  {
   "cell_type": "code",
   "execution_count": 29,
   "metadata": {},
   "outputs": [],
   "source": [
    "import numpy as np\n",
    "import pandas as pd\n",
    "import json\n",
    "\n",
    "# machine learning\n",
    "from sklearn.model_selection import train_test_split\n",
    "from sklearn.svm import SVC, LinearSVC\n",
    "from sklearn.ensemble import RandomForestClassifier\n",
    "from sklearn.neighbors import KNeighborsClassifier\n",
    "from sklearn.naive_bayes import GaussianNB\n",
    "from sklearn.linear_model import Perceptron\n",
    "from sklearn.linear_model import SGDClassifier\n",
    "from sklearn.tree import DecisionTreeClassifier\n",
    "from sklearn.metrics import accuracy_score\n",
    "import lightgbm as lgb\n",
    "from sklearn.metrics import explained_variance_score\n",
    "from sklearn.metrics import classification_report, accuracy_score\n",
    "from sklearn.metrics import log_loss\n",
    "from sklearn.model_selection import GridSearchCV\n",
    "\n",
    "import optuna\n",
    "from optuna import Trial\n",
    "from optuna.samplers import TPESampler\n",
    "\n",
    "# ignore Warnings\n",
    "import warnings\n",
    "warnings.filterwarnings('ignore')\n",
    "\n",
    "from datetime import datetime"
   ]
  },
  {
   "cell_type": "code",
   "execution_count": 25,
   "metadata": {},
   "outputs": [],
   "source": [
    "train_df = pd.read_csv(\"train_change.csv\", encoding='euc-kr')"
   ]
  },
  {
   "cell_type": "code",
   "execution_count": 26,
   "metadata": {},
   "outputs": [],
   "source": [
    "train_df2 = train_df.drop(['Unnamed: 0', '분석데이터'], axis=1)"
   ]
  },
  {
   "cell_type": "code",
   "execution_count": 27,
   "metadata": {},
   "outputs": [],
   "source": [
    "data_copy = train_df2.copy()"
   ]
  },
  {
   "cell_type": "code",
   "execution_count": 28,
   "metadata": {},
   "outputs": [],
   "source": [
    "def remove_outlier_0(df, column):\n",
    "    fraud_column_data = df[df['label']==0][column]\n",
    "    quantile_25 = np.percentile(fraud_column_data.values, 25)\n",
    "    quantile_75 = np.percentile(fraud_column_data.values, 75)\n",
    "    \n",
    "    IQR = quantile_75 - quantile_25\n",
    "    IQR_weight = IQR * 1.5\n",
    "    \n",
    "    lowest = quantile_25 - IQR_weight\n",
    "    highest = quantile_75 + IQR_weight\n",
    "    \n",
    "    outlier_idx = fraud_column_data[ (fraud_column_data < lowest) | (fraud_column_data > highest) ].index\n",
    "    print(len(outlier_idx))\n",
    "    df.drop(outlier_idx, axis=0, inplace=True)\n",
    "    print(df.shape)\n",
    "    return df"
   ]
  },
  {
   "cell_type": "code",
   "execution_count": 7,
   "metadata": {},
   "outputs": [],
   "source": [
    "train_df_y = data_copy['label']"
   ]
  },
  {
   "cell_type": "code",
   "execution_count": 13,
   "metadata": {},
   "outputs": [],
   "source": [
    "x_train, x_test, y_train, y_test = train_test_split(data_copy, train_df_y, test_size=0.2, random_state=42)"
   ]
  },
  {
   "cell_type": "code",
   "execution_count": 18,
   "metadata": {},
   "outputs": [],
   "source": [
    "def objective(trial: Trial) -> float:\n",
    "    params_lgb = {\n",
    "        \"verbosity\": -1,\n",
    "        \"learning_rate\": 0.01,\n",
    "        \"n_estimators\": 10000,\n",
    "        \"objective\": \"binary\",\n",
    "        \"metric\": \"binary_logloss\",\n",
    "        \"reg_alpha\": trial.suggest_float(\"reg_alpha\", 1e-8, 3e-5),\n",
    "        \"reg_lambda\": trial.suggest_float(\"reg_lambda\", 1e-8, 9e-2),\n",
    "        \"max_depth\": trial.suggest_int(\"max_depth\", 1, 40),\n",
    "        \"num_leaves\": trial.suggest_int(\"num_leaves\", 2, 256),\n",
    "        \"colsample_bytree\": trial.suggest_float(\"colsample_bytree\", 0.4, 1.0),\n",
    "        \"subsample\": trial.suggest_float(\"subsample\", 0.3, 1.0),\n",
    "        \"subsample_freq\": trial.suggest_int(\"subsample_freq\", 1, 10),\n",
    "        \"min_child_samples\": trial.suggest_int(\"min_child_samples\", 5, 100),\n",
    "        \"max_bin\": trial.suggest_int(\"max_bin\", 200, 500),\n",
    "    }\n",
    "    \n",
    "    x_train, x_test, y_train, y_test = train_test_split(data_copy, train_df_y, test_size=0.2, random_state=42)\n",
    "    x_train = x_train.drop(['label'], axis=1)\n",
    "    x_test = x_test.drop(['label'], axis=1)\n",
    "\n",
    "    \n",
    "    model = lgb.LGBMClassifier(**params_lgb)\n",
    "    model.fit(\n",
    "        x_train,\n",
    "        y_train,\n",
    "        eval_set=[(x_train, y_train), (x_test, y_test)],\n",
    "        early_stopping_rounds=100,\n",
    "        verbose=False,\n",
    "    )\n",
    "\n",
    "    lgb_pred = model.predict_proba(x_test)\n",
    "    log_score = log_loss(y_test, lgb_pred)\n",
    "    \n",
    "    return log_score"
   ]
  },
  {
   "cell_type": "code",
   "execution_count": 19,
   "metadata": {
    "scrolled": true
   },
   "outputs": [
    {
     "name": "stderr",
     "output_type": "stream",
     "text": [
      "\u001b[32m[I 2021-10-10 20:28:01,930]\u001b[0m A new study created in memory with name: lgbm_parameter_opt\u001b[0m\n",
      "\u001b[32m[I 2021-10-10 20:28:28,654]\u001b[0m Trial 0 finished with value: 0.18803987012732024 and parameters: {'reg_alpha': 1.12424581642324e-05, 'reg_lambda': 0.08556428806974939, 'max_depth': 30, 'num_leaves': 154, 'colsample_bytree': 0.4936111842654619, 'subsample': 0.40919616423534183, 'subsample_freq': 1, 'min_child_samples': 88, 'max_bin': 380}. Best is trial 0 with value: 0.18803987012732024.\u001b[0m\n",
      "\u001b[32m[I 2021-10-10 20:29:09,718]\u001b[0m Trial 1 finished with value: 0.18302181820202978 and parameters: {'reg_alpha': 2.1245096608103405e-05, 'reg_lambda': 0.0018526142807772773, 'max_depth': 39, 'num_leaves': 214, 'colsample_bytree': 0.5274034664069657, 'subsample': 0.42727747704497043, 'subsample_freq': 2, 'min_child_samples': 34, 'max_bin': 357}. Best is trial 1 with value: 0.18302181820202978.\u001b[0m\n",
      "\u001b[32m[I 2021-10-10 20:29:38,657]\u001b[0m Trial 2 finished with value: 0.18141440357018968 and parameters: {'reg_alpha': 1.2964031109077052e-05, 'reg_lambda': 0.02621062970553237, 'max_depth': 25, 'num_leaves': 37, 'colsample_bytree': 0.5752867891211308, 'subsample': 0.5564532903055841, 'subsample_freq': 5, 'min_child_samples': 80, 'max_bin': 260}. Best is trial 2 with value: 0.18141440357018968.\u001b[0m\n",
      "\u001b[32m[I 2021-10-10 20:29:57,531]\u001b[0m Trial 3 finished with value: 0.22450631251198974 and parameters: {'reg_alpha': 1.5431890808024213e-05, 'reg_lambda': 0.05331731527343814, 'max_depth': 2, 'num_leaves': 156, 'colsample_bytree': 0.502314474212375, 'subsample': 0.3455361150896956, 'subsample_freq': 10, 'min_child_samples': 97, 'max_bin': 443}. Best is trial 2 with value: 0.18141440357018968.\u001b[0m\n",
      "\u001b[32m[I 2021-10-10 20:30:23,454]\u001b[0m Trial 4 finished with value: 0.17988284428964577 and parameters: {'reg_alpha': 9.145366937509386e-06, 'reg_lambda': 0.008790499283853408, 'max_depth': 28, 'num_leaves': 114, 'colsample_bytree': 0.47322294090686734, 'subsample': 0.6466238370778892, 'subsample_freq': 1, 'min_child_samples': 92, 'max_bin': 277}. Best is trial 4 with value: 0.17988284428964577.\u001b[0m\n",
      "\u001b[32m[I 2021-10-10 20:31:09,825]\u001b[0m Trial 5 finished with value: 0.17483358170286697 and parameters: {'reg_alpha': 1.987904330777592e-05, 'reg_lambda': 0.028054003730936226, 'max_depth': 21, 'num_leaves': 141, 'colsample_bytree': 0.5109126733153162, 'subsample': 0.9787092394351908, 'subsample_freq': 8, 'min_child_samples': 95, 'max_bin': 469}. Best is trial 5 with value: 0.17483358170286697.\u001b[0m\n",
      "\u001b[32m[I 2021-10-10 20:31:39,253]\u001b[0m Trial 6 finished with value: 0.18454566025349076 and parameters: {'reg_alpha': 1.7941020364544445e-05, 'reg_lambda': 0.08296868193333816, 'max_depth': 4, 'num_leaves': 51, 'colsample_bytree': 0.4271363733463229, 'subsample': 0.527731231534285, 'subsample_freq': 4, 'min_child_samples': 31, 'max_bin': 449}. Best is trial 5 with value: 0.17483358170286697.\u001b[0m\n",
      "\u001b[32m[I 2021-10-10 20:32:17,129]\u001b[0m Trial 7 finished with value: 0.1931755337657511 and parameters: {'reg_alpha': 1.0709032267540741e-05, 'reg_lambda': 0.025284113062519174, 'max_depth': 22, 'num_leaves': 37, 'colsample_bytree': 0.8813181884524238, 'subsample': 0.35218545057583955, 'subsample_freq': 10, 'min_child_samples': 79, 'max_bin': 259}. Best is trial 5 with value: 0.17483358170286697.\u001b[0m\n",
      "\u001b[32m[I 2021-10-10 20:33:38,862]\u001b[0m Trial 8 finished with value: 0.1904399554052451 and parameters: {'reg_alpha': 1.7560829253683595e-07, 'reg_lambda': 0.07339153040632079, 'max_depth': 29, 'num_leaves': 187, 'colsample_bytree': 0.8627622080115674, 'subsample': 0.35183125621386324, 'subsample_freq': 4, 'min_child_samples': 16, 'max_bin': 459}. Best is trial 5 with value: 0.17483358170286697.\u001b[0m\n",
      "\u001b[32m[I 2021-10-10 20:34:19,580]\u001b[0m Trial 9 finished with value: 0.18622910458073216 and parameters: {'reg_alpha': 1.8702710823558463e-05, 'reg_lambda': 0.02978082892775818, 'max_depth': 3, 'num_leaves': 81, 'colsample_bytree': 0.5951099932160482, 'subsample': 0.8107243248366449, 'subsample_freq': 7, 'min_child_samples': 90, 'max_bin': 342}. Best is trial 5 with value: 0.17483358170286697.\u001b[0m\n"
     ]
    },
    {
     "name": "stdout",
     "output_type": "stream",
     "text": [
      "Best Score: 0.17483358170286697\n",
      "Best trial: {'reg_alpha': 1.987904330777592e-05, 'reg_lambda': 0.028054003730936226, 'max_depth': 21, 'num_leaves': 141, 'colsample_bytree': 0.5109126733153162, 'subsample': 0.9787092394351908, 'subsample_freq': 8, 'min_child_samples': 95, 'max_bin': 469}\n"
     ]
    }
   ],
   "source": [
    "sampler = TPESampler(seed=42)\n",
    "study = optuna.create_study(\n",
    "    study_name=\"lgbm_parameter_opt\",\n",
    "    direction=\"minimize\",\n",
    "    sampler=sampler,\n",
    ")\n",
    "study.optimize(objective, n_trials=10)\n",
    "print(\"Best Score:\", study.best_value)\n",
    "print(\"Best trial:\", study.best_trial.params)"
   ]
  },
  {
   "cell_type": "code",
   "execution_count": 20,
   "metadata": {},
   "outputs": [
    {
     "name": "stdout",
     "output_type": "stream",
     "text": [
      "Accuracy: 0.17483358170286697\n"
     ]
    }
   ],
   "source": [
    "trial = study.best_trial\n",
    "print('Accuracy: {}'.format(trial.value))"
   ]
  },
  {
   "cell_type": "code",
   "execution_count": 62,
   "metadata": {},
   "outputs": [],
   "source": [
    "'''lgbm_model = lgb.LGBMClassifier(\n",
    "        learning_rate = 0.01,\n",
    "        max_depth = -1,\n",
    "        boosting_type = 'gbdt',\n",
    "        objective = 'binary',\n",
    "        metric = 'binary_logloss',\n",
    "        is_training_metric = True,\n",
    "        num_leaves = 40,\n",
    "        min_child_samples = 20,\n",
    "        colsample_bytree = 0.9,\n",
    "        subsample = 0.8,\n",
    "        subsample_freq = 5,\n",
    "        seed = 42)'''"
   ]
  },
  {
   "cell_type": "code",
   "execution_count": 63,
   "metadata": {},
   "outputs": [],
   "source": [
    "'''lgbm_model_cv = lgb.LGBMClassifier()'''"
   ]
  },
  {
   "cell_type": "code",
   "execution_count": 64,
   "metadata": {},
   "outputs": [],
   "source": [
    "def timer(start_time=None):\n",
    "    if not start_time:\n",
    "        start_time = datetime.now()\n",
    "        return start_time\n",
    "    elif start_time:\n",
    "        thour, temp_sec = divmod((datetime.now() - start_time).total_seconds(), 3600)\n",
    "        tmin, tsec = divmod(temp_sec, 60)\n",
    "        print('\\n Time taken: %i hours %i minutes and %s seconds.' % (thour, tmin, round(tsec, 2)))"
   ]
  },
  {
   "cell_type": "code",
   "execution_count": 82,
   "metadata": {},
   "outputs": [
    {
     "name": "stdout",
     "output_type": "stream",
     "text": [
      "[LightGBM] [Warning] Unknown parameter: gamma\n",
      "\n",
      " Time taken: 3 hours 12 minutes and 18.82 seconds.\n"
     ]
    }
   ],
   "source": [
    "'''lgbm_param_grid = {'max_depth': [-1, 3, 5, 7, 9],\n",
    "                  'subsample': [0.6, 0.8, 1.0],\n",
    "                  'subsample_freq' : [0,1,3,5],\n",
    "                  'min_child_weight': [1, 3, 5, 10],\n",
    "                  'colsample_bytree': [0.6, 0.8,0.9, 1.0],\n",
    "                  }\n",
    "\n",
    "hr_grid = GridSearchCV(estimator=lgbm_model,\n",
    "                       param_grid=lgbm_param_grid,\n",
    "                       scoring='roc_auc',\n",
    "                       n_jobs=-1,\n",
    "                       cv=3,\n",
    "                       refit=True, \n",
    "                       return_train_score=True)\n",
    "\n",
    "start_time = timer(None)\n",
    "hr_grid.fit(x_train, y_train)\n",
    "timer(start_time)'''"
   ]
  },
  {
   "cell_type": "code",
   "execution_count": null,
   "metadata": {},
   "outputs": [],
   "source": [
    "## 최고성능\n",
    "best_score = hr_grid.best_score_\n",
    "# 최고성능을 내는 행을 찾아냄\n",
    "best_row = hr_grid.best_index_\n",
    "\n",
    "# 최적 초모수: max_depth, subsample\n",
    "best_max_depth = hr_grid.best_params_[\"max_depth\"]\n",
    "best_max_subsample = hr_grid.best_params_[\"subsample\"]\n",
    "best_min_child_weight = hr_grid.best_params_[\"min_child_weight\"]\n",
    "best_colsample_bytree = hr_grid.best_params_[\"colsample_bytree\"]\n",
    "best_gamma = hr_grid.best_params_[\"gamma\"]\n",
    "\n",
    "\n",
    "nl = '\\n'\n",
    "print(f'예측모형성능(AUC):  \\t {best_score:.3f}{nl}\\\n",
    "        인덱스:           \\t {best_row}{nl}\\\n",
    "        max_depth:      \\t {best_max_depth}{nl}\\\n",
    "        subsample:      \\t {best_max_subsample}{nl}\\\n",
    "        colsample_bytree:      \\t {best_colsample_bytree}{nl}\\\n",
    "        min_child_weight:      \\t {best_min_child_weight}{nl}\\\n",
    "        gamma:      \\t {best_gamma}')"
   ]
  },
  {
   "cell_type": "code",
   "execution_count": 83,
   "metadata": {
    "scrolled": false
   },
   "outputs": [
    {
     "data": {
      "text/html": [
       "<div>\n",
       "<style scoped>\n",
       "    .dataframe tbody tr th:only-of-type {\n",
       "        vertical-align: middle;\n",
       "    }\n",
       "\n",
       "    .dataframe tbody tr th {\n",
       "        vertical-align: top;\n",
       "    }\n",
       "\n",
       "    .dataframe thead th {\n",
       "        text-align: right;\n",
       "    }\n",
       "</style>\n",
       "<table border=\"1\" class=\"dataframe\">\n",
       "  <thead>\n",
       "    <tr style=\"text-align: right;\">\n",
       "      <th></th>\n",
       "      <th>mean_test_score</th>\n",
       "      <th>params</th>\n",
       "    </tr>\n",
       "  </thead>\n",
       "  <tbody>\n",
       "    <tr>\n",
       "      <th>0</th>\n",
       "      <td>0.991220</td>\n",
       "      <td>{'colsample_bytree': 0.6, 'gamma': 0.5, 'max_d...</td>\n",
       "    </tr>\n",
       "    <tr>\n",
       "      <th>1</th>\n",
       "      <td>0.990361</td>\n",
       "      <td>{'colsample_bytree': 0.6, 'gamma': 0.5, 'max_d...</td>\n",
       "    </tr>\n",
       "    <tr>\n",
       "      <th>2</th>\n",
       "      <td>0.990773</td>\n",
       "      <td>{'colsample_bytree': 0.6, 'gamma': 0.5, 'max_d...</td>\n",
       "    </tr>\n",
       "    <tr>\n",
       "      <th>3</th>\n",
       "      <td>0.990728</td>\n",
       "      <td>{'colsample_bytree': 0.6, 'gamma': 0.5, 'max_d...</td>\n",
       "    </tr>\n",
       "    <tr>\n",
       "      <th>4</th>\n",
       "      <td>0.991220</td>\n",
       "      <td>{'colsample_bytree': 0.6, 'gamma': 0.5, 'max_d...</td>\n",
       "    </tr>\n",
       "    <tr>\n",
       "      <th>...</th>\n",
       "      <td>...</td>\n",
       "      <td>...</td>\n",
       "    </tr>\n",
       "    <tr>\n",
       "      <th>4795</th>\n",
       "      <td>0.988314</td>\n",
       "      <td>{'colsample_bytree': 1.0, 'gamma': 5, 'max_dep...</td>\n",
       "    </tr>\n",
       "    <tr>\n",
       "      <th>4796</th>\n",
       "      <td>0.988595</td>\n",
       "      <td>{'colsample_bytree': 1.0, 'gamma': 5, 'max_dep...</td>\n",
       "    </tr>\n",
       "    <tr>\n",
       "      <th>4797</th>\n",
       "      <td>0.988595</td>\n",
       "      <td>{'colsample_bytree': 1.0, 'gamma': 5, 'max_dep...</td>\n",
       "    </tr>\n",
       "    <tr>\n",
       "      <th>4798</th>\n",
       "      <td>0.988595</td>\n",
       "      <td>{'colsample_bytree': 1.0, 'gamma': 5, 'max_dep...</td>\n",
       "    </tr>\n",
       "    <tr>\n",
       "      <th>4799</th>\n",
       "      <td>0.988595</td>\n",
       "      <td>{'colsample_bytree': 1.0, 'gamma': 5, 'max_dep...</td>\n",
       "    </tr>\n",
       "  </tbody>\n",
       "</table>\n",
       "<p>4800 rows × 2 columns</p>\n",
       "</div>"
      ],
      "text/plain": [
       "      mean_test_score                                             params\n",
       "0            0.991220  {'colsample_bytree': 0.6, 'gamma': 0.5, 'max_d...\n",
       "1            0.990361  {'colsample_bytree': 0.6, 'gamma': 0.5, 'max_d...\n",
       "2            0.990773  {'colsample_bytree': 0.6, 'gamma': 0.5, 'max_d...\n",
       "3            0.990728  {'colsample_bytree': 0.6, 'gamma': 0.5, 'max_d...\n",
       "4            0.991220  {'colsample_bytree': 0.6, 'gamma': 0.5, 'max_d...\n",
       "...               ...                                                ...\n",
       "4795         0.988314  {'colsample_bytree': 1.0, 'gamma': 5, 'max_dep...\n",
       "4796         0.988595  {'colsample_bytree': 1.0, 'gamma': 5, 'max_dep...\n",
       "4797         0.988595  {'colsample_bytree': 1.0, 'gamma': 5, 'max_dep...\n",
       "4798         0.988595  {'colsample_bytree': 1.0, 'gamma': 5, 'max_dep...\n",
       "4799         0.988595  {'colsample_bytree': 1.0, 'gamma': 5, 'max_dep...\n",
       "\n",
       "[4800 rows x 2 columns]"
      ]
     },
     "execution_count": 83,
     "metadata": {},
     "output_type": "execute_result"
    }
   ],
   "source": [
    "hr_grid_df = pd.DataFrame(hr_grid.cv_results_)\n",
    "hr_grid_df.loc[:, ['mean_test_score', \"params\"]]"
   ]
  },
  {
   "cell_type": "code",
   "execution_count": 84,
   "metadata": {},
   "outputs": [
    {
     "data": {
      "text/html": [
       "<div>\n",
       "<style scoped>\n",
       "    .dataframe tbody tr th:only-of-type {\n",
       "        vertical-align: middle;\n",
       "    }\n",
       "\n",
       "    .dataframe tbody tr th {\n",
       "        vertical-align: top;\n",
       "    }\n",
       "\n",
       "    .dataframe thead th {\n",
       "        text-align: right;\n",
       "    }\n",
       "</style>\n",
       "<table border=\"1\" class=\"dataframe\">\n",
       "  <thead>\n",
       "    <tr style=\"text-align: right;\">\n",
       "      <th></th>\n",
       "      <th>mean_fit_time</th>\n",
       "      <th>std_fit_time</th>\n",
       "      <th>mean_score_time</th>\n",
       "      <th>std_score_time</th>\n",
       "      <th>param_colsample_bytree</th>\n",
       "      <th>param_gamma</th>\n",
       "      <th>param_max_depth</th>\n",
       "      <th>param_min_child_weight</th>\n",
       "      <th>param_subsample</th>\n",
       "      <th>param_subsample_freq</th>\n",
       "      <th>...</th>\n",
       "      <th>split1_test_score</th>\n",
       "      <th>split2_test_score</th>\n",
       "      <th>mean_test_score</th>\n",
       "      <th>std_test_score</th>\n",
       "      <th>rank_test_score</th>\n",
       "      <th>split0_train_score</th>\n",
       "      <th>split1_train_score</th>\n",
       "      <th>split2_train_score</th>\n",
       "      <th>mean_train_score</th>\n",
       "      <th>std_train_score</th>\n",
       "    </tr>\n",
       "  </thead>\n",
       "  <tbody>\n",
       "    <tr>\n",
       "      <th>5</th>\n",
       "      <td>18.285647</td>\n",
       "      <td>0.709245</td>\n",
       "      <td>0.119361</td>\n",
       "      <td>0.010211</td>\n",
       "      <td>0.6</td>\n",
       "      <td>0.5</td>\n",
       "      <td>-1</td>\n",
       "      <td>1</td>\n",
       "      <td>0.8</td>\n",
       "      <td>1</td>\n",
       "      <td>...</td>\n",
       "      <td>0.992577</td>\n",
       "      <td>0.990481</td>\n",
       "      <td>0.991327</td>\n",
       "      <td>0.000902</td>\n",
       "      <td>1</td>\n",
       "      <td>0.999798</td>\n",
       "      <td>0.999787</td>\n",
       "      <td>0.999854</td>\n",
       "      <td>0.999813</td>\n",
       "      <td>0.000029</td>\n",
       "    </tr>\n",
       "    <tr>\n",
       "      <th>245</th>\n",
       "      <td>19.224772</td>\n",
       "      <td>0.487691</td>\n",
       "      <td>0.115690</td>\n",
       "      <td>0.010343</td>\n",
       "      <td>0.6</td>\n",
       "      <td>1</td>\n",
       "      <td>-1</td>\n",
       "      <td>1</td>\n",
       "      <td>0.8</td>\n",
       "      <td>1</td>\n",
       "      <td>...</td>\n",
       "      <td>0.992577</td>\n",
       "      <td>0.990481</td>\n",
       "      <td>0.991327</td>\n",
       "      <td>0.000902</td>\n",
       "      <td>1</td>\n",
       "      <td>0.999798</td>\n",
       "      <td>0.999787</td>\n",
       "      <td>0.999854</td>\n",
       "      <td>0.999813</td>\n",
       "      <td>0.000029</td>\n",
       "    </tr>\n",
       "    <tr>\n",
       "      <th>485</th>\n",
       "      <td>18.875700</td>\n",
       "      <td>0.351941</td>\n",
       "      <td>0.114023</td>\n",
       "      <td>0.015749</td>\n",
       "      <td>0.6</td>\n",
       "      <td>1.5</td>\n",
       "      <td>-1</td>\n",
       "      <td>1</td>\n",
       "      <td>0.8</td>\n",
       "      <td>1</td>\n",
       "      <td>...</td>\n",
       "      <td>0.992577</td>\n",
       "      <td>0.990481</td>\n",
       "      <td>0.991327</td>\n",
       "      <td>0.000902</td>\n",
       "      <td>1</td>\n",
       "      <td>0.999798</td>\n",
       "      <td>0.999787</td>\n",
       "      <td>0.999854</td>\n",
       "      <td>0.999813</td>\n",
       "      <td>0.000029</td>\n",
       "    </tr>\n",
       "    <tr>\n",
       "      <th>725</th>\n",
       "      <td>18.986684</td>\n",
       "      <td>0.182740</td>\n",
       "      <td>0.118696</td>\n",
       "      <td>0.003859</td>\n",
       "      <td>0.6</td>\n",
       "      <td>2</td>\n",
       "      <td>-1</td>\n",
       "      <td>1</td>\n",
       "      <td>0.8</td>\n",
       "      <td>1</td>\n",
       "      <td>...</td>\n",
       "      <td>0.992577</td>\n",
       "      <td>0.990481</td>\n",
       "      <td>0.991327</td>\n",
       "      <td>0.000902</td>\n",
       "      <td>1</td>\n",
       "      <td>0.999798</td>\n",
       "      <td>0.999787</td>\n",
       "      <td>0.999854</td>\n",
       "      <td>0.999813</td>\n",
       "      <td>0.000029</td>\n",
       "    </tr>\n",
       "    <tr>\n",
       "      <th>965</th>\n",
       "      <td>19.282173</td>\n",
       "      <td>0.176566</td>\n",
       "      <td>0.121694</td>\n",
       "      <td>0.012714</td>\n",
       "      <td>0.6</td>\n",
       "      <td>5</td>\n",
       "      <td>-1</td>\n",
       "      <td>1</td>\n",
       "      <td>0.8</td>\n",
       "      <td>1</td>\n",
       "      <td>...</td>\n",
       "      <td>0.992577</td>\n",
       "      <td>0.990481</td>\n",
       "      <td>0.991327</td>\n",
       "      <td>0.000902</td>\n",
       "      <td>1</td>\n",
       "      <td>0.999798</td>\n",
       "      <td>0.999787</td>\n",
       "      <td>0.999854</td>\n",
       "      <td>0.999813</td>\n",
       "      <td>0.000029</td>\n",
       "    </tr>\n",
       "  </tbody>\n",
       "</table>\n",
       "<p>5 rows × 22 columns</p>\n",
       "</div>"
      ],
      "text/plain": [
       "     mean_fit_time  std_fit_time  mean_score_time  std_score_time  \\\n",
       "5        18.285647      0.709245         0.119361        0.010211   \n",
       "245      19.224772      0.487691         0.115690        0.010343   \n",
       "485      18.875700      0.351941         0.114023        0.015749   \n",
       "725      18.986684      0.182740         0.118696        0.003859   \n",
       "965      19.282173      0.176566         0.121694        0.012714   \n",
       "\n",
       "    param_colsample_bytree param_gamma param_max_depth param_min_child_weight  \\\n",
       "5                      0.6         0.5              -1                      1   \n",
       "245                    0.6           1              -1                      1   \n",
       "485                    0.6         1.5              -1                      1   \n",
       "725                    0.6           2              -1                      1   \n",
       "965                    0.6           5              -1                      1   \n",
       "\n",
       "    param_subsample param_subsample_freq  ... split1_test_score  \\\n",
       "5               0.8                    1  ...          0.992577   \n",
       "245             0.8                    1  ...          0.992577   \n",
       "485             0.8                    1  ...          0.992577   \n",
       "725             0.8                    1  ...          0.992577   \n",
       "965             0.8                    1  ...          0.992577   \n",
       "\n",
       "     split2_test_score  mean_test_score  std_test_score  rank_test_score  \\\n",
       "5             0.990481         0.991327        0.000902                1   \n",
       "245           0.990481         0.991327        0.000902                1   \n",
       "485           0.990481         0.991327        0.000902                1   \n",
       "725           0.990481         0.991327        0.000902                1   \n",
       "965           0.990481         0.991327        0.000902                1   \n",
       "\n",
       "     split0_train_score  split1_train_score  split2_train_score  \\\n",
       "5              0.999798            0.999787            0.999854   \n",
       "245            0.999798            0.999787            0.999854   \n",
       "485            0.999798            0.999787            0.999854   \n",
       "725            0.999798            0.999787            0.999854   \n",
       "965            0.999798            0.999787            0.999854   \n",
       "\n",
       "     mean_train_score  std_train_score  \n",
       "5            0.999813         0.000029  \n",
       "245          0.999813         0.000029  \n",
       "485          0.999813         0.000029  \n",
       "725          0.999813         0.000029  \n",
       "965          0.999813         0.000029  \n",
       "\n",
       "[5 rows x 22 columns]"
      ]
     },
     "execution_count": 84,
     "metadata": {},
     "output_type": "execute_result"
    }
   ],
   "source": [
    "hr_grid_df[hr_grid_df['rank_test_score'] == 1]"
   ]
  },
  {
   "cell_type": "code",
   "execution_count": 85,
   "metadata": {},
   "outputs": [
    {
     "data": {
      "text/plain": [
       "0.9732847601700061"
      ]
     },
     "execution_count": 85,
     "metadata": {},
     "output_type": "execute_result"
    }
   ],
   "source": [
    "pred = hr_grid.predict(x_test)\n",
    "accuracy_score(y_test, pred)"
   ]
  },
  {
   "cell_type": "code",
   "execution_count": 77,
   "metadata": {},
   "outputs": [],
   "source": [
    "y_pred = lgbm_model.fit(x_train, y_train).predict(x_test)"
   ]
  },
  {
   "cell_type": "code",
   "execution_count": 21,
   "metadata": {},
   "outputs": [
    {
     "name": "stdout",
     "output_type": "stream",
     "text": [
      "[LightGBM] [Info] Number of positive: 4400, number of negative: 3600\n",
      "[LightGBM] [Warning] Auto-choosing col-wise multi-threading, the overhead of testing was 0.046810 seconds.\n",
      "You can set `force_col_wise=true` to remove the overhead.\n",
      "[LightGBM] [Info] Total Bins 151569\n",
      "[LightGBM] [Info] Number of data points in the train set: 8000, number of used features: 617\n",
      "[LightGBM] [Info] [binary:BoostFromScore]: pavg=0.550000 -> initscore=0.200671\n",
      "[LightGBM] [Info] Start training from score 0.200671\n",
      "Training until validation scores don't improve for 100 rounds\n",
      "[100]\tvalid_0's binary_logloss: 0.208154\n",
      "[200]\tvalid_0's binary_logloss: 0.0760582\n",
      "[300]\tvalid_0's binary_logloss: 0.0287798\n",
      "[400]\tvalid_0's binary_logloss: 0.0109601\n",
      "[500]\tvalid_0's binary_logloss: 0.00420341\n",
      "[600]\tvalid_0's binary_logloss: 0.00168517\n",
      "[700]\tvalid_0's binary_logloss: 0.00065506\n",
      "[800]\tvalid_0's binary_logloss: 0.000251634\n",
      "[900]\tvalid_0's binary_logloss: 9.87153e-05\n",
      "[1000]\tvalid_0's binary_logloss: 3.82843e-05\n",
      "Did not meet early stopping. Best iteration is:\n",
      "[1000]\tvalid_0's binary_logloss: 3.82843e-05\n"
     ]
    }
   ],
   "source": [
    "train_ds = lgb.Dataset(x_train, label = y_train)\n",
    "test_ds = lgb.Dataset(x_test, label = y_test)\n",
    "\n",
    "params = {'learning_rate':0.01,\n",
    "         'max_depth':-1,\n",
    "         'boosting':'gbdt',\n",
    "         'objective': 'binary',\n",
    "         'metric': 'binary_logloss',\n",
    "         'is_training_metric': True,\n",
    "         'num_leaves':40,\n",
    "         'min_data_in_leaf':20,\n",
    "         'feature_fraction':0.9,\n",
    "         'bagging_fraction':0.7,\n",
    "         'bagging_freq':5,\n",
    "         'seed':42}\n",
    "\n",
    "model = lgb.train(params, train_ds, 1000, test_ds, verbose_eval=100, early_stopping_rounds=100)\n",
    "y_pred = model.predict(x_test)"
   ]
  },
  {
   "cell_type": "code",
   "execution_count": 22,
   "metadata": {},
   "outputs": [],
   "source": [
    "for i in range(len(y_pred)):\n",
    "    if y_pred[i]>=.5:\n",
    "         y_pred[i]=1\n",
    "    else:\n",
    "        y_pred[i]=0"
   ]
  },
  {
   "cell_type": "code",
   "execution_count": 30,
   "metadata": {},
   "outputs": [
    {
     "data": {
      "text/plain": [
       "1.0"
      ]
     },
     "execution_count": 30,
     "metadata": {},
     "output_type": "execute_result"
    }
   ],
   "source": [
    "accuracy = accuracy_score(y_pred, y_test)\n",
    "\n",
    "accuracy"
   ]
  }
 ],
 "metadata": {
  "kernelspec": {
   "display_name": "Python 3",
   "language": "python",
   "name": "python3"
  },
  "language_info": {
   "codemirror_mode": {
    "name": "ipython",
    "version": 3
   },
   "file_extension": ".py",
   "mimetype": "text/x-python",
   "name": "python",
   "nbconvert_exporter": "python",
   "pygments_lexer": "ipython3",
   "version": "3.8.5"
  }
 },
 "nbformat": 4,
 "nbformat_minor": 4
}
