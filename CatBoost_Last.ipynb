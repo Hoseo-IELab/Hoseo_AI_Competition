{
 "cells": [
  {
   "cell_type": "code",
   "execution_count": 1,
   "id": "574a082c",
   "metadata": {},
   "outputs": [],
   "source": [
    "import numpy as np # linear algebra\n",
    "import pandas as pd # data processing, CSV file I/O (e.g. pd.read_csv)"
   ]
  },
  {
   "cell_type": "code",
   "execution_count": 2,
   "id": "4e86982e",
   "metadata": {},
   "outputs": [],
   "source": [
    "full_train = pd.read_csv(\"preprocessed_train.csv\", encoding='euc-kr')\n",
    "full_train = full_train.drop(columns=['분석데이터'], axis=1)"
   ]
  },
  {
   "cell_type": "code",
   "execution_count": 3,
   "id": "9155b449",
   "metadata": {},
   "outputs": [],
   "source": [
    "full_train = full_train.dropna()"
   ]
  },
  {
   "cell_type": "code",
   "execution_count": 4,
   "id": "3bb874cc",
   "metadata": {},
   "outputs": [],
   "source": [
    "X = full_train.drop(columns=['label'], axis=1)\n",
    "y = full_train['label']"
   ]
  },
  {
   "cell_type": "code",
   "execution_count": 5,
   "id": "dbd18f8a",
   "metadata": {},
   "outputs": [],
   "source": [
    "X = np.array(X)\n",
    "y = np.array(y)"
   ]
  },
  {
   "cell_type": "code",
   "execution_count": 6,
   "id": "025cbf44",
   "metadata": {},
   "outputs": [],
   "source": [
    "import catboost as cb\n",
    "import optuna\n",
    "from sklearn.model_selection import train_test_split\n",
    "from sklearn.metrics import accuracy_score"
   ]
  },
  {
   "cell_type": "code",
   "execution_count": 7,
   "id": "ca9a15fb",
   "metadata": {},
   "outputs": [],
   "source": [
    "def objective(trial):\n",
    "    train_x, valid_x, train_y, valid_y = train_test_split(X,y, test_size=0.3)\n",
    "\n",
    "    param = {\n",
    "        \"objective\": trial.suggest_categorical(\"objective\", [\"Logloss\", \"CrossEntropy\"]),\n",
    "        \"colsample_bylevel\": trial.suggest_float(\"colsample_bylevel\", 0.01, 0.1),\n",
    "        \"depth\": trial.suggest_int(\"depth\", 1, 12),\n",
    "        \"boosting_type\": trial.suggest_categorical(\"boosting_type\", [\"Ordered\", \"Plain\"]),\n",
    "        \"bootstrap_type\": trial.suggest_categorical(\n",
    "            \"bootstrap_type\", [\"Bayesian\", \"Bernoulli\", \"MVS\"]\n",
    "        ),\n",
    "        'iterations' : trial.suggest_int('iterations', 50, 300),                                  \n",
    "        'learning_rate' : trial.suggest_loguniform('learning_rate', 0.01, 0.3),               \n",
    "        'random_strength' :trial.suggest_int('random_strength', 0, 100),\n",
    "        'learning_rate' :trial.suggest_loguniform('learning_rate', 1e-3, 1e-1),\n",
    "        'od_type': trial.suggest_categorical('od_type', ['IncToDec', 'Iter'])\n",
    "    }\n",
    "\n",
    "    if param[\"bootstrap_type\"] == \"Bayesian\":\n",
    "        param[\"bagging_temperature\"] = trial.suggest_float(\"bagging_temperature\", 0, 10)\n",
    "    elif param[\"bootstrap_type\"] == \"Bernoulli\":\n",
    "        param[\"subsample\"] = trial.suggest_float(\"subsample\", 0.1, 1)\n",
    "\n",
    "    gbm = cb.CatBoostClassifier(**param)\n",
    "\n",
    "    gbm.fit(train_x, train_y, eval_set=[(valid_x, valid_y)], verbose=0, early_stopping_rounds=100)\n",
    "\n",
    "    preds = gbm.predict(valid_x)\n",
    "    pred_labels = np.rint(preds)\n",
    "    accuracy = accuracy_score(valid_y, pred_labels)\n",
    "    return accuracy"
   ]
  },
  {
   "cell_type": "code",
   "execution_count": 8,
   "id": "bfbb1179",
   "metadata": {
    "scrolled": true
   },
   "outputs": [
    {
     "name": "stderr",
     "output_type": "stream",
     "text": [
      "\u001b[32m[I 2021-10-15 15:31:25,311]\u001b[0m A new study created in memory with name: no-name-9bc6965a-b2be-4b27-ab08-72b040c54523\u001b[0m\n",
      "C:\\Python\\lib\\site-packages\\optuna\\trial\\_trial.py:772: RuntimeWarning: Inconsistent parameter values for distribution with name \"learning_rate\"! This might be a configuration mistake. Optuna allows to call the same distribution with the same name more then once in a trial. When the parameter values are inconsistent optuna only uses the values of the first call and ignores all following. Using these values: {'low': 0.01, 'high': 0.3}\n",
      "  warnings.warn(\n",
      "\u001b[32m[I 2021-10-15 15:33:02,331]\u001b[0m Trial 0 finished with value: 0.8156666666666667 and parameters: {'objective': 'CrossEntropy', 'colsample_bylevel': 0.04537619602852152, 'depth': 10, 'boosting_type': 'Ordered', 'bootstrap_type': 'Bayesian', 'iterations': 230, 'learning_rate': 0.016730002903039488, 'random_strength': 82, 'od_type': 'IncToDec', 'bagging_temperature': 5.000139893019259}. Best is trial 0 with value: 0.8156666666666667.\u001b[0m\n",
      "C:\\Python\\lib\\site-packages\\optuna\\trial\\_trial.py:772: RuntimeWarning: Inconsistent parameter values for distribution with name \"learning_rate\"! This might be a configuration mistake. Optuna allows to call the same distribution with the same name more then once in a trial. When the parameter values are inconsistent optuna only uses the values of the first call and ignores all following. Using these values: {'low': 0.01, 'high': 0.3}\n",
      "  warnings.warn(\n",
      "\u001b[32m[I 2021-10-15 15:33:11,810]\u001b[0m Trial 1 finished with value: 0.853 and parameters: {'objective': 'Logloss', 'colsample_bylevel': 0.021642405093141186, 'depth': 10, 'boosting_type': 'Plain', 'bootstrap_type': 'Bayesian', 'iterations': 237, 'learning_rate': 0.04795722676766824, 'random_strength': 71, 'od_type': 'Iter', 'bagging_temperature': 8.872996439991997}. Best is trial 1 with value: 0.853.\u001b[0m\n",
      "C:\\Python\\lib\\site-packages\\optuna\\trial\\_trial.py:772: RuntimeWarning: Inconsistent parameter values for distribution with name \"learning_rate\"! This might be a configuration mistake. Optuna allows to call the same distribution with the same name more then once in a trial. When the parameter values are inconsistent optuna only uses the values of the first call and ignores all following. Using these values: {'low': 0.01, 'high': 0.3}\n",
      "  warnings.warn(\n",
      "\u001b[32m[I 2021-10-15 15:33:16,742]\u001b[0m Trial 2 finished with value: 0.7966666666666666 and parameters: {'objective': 'CrossEntropy', 'colsample_bylevel': 0.08361481516159755, 'depth': 3, 'boosting_type': 'Ordered', 'bootstrap_type': 'MVS', 'iterations': 279, 'learning_rate': 0.040351672244717446, 'random_strength': 25, 'od_type': 'Iter'}. Best is trial 1 with value: 0.853.\u001b[0m\n",
      "C:\\Python\\lib\\site-packages\\optuna\\trial\\_trial.py:772: RuntimeWarning: Inconsistent parameter values for distribution with name \"learning_rate\"! This might be a configuration mistake. Optuna allows to call the same distribution with the same name more then once in a trial. When the parameter values are inconsistent optuna only uses the values of the first call and ignores all following. Using these values: {'low': 0.01, 'high': 0.3}\n",
      "  warnings.warn(\n",
      "\u001b[32m[I 2021-10-15 15:33:18,930]\u001b[0m Trial 3 finished with value: 0.7496666666666667 and parameters: {'objective': 'Logloss', 'colsample_bylevel': 0.06452609290921749, 'depth': 2, 'boosting_type': 'Ordered', 'bootstrap_type': 'Bernoulli', 'iterations': 80, 'learning_rate': 0.02608791149650978, 'random_strength': 32, 'od_type': 'IncToDec', 'subsample': 0.4709933828460585}. Best is trial 1 with value: 0.853.\u001b[0m\n",
      "C:\\Python\\lib\\site-packages\\optuna\\trial\\_trial.py:772: RuntimeWarning: Inconsistent parameter values for distribution with name \"learning_rate\"! This might be a configuration mistake. Optuna allows to call the same distribution with the same name more then once in a trial. When the parameter values are inconsistent optuna only uses the values of the first call and ignores all following. Using these values: {'low': 0.01, 'high': 0.3}\n",
      "  warnings.warn(\n",
      "\u001b[32m[I 2021-10-15 15:35:00,044]\u001b[0m Trial 4 finished with value: 0.794 and parameters: {'objective': 'Logloss', 'colsample_bylevel': 0.09980580746142845, 'depth': 9, 'boosting_type': 'Ordered', 'bootstrap_type': 'Bayesian', 'iterations': 233, 'learning_rate': 0.013274295420535416, 'random_strength': 51, 'od_type': 'Iter', 'bagging_temperature': 6.590151660479847}. Best is trial 1 with value: 0.853.\u001b[0m\n",
      "C:\\Python\\lib\\site-packages\\optuna\\trial\\_trial.py:772: RuntimeWarning: Inconsistent parameter values for distribution with name \"learning_rate\"! This might be a configuration mistake. Optuna allows to call the same distribution with the same name more then once in a trial. When the parameter values are inconsistent optuna only uses the values of the first call and ignores all following. Using these values: {'low': 0.01, 'high': 0.3}\n",
      "  warnings.warn(\n",
      "\u001b[32m[I 2021-10-15 15:35:10,828]\u001b[0m Trial 5 finished with value: 0.8926666666666667 and parameters: {'objective': 'Logloss', 'colsample_bylevel': 0.033685960534009726, 'depth': 9, 'boosting_type': 'Plain', 'bootstrap_type': 'MVS', 'iterations': 278, 'learning_rate': 0.07449618298527949, 'random_strength': 54, 'od_type': 'IncToDec'}. Best is trial 5 with value: 0.8926666666666667.\u001b[0m\n",
      "C:\\Python\\lib\\site-packages\\optuna\\trial\\_trial.py:772: RuntimeWarning: Inconsistent parameter values for distribution with name \"learning_rate\"! This might be a configuration mistake. Optuna allows to call the same distribution with the same name more then once in a trial. When the parameter values are inconsistent optuna only uses the values of the first call and ignores all following. Using these values: {'low': 0.01, 'high': 0.3}\n",
      "  warnings.warn(\n",
      "\u001b[32m[I 2021-10-15 15:35:14,052]\u001b[0m Trial 6 finished with value: 0.798 and parameters: {'objective': 'Logloss', 'colsample_bylevel': 0.05046294226683977, 'depth': 3, 'boosting_type': 'Ordered', 'bootstrap_type': 'Bernoulli', 'iterations': 190, 'learning_rate': 0.04936099817029939, 'random_strength': 40, 'od_type': 'Iter', 'subsample': 0.8366404204503272}. Best is trial 5 with value: 0.8926666666666667.\u001b[0m\n",
      "C:\\Python\\lib\\site-packages\\optuna\\trial\\_trial.py:772: RuntimeWarning: Inconsistent parameter values for distribution with name \"learning_rate\"! This might be a configuration mistake. Optuna allows to call the same distribution with the same name more then once in a trial. When the parameter values are inconsistent optuna only uses the values of the first call and ignores all following. Using these values: {'low': 0.01, 'high': 0.3}\n",
      "  warnings.warn(\n",
      "\u001b[32m[I 2021-10-15 15:35:16,263]\u001b[0m Trial 7 finished with value: 0.871 and parameters: {'objective': 'CrossEntropy', 'colsample_bylevel': 0.038628608943939914, 'depth': 2, 'boosting_type': 'Plain', 'bootstrap_type': 'Bernoulli', 'iterations': 262, 'learning_rate': 0.24268066913752293, 'random_strength': 31, 'od_type': 'IncToDec', 'subsample': 0.5200533585569245}. Best is trial 5 with value: 0.8926666666666667.\u001b[0m\n",
      "C:\\Python\\lib\\site-packages\\optuna\\trial\\_trial.py:772: RuntimeWarning: Inconsistent parameter values for distribution with name \"learning_rate\"! This might be a configuration mistake. Optuna allows to call the same distribution with the same name more then once in a trial. When the parameter values are inconsistent optuna only uses the values of the first call and ignores all following. Using these values: {'low': 0.01, 'high': 0.3}\n",
      "  warnings.warn(\n",
      "\u001b[32m[I 2021-10-15 15:35:32,669]\u001b[0m Trial 8 finished with value: 0.8123333333333334 and parameters: {'objective': 'Logloss', 'colsample_bylevel': 0.07221116341617183, 'depth': 9, 'boosting_type': 'Plain', 'bootstrap_type': 'Bayesian', 'iterations': 252, 'learning_rate': 0.017640954062561335, 'random_strength': 78, 'od_type': 'Iter', 'bagging_temperature': 0.3704951373540455}. Best is trial 5 with value: 0.8926666666666667.\u001b[0m\n",
      "C:\\Python\\lib\\site-packages\\optuna\\trial\\_trial.py:772: RuntimeWarning: Inconsistent parameter values for distribution with name \"learning_rate\"! This might be a configuration mistake. Optuna allows to call the same distribution with the same name more then once in a trial. When the parameter values are inconsistent optuna only uses the values of the first call and ignores all following. Using these values: {'low': 0.01, 'high': 0.3}\n",
      "  warnings.warn(\n"
     ]
    },
    {
     "name": "stderr",
     "output_type": "stream",
     "text": [
      "\u001b[32m[I 2021-10-15 15:35:35,863]\u001b[0m Trial 9 finished with value: 0.8076666666666666 and parameters: {'objective': 'CrossEntropy', 'colsample_bylevel': 0.09883824874131143, 'depth': 5, 'boosting_type': 'Plain', 'bootstrap_type': 'MVS', 'iterations': 187, 'learning_rate': 0.011285283076061591, 'random_strength': 2, 'od_type': 'Iter'}. Best is trial 5 with value: 0.8926666666666667.\u001b[0m\n",
      "C:\\Python\\lib\\site-packages\\optuna\\trial\\_trial.py:772: RuntimeWarning: Inconsistent parameter values for distribution with name \"learning_rate\"! This might be a configuration mistake. Optuna allows to call the same distribution with the same name more then once in a trial. When the parameter values are inconsistent optuna only uses the values of the first call and ignores all following. Using these values: {'low': 0.01, 'high': 0.3}\n",
      "  warnings.warn(\n",
      "\u001b[32m[I 2021-10-15 15:35:46,899]\u001b[0m Trial 10 finished with value: 0.8696666666666667 and parameters: {'objective': 'Logloss', 'colsample_bylevel': 0.013741256963370377, 'depth': 12, 'boosting_type': 'Plain', 'bootstrap_type': 'MVS', 'iterations': 118, 'learning_rate': 0.12517398850031497, 'random_strength': 60, 'od_type': 'IncToDec'}. Best is trial 5 with value: 0.8926666666666667.\u001b[0m\n",
      "C:\\Python\\lib\\site-packages\\optuna\\trial\\_trial.py:772: RuntimeWarning: Inconsistent parameter values for distribution with name \"learning_rate\"! This might be a configuration mistake. Optuna allows to call the same distribution with the same name more then once in a trial. When the parameter values are inconsistent optuna only uses the values of the first call and ignores all following. Using these values: {'low': 0.01, 'high': 0.3}\n",
      "  warnings.warn(\n",
      "\u001b[32m[I 2021-10-15 15:35:51,334]\u001b[0m Trial 11 finished with value: 0.886 and parameters: {'objective': 'CrossEntropy', 'colsample_bylevel': 0.033973233466983443, 'depth': 7, 'boosting_type': 'Plain', 'bootstrap_type': 'Bernoulli', 'iterations': 300, 'learning_rate': 0.2829186578066097, 'random_strength': 98, 'od_type': 'IncToDec', 'subsample': 0.18274805676306383}. Best is trial 5 with value: 0.8926666666666667.\u001b[0m\n",
      "C:\\Python\\lib\\site-packages\\optuna\\trial\\_trial.py:772: RuntimeWarning: Inconsistent parameter values for distribution with name \"learning_rate\"! This might be a configuration mistake. Optuna allows to call the same distribution with the same name more then once in a trial. When the parameter values are inconsistent optuna only uses the values of the first call and ignores all following. Using these values: {'low': 0.01, 'high': 0.3}\n",
      "  warnings.warn(\n",
      "\u001b[32m[I 2021-10-15 15:35:55,609]\u001b[0m Trial 12 finished with value: 0.9013333333333333 and parameters: {'objective': 'CrossEntropy', 'colsample_bylevel': 0.030009569572298497, 'depth': 7, 'boosting_type': 'Plain', 'bootstrap_type': 'MVS', 'iterations': 287, 'learning_rate': 0.11436871670508214, 'random_strength': 98, 'od_type': 'IncToDec'}. Best is trial 12 with value: 0.9013333333333333.\u001b[0m\n",
      "C:\\Python\\lib\\site-packages\\optuna\\trial\\_trial.py:772: RuntimeWarning: Inconsistent parameter values for distribution with name \"learning_rate\"! This might be a configuration mistake. Optuna allows to call the same distribution with the same name more then once in a trial. When the parameter values are inconsistent optuna only uses the values of the first call and ignores all following. Using these values: {'low': 0.01, 'high': 0.3}\n",
      "  warnings.warn(\n",
      "\u001b[32m[I 2021-10-15 15:35:59,108]\u001b[0m Trial 13 finished with value: 0.8886666666666667 and parameters: {'objective': 'CrossEntropy', 'colsample_bylevel': 0.025298407517672088, 'depth': 6, 'boosting_type': 'Plain', 'bootstrap_type': 'MVS', 'iterations': 296, 'learning_rate': 0.0986460891841197, 'random_strength': 99, 'od_type': 'IncToDec'}. Best is trial 12 with value: 0.9013333333333333.\u001b[0m\n",
      "C:\\Python\\lib\\site-packages\\optuna\\trial\\_trial.py:772: RuntimeWarning: Inconsistent parameter values for distribution with name \"learning_rate\"! This might be a configuration mistake. Optuna allows to call the same distribution with the same name more then once in a trial. When the parameter values are inconsistent optuna only uses the values of the first call and ignores all following. Using these values: {'low': 0.01, 'high': 0.3}\n",
      "  warnings.warn(\n",
      "\u001b[32m[I 2021-10-15 15:36:02,112]\u001b[0m Trial 14 finished with value: 0.8606666666666667 and parameters: {'objective': 'CrossEntropy', 'colsample_bylevel': 0.029467670779943063, 'depth': 7, 'boosting_type': 'Plain', 'bootstrap_type': 'MVS', 'iterations': 140, 'learning_rate': 0.10205685621363796, 'random_strength': 10, 'od_type': 'IncToDec'}. Best is trial 12 with value: 0.9013333333333333.\u001b[0m\n",
      "C:\\Python\\lib\\site-packages\\optuna\\trial\\_trial.py:772: RuntimeWarning: Inconsistent parameter values for distribution with name \"learning_rate\"! This might be a configuration mistake. Optuna allows to call the same distribution with the same name more then once in a trial. When the parameter values are inconsistent optuna only uses the values of the first call and ignores all following. Using these values: {'low': 0.01, 'high': 0.3}\n",
      "  warnings.warn(\n",
      "\u001b[32m[I 2021-10-15 15:36:21,217]\u001b[0m Trial 15 finished with value: 0.891 and parameters: {'objective': 'Logloss', 'colsample_bylevel': 0.014807803436933978, 'depth': 12, 'boosting_type': 'Plain', 'bootstrap_type': 'MVS', 'iterations': 210, 'learning_rate': 0.1652646150604491, 'random_strength': 63, 'od_type': 'IncToDec'}. Best is trial 12 with value: 0.9013333333333333.\u001b[0m\n",
      "C:\\Python\\lib\\site-packages\\optuna\\trial\\_trial.py:772: RuntimeWarning: Inconsistent parameter values for distribution with name \"learning_rate\"! This might be a configuration mistake. Optuna allows to call the same distribution with the same name more then once in a trial. When the parameter values are inconsistent optuna only uses the values of the first call and ignores all following. Using these values: {'low': 0.01, 'high': 0.3}\n",
      "  warnings.warn(\n",
      "\u001b[32m[I 2021-10-15 15:36:24,511]\u001b[0m Trial 16 finished with value: 0.8733333333333333 and parameters: {'objective': 'Logloss', 'colsample_bylevel': 0.05987656163843225, 'depth': 5, 'boosting_type': 'Plain', 'bootstrap_type': 'MVS', 'iterations': 268, 'learning_rate': 0.07912598535781817, 'random_strength': 89, 'od_type': 'IncToDec'}. Best is trial 12 with value: 0.9013333333333333.\u001b[0m\n",
      "C:\\Python\\lib\\site-packages\\optuna\\trial\\_trial.py:772: RuntimeWarning: Inconsistent parameter values for distribution with name \"learning_rate\"! This might be a configuration mistake. Optuna allows to call the same distribution with the same name more then once in a trial. When the parameter values are inconsistent optuna only uses the values of the first call and ignores all following. Using these values: {'low': 0.01, 'high': 0.3}\n",
      "  warnings.warn(\n",
      "\u001b[32m[I 2021-10-15 15:36:29,515]\u001b[0m Trial 17 finished with value: 0.844 and parameters: {'objective': 'CrossEntropy', 'colsample_bylevel': 0.04182692138249934, 'depth': 8, 'boosting_type': 'Plain', 'bootstrap_type': 'MVS', 'iterations': 155, 'learning_rate': 0.06790287645302183, 'random_strength': 47, 'od_type': 'IncToDec'}. Best is trial 12 with value: 0.9013333333333333.\u001b[0m\n",
      "C:\\Python\\lib\\site-packages\\optuna\\trial\\_trial.py:772: RuntimeWarning: Inconsistent parameter values for distribution with name \"learning_rate\"! This might be a configuration mistake. Optuna allows to call the same distribution with the same name more then once in a trial. When the parameter values are inconsistent optuna only uses the values of the first call and ignores all following. Using these values: {'low': 0.01, 'high': 0.3}\n",
      "  warnings.warn(\n",
      "\u001b[32m[I 2021-10-15 15:36:31,592]\u001b[0m Trial 18 finished with value: 0.8146666666666667 and parameters: {'objective': 'Logloss', 'colsample_bylevel': 0.05226389869381749, 'depth': 5, 'boosting_type': 'Plain', 'bootstrap_type': 'MVS', 'iterations': 52, 'learning_rate': 0.15938206624220963, 'random_strength': 64, 'od_type': 'IncToDec'}. Best is trial 12 with value: 0.9013333333333333.\u001b[0m\n",
      "C:\\Python\\lib\\site-packages\\optuna\\trial\\_trial.py:772: RuntimeWarning: Inconsistent parameter values for distribution with name \"learning_rate\"! This might be a configuration mistake. Optuna allows to call the same distribution with the same name more then once in a trial. When the parameter values are inconsistent optuna only uses the values of the first call and ignores all following. Using these values: {'low': 0.01, 'high': 0.3}\n",
      "  warnings.warn(\n"
     ]
    },
    {
     "name": "stderr",
     "output_type": "stream",
     "text": [
      "\u001b[32m[I 2021-10-15 15:36:40,412]\u001b[0m Trial 19 finished with value: 0.8923333333333333 and parameters: {'objective': 'CrossEntropy', 'colsample_bylevel': 0.010373709691950679, 'depth': 11, 'boosting_type': 'Plain', 'bootstrap_type': 'MVS', 'iterations': 206, 'learning_rate': 0.17152725316860545, 'random_strength': 14, 'od_type': 'IncToDec'}. Best is trial 12 with value: 0.9013333333333333.\u001b[0m\n",
      "C:\\Python\\lib\\site-packages\\optuna\\trial\\_trial.py:772: RuntimeWarning: Inconsistent parameter values for distribution with name \"learning_rate\"! This might be a configuration mistake. Optuna allows to call the same distribution with the same name more then once in a trial. When the parameter values are inconsistent optuna only uses the values of the first call and ignores all following. Using these values: {'low': 0.01, 'high': 0.3}\n",
      "  warnings.warn(\n",
      "\u001b[32m[I 2021-10-15 15:36:46,518]\u001b[0m Trial 20 finished with value: 0.8403333333333334 and parameters: {'objective': 'Logloss', 'colsample_bylevel': 0.034051553566545795, 'depth': 8, 'boosting_type': 'Plain', 'bootstrap_type': 'MVS', 'iterations': 280, 'learning_rate': 0.03223663606791479, 'random_strength': 90, 'od_type': 'IncToDec'}. Best is trial 12 with value: 0.9013333333333333.\u001b[0m\n",
      "C:\\Python\\lib\\site-packages\\optuna\\trial\\_trial.py:772: RuntimeWarning: Inconsistent parameter values for distribution with name \"learning_rate\"! This might be a configuration mistake. Optuna allows to call the same distribution with the same name more then once in a trial. When the parameter values are inconsistent optuna only uses the values of the first call and ignores all following. Using these values: {'low': 0.01, 'high': 0.3}\n",
      "  warnings.warn(\n",
      "\u001b[32m[I 2021-10-15 15:36:55,583]\u001b[0m Trial 21 finished with value: 0.9036666666666666 and parameters: {'objective': 'CrossEntropy', 'colsample_bylevel': 0.01038783494160387, 'depth': 11, 'boosting_type': 'Plain', 'bootstrap_type': 'MVS', 'iterations': 204, 'learning_rate': 0.1918351978615625, 'random_strength': 16, 'od_type': 'IncToDec'}. Best is trial 21 with value: 0.9036666666666666.\u001b[0m\n",
      "C:\\Python\\lib\\site-packages\\optuna\\trial\\_trial.py:772: RuntimeWarning: Inconsistent parameter values for distribution with name \"learning_rate\"! This might be a configuration mistake. Optuna allows to call the same distribution with the same name more then once in a trial. When the parameter values are inconsistent optuna only uses the values of the first call and ignores all following. Using these values: {'low': 0.01, 'high': 0.3}\n",
      "  warnings.warn(\n",
      "\u001b[32m[I 2021-10-15 15:37:02,079]\u001b[0m Trial 22 finished with value: 0.8693333333333333 and parameters: {'objective': 'CrossEntropy', 'colsample_bylevel': 0.020401945586662265, 'depth': 10, 'boosting_type': 'Plain', 'bootstrap_type': 'MVS', 'iterations': 158, 'learning_rate': 0.07000851748348065, 'random_strength': 18, 'od_type': 'IncToDec'}. Best is trial 21 with value: 0.9036666666666666.\u001b[0m\n",
      "C:\\Python\\lib\\site-packages\\optuna\\trial\\_trial.py:772: RuntimeWarning: Inconsistent parameter values for distribution with name \"learning_rate\"! This might be a configuration mistake. Optuna allows to call the same distribution with the same name more then once in a trial. When the parameter values are inconsistent optuna only uses the values of the first call and ignores all following. Using these values: {'low': 0.01, 'high': 0.3}\n",
      "  warnings.warn(\n",
      "\u001b[32m[I 2021-10-15 15:37:22,832]\u001b[0m Trial 23 finished with value: 0.9013333333333333 and parameters: {'objective': 'CrossEntropy', 'colsample_bylevel': 0.02744504206720219, 'depth': 11, 'boosting_type': 'Plain', 'bootstrap_type': 'MVS', 'iterations': 247, 'learning_rate': 0.218472446152976, 'random_strength': 51, 'od_type': 'IncToDec'}. Best is trial 21 with value: 0.9036666666666666.\u001b[0m\n",
      "C:\\Python\\lib\\site-packages\\optuna\\trial\\_trial.py:772: RuntimeWarning: Inconsistent parameter values for distribution with name \"learning_rate\"! This might be a configuration mistake. Optuna allows to call the same distribution with the same name more then once in a trial. When the parameter values are inconsistent optuna only uses the values of the first call and ignores all following. Using these values: {'low': 0.01, 'high': 0.3}\n",
      "  warnings.warn(\n",
      "\u001b[32m[I 2021-10-15 15:37:35,975]\u001b[0m Trial 24 finished with value: 0.8926666666666667 and parameters: {'objective': 'CrossEntropy', 'colsample_bylevel': 0.020154206816508573, 'depth': 11, 'boosting_type': 'Plain', 'bootstrap_type': 'MVS', 'iterations': 215, 'learning_rate': 0.22285678386647126, 'random_strength': 0, 'od_type': 'IncToDec'}. Best is trial 21 with value: 0.9036666666666666.\u001b[0m\n",
      "C:\\Python\\lib\\site-packages\\optuna\\trial\\_trial.py:772: RuntimeWarning: Inconsistent parameter values for distribution with name \"learning_rate\"! This might be a configuration mistake. Optuna allows to call the same distribution with the same name more then once in a trial. When the parameter values are inconsistent optuna only uses the values of the first call and ignores all following. Using these values: {'low': 0.01, 'high': 0.3}\n",
      "  warnings.warn(\n",
      "\u001b[32m[I 2021-10-15 15:37:56,269]\u001b[0m Trial 25 finished with value: 0.9063333333333333 and parameters: {'objective': 'CrossEntropy', 'colsample_bylevel': 0.02722320086924986, 'depth': 11, 'boosting_type': 'Plain', 'bootstrap_type': 'MVS', 'iterations': 250, 'learning_rate': 0.2024509845386141, 'random_strength': 37, 'od_type': 'IncToDec'}. Best is trial 25 with value: 0.9063333333333333.\u001b[0m\n",
      "C:\\Python\\lib\\site-packages\\optuna\\trial\\_trial.py:772: RuntimeWarning: Inconsistent parameter values for distribution with name \"learning_rate\"! This might be a configuration mistake. Optuna allows to call the same distribution with the same name more then once in a trial. When the parameter values are inconsistent optuna only uses the values of the first call and ignores all following. Using these values: {'low': 0.01, 'high': 0.3}\n",
      "  warnings.warn(\n",
      "\u001b[32m[I 2021-10-15 15:38:50,667]\u001b[0m Trial 26 finished with value: 0.893 and parameters: {'objective': 'CrossEntropy', 'colsample_bylevel': 0.010379937947164724, 'depth': 11, 'boosting_type': 'Ordered', 'bootstrap_type': 'MVS', 'iterations': 247, 'learning_rate': 0.21075205256525406, 'random_strength': 41, 'od_type': 'IncToDec'}. Best is trial 25 with value: 0.9063333333333333.\u001b[0m\n",
      "C:\\Python\\lib\\site-packages\\optuna\\trial\\_trial.py:772: RuntimeWarning: Inconsistent parameter values for distribution with name \"learning_rate\"! This might be a configuration mistake. Optuna allows to call the same distribution with the same name more then once in a trial. When the parameter values are inconsistent optuna only uses the values of the first call and ignores all following. Using these values: {'low': 0.01, 'high': 0.3}\n",
      "  warnings.warn(\n",
      "\u001b[32m[I 2021-10-15 15:39:10,261]\u001b[0m Trial 27 finished with value: 0.886 and parameters: {'objective': 'CrossEntropy', 'colsample_bylevel': 0.01778090727849633, 'depth': 12, 'boosting_type': 'Plain', 'bootstrap_type': 'MVS', 'iterations': 179, 'learning_rate': 0.2911387478720665, 'random_strength': 24, 'od_type': 'IncToDec'}. Best is trial 25 with value: 0.9063333333333333.\u001b[0m\n",
      "C:\\Python\\lib\\site-packages\\optuna\\trial\\_trial.py:772: RuntimeWarning: Inconsistent parameter values for distribution with name \"learning_rate\"! This might be a configuration mistake. Optuna allows to call the same distribution with the same name more then once in a trial. When the parameter values are inconsistent optuna only uses the values of the first call and ignores all following. Using these values: {'low': 0.01, 'high': 0.3}\n",
      "  warnings.warn(\n",
      "\u001b[32m[I 2021-10-15 15:39:29,051]\u001b[0m Trial 28 finished with value: 0.8903333333333333 and parameters: {'objective': 'CrossEntropy', 'colsample_bylevel': 0.027084034589035758, 'depth': 11, 'boosting_type': 'Plain', 'bootstrap_type': 'Bayesian', 'iterations': 224, 'learning_rate': 0.14367946696956282, 'random_strength': 40, 'od_type': 'IncToDec', 'bagging_temperature': 1.0983696588528469}. Best is trial 25 with value: 0.9063333333333333.\u001b[0m\n",
      "C:\\Python\\lib\\site-packages\\optuna\\trial\\_trial.py:772: RuntimeWarning: Inconsistent parameter values for distribution with name \"learning_rate\"! This might be a configuration mistake. Optuna allows to call the same distribution with the same name more then once in a trial. When the parameter values are inconsistent optuna only uses the values of the first call and ignores all following. Using these values: {'low': 0.01, 'high': 0.3}\n",
      "  warnings.warn(\n"
     ]
    },
    {
     "name": "stderr",
     "output_type": "stream",
     "text": [
      "\u001b[32m[I 2021-10-15 15:44:57,830]\u001b[0m Trial 29 finished with value: 0.9076666666666666 and parameters: {'objective': 'CrossEntropy', 'colsample_bylevel': 0.043529438827711514, 'depth': 12, 'boosting_type': 'Ordered', 'bootstrap_type': 'Bernoulli', 'iterations': 204, 'learning_rate': 0.19719860541901787, 'random_strength': 34, 'od_type': 'IncToDec', 'subsample': 0.9558805603499683}. Best is trial 29 with value: 0.9076666666666666.\u001b[0m\n"
     ]
    }
   ],
   "source": [
    "study = optuna.create_study(direction=\"maximize\")\n",
    "study.optimize(objective, n_trials=50, timeout=600)"
   ]
  },
  {
   "cell_type": "code",
   "execution_count": 9,
   "id": "92847b9a",
   "metadata": {},
   "outputs": [
    {
     "name": "stdout",
     "output_type": "stream",
     "text": [
      "Number of finished trials: 30\n",
      "Best trial:\n",
      "  Value: 0.9076666666666666\n",
      "  Params: \n",
      "    objective: CrossEntropy\n",
      "    colsample_bylevel: 0.043529438827711514\n",
      "    depth: 12\n",
      "    boosting_type: Ordered\n",
      "    bootstrap_type: Bernoulli\n",
      "    iterations: 204\n",
      "    learning_rate: 0.19719860541901787\n",
      "    random_strength: 34\n",
      "    od_type: IncToDec\n",
      "    subsample: 0.9558805603499683\n"
     ]
    }
   ],
   "source": [
    "print(\"Number of finished trials: {}\".format(len(study.trials)))\n",
    "\n",
    "print(\"Best trial:\")\n",
    "trial = study.best_trial\n",
    "\n",
    "print(\"  Value: {}\".format(trial.value))\n",
    "\n",
    "print(\"  Params: \")\n",
    "for key, value in trial.params.items():\n",
    "    print(\"    {}: {}\".format(key, value))"
   ]
  },
  {
   "cell_type": "code",
   "execution_count": null,
   "id": "10e4990e",
   "metadata": {},
   "outputs": [],
   "source": []
  }
 ],
 "metadata": {
  "kernelspec": {
   "display_name": "Python 3 (ipykernel)",
   "language": "python",
   "name": "python3"
  },
  "language_info": {
   "codemirror_mode": {
    "name": "ipython",
    "version": 3
   },
   "file_extension": ".py",
   "mimetype": "text/x-python",
   "name": "python",
   "nbconvert_exporter": "python",
   "pygments_lexer": "ipython3",
   "version": "3.9.7"
  }
 },
 "nbformat": 4,
 "nbformat_minor": 5
}
