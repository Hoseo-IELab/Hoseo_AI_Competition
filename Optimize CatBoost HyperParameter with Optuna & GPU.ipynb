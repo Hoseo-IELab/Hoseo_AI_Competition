{
 "cells": [
  {
   "cell_type": "code",
   "execution_count": 1,
   "id": "07ffc61e",
   "metadata": {},
   "outputs": [
    {
     "name": "stdout",
     "output_type": "stream",
     "text": [
      "Wall time: 1.14 s\n"
     ]
    }
   ],
   "source": [
    "%%time\n",
    "import warnings\n",
    "warnings.filterwarnings('ignore')\n",
    "import pandas as pd\n",
    "import numpy as np\n",
    "import os\n",
    "import random\n",
    "from optuna.samplers import TPESampler\n",
    "import multiprocessing\n",
    "import catboost as cat\n",
    "import optuna\n",
    "from sklearn.model_selection import train_test_split\n",
    "from sklearn.metrics import roc_auc_score\n",
    "import pickle\n",
    "from sklearn.utils import resample\n",
    "from catboost import Pool\n",
    "import sklearn.metrics"
   ]
  },
  {
   "cell_type": "markdown",
   "id": "e3ccd355",
   "metadata": {},
   "source": [
    "# Initial conditions"
   ]
  },
  {
   "cell_type": "code",
   "execution_count": 2,
   "id": "f19e6e03",
   "metadata": {},
   "outputs": [
    {
     "name": "stdout",
     "output_type": "stream",
     "text": [
      "Wall time: 0 ns\n"
     ]
    }
   ],
   "source": [
    "%%time\n",
    "n_trials = int(1)\n",
    "SEED = 123"
   ]
  },
  {
   "cell_type": "code",
   "execution_count": 3,
   "id": "ee4278d1",
   "metadata": {},
   "outputs": [
    {
     "name": "stdout",
     "output_type": "stream",
     "text": [
      "Wall time: 0 ns\n"
     ]
    }
   ],
   "source": [
    "%%time\n",
    "# Function to seed everything\n",
    "def seed_everything(seed):\n",
    "    random.seed(seed)\n",
    "    np.random.seed(seed)\n",
    "    os.environ['PYTHONHASHSEED'] = str(seed)\n",
    "seed_everything(SEED)"
   ]
  },
  {
   "cell_type": "markdown",
   "id": "f3c87348",
   "metadata": {},
   "source": [
    "# Preprocess"
   ]
  },
  {
   "cell_type": "code",
   "execution_count": 4,
   "id": "ea45073d",
   "metadata": {},
   "outputs": [
    {
     "name": "stdout",
     "output_type": "stream",
     "text": [
      "Wall time: 477 ms\n"
     ]
    }
   ],
   "source": [
    "%%time\n",
    "csv = pd.read_csv('preprocessed_train.csv', encoding='euc-kr')\n",
    "csv = csv.drop(columns=['분석데이터'], axis=1)\n",
    "label = csv['label']\n",
    "\n",
    "X_train = csv[:8000]\n",
    "y_train = label[:8000]\n",
    "X = np.array(X_train)\n",
    "y = np.array(y_train)\n",
    "\n",
    "del X_train, y_train"
   ]
  },
  {
   "cell_type": "markdown",
   "id": "f34e5e59",
   "metadata": {},
   "source": [
    "# Functions"
   ]
  },
  {
   "cell_type": "code",
   "execution_count": 5,
   "id": "aa37eccf",
   "metadata": {},
   "outputs": [
    {
     "name": "stdout",
     "output_type": "stream",
     "text": [
      "Wall time: 0 ns\n"
     ]
    }
   ],
   "source": [
    "%%time\n",
    "def objective(trial):\n",
    "    train_x, test_x, train_y, test_y = train_test_split(X, y, test_size=0.33, random_state=int(SEED), shuffle=True)\n",
    "    train_pool = Pool(train_x, train_y)\n",
    "    test_pool = Pool(test_x, test_y)\n",
    "    \n",
    "    # Parameters\n",
    "    params = {\n",
    "        'iterations' : trial.suggest_int('iterations', 50, 300),                         \n",
    "        'depth' : trial.suggest_int('depth', 4, 10),                                       \n",
    "        'learning_rate' : trial.suggest_loguniform('learning_rate', 0.01, 0.3),               \n",
    "        'random_strength' :trial.suggest_int('random_strength', 0, 100),                       \n",
    "        'bagging_temperature' :trial.suggest_loguniform('bagging_temperature', 0.01, 100.00),\n",
    "        'learning_rate' :trial.suggest_loguniform('learning_rate', 1e-3, 1e-1),\n",
    "        'od_type': trial.suggest_categorical('od_type', ['IncToDec', 'Iter'])\n",
    "    }\n",
    "    # Learning\n",
    "    model = cat.CatBoostClassifier(\n",
    "        loss_function=\"Logloss\",\n",
    "        eval_metric=\"AUC\",\n",
    "        task_type=\"GPU\",\n",
    "        l2_leaf_reg=50,\n",
    "        random_seed=SEED,\n",
    "        border_count=64,\n",
    "        **params\n",
    "    )        \n",
    "    model.fit(train_pool)\n",
    "    # Predict\n",
    "    preds = model.predict(test_pool)\n",
    "    pred_labels = np.rint(preds)\n",
    "    y_pred_boot = resample(pred_labels, n_samples = len(train_y))\n",
    "    # Evaluation\n",
    "    ROC_AUC_Score = roc_auc_score(train_y, y_pred_boot)\n",
    "    print('ROC AUC Score of CatBoost =', ROC_AUC_Score)\n",
    "    return ROC_AUC_Score"
   ]
  },
  {
   "cell_type": "markdown",
   "id": "b2ac1292",
   "metadata": {},
   "source": [
    "# Optimisation"
   ]
  },
  {
   "cell_type": "code",
   "execution_count": 6,
   "id": "6ec632a2",
   "metadata": {},
   "outputs": [
    {
     "name": "stderr",
     "output_type": "stream",
     "text": [
      "\u001b[32m[I 2021-10-14 00:53:40,823]\u001b[0m A new study created in memory with name: no-name-8cab7a58-23c9-4187-9d9d-9f7f6e02c272\u001b[0m\n"
     ]
    },
    {
     "name": "stdout",
     "output_type": "stream",
     "text": [
      "0:\tlearn: 1.0000000\ttotal: 26.7ms\tremaining: 4.99s\n",
      "1:\tlearn: 1.0000000\ttotal: 44.5ms\tremaining: 4.14s\n",
      "2:\tlearn: 1.0000000\ttotal: 61.9ms\tremaining: 3.82s\n",
      "3:\tlearn: 1.0000000\ttotal: 81.1ms\tremaining: 3.73s\n",
      "4:\tlearn: 1.0000000\ttotal: 98.6ms\tremaining: 3.61s\n",
      "5:\tlearn: 1.0000000\ttotal: 117ms\tremaining: 3.54s\n",
      "6:\tlearn: 1.0000000\ttotal: 135ms\tremaining: 3.5s\n",
      "7:\tlearn: 1.0000000\ttotal: 154ms\tremaining: 3.46s\n",
      "8:\tlearn: 1.0000000\ttotal: 174ms\tremaining: 3.46s\n",
      "9:\tlearn: 1.0000000\ttotal: 193ms\tremaining: 3.43s\n",
      "10:\tlearn: 1.0000000\ttotal: 213ms\tremaining: 3.43s\n",
      "11:\tlearn: 1.0000000\ttotal: 233ms\tremaining: 3.42s\n",
      "12:\tlearn: 1.0000000\ttotal: 252ms\tremaining: 3.39s\n",
      "13:\tlearn: 1.0000000\ttotal: 270ms\tremaining: 3.36s\n",
      "14:\tlearn: 1.0000000\ttotal: 292ms\tremaining: 3.36s\n",
      "15:\tlearn: 1.0000000\ttotal: 311ms\tremaining: 3.35s\n",
      "16:\tlearn: 1.0000000\ttotal: 332ms\tremaining: 3.34s\n",
      "17:\tlearn: 1.0000000\ttotal: 354ms\tremaining: 3.34s\n",
      "18:\tlearn: 1.0000000\ttotal: 374ms\tremaining: 3.33s\n",
      "19:\tlearn: 1.0000000\ttotal: 394ms\tremaining: 3.31s\n",
      "20:\tlearn: 1.0000000\ttotal: 413ms\tremaining: 3.28s\n",
      "21:\tlearn: 1.0000000\ttotal: 433ms\tremaining: 3.26s\n",
      "22:\tlearn: 1.0000000\ttotal: 453ms\tremaining: 3.25s\n",
      "23:\tlearn: 1.0000000\ttotal: 472ms\tremaining: 3.23s\n",
      "24:\tlearn: 1.0000000\ttotal: 492ms\tremaining: 3.21s\n",
      "25:\tlearn: 1.0000000\ttotal: 511ms\tremaining: 3.19s\n",
      "26:\tlearn: 1.0000000\ttotal: 531ms\tremaining: 3.16s\n",
      "27:\tlearn: 1.0000000\ttotal: 552ms\tremaining: 3.15s\n",
      "28:\tlearn: 1.0000000\ttotal: 572ms\tremaining: 3.14s\n",
      "29:\tlearn: 1.0000000\ttotal: 593ms\tremaining: 3.12s\n",
      "30:\tlearn: 1.0000000\ttotal: 612ms\tremaining: 3.1s\n",
      "31:\tlearn: 1.0000000\ttotal: 633ms\tremaining: 3.08s\n",
      "32:\tlearn: 1.0000000\ttotal: 652ms\tremaining: 3.06s\n",
      "33:\tlearn: 1.0000000\ttotal: 670ms\tremaining: 3.04s\n",
      "34:\tlearn: 1.0000000\ttotal: 689ms\tremaining: 3.01s\n",
      "35:\tlearn: 1.0000000\ttotal: 708ms\tremaining: 2.99s\n",
      "36:\tlearn: 1.0000000\ttotal: 727ms\tremaining: 2.97s\n",
      "37:\tlearn: 1.0000000\ttotal: 745ms\tremaining: 2.94s\n",
      "38:\tlearn: 1.0000000\ttotal: 766ms\tremaining: 2.93s\n",
      "39:\tlearn: 1.0000000\ttotal: 785ms\tremaining: 2.9s\n",
      "40:\tlearn: 1.0000000\ttotal: 805ms\tremaining: 2.88s\n",
      "41:\tlearn: 1.0000000\ttotal: 826ms\tremaining: 2.87s\n",
      "42:\tlearn: 1.0000000\ttotal: 848ms\tremaining: 2.86s\n",
      "43:\tlearn: 1.0000000\ttotal: 869ms\tremaining: 2.84s\n",
      "44:\tlearn: 1.0000000\ttotal: 890ms\tremaining: 2.83s\n",
      "45:\tlearn: 1.0000000\ttotal: 910ms\tremaining: 2.81s\n",
      "46:\tlearn: 1.0000000\ttotal: 929ms\tremaining: 2.79s\n",
      "47:\tlearn: 1.0000000\ttotal: 949ms\tremaining: 2.77s\n",
      "48:\tlearn: 1.0000000\ttotal: 968ms\tremaining: 2.75s\n",
      "49:\tlearn: 1.0000000\ttotal: 989ms\tremaining: 2.73s\n",
      "50:\tlearn: 1.0000000\ttotal: 1.01s\tremaining: 2.71s\n",
      "51:\tlearn: 1.0000000\ttotal: 1.03s\tremaining: 2.69s\n",
      "52:\tlearn: 1.0000000\ttotal: 1.05s\tremaining: 2.68s\n",
      "53:\tlearn: 1.0000000\ttotal: 1.07s\tremaining: 2.66s\n",
      "54:\tlearn: 1.0000000\ttotal: 1.09s\tremaining: 2.64s\n",
      "55:\tlearn: 1.0000000\ttotal: 1.11s\tremaining: 2.62s\n",
      "56:\tlearn: 1.0000000\ttotal: 1.13s\tremaining: 2.6s\n",
      "57:\tlearn: 1.0000000\ttotal: 1.15s\tremaining: 2.58s\n",
      "58:\tlearn: 1.0000000\ttotal: 1.17s\tremaining: 2.56s\n",
      "59:\tlearn: 1.0000000\ttotal: 1.19s\tremaining: 2.54s\n",
      "60:\tlearn: 1.0000000\ttotal: 1.21s\tremaining: 2.53s\n",
      "61:\tlearn: 1.0000000\ttotal: 1.23s\tremaining: 2.51s\n",
      "62:\tlearn: 1.0000000\ttotal: 1.25s\tremaining: 2.49s\n",
      "63:\tlearn: 1.0000000\ttotal: 1.28s\tremaining: 2.47s\n",
      "64:\tlearn: 1.0000000\ttotal: 1.3s\tremaining: 2.46s\n",
      "65:\tlearn: 1.0000000\ttotal: 1.32s\tremaining: 2.44s\n",
      "66:\tlearn: 1.0000000\ttotal: 1.34s\tremaining: 2.42s\n",
      "67:\tlearn: 1.0000000\ttotal: 1.36s\tremaining: 2.41s\n",
      "68:\tlearn: 1.0000000\ttotal: 1.39s\tremaining: 2.39s\n",
      "69:\tlearn: 1.0000000\ttotal: 1.41s\tremaining: 2.37s\n",
      "70:\tlearn: 1.0000000\ttotal: 1.43s\tremaining: 2.35s\n",
      "71:\tlearn: 1.0000000\ttotal: 1.45s\tremaining: 2.33s\n",
      "72:\tlearn: 1.0000000\ttotal: 1.47s\tremaining: 2.32s\n",
      "73:\tlearn: 1.0000000\ttotal: 1.49s\tremaining: 2.3s\n",
      "74:\tlearn: 1.0000000\ttotal: 1.51s\tremaining: 2.28s\n",
      "75:\tlearn: 1.0000000\ttotal: 1.53s\tremaining: 2.26s\n",
      "76:\tlearn: 1.0000000\ttotal: 1.56s\tremaining: 2.24s\n",
      "77:\tlearn: 1.0000000\ttotal: 1.58s\tremaining: 2.22s\n",
      "78:\tlearn: 1.0000000\ttotal: 1.6s\tremaining: 2.2s\n",
      "79:\tlearn: 1.0000000\ttotal: 1.62s\tremaining: 2.18s\n",
      "80:\tlearn: 1.0000000\ttotal: 1.64s\tremaining: 2.16s\n",
      "81:\tlearn: 1.0000000\ttotal: 1.66s\tremaining: 2.14s\n",
      "82:\tlearn: 1.0000000\ttotal: 1.68s\tremaining: 2.12s\n",
      "83:\tlearn: 1.0000000\ttotal: 1.7s\tremaining: 2.1s\n",
      "84:\tlearn: 1.0000000\ttotal: 1.72s\tremaining: 2.08s\n",
      "85:\tlearn: 1.0000000\ttotal: 1.74s\tremaining: 2.06s\n",
      "86:\tlearn: 1.0000000\ttotal: 1.76s\tremaining: 2.04s\n",
      "87:\tlearn: 1.0000000\ttotal: 1.78s\tremaining: 2.02s\n",
      "88:\tlearn: 1.0000000\ttotal: 1.8s\tremaining: 2.01s\n",
      "89:\tlearn: 1.0000000\ttotal: 1.82s\tremaining: 1.99s\n",
      "90:\tlearn: 1.0000000\ttotal: 1.85s\tremaining: 1.97s\n",
      "91:\tlearn: 1.0000000\ttotal: 1.87s\tremaining: 1.95s\n",
      "92:\tlearn: 1.0000000\ttotal: 1.89s\tremaining: 1.93s\n",
      "93:\tlearn: 1.0000000\ttotal: 1.91s\tremaining: 1.91s\n",
      "94:\tlearn: 1.0000000\ttotal: 1.93s\tremaining: 1.89s\n",
      "95:\tlearn: 1.0000000\ttotal: 1.95s\tremaining: 1.87s\n",
      "96:\tlearn: 1.0000000\ttotal: 1.97s\tremaining: 1.85s\n",
      "97:\tlearn: 1.0000000\ttotal: 1.99s\tremaining: 1.83s\n",
      "98:\tlearn: 1.0000000\ttotal: 2.01s\tremaining: 1.81s\n",
      "99:\tlearn: 1.0000000\ttotal: 2.03s\tremaining: 1.79s\n",
      "100:\tlearn: 1.0000000\ttotal: 2.05s\tremaining: 1.77s\n",
      "101:\tlearn: 1.0000000\ttotal: 2.08s\tremaining: 1.75s\n",
      "102:\tlearn: 1.0000000\ttotal: 2.1s\tremaining: 1.73s\n",
      "103:\tlearn: 1.0000000\ttotal: 2.12s\tremaining: 1.71s\n",
      "104:\tlearn: 1.0000000\ttotal: 2.14s\tremaining: 1.69s\n",
      "105:\tlearn: 1.0000000\ttotal: 2.16s\tremaining: 1.67s\n",
      "106:\tlearn: 1.0000000\ttotal: 2.18s\tremaining: 1.65s\n",
      "107:\tlearn: 1.0000000\ttotal: 2.2s\tremaining: 1.63s\n",
      "108:\tlearn: 1.0000000\ttotal: 2.22s\tremaining: 1.61s\n",
      "109:\tlearn: 1.0000000\ttotal: 2.25s\tremaining: 1.59s\n",
      "110:\tlearn: 1.0000000\ttotal: 2.27s\tremaining: 1.57s\n",
      "111:\tlearn: 1.0000000\ttotal: 2.29s\tremaining: 1.55s\n",
      "112:\tlearn: 1.0000000\ttotal: 2.31s\tremaining: 1.53s\n",
      "113:\tlearn: 1.0000000\ttotal: 2.33s\tremaining: 1.51s\n",
      "114:\tlearn: 1.0000000\ttotal: 2.35s\tremaining: 1.49s\n",
      "115:\tlearn: 1.0000000\ttotal: 2.37s\tremaining: 1.47s\n",
      "116:\tlearn: 1.0000000\ttotal: 2.39s\tremaining: 1.45s\n",
      "117:\tlearn: 1.0000000\ttotal: 2.41s\tremaining: 1.43s\n",
      "118:\tlearn: 1.0000000\ttotal: 2.43s\tremaining: 1.41s\n",
      "119:\tlearn: 1.0000000\ttotal: 2.45s\tremaining: 1.39s\n",
      "120:\tlearn: 1.0000000\ttotal: 2.47s\tremaining: 1.37s\n",
      "121:\tlearn: 1.0000000\ttotal: 2.49s\tremaining: 1.35s\n",
      "122:\tlearn: 1.0000000\ttotal: 2.51s\tremaining: 1.33s\n",
      "123:\tlearn: 1.0000000\ttotal: 2.53s\tremaining: 1.31s\n",
      "124:\tlearn: 1.0000000\ttotal: 2.55s\tremaining: 1.29s\n",
      "125:\tlearn: 1.0000000\ttotal: 2.57s\tremaining: 1.27s\n",
      "126:\tlearn: 1.0000000\ttotal: 2.59s\tremaining: 1.25s\n",
      "127:\tlearn: 1.0000000\ttotal: 2.61s\tremaining: 1.22s\n",
      "128:\tlearn: 1.0000000\ttotal: 2.63s\tremaining: 1.2s\n",
      "129:\tlearn: 1.0000000\ttotal: 2.65s\tremaining: 1.18s\n",
      "130:\tlearn: 1.0000000\ttotal: 2.67s\tremaining: 1.16s\n",
      "131:\tlearn: 1.0000000\ttotal: 2.69s\tremaining: 1.14s\n",
      "132:\tlearn: 1.0000000\ttotal: 2.71s\tremaining: 1.12s\n",
      "133:\tlearn: 1.0000000\ttotal: 2.73s\tremaining: 1.1s\n",
      "134:\tlearn: 1.0000000\ttotal: 2.75s\tremaining: 1.08s\n",
      "135:\tlearn: 1.0000000\ttotal: 2.77s\tremaining: 1.06s\n",
      "136:\tlearn: 1.0000000\ttotal: 2.79s\tremaining: 1.04s\n",
      "137:\tlearn: 1.0000000\ttotal: 2.81s\tremaining: 1.02s\n",
      "138:\tlearn: 1.0000000\ttotal: 2.83s\tremaining: 999ms\n",
      "139:\tlearn: 1.0000000\ttotal: 2.85s\tremaining: 979ms\n",
      "140:\tlearn: 1.0000000\ttotal: 2.88s\tremaining: 959ms\n",
      "141:\tlearn: 1.0000000\ttotal: 2.9s\tremaining: 939ms\n",
      "142:\tlearn: 1.0000000\ttotal: 2.92s\tremaining: 919ms\n",
      "143:\tlearn: 1.0000000\ttotal: 2.94s\tremaining: 898ms\n",
      "144:\tlearn: 1.0000000\ttotal: 2.96s\tremaining: 878ms\n",
      "145:\tlearn: 1.0000000\ttotal: 2.98s\tremaining: 857ms\n",
      "146:\tlearn: 1.0000000\ttotal: 3s\tremaining: 837ms\n",
      "147:\tlearn: 1.0000000\ttotal: 3.02s\tremaining: 816ms\n",
      "148:\tlearn: 1.0000000\ttotal: 3.04s\tremaining: 796ms\n",
      "149:\tlearn: 1.0000000\ttotal: 3.06s\tremaining: 775ms\n",
      "150:\tlearn: 1.0000000\ttotal: 3.08s\tremaining: 755ms\n",
      "151:\tlearn: 1.0000000\ttotal: 3.1s\tremaining: 735ms\n",
      "152:\tlearn: 1.0000000\ttotal: 3.12s\tremaining: 715ms\n",
      "153:\tlearn: 1.0000000\ttotal: 3.14s\tremaining: 694ms\n",
      "154:\tlearn: 1.0000000\ttotal: 3.16s\tremaining: 674ms\n",
      "155:\tlearn: 1.0000000\ttotal: 3.19s\tremaining: 653ms\n",
      "156:\tlearn: 1.0000000\ttotal: 3.21s\tremaining: 633ms\n",
      "157:\tlearn: 1.0000000\ttotal: 3.23s\tremaining: 612ms\n",
      "158:\tlearn: 1.0000000\ttotal: 3.25s\tremaining: 592ms\n",
      "159:\tlearn: 1.0000000\ttotal: 3.27s\tremaining: 572ms\n",
      "160:\tlearn: 1.0000000\ttotal: 3.29s\tremaining: 551ms\n"
     ]
    },
    {
     "name": "stdout",
     "output_type": "stream",
     "text": [
      "161:\tlearn: 1.0000000\ttotal: 3.31s\tremaining: 531ms\n",
      "162:\tlearn: 1.0000000\ttotal: 3.33s\tremaining: 510ms\n",
      "163:\tlearn: 1.0000000\ttotal: 3.35s\tremaining: 490ms\n",
      "164:\tlearn: 1.0000000\ttotal: 3.37s\tremaining: 469ms\n",
      "165:\tlearn: 1.0000000\ttotal: 3.39s\tremaining: 449ms\n",
      "166:\tlearn: 1.0000000\ttotal: 3.41s\tremaining: 429ms\n",
      "167:\tlearn: 1.0000000\ttotal: 3.43s\tremaining: 408ms\n",
      "168:\tlearn: 1.0000000\ttotal: 3.45s\tremaining: 388ms\n",
      "169:\tlearn: 1.0000000\ttotal: 3.47s\tremaining: 368ms\n",
      "170:\tlearn: 1.0000000\ttotal: 3.49s\tremaining: 347ms\n",
      "171:\tlearn: 1.0000000\ttotal: 3.51s\tremaining: 327ms\n",
      "172:\tlearn: 1.0000000\ttotal: 3.54s\tremaining: 307ms\n",
      "173:\tlearn: 1.0000000\ttotal: 3.56s\tremaining: 286ms\n",
      "174:\tlearn: 1.0000000\ttotal: 3.58s\tremaining: 266ms\n",
      "175:\tlearn: 1.0000000\ttotal: 3.6s\tremaining: 245ms\n",
      "176:\tlearn: 1.0000000\ttotal: 3.62s\tremaining: 225ms\n",
      "177:\tlearn: 1.0000000\ttotal: 3.64s\tremaining: 204ms\n",
      "178:\tlearn: 1.0000000\ttotal: 3.66s\tremaining: 184ms\n",
      "179:\tlearn: 1.0000000\ttotal: 3.68s\tremaining: 164ms\n",
      "180:\tlearn: 1.0000000\ttotal: 3.7s\tremaining: 143ms\n",
      "181:\tlearn: 1.0000000\ttotal: 3.72s\tremaining: 123ms\n",
      "182:\tlearn: 1.0000000\ttotal: 3.74s\tremaining: 102ms\n",
      "183:\tlearn: 1.0000000\ttotal: 3.76s\tremaining: 81.8ms\n",
      "184:\tlearn: 1.0000000\ttotal: 3.78s\tremaining: 61.4ms\n",
      "185:\tlearn: 1.0000000\ttotal: 3.8s\tremaining: 40.9ms\n",
      "186:\tlearn: 1.0000000\ttotal: 3.83s\tremaining: 20.5ms\n",
      "187:\tlearn: 1.0000000\ttotal: 3.85s\tremaining: 0us\n",
      "ROC AUC Score of CatBoost = 0.49331596988541015\n"
     ]
    },
    {
     "name": "stderr",
     "output_type": "stream",
     "text": [
      "\u001b[32m[I 2021-10-14 00:53:46,451]\u001b[0m Trial 0 finished with value: 0.49331596988541015 and parameters: {'iterations': 188, 'depth': 7, 'learning_rate': 0.061349908126964024, 'random_strength': 14, 'bagging_temperature': 3.597955607541437, 'od_type': 'Iter'}. Best is trial 0 with value: 0.49331596988541015.\u001b[0m\n"
     ]
    },
    {
     "name": "stdout",
     "output_type": "stream",
     "text": [
      "Wall time: 5.63 s\n"
     ]
    }
   ],
   "source": [
    "%%time\n",
    "study = optuna.create_study(direction = \"maximize\", sampler = TPESampler(seed=int(SEED)))\n",
    "study.optimize(objective, n_trials = n_trials, n_jobs = multiprocessing.cpu_count())"
   ]
  },
  {
   "cell_type": "code",
   "execution_count": 7,
   "id": "ea34df87",
   "metadata": {},
   "outputs": [
    {
     "name": "stdout",
     "output_type": "stream",
     "text": [
      "CatBoost Hyperparameter: {'iterations': 188, 'depth': 7, 'learning_rate': 0.061349908126964024, 'random_strength': 14, 'bagging_temperature': 3.597955607541437, 'od_type': 'Iter'}\n",
      "Wall time: 1 ms\n"
     ]
    }
   ],
   "source": [
    "%%time\n",
    "# Save\n",
    "pickle.dump(study.best_trial.params, open('CatBoost_Hyperparameter.pickle', 'wb'))\n",
    "print('CatBoost Hyperparameter:', study.best_trial.params)"
   ]
  },
  {
   "cell_type": "code",
   "execution_count": null,
   "id": "de74a028",
   "metadata": {},
   "outputs": [],
   "source": []
  }
 ],
 "metadata": {
  "kernelspec": {
   "display_name": "Python 3 (ipykernel)",
   "language": "python",
   "name": "python3"
  },
  "language_info": {
   "codemirror_mode": {
    "name": "ipython",
    "version": 3
   },
   "file_extension": ".py",
   "mimetype": "text/x-python",
   "name": "python",
   "nbconvert_exporter": "python",
   "pygments_lexer": "ipython3",
   "version": "3.9.7"
  }
 },
 "nbformat": 4,
 "nbformat_minor": 5
}
