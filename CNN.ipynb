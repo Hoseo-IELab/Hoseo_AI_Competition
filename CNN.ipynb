{
 "cells": [
  {
   "cell_type": "code",
   "execution_count": 1,
   "metadata": {
    "id": "HC1-EG0zDVKY"
   },
   "outputs": [],
   "source": [
    "# data analysis and wrangling\n",
    "import numpy as np\n",
    "import pandas as pd\n",
    "import json\n",
    "\n",
    "# visualization\n",
    "import seaborn as sns\n",
    "import matplotlib.pyplot as plt\n",
    "%matplotlib inline\n",
    "\n",
    "import cv2\n",
    "\n",
    "\n",
    "# machine learning\n",
    "from sklearn.model_selection import train_test_split\n",
    "from sklearn.preprocessing import RobustScaler\n",
    "from sklearn.preprocessing import StandardScaler\n",
    "from sklearn.metrics import classification_report, accuracy_score\n",
    "from sklearn.metrics import confusion_matrix\n",
    "from sklearn.model_selection import KFold, StratifiedKFold\n",
    "\n",
    "import xgboost as xgb\n",
    "from xgboost import XGBClassifier\n",
    "from xgboost import plot_importance\n",
    "from sklearn.ensemble import RandomForestClassifier\n",
    "from sklearn.tree import DecisionTreeClassifier\n",
    "from sklearn.neighbors import KNeighborsClassifier\n",
    "from sklearn.ensemble import AdaBoostClassifier\n",
    "\n",
    "import tensorflow as tf\n",
    "\n",
    "from tensorflow.keras import datasets, layers, models\n",
    "\n",
    "# ignore Warnings\n",
    "import warnings\n",
    "warnings.filterwarnings('ignore')"
   ]
  },
  {
   "cell_type": "code",
   "execution_count": 2,
   "metadata": {
    "id": "fBrryCh4DeVq"
   },
   "outputs": [],
   "source": [
    "train_df = pd.read_csv(\"preprocessed_train.csv\", encoding='euc-kr')"
   ]
  },
  {
   "cell_type": "code",
   "execution_count": 3,
   "metadata": {
    "colab": {
     "base_uri": "https://localhost:8080/",
     "height": 325
    },
    "id": "XQ6VDjBhEw2q",
    "outputId": "50c32d61-72e0-4d23-dda5-4a41824239ee"
   },
   "outputs": [
    {
     "data": {
      "text/html": [
       "<div>\n",
       "<style scoped>\n",
       "    .dataframe tbody tr th:only-of-type {\n",
       "        vertical-align: middle;\n",
       "    }\n",
       "\n",
       "    .dataframe tbody tr th {\n",
       "        vertical-align: top;\n",
       "    }\n",
       "\n",
       "    .dataframe thead th {\n",
       "        text-align: right;\n",
       "    }\n",
       "</style>\n",
       "<table border=\"1\" class=\"dataframe\">\n",
       "  <thead>\n",
       "    <tr style=\"text-align: right;\">\n",
       "      <th></th>\n",
       "      <th>분석데이터</th>\n",
       "      <th>label</th>\n",
       "      <th>numstrings</th>\n",
       "      <th>avlength</th>\n",
       "      <th>printables</th>\n",
       "      <th>entropy</th>\n",
       "      <th>paths</th>\n",
       "      <th>urls</th>\n",
       "      <th>registry</th>\n",
       "      <th>MZ</th>\n",
       "      <th>...</th>\n",
       "      <th>dist_86</th>\n",
       "      <th>dist_87</th>\n",
       "      <th>dist_88</th>\n",
       "      <th>dist_89</th>\n",
       "      <th>dist_90</th>\n",
       "      <th>dist_91</th>\n",
       "      <th>dist_92</th>\n",
       "      <th>dist_93</th>\n",
       "      <th>dist_94</th>\n",
       "      <th>dist_95</th>\n",
       "    </tr>\n",
       "  </thead>\n",
       "  <tbody>\n",
       "    <tr>\n",
       "      <th>0</th>\n",
       "      <td>1</td>\n",
       "      <td>1</td>\n",
       "      <td>144</td>\n",
       "      <td>12.298611</td>\n",
       "      <td>1771</td>\n",
       "      <td>5.356616</td>\n",
       "      <td>0</td>\n",
       "      <td>0</td>\n",
       "      <td>0</td>\n",
       "      <td>1</td>\n",
       "      <td>...</td>\n",
       "      <td>10</td>\n",
       "      <td>4</td>\n",
       "      <td>10</td>\n",
       "      <td>9</td>\n",
       "      <td>4</td>\n",
       "      <td>0</td>\n",
       "      <td>1</td>\n",
       "      <td>0</td>\n",
       "      <td>0</td>\n",
       "      <td>0</td>\n",
       "    </tr>\n",
       "    <tr>\n",
       "      <th>1</th>\n",
       "      <td>2</td>\n",
       "      <td>1</td>\n",
       "      <td>804</td>\n",
       "      <td>9.580846</td>\n",
       "      <td>7703</td>\n",
       "      <td>6.063542</td>\n",
       "      <td>0</td>\n",
       "      <td>0</td>\n",
       "      <td>0</td>\n",
       "      <td>6</td>\n",
       "      <td>...</td>\n",
       "      <td>43</td>\n",
       "      <td>121</td>\n",
       "      <td>84</td>\n",
       "      <td>78</td>\n",
       "      <td>47</td>\n",
       "      <td>36</td>\n",
       "      <td>40</td>\n",
       "      <td>45</td>\n",
       "      <td>27</td>\n",
       "      <td>36</td>\n",
       "    </tr>\n",
       "    <tr>\n",
       "      <th>2</th>\n",
       "      <td>3</td>\n",
       "      <td>0</td>\n",
       "      <td>2205</td>\n",
       "      <td>12.736054</td>\n",
       "      <td>28083</td>\n",
       "      <td>6.107050</td>\n",
       "      <td>9</td>\n",
       "      <td>0</td>\n",
       "      <td>0</td>\n",
       "      <td>6</td>\n",
       "      <td>...</td>\n",
       "      <td>326</td>\n",
       "      <td>268</td>\n",
       "      <td>239</td>\n",
       "      <td>286</td>\n",
       "      <td>199</td>\n",
       "      <td>148</td>\n",
       "      <td>154</td>\n",
       "      <td>37</td>\n",
       "      <td>48</td>\n",
       "      <td>36</td>\n",
       "    </tr>\n",
       "    <tr>\n",
       "      <th>3</th>\n",
       "      <td>4</td>\n",
       "      <td>0</td>\n",
       "      <td>2602</td>\n",
       "      <td>10.288240</td>\n",
       "      <td>26770</td>\n",
       "      <td>5.373013</td>\n",
       "      <td>8</td>\n",
       "      <td>0</td>\n",
       "      <td>0</td>\n",
       "      <td>1</td>\n",
       "      <td>...</td>\n",
       "      <td>336</td>\n",
       "      <td>230</td>\n",
       "      <td>206</td>\n",
       "      <td>245</td>\n",
       "      <td>76</td>\n",
       "      <td>0</td>\n",
       "      <td>26</td>\n",
       "      <td>702</td>\n",
       "      <td>1</td>\n",
       "      <td>5</td>\n",
       "    </tr>\n",
       "    <tr>\n",
       "      <th>4</th>\n",
       "      <td>5</td>\n",
       "      <td>1</td>\n",
       "      <td>8980</td>\n",
       "      <td>23.252339</td>\n",
       "      <td>208806</td>\n",
       "      <td>5.775223</td>\n",
       "      <td>0</td>\n",
       "      <td>28</td>\n",
       "      <td>16</td>\n",
       "      <td>3</td>\n",
       "      <td>...</td>\n",
       "      <td>731</td>\n",
       "      <td>882</td>\n",
       "      <td>1171</td>\n",
       "      <td>1010</td>\n",
       "      <td>322</td>\n",
       "      <td>64</td>\n",
       "      <td>327</td>\n",
       "      <td>84</td>\n",
       "      <td>75</td>\n",
       "      <td>244</td>\n",
       "    </tr>\n",
       "  </tbody>\n",
       "</table>\n",
       "<p>5 rows × 618 columns</p>\n",
       "</div>"
      ],
      "text/plain": [
       "   분석데이터  label  numstrings   avlength  printables   entropy  paths  urls  \\\n",
       "0      1      1         144  12.298611        1771  5.356616      0     0   \n",
       "1      2      1         804   9.580846        7703  6.063542      0     0   \n",
       "2      3      0        2205  12.736054       28083  6.107050      9     0   \n",
       "3      4      0        2602  10.288240       26770  5.373013      8     0   \n",
       "4      5      1        8980  23.252339      208806  5.775223      0    28   \n",
       "\n",
       "   registry  MZ  ...  dist_86  dist_87  dist_88  dist_89  dist_90  dist_91  \\\n",
       "0         0   1  ...       10        4       10        9        4        0   \n",
       "1         0   6  ...       43      121       84       78       47       36   \n",
       "2         0   6  ...      326      268      239      286      199      148   \n",
       "3         0   1  ...      336      230      206      245       76        0   \n",
       "4        16   3  ...      731      882     1171     1010      322       64   \n",
       "\n",
       "   dist_92  dist_93  dist_94  dist_95  \n",
       "0        1        0        0        0  \n",
       "1       40       45       27       36  \n",
       "2      154       37       48       36  \n",
       "3       26      702        1        5  \n",
       "4      327       84       75      244  \n",
       "\n",
       "[5 rows x 618 columns]"
      ]
     },
     "execution_count": 3,
     "metadata": {},
     "output_type": "execute_result"
    }
   ],
   "source": [
    "train_df.head()"
   ]
  },
  {
   "cell_type": "code",
   "execution_count": 4,
   "metadata": {},
   "outputs": [],
   "source": [
    "train_df = train_df.drop(columns=['분석데이터'], axis=1)"
   ]
  },
  {
   "cell_type": "code",
   "execution_count": 5,
   "metadata": {},
   "outputs": [],
   "source": [
    "x_train = train_df[:8000]\n",
    "y_train = x_train['label']\n",
    "\n",
    "x_test = train_df[8000:]\n",
    "y_test = x_test['label']\n",
    "\n",
    "\n",
    "x_train = x_train.drop(columns=['label'], axis=1)\n",
    "x_test = x_test.drop(columns=['label'], axis=1)"
   ]
  },
  {
   "cell_type": "code",
   "execution_count": 6,
   "metadata": {},
   "outputs": [
    {
     "data": {
      "text/html": [
       "<div>\n",
       "<style scoped>\n",
       "    .dataframe tbody tr th:only-of-type {\n",
       "        vertical-align: middle;\n",
       "    }\n",
       "\n",
       "    .dataframe tbody tr th {\n",
       "        vertical-align: top;\n",
       "    }\n",
       "\n",
       "    .dataframe thead th {\n",
       "        text-align: right;\n",
       "    }\n",
       "</style>\n",
       "<table border=\"1\" class=\"dataframe\">\n",
       "  <thead>\n",
       "    <tr style=\"text-align: right;\">\n",
       "      <th></th>\n",
       "      <th>numstrings</th>\n",
       "      <th>avlength</th>\n",
       "      <th>printables</th>\n",
       "      <th>entropy</th>\n",
       "      <th>paths</th>\n",
       "      <th>urls</th>\n",
       "      <th>registry</th>\n",
       "      <th>MZ</th>\n",
       "      <th>a_0</th>\n",
       "      <th>a_1</th>\n",
       "      <th>...</th>\n",
       "      <th>dist_86</th>\n",
       "      <th>dist_87</th>\n",
       "      <th>dist_88</th>\n",
       "      <th>dist_89</th>\n",
       "      <th>dist_90</th>\n",
       "      <th>dist_91</th>\n",
       "      <th>dist_92</th>\n",
       "      <th>dist_93</th>\n",
       "      <th>dist_94</th>\n",
       "      <th>dist_95</th>\n",
       "    </tr>\n",
       "  </thead>\n",
       "  <tbody>\n",
       "    <tr>\n",
       "      <th>0</th>\n",
       "      <td>144</td>\n",
       "      <td>12.298611</td>\n",
       "      <td>1771</td>\n",
       "      <td>5.356616</td>\n",
       "      <td>0</td>\n",
       "      <td>0</td>\n",
       "      <td>0</td>\n",
       "      <td>1</td>\n",
       "      <td>2399</td>\n",
       "      <td>572</td>\n",
       "      <td>...</td>\n",
       "      <td>10</td>\n",
       "      <td>4</td>\n",
       "      <td>10</td>\n",
       "      <td>9</td>\n",
       "      <td>4</td>\n",
       "      <td>0</td>\n",
       "      <td>1</td>\n",
       "      <td>0</td>\n",
       "      <td>0</td>\n",
       "      <td>0</td>\n",
       "    </tr>\n",
       "    <tr>\n",
       "      <th>1</th>\n",
       "      <td>804</td>\n",
       "      <td>9.580846</td>\n",
       "      <td>7703</td>\n",
       "      <td>6.063542</td>\n",
       "      <td>0</td>\n",
       "      <td>0</td>\n",
       "      <td>0</td>\n",
       "      <td>6</td>\n",
       "      <td>183376</td>\n",
       "      <td>8477</td>\n",
       "      <td>...</td>\n",
       "      <td>43</td>\n",
       "      <td>121</td>\n",
       "      <td>84</td>\n",
       "      <td>78</td>\n",
       "      <td>47</td>\n",
       "      <td>36</td>\n",
       "      <td>40</td>\n",
       "      <td>45</td>\n",
       "      <td>27</td>\n",
       "      <td>36</td>\n",
       "    </tr>\n",
       "    <tr>\n",
       "      <th>2</th>\n",
       "      <td>2205</td>\n",
       "      <td>12.736054</td>\n",
       "      <td>28083</td>\n",
       "      <td>6.107050</td>\n",
       "      <td>9</td>\n",
       "      <td>0</td>\n",
       "      <td>0</td>\n",
       "      <td>6</td>\n",
       "      <td>1178</td>\n",
       "      <td>28</td>\n",
       "      <td>...</td>\n",
       "      <td>326</td>\n",
       "      <td>268</td>\n",
       "      <td>239</td>\n",
       "      <td>286</td>\n",
       "      <td>199</td>\n",
       "      <td>148</td>\n",
       "      <td>154</td>\n",
       "      <td>37</td>\n",
       "      <td>48</td>\n",
       "      <td>36</td>\n",
       "    </tr>\n",
       "    <tr>\n",
       "      <th>3</th>\n",
       "      <td>2602</td>\n",
       "      <td>10.288240</td>\n",
       "      <td>26770</td>\n",
       "      <td>5.373013</td>\n",
       "      <td>8</td>\n",
       "      <td>0</td>\n",
       "      <td>0</td>\n",
       "      <td>1</td>\n",
       "      <td>56851</td>\n",
       "      <td>2625</td>\n",
       "      <td>...</td>\n",
       "      <td>336</td>\n",
       "      <td>230</td>\n",
       "      <td>206</td>\n",
       "      <td>245</td>\n",
       "      <td>76</td>\n",
       "      <td>0</td>\n",
       "      <td>26</td>\n",
       "      <td>702</td>\n",
       "      <td>1</td>\n",
       "      <td>5</td>\n",
       "    </tr>\n",
       "    <tr>\n",
       "      <th>4</th>\n",
       "      <td>8980</td>\n",
       "      <td>23.252339</td>\n",
       "      <td>208806</td>\n",
       "      <td>5.775223</td>\n",
       "      <td>0</td>\n",
       "      <td>28</td>\n",
       "      <td>16</td>\n",
       "      <td>3</td>\n",
       "      <td>124274</td>\n",
       "      <td>5778</td>\n",
       "      <td>...</td>\n",
       "      <td>731</td>\n",
       "      <td>882</td>\n",
       "      <td>1171</td>\n",
       "      <td>1010</td>\n",
       "      <td>322</td>\n",
       "      <td>64</td>\n",
       "      <td>327</td>\n",
       "      <td>84</td>\n",
       "      <td>75</td>\n",
       "      <td>244</td>\n",
       "    </tr>\n",
       "    <tr>\n",
       "      <th>...</th>\n",
       "      <td>...</td>\n",
       "      <td>...</td>\n",
       "      <td>...</td>\n",
       "      <td>...</td>\n",
       "      <td>...</td>\n",
       "      <td>...</td>\n",
       "      <td>...</td>\n",
       "      <td>...</td>\n",
       "      <td>...</td>\n",
       "      <td>...</td>\n",
       "      <td>...</td>\n",
       "      <td>...</td>\n",
       "      <td>...</td>\n",
       "      <td>...</td>\n",
       "      <td>...</td>\n",
       "      <td>...</td>\n",
       "      <td>...</td>\n",
       "      <td>...</td>\n",
       "      <td>...</td>\n",
       "      <td>...</td>\n",
       "      <td>...</td>\n",
       "    </tr>\n",
       "    <tr>\n",
       "      <th>7995</th>\n",
       "      <td>8736</td>\n",
       "      <td>161.916094</td>\n",
       "      <td>1414499</td>\n",
       "      <td>5.045352</td>\n",
       "      <td>0</td>\n",
       "      <td>9</td>\n",
       "      <td>0</td>\n",
       "      <td>11</td>\n",
       "      <td>20409</td>\n",
       "      <td>472</td>\n",
       "      <td>...</td>\n",
       "      <td>20733</td>\n",
       "      <td>19933</td>\n",
       "      <td>27071</td>\n",
       "      <td>31742</td>\n",
       "      <td>75164</td>\n",
       "      <td>67</td>\n",
       "      <td>194</td>\n",
       "      <td>101</td>\n",
       "      <td>76</td>\n",
       "      <td>66</td>\n",
       "    </tr>\n",
       "    <tr>\n",
       "      <th>7996</th>\n",
       "      <td>6592</td>\n",
       "      <td>5.987561</td>\n",
       "      <td>39470</td>\n",
       "      <td>6.573862</td>\n",
       "      <td>0</td>\n",
       "      <td>0</td>\n",
       "      <td>0</td>\n",
       "      <td>21</td>\n",
       "      <td>183376</td>\n",
       "      <td>8477</td>\n",
       "      <td>...</td>\n",
       "      <td>405</td>\n",
       "      <td>406</td>\n",
       "      <td>385</td>\n",
       "      <td>436</td>\n",
       "      <td>340</td>\n",
       "      <td>366</td>\n",
       "      <td>343</td>\n",
       "      <td>393</td>\n",
       "      <td>416</td>\n",
       "      <td>377</td>\n",
       "    </tr>\n",
       "    <tr>\n",
       "      <th>7997</th>\n",
       "      <td>5255</td>\n",
       "      <td>6.607041</td>\n",
       "      <td>34720</td>\n",
       "      <td>6.503973</td>\n",
       "      <td>0</td>\n",
       "      <td>7</td>\n",
       "      <td>0</td>\n",
       "      <td>15</td>\n",
       "      <td>147733</td>\n",
       "      <td>8023</td>\n",
       "      <td>...</td>\n",
       "      <td>231</td>\n",
       "      <td>255</td>\n",
       "      <td>334</td>\n",
       "      <td>395</td>\n",
       "      <td>185</td>\n",
       "      <td>235</td>\n",
       "      <td>241</td>\n",
       "      <td>180</td>\n",
       "      <td>181</td>\n",
       "      <td>193</td>\n",
       "    </tr>\n",
       "    <tr>\n",
       "      <th>7998</th>\n",
       "      <td>11618</td>\n",
       "      <td>5.882940</td>\n",
       "      <td>68348</td>\n",
       "      <td>6.577309</td>\n",
       "      <td>1</td>\n",
       "      <td>5</td>\n",
       "      <td>0</td>\n",
       "      <td>41</td>\n",
       "      <td>96507</td>\n",
       "      <td>7356</td>\n",
       "      <td>...</td>\n",
       "      <td>667</td>\n",
       "      <td>676</td>\n",
       "      <td>685</td>\n",
       "      <td>746</td>\n",
       "      <td>663</td>\n",
       "      <td>624</td>\n",
       "      <td>634</td>\n",
       "      <td>602</td>\n",
       "      <td>625</td>\n",
       "      <td>598</td>\n",
       "    </tr>\n",
       "    <tr>\n",
       "      <th>7999</th>\n",
       "      <td>616</td>\n",
       "      <td>15.060065</td>\n",
       "      <td>9277</td>\n",
       "      <td>5.906131</td>\n",
       "      <td>1</td>\n",
       "      <td>0</td>\n",
       "      <td>0</td>\n",
       "      <td>3</td>\n",
       "      <td>2755</td>\n",
       "      <td>28</td>\n",
       "      <td>...</td>\n",
       "      <td>66</td>\n",
       "      <td>115</td>\n",
       "      <td>81</td>\n",
       "      <td>81</td>\n",
       "      <td>22</td>\n",
       "      <td>9</td>\n",
       "      <td>19</td>\n",
       "      <td>13</td>\n",
       "      <td>17</td>\n",
       "      <td>19</td>\n",
       "    </tr>\n",
       "  </tbody>\n",
       "</table>\n",
       "<p>8000 rows × 616 columns</p>\n",
       "</div>"
      ],
      "text/plain": [
       "      numstrings    avlength  printables   entropy  paths  urls  registry  MZ  \\\n",
       "0            144   12.298611        1771  5.356616      0     0         0   1   \n",
       "1            804    9.580846        7703  6.063542      0     0         0   6   \n",
       "2           2205   12.736054       28083  6.107050      9     0         0   6   \n",
       "3           2602   10.288240       26770  5.373013      8     0         0   1   \n",
       "4           8980   23.252339      208806  5.775223      0    28        16   3   \n",
       "...          ...         ...         ...       ...    ...   ...       ...  ..   \n",
       "7995        8736  161.916094     1414499  5.045352      0     9         0  11   \n",
       "7996        6592    5.987561       39470  6.573862      0     0         0  21   \n",
       "7997        5255    6.607041       34720  6.503973      0     7         0  15   \n",
       "7998       11618    5.882940       68348  6.577309      1     5         0  41   \n",
       "7999         616   15.060065        9277  5.906131      1     0         0   3   \n",
       "\n",
       "         a_0   a_1  ...  dist_86  dist_87  dist_88  dist_89  dist_90  dist_91  \\\n",
       "0       2399   572  ...       10        4       10        9        4        0   \n",
       "1     183376  8477  ...       43      121       84       78       47       36   \n",
       "2       1178    28  ...      326      268      239      286      199      148   \n",
       "3      56851  2625  ...      336      230      206      245       76        0   \n",
       "4     124274  5778  ...      731      882     1171     1010      322       64   \n",
       "...      ...   ...  ...      ...      ...      ...      ...      ...      ...   \n",
       "7995   20409   472  ...    20733    19933    27071    31742    75164       67   \n",
       "7996  183376  8477  ...      405      406      385      436      340      366   \n",
       "7997  147733  8023  ...      231      255      334      395      185      235   \n",
       "7998   96507  7356  ...      667      676      685      746      663      624   \n",
       "7999    2755    28  ...       66      115       81       81       22        9   \n",
       "\n",
       "      dist_92  dist_93  dist_94  dist_95  \n",
       "0           1        0        0        0  \n",
       "1          40       45       27       36  \n",
       "2         154       37       48       36  \n",
       "3          26      702        1        5  \n",
       "4         327       84       75      244  \n",
       "...       ...      ...      ...      ...  \n",
       "7995      194      101       76       66  \n",
       "7996      343      393      416      377  \n",
       "7997      241      180      181      193  \n",
       "7998      634      602      625      598  \n",
       "7999       19       13       17       19  \n",
       "\n",
       "[8000 rows x 616 columns]"
      ]
     },
     "execution_count": 6,
     "metadata": {},
     "output_type": "execute_result"
    }
   ],
   "source": [
    "x_train"
   ]
  },
  {
   "cell_type": "code",
   "execution_count": 7,
   "metadata": {},
   "outputs": [
    {
     "data": {
      "text/html": [
       "<div>\n",
       "<style scoped>\n",
       "    .dataframe tbody tr th:only-of-type {\n",
       "        vertical-align: middle;\n",
       "    }\n",
       "\n",
       "    .dataframe tbody tr th {\n",
       "        vertical-align: top;\n",
       "    }\n",
       "\n",
       "    .dataframe thead th {\n",
       "        text-align: right;\n",
       "    }\n",
       "</style>\n",
       "<table border=\"1\" class=\"dataframe\">\n",
       "  <thead>\n",
       "    <tr style=\"text-align: right;\">\n",
       "      <th></th>\n",
       "      <th>numstrings</th>\n",
       "      <th>avlength</th>\n",
       "      <th>printables</th>\n",
       "      <th>entropy</th>\n",
       "      <th>paths</th>\n",
       "      <th>urls</th>\n",
       "      <th>registry</th>\n",
       "      <th>MZ</th>\n",
       "      <th>a_0</th>\n",
       "      <th>a_1</th>\n",
       "      <th>...</th>\n",
       "      <th>dist_86</th>\n",
       "      <th>dist_87</th>\n",
       "      <th>dist_88</th>\n",
       "      <th>dist_89</th>\n",
       "      <th>dist_90</th>\n",
       "      <th>dist_91</th>\n",
       "      <th>dist_92</th>\n",
       "      <th>dist_93</th>\n",
       "      <th>dist_94</th>\n",
       "      <th>dist_95</th>\n",
       "    </tr>\n",
       "  </thead>\n",
       "  <tbody>\n",
       "    <tr>\n",
       "      <th>8000</th>\n",
       "      <td>3522</td>\n",
       "      <td>14.883589</td>\n",
       "      <td>52420</td>\n",
       "      <td>5.729609</td>\n",
       "      <td>103</td>\n",
       "      <td>0</td>\n",
       "      <td>0</td>\n",
       "      <td>6</td>\n",
       "      <td>462397</td>\n",
       "      <td>103815</td>\n",
       "      <td>...</td>\n",
       "      <td>320</td>\n",
       "      <td>326</td>\n",
       "      <td>272</td>\n",
       "      <td>334</td>\n",
       "      <td>70</td>\n",
       "      <td>23</td>\n",
       "      <td>123</td>\n",
       "      <td>38</td>\n",
       "      <td>43</td>\n",
       "      <td>294</td>\n",
       "    </tr>\n",
       "    <tr>\n",
       "      <th>8001</th>\n",
       "      <td>846</td>\n",
       "      <td>14.718676</td>\n",
       "      <td>12452</td>\n",
       "      <td>5.646406</td>\n",
       "      <td>0</td>\n",
       "      <td>0</td>\n",
       "      <td>0</td>\n",
       "      <td>2</td>\n",
       "      <td>20251821</td>\n",
       "      <td>3053</td>\n",
       "      <td>...</td>\n",
       "      <td>96</td>\n",
       "      <td>39</td>\n",
       "      <td>102</td>\n",
       "      <td>135</td>\n",
       "      <td>26</td>\n",
       "      <td>13</td>\n",
       "      <td>49</td>\n",
       "      <td>9</td>\n",
       "      <td>11</td>\n",
       "      <td>16</td>\n",
       "    </tr>\n",
       "    <tr>\n",
       "      <th>8002</th>\n",
       "      <td>16716</td>\n",
       "      <td>5.786552</td>\n",
       "      <td>96728</td>\n",
       "      <td>6.537585</td>\n",
       "      <td>1</td>\n",
       "      <td>0</td>\n",
       "      <td>0</td>\n",
       "      <td>37</td>\n",
       "      <td>6454</td>\n",
       "      <td>329</td>\n",
       "      <td>...</td>\n",
       "      <td>1177</td>\n",
       "      <td>829</td>\n",
       "      <td>1451</td>\n",
       "      <td>688</td>\n",
       "      <td>1387</td>\n",
       "      <td>822</td>\n",
       "      <td>890</td>\n",
       "      <td>648</td>\n",
       "      <td>949</td>\n",
       "      <td>705</td>\n",
       "    </tr>\n",
       "    <tr>\n",
       "      <th>8003</th>\n",
       "      <td>3013</td>\n",
       "      <td>26.163956</td>\n",
       "      <td>78832</td>\n",
       "      <td>5.457340</td>\n",
       "      <td>1</td>\n",
       "      <td>0</td>\n",
       "      <td>0</td>\n",
       "      <td>6</td>\n",
       "      <td>902116</td>\n",
       "      <td>72960</td>\n",
       "      <td>...</td>\n",
       "      <td>712</td>\n",
       "      <td>470</td>\n",
       "      <td>580</td>\n",
       "      <td>489</td>\n",
       "      <td>159</td>\n",
       "      <td>13</td>\n",
       "      <td>23</td>\n",
       "      <td>12</td>\n",
       "      <td>16</td>\n",
       "      <td>11</td>\n",
       "    </tr>\n",
       "    <tr>\n",
       "      <th>8004</th>\n",
       "      <td>658</td>\n",
       "      <td>14.518237</td>\n",
       "      <td>9553</td>\n",
       "      <td>5.170602</td>\n",
       "      <td>0</td>\n",
       "      <td>0</td>\n",
       "      <td>0</td>\n",
       "      <td>2</td>\n",
       "      <td>42438</td>\n",
       "      <td>23885</td>\n",
       "      <td>...</td>\n",
       "      <td>96</td>\n",
       "      <td>16</td>\n",
       "      <td>56</td>\n",
       "      <td>229</td>\n",
       "      <td>10</td>\n",
       "      <td>1</td>\n",
       "      <td>0</td>\n",
       "      <td>1</td>\n",
       "      <td>0</td>\n",
       "      <td>1</td>\n",
       "    </tr>\n",
       "    <tr>\n",
       "      <th>...</th>\n",
       "      <td>...</td>\n",
       "      <td>...</td>\n",
       "      <td>...</td>\n",
       "      <td>...</td>\n",
       "      <td>...</td>\n",
       "      <td>...</td>\n",
       "      <td>...</td>\n",
       "      <td>...</td>\n",
       "      <td>...</td>\n",
       "      <td>...</td>\n",
       "      <td>...</td>\n",
       "      <td>...</td>\n",
       "      <td>...</td>\n",
       "      <td>...</td>\n",
       "      <td>...</td>\n",
       "      <td>...</td>\n",
       "      <td>...</td>\n",
       "      <td>...</td>\n",
       "      <td>...</td>\n",
       "      <td>...</td>\n",
       "      <td>...</td>\n",
       "    </tr>\n",
       "    <tr>\n",
       "      <th>9995</th>\n",
       "      <td>2018</td>\n",
       "      <td>13.938057</td>\n",
       "      <td>28127</td>\n",
       "      <td>5.940442</td>\n",
       "      <td>0</td>\n",
       "      <td>70</td>\n",
       "      <td>0</td>\n",
       "      <td>11</td>\n",
       "      <td>255044</td>\n",
       "      <td>17531</td>\n",
       "      <td>...</td>\n",
       "      <td>246</td>\n",
       "      <td>186</td>\n",
       "      <td>206</td>\n",
       "      <td>235</td>\n",
       "      <td>88</td>\n",
       "      <td>33</td>\n",
       "      <td>81</td>\n",
       "      <td>58</td>\n",
       "      <td>61</td>\n",
       "      <td>72</td>\n",
       "    </tr>\n",
       "    <tr>\n",
       "      <th>9996</th>\n",
       "      <td>1105</td>\n",
       "      <td>16.437104</td>\n",
       "      <td>18163</td>\n",
       "      <td>5.766962</td>\n",
       "      <td>0</td>\n",
       "      <td>11</td>\n",
       "      <td>0</td>\n",
       "      <td>3</td>\n",
       "      <td>181296</td>\n",
       "      <td>5127</td>\n",
       "      <td>...</td>\n",
       "      <td>199</td>\n",
       "      <td>57</td>\n",
       "      <td>134</td>\n",
       "      <td>123</td>\n",
       "      <td>20</td>\n",
       "      <td>25</td>\n",
       "      <td>28</td>\n",
       "      <td>25</td>\n",
       "      <td>41</td>\n",
       "      <td>13</td>\n",
       "    </tr>\n",
       "    <tr>\n",
       "      <th>9997</th>\n",
       "      <td>4</td>\n",
       "      <td>58.500000</td>\n",
       "      <td>234</td>\n",
       "      <td>3.811827</td>\n",
       "      <td>0</td>\n",
       "      <td>0</td>\n",
       "      <td>0</td>\n",
       "      <td>1</td>\n",
       "      <td>68736</td>\n",
       "      <td>2344</td>\n",
       "      <td>...</td>\n",
       "      <td>0</td>\n",
       "      <td>0</td>\n",
       "      <td>0</td>\n",
       "      <td>0</td>\n",
       "      <td>0</td>\n",
       "      <td>0</td>\n",
       "      <td>0</td>\n",
       "      <td>0</td>\n",
       "      <td>0</td>\n",
       "      <td>0</td>\n",
       "    </tr>\n",
       "    <tr>\n",
       "      <th>9998</th>\n",
       "      <td>3312</td>\n",
       "      <td>24.939312</td>\n",
       "      <td>82599</td>\n",
       "      <td>5.834730</td>\n",
       "      <td>0</td>\n",
       "      <td>39</td>\n",
       "      <td>0</td>\n",
       "      <td>8</td>\n",
       "      <td>90648</td>\n",
       "      <td>1338</td>\n",
       "      <td>...</td>\n",
       "      <td>438</td>\n",
       "      <td>985</td>\n",
       "      <td>806</td>\n",
       "      <td>851</td>\n",
       "      <td>113</td>\n",
       "      <td>123</td>\n",
       "      <td>181</td>\n",
       "      <td>100</td>\n",
       "      <td>75</td>\n",
       "      <td>86</td>\n",
       "    </tr>\n",
       "    <tr>\n",
       "      <th>9999</th>\n",
       "      <td>655</td>\n",
       "      <td>6.077863</td>\n",
       "      <td>3981</td>\n",
       "      <td>6.519481</td>\n",
       "      <td>0</td>\n",
       "      <td>0</td>\n",
       "      <td>0</td>\n",
       "      <td>4</td>\n",
       "      <td>14738</td>\n",
       "      <td>720</td>\n",
       "      <td>...</td>\n",
       "      <td>44</td>\n",
       "      <td>32</td>\n",
       "      <td>26</td>\n",
       "      <td>32</td>\n",
       "      <td>28</td>\n",
       "      <td>30</td>\n",
       "      <td>33</td>\n",
       "      <td>23</td>\n",
       "      <td>26</td>\n",
       "      <td>32</td>\n",
       "    </tr>\n",
       "  </tbody>\n",
       "</table>\n",
       "<p>2000 rows × 616 columns</p>\n",
       "</div>"
      ],
      "text/plain": [
       "      numstrings   avlength  printables   entropy  paths  urls  registry  MZ  \\\n",
       "8000        3522  14.883589       52420  5.729609    103     0         0   6   \n",
       "8001         846  14.718676       12452  5.646406      0     0         0   2   \n",
       "8002       16716   5.786552       96728  6.537585      1     0         0  37   \n",
       "8003        3013  26.163956       78832  5.457340      1     0         0   6   \n",
       "8004         658  14.518237        9553  5.170602      0     0         0   2   \n",
       "...          ...        ...         ...       ...    ...   ...       ...  ..   \n",
       "9995        2018  13.938057       28127  5.940442      0    70         0  11   \n",
       "9996        1105  16.437104       18163  5.766962      0    11         0   3   \n",
       "9997           4  58.500000         234  3.811827      0     0         0   1   \n",
       "9998        3312  24.939312       82599  5.834730      0    39         0   8   \n",
       "9999         655   6.077863        3981  6.519481      0     0         0   4   \n",
       "\n",
       "           a_0     a_1  ...  dist_86  dist_87  dist_88  dist_89  dist_90  \\\n",
       "8000    462397  103815  ...      320      326      272      334       70   \n",
       "8001  20251821    3053  ...       96       39      102      135       26   \n",
       "8002      6454     329  ...     1177      829     1451      688     1387   \n",
       "8003    902116   72960  ...      712      470      580      489      159   \n",
       "8004     42438   23885  ...       96       16       56      229       10   \n",
       "...        ...     ...  ...      ...      ...      ...      ...      ...   \n",
       "9995    255044   17531  ...      246      186      206      235       88   \n",
       "9996    181296    5127  ...      199       57      134      123       20   \n",
       "9997     68736    2344  ...        0        0        0        0        0   \n",
       "9998     90648    1338  ...      438      985      806      851      113   \n",
       "9999     14738     720  ...       44       32       26       32       28   \n",
       "\n",
       "      dist_91  dist_92  dist_93  dist_94  dist_95  \n",
       "8000       23      123       38       43      294  \n",
       "8001       13       49        9       11       16  \n",
       "8002      822      890      648      949      705  \n",
       "8003       13       23       12       16       11  \n",
       "8004        1        0        1        0        1  \n",
       "...       ...      ...      ...      ...      ...  \n",
       "9995       33       81       58       61       72  \n",
       "9996       25       28       25       41       13  \n",
       "9997        0        0        0        0        0  \n",
       "9998      123      181      100       75       86  \n",
       "9999       30       33       23       26       32  \n",
       "\n",
       "[2000 rows x 616 columns]"
      ]
     },
     "execution_count": 7,
     "metadata": {},
     "output_type": "execute_result"
    }
   ],
   "source": [
    "x_test"
   ]
  },
  {
   "cell_type": "code",
   "execution_count": 8,
   "metadata": {},
   "outputs": [
    {
     "data": {
      "text/plain": [
       "0       1\n",
       "1       1\n",
       "2       0\n",
       "3       0\n",
       "4       1\n",
       "       ..\n",
       "7995    0\n",
       "7996    1\n",
       "7997    1\n",
       "7998    1\n",
       "7999    0\n",
       "Name: label, Length: 8000, dtype: int64"
      ]
     },
     "execution_count": 8,
     "metadata": {},
     "output_type": "execute_result"
    }
   ],
   "source": [
    "y_train"
   ]
  },
  {
   "cell_type": "code",
   "execution_count": 9,
   "metadata": {},
   "outputs": [
    {
     "data": {
      "text/plain": [
       "8000    1\n",
       "8001    1\n",
       "8002    0\n",
       "8003    0\n",
       "8004    1\n",
       "       ..\n",
       "9995    1\n",
       "9996    0\n",
       "9997    0\n",
       "9998    1\n",
       "9999    0\n",
       "Name: label, Length: 2000, dtype: int64"
      ]
     },
     "execution_count": 9,
     "metadata": {},
     "output_type": "execute_result"
    }
   ],
   "source": [
    "y_test"
   ]
  },
  {
   "cell_type": "markdown",
   "metadata": {},
   "source": [
    "## 데이터 정형화"
   ]
  },
  {
   "cell_type": "code",
   "execution_count": 10,
   "metadata": {},
   "outputs": [],
   "source": [
    "maxCol = x_train.max()\n",
    "col = x_train.columns\n",
    "for i in range(len(maxCol)):\n",
    "    x_train[col[i]] = x_train[col[i]] / maxCol[i]"
   ]
  },
  {
   "cell_type": "code",
   "execution_count": 11,
   "metadata": {
    "colab": {
     "base_uri": "https://localhost:8080/"
    },
    "id": "TAm6VXazYUhu",
    "outputId": "895d3c9b-694f-4292-d2f0-f5d430bb7a0c",
    "scrolled": false
   },
   "outputs": [
    {
     "data": {
      "text/html": [
       "<div>\n",
       "<style scoped>\n",
       "    .dataframe tbody tr th:only-of-type {\n",
       "        vertical-align: middle;\n",
       "    }\n",
       "\n",
       "    .dataframe tbody tr th {\n",
       "        vertical-align: top;\n",
       "    }\n",
       "\n",
       "    .dataframe thead th {\n",
       "        text-align: right;\n",
       "    }\n",
       "</style>\n",
       "<table border=\"1\" class=\"dataframe\">\n",
       "  <thead>\n",
       "    <tr style=\"text-align: right;\">\n",
       "      <th></th>\n",
       "      <th>numstrings</th>\n",
       "      <th>avlength</th>\n",
       "      <th>printables</th>\n",
       "      <th>entropy</th>\n",
       "      <th>paths</th>\n",
       "      <th>urls</th>\n",
       "      <th>registry</th>\n",
       "      <th>MZ</th>\n",
       "      <th>a_0</th>\n",
       "      <th>a_1</th>\n",
       "      <th>...</th>\n",
       "      <th>dist_86</th>\n",
       "      <th>dist_87</th>\n",
       "      <th>dist_88</th>\n",
       "      <th>dist_89</th>\n",
       "      <th>dist_90</th>\n",
       "      <th>dist_91</th>\n",
       "      <th>dist_92</th>\n",
       "      <th>dist_93</th>\n",
       "      <th>dist_94</th>\n",
       "      <th>dist_95</th>\n",
       "    </tr>\n",
       "  </thead>\n",
       "  <tbody>\n",
       "    <tr>\n",
       "      <th>0</th>\n",
       "      <td>0.000380</td>\n",
       "      <td>0.000226</td>\n",
       "      <td>0.000081</td>\n",
       "      <td>0.813473</td>\n",
       "      <td>0.000000</td>\n",
       "      <td>0.000000</td>\n",
       "      <td>0.000000</td>\n",
       "      <td>0.000190</td>\n",
       "      <td>0.000075</td>\n",
       "      <td>0.000537</td>\n",
       "      <td>...</td>\n",
       "      <td>0.000029</td>\n",
       "      <td>0.000012</td>\n",
       "      <td>0.000029</td>\n",
       "      <td>0.000027</td>\n",
       "      <td>0.000012</td>\n",
       "      <td>0.000000</td>\n",
       "      <td>0.000027</td>\n",
       "      <td>0.000000</td>\n",
       "      <td>0.000000</td>\n",
       "      <td>0.000000</td>\n",
       "    </tr>\n",
       "    <tr>\n",
       "      <th>1</th>\n",
       "      <td>0.002123</td>\n",
       "      <td>0.000176</td>\n",
       "      <td>0.000354</td>\n",
       "      <td>0.920829</td>\n",
       "      <td>0.000000</td>\n",
       "      <td>0.000000</td>\n",
       "      <td>0.000000</td>\n",
       "      <td>0.001139</td>\n",
       "      <td>0.005726</td>\n",
       "      <td>0.007960</td>\n",
       "      <td>...</td>\n",
       "      <td>0.000127</td>\n",
       "      <td>0.000355</td>\n",
       "      <td>0.000247</td>\n",
       "      <td>0.000230</td>\n",
       "      <td>0.000138</td>\n",
       "      <td>0.000424</td>\n",
       "      <td>0.001064</td>\n",
       "      <td>0.000874</td>\n",
       "      <td>0.002036</td>\n",
       "      <td>0.002412</td>\n",
       "    </tr>\n",
       "    <tr>\n",
       "      <th>2</th>\n",
       "      <td>0.005823</td>\n",
       "      <td>0.000234</td>\n",
       "      <td>0.001289</td>\n",
       "      <td>0.927437</td>\n",
       "      <td>0.000909</td>\n",
       "      <td>0.000000</td>\n",
       "      <td>0.000000</td>\n",
       "      <td>0.001139</td>\n",
       "      <td>0.000037</td>\n",
       "      <td>0.000026</td>\n",
       "      <td>...</td>\n",
       "      <td>0.000960</td>\n",
       "      <td>0.000787</td>\n",
       "      <td>0.000702</td>\n",
       "      <td>0.000842</td>\n",
       "      <td>0.000585</td>\n",
       "      <td>0.001745</td>\n",
       "      <td>0.004096</td>\n",
       "      <td>0.000719</td>\n",
       "      <td>0.003620</td>\n",
       "      <td>0.002412</td>\n",
       "    </tr>\n",
       "    <tr>\n",
       "      <th>3</th>\n",
       "      <td>0.006872</td>\n",
       "      <td>0.000189</td>\n",
       "      <td>0.001229</td>\n",
       "      <td>0.815963</td>\n",
       "      <td>0.000808</td>\n",
       "      <td>0.000000</td>\n",
       "      <td>0.000000</td>\n",
       "      <td>0.000190</td>\n",
       "      <td>0.001775</td>\n",
       "      <td>0.002465</td>\n",
       "      <td>...</td>\n",
       "      <td>0.000990</td>\n",
       "      <td>0.000675</td>\n",
       "      <td>0.000605</td>\n",
       "      <td>0.000722</td>\n",
       "      <td>0.000223</td>\n",
       "      <td>0.000000</td>\n",
       "      <td>0.000691</td>\n",
       "      <td>0.013636</td>\n",
       "      <td>0.000075</td>\n",
       "      <td>0.000335</td>\n",
       "    </tr>\n",
       "    <tr>\n",
       "      <th>4</th>\n",
       "      <td>0.023715</td>\n",
       "      <td>0.000427</td>\n",
       "      <td>0.009582</td>\n",
       "      <td>0.877044</td>\n",
       "      <td>0.000000</td>\n",
       "      <td>0.012607</td>\n",
       "      <td>0.202532</td>\n",
       "      <td>0.000570</td>\n",
       "      <td>0.003881</td>\n",
       "      <td>0.005426</td>\n",
       "      <td>...</td>\n",
       "      <td>0.002153</td>\n",
       "      <td>0.002589</td>\n",
       "      <td>0.003439</td>\n",
       "      <td>0.002974</td>\n",
       "      <td>0.000947</td>\n",
       "      <td>0.000754</td>\n",
       "      <td>0.008696</td>\n",
       "      <td>0.001632</td>\n",
       "      <td>0.005656</td>\n",
       "      <td>0.016345</td>\n",
       "    </tr>\n",
       "    <tr>\n",
       "      <th>...</th>\n",
       "      <td>...</td>\n",
       "      <td>...</td>\n",
       "      <td>...</td>\n",
       "      <td>...</td>\n",
       "      <td>...</td>\n",
       "      <td>...</td>\n",
       "      <td>...</td>\n",
       "      <td>...</td>\n",
       "      <td>...</td>\n",
       "      <td>...</td>\n",
       "      <td>...</td>\n",
       "      <td>...</td>\n",
       "      <td>...</td>\n",
       "      <td>...</td>\n",
       "      <td>...</td>\n",
       "      <td>...</td>\n",
       "      <td>...</td>\n",
       "      <td>...</td>\n",
       "      <td>...</td>\n",
       "      <td>...</td>\n",
       "      <td>...</td>\n",
       "    </tr>\n",
       "    <tr>\n",
       "      <th>7995</th>\n",
       "      <td>0.023071</td>\n",
       "      <td>0.002972</td>\n",
       "      <td>0.064914</td>\n",
       "      <td>0.766204</td>\n",
       "      <td>0.000000</td>\n",
       "      <td>0.004052</td>\n",
       "      <td>0.000000</td>\n",
       "      <td>0.002089</td>\n",
       "      <td>0.000637</td>\n",
       "      <td>0.000443</td>\n",
       "      <td>...</td>\n",
       "      <td>0.061059</td>\n",
       "      <td>0.058505</td>\n",
       "      <td>0.079501</td>\n",
       "      <td>0.093481</td>\n",
       "      <td>0.221040</td>\n",
       "      <td>0.000790</td>\n",
       "      <td>0.005159</td>\n",
       "      <td>0.001962</td>\n",
       "      <td>0.005732</td>\n",
       "      <td>0.004421</td>\n",
       "    </tr>\n",
       "    <tr>\n",
       "      <th>7996</th>\n",
       "      <td>0.017409</td>\n",
       "      <td>0.000110</td>\n",
       "      <td>0.001811</td>\n",
       "      <td>0.998328</td>\n",
       "      <td>0.000000</td>\n",
       "      <td>0.000000</td>\n",
       "      <td>0.000000</td>\n",
       "      <td>0.003988</td>\n",
       "      <td>0.005726</td>\n",
       "      <td>0.007960</td>\n",
       "      <td>...</td>\n",
       "      <td>0.001193</td>\n",
       "      <td>0.001192</td>\n",
       "      <td>0.001131</td>\n",
       "      <td>0.001284</td>\n",
       "      <td>0.001000</td>\n",
       "      <td>0.004314</td>\n",
       "      <td>0.009122</td>\n",
       "      <td>0.007634</td>\n",
       "      <td>0.031373</td>\n",
       "      <td>0.025255</td>\n",
       "    </tr>\n",
       "    <tr>\n",
       "      <th>7997</th>\n",
       "      <td>0.013878</td>\n",
       "      <td>0.000121</td>\n",
       "      <td>0.001593</td>\n",
       "      <td>0.987715</td>\n",
       "      <td>0.000000</td>\n",
       "      <td>0.003152</td>\n",
       "      <td>0.000000</td>\n",
       "      <td>0.002848</td>\n",
       "      <td>0.004613</td>\n",
       "      <td>0.007534</td>\n",
       "      <td>...</td>\n",
       "      <td>0.000680</td>\n",
       "      <td>0.000748</td>\n",
       "      <td>0.000981</td>\n",
       "      <td>0.001163</td>\n",
       "      <td>0.000544</td>\n",
       "      <td>0.002770</td>\n",
       "      <td>0.006409</td>\n",
       "      <td>0.003497</td>\n",
       "      <td>0.013650</td>\n",
       "      <td>0.012929</td>\n",
       "    </tr>\n",
       "    <tr>\n",
       "      <th>7998</th>\n",
       "      <td>0.030682</td>\n",
       "      <td>0.000108</td>\n",
       "      <td>0.003137</td>\n",
       "      <td>0.998852</td>\n",
       "      <td>0.000101</td>\n",
       "      <td>0.002251</td>\n",
       "      <td>0.000000</td>\n",
       "      <td>0.007786</td>\n",
       "      <td>0.003014</td>\n",
       "      <td>0.006908</td>\n",
       "      <td>...</td>\n",
       "      <td>0.001964</td>\n",
       "      <td>0.001984</td>\n",
       "      <td>0.002012</td>\n",
       "      <td>0.002197</td>\n",
       "      <td>0.001950</td>\n",
       "      <td>0.007356</td>\n",
       "      <td>0.016861</td>\n",
       "      <td>0.011694</td>\n",
       "      <td>0.047134</td>\n",
       "      <td>0.040059</td>\n",
       "    </tr>\n",
       "    <tr>\n",
       "      <th>7999</th>\n",
       "      <td>0.001627</td>\n",
       "      <td>0.000276</td>\n",
       "      <td>0.000426</td>\n",
       "      <td>0.896924</td>\n",
       "      <td>0.000101</td>\n",
       "      <td>0.000000</td>\n",
       "      <td>0.000000</td>\n",
       "      <td>0.000570</td>\n",
       "      <td>0.000086</td>\n",
       "      <td>0.000026</td>\n",
       "      <td>...</td>\n",
       "      <td>0.000194</td>\n",
       "      <td>0.000338</td>\n",
       "      <td>0.000238</td>\n",
       "      <td>0.000239</td>\n",
       "      <td>0.000065</td>\n",
       "      <td>0.000106</td>\n",
       "      <td>0.000505</td>\n",
       "      <td>0.000253</td>\n",
       "      <td>0.001282</td>\n",
       "      <td>0.001273</td>\n",
       "    </tr>\n",
       "  </tbody>\n",
       "</table>\n",
       "<p>8000 rows × 616 columns</p>\n",
       "</div>"
      ],
      "text/plain": [
       "      numstrings  avlength  printables   entropy     paths      urls  \\\n",
       "0       0.000380  0.000226    0.000081  0.813473  0.000000  0.000000   \n",
       "1       0.002123  0.000176    0.000354  0.920829  0.000000  0.000000   \n",
       "2       0.005823  0.000234    0.001289  0.927437  0.000909  0.000000   \n",
       "3       0.006872  0.000189    0.001229  0.815963  0.000808  0.000000   \n",
       "4       0.023715  0.000427    0.009582  0.877044  0.000000  0.012607   \n",
       "...          ...       ...         ...       ...       ...       ...   \n",
       "7995    0.023071  0.002972    0.064914  0.766204  0.000000  0.004052   \n",
       "7996    0.017409  0.000110    0.001811  0.998328  0.000000  0.000000   \n",
       "7997    0.013878  0.000121    0.001593  0.987715  0.000000  0.003152   \n",
       "7998    0.030682  0.000108    0.003137  0.998852  0.000101  0.002251   \n",
       "7999    0.001627  0.000276    0.000426  0.896924  0.000101  0.000000   \n",
       "\n",
       "      registry        MZ       a_0       a_1  ...   dist_86   dist_87  \\\n",
       "0     0.000000  0.000190  0.000075  0.000537  ...  0.000029  0.000012   \n",
       "1     0.000000  0.001139  0.005726  0.007960  ...  0.000127  0.000355   \n",
       "2     0.000000  0.001139  0.000037  0.000026  ...  0.000960  0.000787   \n",
       "3     0.000000  0.000190  0.001775  0.002465  ...  0.000990  0.000675   \n",
       "4     0.202532  0.000570  0.003881  0.005426  ...  0.002153  0.002589   \n",
       "...        ...       ...       ...       ...  ...       ...       ...   \n",
       "7995  0.000000  0.002089  0.000637  0.000443  ...  0.061059  0.058505   \n",
       "7996  0.000000  0.003988  0.005726  0.007960  ...  0.001193  0.001192   \n",
       "7997  0.000000  0.002848  0.004613  0.007534  ...  0.000680  0.000748   \n",
       "7998  0.000000  0.007786  0.003014  0.006908  ...  0.001964  0.001984   \n",
       "7999  0.000000  0.000570  0.000086  0.000026  ...  0.000194  0.000338   \n",
       "\n",
       "       dist_88   dist_89   dist_90   dist_91   dist_92   dist_93   dist_94  \\\n",
       "0     0.000029  0.000027  0.000012  0.000000  0.000027  0.000000  0.000000   \n",
       "1     0.000247  0.000230  0.000138  0.000424  0.001064  0.000874  0.002036   \n",
       "2     0.000702  0.000842  0.000585  0.001745  0.004096  0.000719  0.003620   \n",
       "3     0.000605  0.000722  0.000223  0.000000  0.000691  0.013636  0.000075   \n",
       "4     0.003439  0.002974  0.000947  0.000754  0.008696  0.001632  0.005656   \n",
       "...        ...       ...       ...       ...       ...       ...       ...   \n",
       "7995  0.079501  0.093481  0.221040  0.000790  0.005159  0.001962  0.005732   \n",
       "7996  0.001131  0.001284  0.001000  0.004314  0.009122  0.007634  0.031373   \n",
       "7997  0.000981  0.001163  0.000544  0.002770  0.006409  0.003497  0.013650   \n",
       "7998  0.002012  0.002197  0.001950  0.007356  0.016861  0.011694  0.047134   \n",
       "7999  0.000238  0.000239  0.000065  0.000106  0.000505  0.000253  0.001282   \n",
       "\n",
       "       dist_95  \n",
       "0     0.000000  \n",
       "1     0.002412  \n",
       "2     0.002412  \n",
       "3     0.000335  \n",
       "4     0.016345  \n",
       "...        ...  \n",
       "7995  0.004421  \n",
       "7996  0.025255  \n",
       "7997  0.012929  \n",
       "7998  0.040059  \n",
       "7999  0.001273  \n",
       "\n",
       "[8000 rows x 616 columns]"
      ]
     },
     "execution_count": 11,
     "metadata": {},
     "output_type": "execute_result"
    }
   ],
   "source": [
    "x_train"
   ]
  },
  {
   "cell_type": "code",
   "execution_count": 12,
   "metadata": {},
   "outputs": [],
   "source": [
    "x = x_train.to_numpy()\n",
    "\n",
    "x1 = np.zeros((8000,22,28))\n",
    "x2 = np.zeros((8000,22,28,1))\n",
    "\n",
    "for i in range(len(x_train)):\n",
    "    x1[i] = x[i].reshape((22,28))\n",
    "    for j in range(22):\n",
    "        for k in range(28):\n",
    "            x2[i][j][k][0] = x1[i][j][k]\n",
    "            \n",
    "x_train = x2"
   ]
  },
  {
   "cell_type": "code",
   "execution_count": 13,
   "metadata": {},
   "outputs": [
    {
     "data": {
      "text/plain": [
       "(8000, 22, 28)"
      ]
     },
     "execution_count": 13,
     "metadata": {},
     "output_type": "execute_result"
    }
   ],
   "source": [
    "x1.shape"
   ]
  },
  {
   "cell_type": "code",
   "execution_count": 14,
   "metadata": {
    "id": "bBVAFVOOYHG_"
   },
   "outputs": [],
   "source": [
    "y_train = y_train.to_numpy()"
   ]
  },
  {
   "cell_type": "code",
   "execution_count": 15,
   "metadata": {
    "id": "v8pixXwRZXAC"
   },
   "outputs": [],
   "source": [
    "maxCol2 = x_test.max()\n",
    "col2 = x_test.columns\n",
    "for i in range(len(maxCol2)):\n",
    "    x_test[col[i]] = x_test[col[i]] / maxCol2[i]"
   ]
  },
  {
   "cell_type": "code",
   "execution_count": 16,
   "metadata": {
    "scrolled": false
   },
   "outputs": [
    {
     "data": {
      "text/html": [
       "<div>\n",
       "<style scoped>\n",
       "    .dataframe tbody tr th:only-of-type {\n",
       "        vertical-align: middle;\n",
       "    }\n",
       "\n",
       "    .dataframe tbody tr th {\n",
       "        vertical-align: top;\n",
       "    }\n",
       "\n",
       "    .dataframe thead th {\n",
       "        text-align: right;\n",
       "    }\n",
       "</style>\n",
       "<table border=\"1\" class=\"dataframe\">\n",
       "  <thead>\n",
       "    <tr style=\"text-align: right;\">\n",
       "      <th></th>\n",
       "      <th>numstrings</th>\n",
       "      <th>avlength</th>\n",
       "      <th>printables</th>\n",
       "      <th>entropy</th>\n",
       "      <th>paths</th>\n",
       "      <th>urls</th>\n",
       "      <th>registry</th>\n",
       "      <th>MZ</th>\n",
       "      <th>a_0</th>\n",
       "      <th>a_1</th>\n",
       "      <th>...</th>\n",
       "      <th>dist_86</th>\n",
       "      <th>dist_87</th>\n",
       "      <th>dist_88</th>\n",
       "      <th>dist_89</th>\n",
       "      <th>dist_90</th>\n",
       "      <th>dist_91</th>\n",
       "      <th>dist_92</th>\n",
       "      <th>dist_93</th>\n",
       "      <th>dist_94</th>\n",
       "      <th>dist_95</th>\n",
       "    </tr>\n",
       "  </thead>\n",
       "  <tbody>\n",
       "    <tr>\n",
       "      <th>8000</th>\n",
       "      <td>0.008386</td>\n",
       "      <td>0.005284</td>\n",
       "      <td>0.022213</td>\n",
       "      <td>0.870111</td>\n",
       "      <td>0.229399</td>\n",
       "      <td>0.000000</td>\n",
       "      <td>0.0</td>\n",
       "      <td>0.004144</td>\n",
       "      <td>0.018050</td>\n",
       "      <td>0.467130</td>\n",
       "      <td>...</td>\n",
       "      <td>0.012920</td>\n",
       "      <td>0.002843</td>\n",
       "      <td>0.010048</td>\n",
       "      <td>0.010210</td>\n",
       "      <td>0.000931</td>\n",
       "      <td>0.000934</td>\n",
       "      <td>0.005034</td>\n",
       "      <td>0.000710</td>\n",
       "      <td>0.001758</td>\n",
       "      <td>0.011996</td>\n",
       "    </tr>\n",
       "    <tr>\n",
       "      <th>8001</th>\n",
       "      <td>0.002014</td>\n",
       "      <td>0.005225</td>\n",
       "      <td>0.005276</td>\n",
       "      <td>0.857475</td>\n",
       "      <td>0.000000</td>\n",
       "      <td>0.000000</td>\n",
       "      <td>0.0</td>\n",
       "      <td>0.001381</td>\n",
       "      <td>0.790545</td>\n",
       "      <td>0.013737</td>\n",
       "      <td>...</td>\n",
       "      <td>0.003876</td>\n",
       "      <td>0.000340</td>\n",
       "      <td>0.003768</td>\n",
       "      <td>0.004127</td>\n",
       "      <td>0.000346</td>\n",
       "      <td>0.000528</td>\n",
       "      <td>0.002005</td>\n",
       "      <td>0.000168</td>\n",
       "      <td>0.000450</td>\n",
       "      <td>0.000653</td>\n",
       "    </tr>\n",
       "    <tr>\n",
       "      <th>8002</th>\n",
       "      <td>0.039802</td>\n",
       "      <td>0.002054</td>\n",
       "      <td>0.040988</td>\n",
       "      <td>0.992812</td>\n",
       "      <td>0.002227</td>\n",
       "      <td>0.000000</td>\n",
       "      <td>0.0</td>\n",
       "      <td>0.025552</td>\n",
       "      <td>0.000252</td>\n",
       "      <td>0.001480</td>\n",
       "      <td>...</td>\n",
       "      <td>0.047523</td>\n",
       "      <td>0.007229</td>\n",
       "      <td>0.053600</td>\n",
       "      <td>0.021031</td>\n",
       "      <td>0.018453</td>\n",
       "      <td>0.033393</td>\n",
       "      <td>0.036425</td>\n",
       "      <td>0.012104</td>\n",
       "      <td>0.038793</td>\n",
       "      <td>0.028766</td>\n",
       "    </tr>\n",
       "    <tr>\n",
       "      <th>8003</th>\n",
       "      <td>0.007174</td>\n",
       "      <td>0.009288</td>\n",
       "      <td>0.033404</td>\n",
       "      <td>0.828764</td>\n",
       "      <td>0.002227</td>\n",
       "      <td>0.000000</td>\n",
       "      <td>0.0</td>\n",
       "      <td>0.004144</td>\n",
       "      <td>0.035215</td>\n",
       "      <td>0.328294</td>\n",
       "      <td>...</td>\n",
       "      <td>0.028748</td>\n",
       "      <td>0.004098</td>\n",
       "      <td>0.021425</td>\n",
       "      <td>0.014948</td>\n",
       "      <td>0.002115</td>\n",
       "      <td>0.000528</td>\n",
       "      <td>0.000941</td>\n",
       "      <td>0.000224</td>\n",
       "      <td>0.000654</td>\n",
       "      <td>0.000449</td>\n",
       "    </tr>\n",
       "    <tr>\n",
       "      <th>8004</th>\n",
       "      <td>0.001567</td>\n",
       "      <td>0.005154</td>\n",
       "      <td>0.004048</td>\n",
       "      <td>0.785219</td>\n",
       "      <td>0.000000</td>\n",
       "      <td>0.000000</td>\n",
       "      <td>0.0</td>\n",
       "      <td>0.001381</td>\n",
       "      <td>0.001657</td>\n",
       "      <td>0.107474</td>\n",
       "      <td>...</td>\n",
       "      <td>0.003876</td>\n",
       "      <td>0.000140</td>\n",
       "      <td>0.002069</td>\n",
       "      <td>0.007000</td>\n",
       "      <td>0.000133</td>\n",
       "      <td>0.000041</td>\n",
       "      <td>0.000000</td>\n",
       "      <td>0.000019</td>\n",
       "      <td>0.000000</td>\n",
       "      <td>0.000041</td>\n",
       "    </tr>\n",
       "    <tr>\n",
       "      <th>...</th>\n",
       "      <td>...</td>\n",
       "      <td>...</td>\n",
       "      <td>...</td>\n",
       "      <td>...</td>\n",
       "      <td>...</td>\n",
       "      <td>...</td>\n",
       "      <td>...</td>\n",
       "      <td>...</td>\n",
       "      <td>...</td>\n",
       "      <td>...</td>\n",
       "      <td>...</td>\n",
       "      <td>...</td>\n",
       "      <td>...</td>\n",
       "      <td>...</td>\n",
       "      <td>...</td>\n",
       "      <td>...</td>\n",
       "      <td>...</td>\n",
       "      <td>...</td>\n",
       "      <td>...</td>\n",
       "      <td>...</td>\n",
       "      <td>...</td>\n",
       "    </tr>\n",
       "    <tr>\n",
       "      <th>9995</th>\n",
       "      <td>0.004805</td>\n",
       "      <td>0.004948</td>\n",
       "      <td>0.011919</td>\n",
       "      <td>0.902128</td>\n",
       "      <td>0.000000</td>\n",
       "      <td>0.163551</td>\n",
       "      <td>0.0</td>\n",
       "      <td>0.007597</td>\n",
       "      <td>0.009956</td>\n",
       "      <td>0.078883</td>\n",
       "      <td>...</td>\n",
       "      <td>0.009933</td>\n",
       "      <td>0.001622</td>\n",
       "      <td>0.007610</td>\n",
       "      <td>0.007183</td>\n",
       "      <td>0.001171</td>\n",
       "      <td>0.001341</td>\n",
       "      <td>0.003315</td>\n",
       "      <td>0.001083</td>\n",
       "      <td>0.002494</td>\n",
       "      <td>0.002938</td>\n",
       "    </tr>\n",
       "    <tr>\n",
       "      <th>9996</th>\n",
       "      <td>0.002631</td>\n",
       "      <td>0.005835</td>\n",
       "      <td>0.007696</td>\n",
       "      <td>0.875783</td>\n",
       "      <td>0.000000</td>\n",
       "      <td>0.025701</td>\n",
       "      <td>0.0</td>\n",
       "      <td>0.002072</td>\n",
       "      <td>0.007077</td>\n",
       "      <td>0.023070</td>\n",
       "      <td>...</td>\n",
       "      <td>0.008035</td>\n",
       "      <td>0.000497</td>\n",
       "      <td>0.004950</td>\n",
       "      <td>0.003760</td>\n",
       "      <td>0.000266</td>\n",
       "      <td>0.001016</td>\n",
       "      <td>0.001146</td>\n",
       "      <td>0.000467</td>\n",
       "      <td>0.001676</td>\n",
       "      <td>0.000530</td>\n",
       "    </tr>\n",
       "    <tr>\n",
       "      <th>9997</th>\n",
       "      <td>0.000010</td>\n",
       "      <td>0.020767</td>\n",
       "      <td>0.000099</td>\n",
       "      <td>0.578872</td>\n",
       "      <td>0.000000</td>\n",
       "      <td>0.000000</td>\n",
       "      <td>0.0</td>\n",
       "      <td>0.000691</td>\n",
       "      <td>0.002683</td>\n",
       "      <td>0.010547</td>\n",
       "      <td>...</td>\n",
       "      <td>0.000000</td>\n",
       "      <td>0.000000</td>\n",
       "      <td>0.000000</td>\n",
       "      <td>0.000000</td>\n",
       "      <td>0.000000</td>\n",
       "      <td>0.000000</td>\n",
       "      <td>0.000000</td>\n",
       "      <td>0.000000</td>\n",
       "      <td>0.000000</td>\n",
       "      <td>0.000000</td>\n",
       "    </tr>\n",
       "    <tr>\n",
       "      <th>9998</th>\n",
       "      <td>0.007886</td>\n",
       "      <td>0.008853</td>\n",
       "      <td>0.035001</td>\n",
       "      <td>0.886075</td>\n",
       "      <td>0.000000</td>\n",
       "      <td>0.091121</td>\n",
       "      <td>0.0</td>\n",
       "      <td>0.005525</td>\n",
       "      <td>0.003539</td>\n",
       "      <td>0.006021</td>\n",
       "      <td>...</td>\n",
       "      <td>0.017685</td>\n",
       "      <td>0.008589</td>\n",
       "      <td>0.029774</td>\n",
       "      <td>0.026013</td>\n",
       "      <td>0.001503</td>\n",
       "      <td>0.004997</td>\n",
       "      <td>0.007408</td>\n",
       "      <td>0.001868</td>\n",
       "      <td>0.003066</td>\n",
       "      <td>0.003509</td>\n",
       "    </tr>\n",
       "    <tr>\n",
       "      <th>9999</th>\n",
       "      <td>0.001560</td>\n",
       "      <td>0.002158</td>\n",
       "      <td>0.001687</td>\n",
       "      <td>0.990063</td>\n",
       "      <td>0.000000</td>\n",
       "      <td>0.000000</td>\n",
       "      <td>0.0</td>\n",
       "      <td>0.002762</td>\n",
       "      <td>0.000575</td>\n",
       "      <td>0.003240</td>\n",
       "      <td>...</td>\n",
       "      <td>0.001777</td>\n",
       "      <td>0.000279</td>\n",
       "      <td>0.000960</td>\n",
       "      <td>0.000978</td>\n",
       "      <td>0.000373</td>\n",
       "      <td>0.001219</td>\n",
       "      <td>0.001351</td>\n",
       "      <td>0.000430</td>\n",
       "      <td>0.001063</td>\n",
       "      <td>0.001306</td>\n",
       "    </tr>\n",
       "  </tbody>\n",
       "</table>\n",
       "<p>2000 rows × 616 columns</p>\n",
       "</div>"
      ],
      "text/plain": [
       "      numstrings  avlength  printables   entropy     paths      urls  \\\n",
       "8000    0.008386  0.005284    0.022213  0.870111  0.229399  0.000000   \n",
       "8001    0.002014  0.005225    0.005276  0.857475  0.000000  0.000000   \n",
       "8002    0.039802  0.002054    0.040988  0.992812  0.002227  0.000000   \n",
       "8003    0.007174  0.009288    0.033404  0.828764  0.002227  0.000000   \n",
       "8004    0.001567  0.005154    0.004048  0.785219  0.000000  0.000000   \n",
       "...          ...       ...         ...       ...       ...       ...   \n",
       "9995    0.004805  0.004948    0.011919  0.902128  0.000000  0.163551   \n",
       "9996    0.002631  0.005835    0.007696  0.875783  0.000000  0.025701   \n",
       "9997    0.000010  0.020767    0.000099  0.578872  0.000000  0.000000   \n",
       "9998    0.007886  0.008853    0.035001  0.886075  0.000000  0.091121   \n",
       "9999    0.001560  0.002158    0.001687  0.990063  0.000000  0.000000   \n",
       "\n",
       "      registry        MZ       a_0       a_1  ...   dist_86   dist_87  \\\n",
       "8000       0.0  0.004144  0.018050  0.467130  ...  0.012920  0.002843   \n",
       "8001       0.0  0.001381  0.790545  0.013737  ...  0.003876  0.000340   \n",
       "8002       0.0  0.025552  0.000252  0.001480  ...  0.047523  0.007229   \n",
       "8003       0.0  0.004144  0.035215  0.328294  ...  0.028748  0.004098   \n",
       "8004       0.0  0.001381  0.001657  0.107474  ...  0.003876  0.000140   \n",
       "...        ...       ...       ...       ...  ...       ...       ...   \n",
       "9995       0.0  0.007597  0.009956  0.078883  ...  0.009933  0.001622   \n",
       "9996       0.0  0.002072  0.007077  0.023070  ...  0.008035  0.000497   \n",
       "9997       0.0  0.000691  0.002683  0.010547  ...  0.000000  0.000000   \n",
       "9998       0.0  0.005525  0.003539  0.006021  ...  0.017685  0.008589   \n",
       "9999       0.0  0.002762  0.000575  0.003240  ...  0.001777  0.000279   \n",
       "\n",
       "       dist_88   dist_89   dist_90   dist_91   dist_92   dist_93   dist_94  \\\n",
       "8000  0.010048  0.010210  0.000931  0.000934  0.005034  0.000710  0.001758   \n",
       "8001  0.003768  0.004127  0.000346  0.000528  0.002005  0.000168  0.000450   \n",
       "8002  0.053600  0.021031  0.018453  0.033393  0.036425  0.012104  0.038793   \n",
       "8003  0.021425  0.014948  0.002115  0.000528  0.000941  0.000224  0.000654   \n",
       "8004  0.002069  0.007000  0.000133  0.000041  0.000000  0.000019  0.000000   \n",
       "...        ...       ...       ...       ...       ...       ...       ...   \n",
       "9995  0.007610  0.007183  0.001171  0.001341  0.003315  0.001083  0.002494   \n",
       "9996  0.004950  0.003760  0.000266  0.001016  0.001146  0.000467  0.001676   \n",
       "9997  0.000000  0.000000  0.000000  0.000000  0.000000  0.000000  0.000000   \n",
       "9998  0.029774  0.026013  0.001503  0.004997  0.007408  0.001868  0.003066   \n",
       "9999  0.000960  0.000978  0.000373  0.001219  0.001351  0.000430  0.001063   \n",
       "\n",
       "       dist_95  \n",
       "8000  0.011996  \n",
       "8001  0.000653  \n",
       "8002  0.028766  \n",
       "8003  0.000449  \n",
       "8004  0.000041  \n",
       "...        ...  \n",
       "9995  0.002938  \n",
       "9996  0.000530  \n",
       "9997  0.000000  \n",
       "9998  0.003509  \n",
       "9999  0.001306  \n",
       "\n",
       "[2000 rows x 616 columns]"
      ]
     },
     "execution_count": 16,
     "metadata": {},
     "output_type": "execute_result"
    }
   ],
   "source": [
    "x_test"
   ]
  },
  {
   "cell_type": "code",
   "execution_count": null,
   "metadata": {},
   "outputs": [],
   "source": []
  },
  {
   "cell_type": "code",
   "execution_count": 17,
   "metadata": {},
   "outputs": [],
   "source": [
    "xt = x_test.to_numpy()\n",
    "\n",
    "xt1 = np.zeros((2000,22,28))\n",
    "xt2 = np.zeros((2000,22,28,1))\n",
    "\n",
    "for i in range(len(x_test)):\n",
    "    xt1[i] = xt[i].reshape((22,28))\n",
    "    for j in range(22):\n",
    "        for k in range(28):\n",
    "            xt2[i][j][k][0] = xt1[i][j][k]\n",
    "            \n",
    "x_test = xt2"
   ]
  },
  {
   "cell_type": "code",
   "execution_count": 18,
   "metadata": {},
   "outputs": [],
   "source": [
    "y_test = y_test.to_numpy()"
   ]
  },
  {
   "cell_type": "code",
   "execution_count": 19,
   "metadata": {
    "colab": {
     "base_uri": "https://localhost:8080/"
    },
    "id": "uPbGt94tZes6",
    "outputId": "d5162d44-00e4-4f65-cb52-8cbc12c69183"
   },
   "outputs": [
    {
     "data": {
      "text/plain": [
       "(2000, 22, 28, 1)"
      ]
     },
     "execution_count": 19,
     "metadata": {},
     "output_type": "execute_result"
    }
   ],
   "source": [
    "x_test.shape"
   ]
  },
  {
   "cell_type": "code",
   "execution_count": 20,
   "metadata": {
    "id": "bVUP6DtnRTNv"
   },
   "outputs": [],
   "source": [
    "# 합성곱 층 만들기\n",
    "\n",
    "model = models.Sequential()\n",
    "model.add(layers.Conv2D(32, (3,3), activation='relu', input_shape=(22, 28, 1)))\n",
    "model.add(layers.MaxPooling2D((2,2)))\n",
    "model.add(layers.Conv2D(64, (3,3), activation='relu'))\n",
    "model.add(layers.MaxPooling2D((2,2)))\n",
    "model.add(layers.Conv2D(64, (3,3), activation='relu'))"
   ]
  },
  {
   "cell_type": "code",
   "execution_count": 21,
   "metadata": {
    "id": "5UJx-4bARV5a"
   },
   "outputs": [],
   "source": [
    "# 마지막에 Dense 층 추가하기\n",
    "#model.add(layers.Dropout(0.25))\n",
    "model.add(layers.Flatten())\n",
    "model.add(layers.Dense(64, activation='relu'))\n",
    "#model.add(layers.Dropout(0.25))\n",
    "model.add(layers.Dense(2, activation='softmax'))"
   ]
  },
  {
   "cell_type": "code",
   "execution_count": 22,
   "metadata": {
    "colab": {
     "base_uri": "https://localhost:8080/"
    },
    "id": "1Oh0ykMdRYlY",
    "outputId": "90183b9e-1768-4e6a-92ac-b48eac3dac3c"
   },
   "outputs": [
    {
     "name": "stdout",
     "output_type": "stream",
     "text": [
      "Model: \"sequential\"\n",
      "_________________________________________________________________\n",
      "Layer (type)                 Output Shape              Param #   \n",
      "=================================================================\n",
      "conv2d (Conv2D)              (None, 20, 26, 32)        320       \n",
      "_________________________________________________________________\n",
      "max_pooling2d (MaxPooling2D) (None, 10, 13, 32)        0         \n",
      "_________________________________________________________________\n",
      "conv2d_1 (Conv2D)            (None, 8, 11, 64)         18496     \n",
      "_________________________________________________________________\n",
      "max_pooling2d_1 (MaxPooling2 (None, 4, 5, 64)          0         \n",
      "_________________________________________________________________\n",
      "conv2d_2 (Conv2D)            (None, 2, 3, 64)          36928     \n",
      "_________________________________________________________________\n",
      "flatten (Flatten)            (None, 384)               0         \n",
      "_________________________________________________________________\n",
      "dense (Dense)                (None, 64)                24640     \n",
      "_________________________________________________________________\n",
      "dense_1 (Dense)              (None, 2)                 130       \n",
      "=================================================================\n",
      "Total params: 80,514\n",
      "Trainable params: 80,514\n",
      "Non-trainable params: 0\n",
      "_________________________________________________________________\n"
     ]
    }
   ],
   "source": [
    "model.summary()"
   ]
  },
  {
   "cell_type": "code",
   "execution_count": 23,
   "metadata": {
    "colab": {
     "base_uri": "https://localhost:8080/"
    },
    "id": "KckyK8nRRama",
    "outputId": "51facd5c-d6b0-4be8-f59a-6966fb4a77ab"
   },
   "outputs": [
    {
     "name": "stdout",
     "output_type": "stream",
     "text": [
      "Epoch 1/5\n",
      "250/250 [==============================] - 2s 3ms/step - loss: 0.6104 - accuracy: 0.6522\n",
      "Epoch 2/5\n",
      "250/250 [==============================] - 1s 3ms/step - loss: 0.5304 - accuracy: 0.7265\n",
      "Epoch 3/5\n",
      "250/250 [==============================] - 1s 3ms/step - loss: 0.4917 - accuracy: 0.7536\n",
      "Epoch 4/5\n",
      "250/250 [==============================] - 1s 4ms/step - loss: 0.4479 - accuracy: 0.7793\n",
      "Epoch 5/5\n",
      "250/250 [==============================] - 1s 3ms/step - loss: 0.4218 - accuracy: 0.7974\n"
     ]
    },
    {
     "data": {
      "text/plain": [
       "<keras.callbacks.History at 0x1aa110e7100>"
      ]
     },
     "execution_count": 23,
     "metadata": {},
     "output_type": "execute_result"
    }
   ],
   "source": [
    "# 모델 컴파일과 훈련하기\n",
    "model.compile(optimizer='adam', \n",
    "              loss='sparse_categorical_crossentropy', \n",
    "              metrics=['accuracy'])\n",
    "model.fit(x_train, y_train, epochs=5)"
   ]
  },
  {
   "cell_type": "code",
   "execution_count": 24,
   "metadata": {
    "colab": {
     "base_uri": "https://localhost:8080/"
    },
    "id": "LSYJLi60SK7j",
    "outputId": "5a9fb56c-8e9b-4064-dbaa-af8fcff2af49",
    "scrolled": false
   },
   "outputs": [
    {
     "name": "stdout",
     "output_type": "stream",
     "text": [
      "63/63 - 0s - loss: 0.5623 - accuracy: 0.7540\n",
      "0.7540000081062317\n"
     ]
    }
   ],
   "source": [
    "# 모델 평가\n",
    "test_loss, test_acc = model.evaluate(x_test, y_test, verbose=2)\n",
    "print(test_acc)"
   ]
  },
  {
   "cell_type": "code",
   "execution_count": 25,
   "metadata": {},
   "outputs": [
    {
     "data": {
      "image/png": "[encoded data removed]",
      "text/plain": [
       "<Figure size 432x288 with 1 Axes>"
      ]
     },
     "metadata": {
      "needs_background": "light"
     },
     "output_type": "display_data"
    },
    {
     "data": {
      "image/png": "[encoded data removed]",
      "text/plain": [
       "<Figure size 432x288 with 1 Axes>"
      ]
     },
     "metadata": {
      "needs_background": "light"
     },
     "output_type": "display_data"
    },
    {
     "data": {
      "image/png": "[encoded data removed]",
      "text/plain": [
       "<Figure size 432x288 with 1 Axes>"
      ]
     },
     "metadata": {
      "needs_background": "light"
     },
     "output_type": "display_data"
    },
    {
     "data": {
      "image/png": "[encoded data removed]",
      "text/plain": [
       "<Figure size 432x288 with 1 Axes>"
      ]
     },
     "metadata": {
      "needs_background": "light"
     },
     "output_type": "display_data"
    },
    {
     "data": {
      "image/png": "[encoded data removed]",
      "text/plain": [
       "<Figure size 432x288 with 1 Axes>"
      ]
     },
     "metadata": {
      "needs_background": "light"
     },
     "output_type": "display_data"
    },
    {
     "data": {
      "image/png": "[encoded data removed]",
      "text/plain": [
       "<Figure size 432x288 with 1 Axes>"
      ]
     },
     "metadata": {
      "needs_background": "light"
     },
     "output_type": "display_data"
    },
    {
     "data": {
      "image/png": "[encoded data removed]",
      "text/plain": [
       "<Figure size 432x288 with 1 Axes>"
      ]
     },
     "metadata": {
      "needs_background": "light"
     },
     "output_type": "display_data"
    },
    {
     "data": {
      "image/png": "[encoded data removed]",
      "text/plain": [
       "<Figure size 432x288 with 1 Axes>"
      ]
     },
     "metadata": {
      "needs_background": "light"
     },
     "output_type": "display_data"
    },
    {
     "data": {
      "image/png": "[encoded data removed]",
      "text/plain": [
       "<Figure size 432x288 with 1 Axes>"
      ]
     },
     "metadata": {
      "needs_background": "light"
     },
     "output_type": "display_data"
    },
    {
     "data": {
      "image/png": "[encoded data removed]",
      "text/plain": [
       "<Figure size 432x288 with 1 Axes>"
      ]
     },
     "metadata": {
      "needs_background": "light"
     },
     "output_type": "display_data"
    },
    {
     "data": {
      "image/png": "[encoded data removed]",
      "text/plain": [
       "<Figure size 432x288 with 1 Axes>"
      ]
     },
     "metadata": {
      "needs_background": "light"
     },
     "output_type": "display_data"
    },
    {
     "data": {
      "image/png": "[encoded data removed]",
      "text/plain": [
       "<Figure size 432x288 with 1 Axes>"
      ]
     },
     "metadata": {
      "needs_background": "light"
     },
     "output_type": "display_data"
    },
    {
     "data": {
      "image/png": "[encoded data removed]",
      "text/plain": [
       "<Figure size 432x288 with 1 Axes>"
      ]
     },
     "metadata": {
      "needs_background": "light"
     },
     "output_type": "display_data"
    },
    {
     "data": {
      "image/png": "[encoded data removed]",
      "text/plain": [
       "<Figure size 432x288 with 1 Axes>"
      ]
     },
     "metadata": {
      "needs_background": "light"
     },
     "output_type": "display_data"
    },
    {
     "data": {
      "image/png": "[encoded data removed]",
      "text/plain": [
       "<Figure size 432x288 with 1 Axes>"
      ]
     },
     "metadata": {
      "needs_background": "light"
     },
     "output_type": "display_data"
    },
    {
     "data": {
      "image/png": "[encoded data removed]",
      "text/plain": [
       "<Figure size 432x288 with 1 Axes>"
      ]
     },
     "metadata": {
      "needs_background": "light"
     },
     "output_type": "display_data"
    },
    {
     "data": {
      "image/png": "[encoded data removed]",
      "text/plain": [
       "<Figure size 432x288 with 1 Axes>"
      ]
     },
     "metadata": {
      "needs_background": "light"
     },
     "output_type": "display_data"
    },
    {
     "data": {
      "image/png": "[encoded data removed]",
      "text/plain": [
       "<Figure size 432x288 with 1 Axes>"
      ]
     },
     "metadata": {
      "needs_background": "light"
     },
     "output_type": "display_data"
    },
    {
     "data": {
      "image/png": "[encoded data removed]",
      "text/plain": [
       "<Figure size 432x288 with 1 Axes>"
      ]
     },
     "metadata": {
      "needs_background": "light"
     },
     "output_type": "display_data"
    },
    {
     "data": {
      "image/png": "[encoded data removed]",
      "text/plain": [
       "<Figure size 432x288 with 1 Axes>"
      ]
     },
     "metadata": {
      "needs_background": "light"
     },
     "output_type": "display_data"
    },
    {
     "data": {
      "image/png": "[encoded data removed]",
      "text/plain": [
       "<Figure size 432x288 with 1 Axes>"
      ]
     },
     "metadata": {
      "needs_background": "light"
     },
     "output_type": "display_data"
    },
    {
     "data": {
      "image/png": "[encoded data removed]",
      "text/plain": [
       "<Figure size 432x288 with 1 Axes>"
      ]
     },
     "metadata": {
      "needs_background": "light"
     },
     "output_type": "display_data"
    },
    {
     "data": {
      "image/png": "[encoded data removed]",
      "text/plain": [
       "<Figure size 432x288 with 1 Axes>"
      ]
     },
     "metadata": {
      "needs_background": "light"
     },
     "output_type": "display_data"
    },
    {
     "data": {
      "image/png": "[encoded data removed]",
      "text/plain": [
       "<Figure size 432x288 with 1 Axes>"
      ]
     },
     "metadata": {
      "needs_background": "light"
     },
     "output_type": "display_data"
    },
    {
     "data": {
      "image/png": "[encoded data removed]",
      "text/plain": [
       "<Figure size 432x288 with 1 Axes>"
      ]
     },
     "metadata": {
      "needs_background": "light"
     },
     "output_type": "display_data"
    },
    {
     "data": {
      "image/png": "[encoded data removed]",
      "text/plain": [
       "<Figure size 432x288 with 1 Axes>"
      ]
     },
     "metadata": {
      "needs_background": "light"
     },
     "output_type": "display_data"
    },
    {
     "data": {
      "image/png": "[encoded data removed]",
      "text/plain": [
       "<Figure size 432x288 with 1 Axes>"
      ]
     },
     "metadata": {
      "needs_background": "light"
     },
     "output_type": "display_data"
    },
    {
     "data": {
      "image/png": "[encoded data removed]",
      "text/plain": [
       "<Figure size 432x288 with 1 Axes>"
      ]
     },
     "metadata": {
      "needs_background": "light"
     },
     "output_type": "display_data"
    },
    {
     "data": {
      "image/png": "[encoded data removed]",
      "text/plain": [
       "<Figure size 432x288 with 1 Axes>"
      ]
     },
     "metadata": {
      "needs_background": "light"
     },
     "output_type": "display_data"
    },
    {
     "data": {
      "image/png": "[encoded data removed]",
      "text/plain": [
       "<Figure size 432x288 with 1 Axes>"
      ]
     },
     "metadata": {
      "needs_background": "light"
     },
     "output_type": "display_data"
    },
    {
     "data": {
      "image/png": "[encoded data removed]",
      "text/plain": [
       "<Figure size 432x288 with 1 Axes>"
      ]
     },
     "metadata": {
      "needs_background": "light"
     },
     "output_type": "display_data"
    },
    {
     "data": {
      "image/png": "[encoded data removed]",
      "text/plain": [
       "<Figure size 432x288 with 1 Axes>"
      ]
     },
     "metadata": {
      "needs_background": "light"
     },
     "output_type": "display_data"
    },
    {
     "data": {
      "image/png": "[encoded data removed]",
      "text/plain": [
       "<Figure size 432x288 with 1 Axes>"
      ]
     },
     "metadata": {
      "needs_background": "light"
     },
     "output_type": "display_data"
    },
    {
     "data": {
      "image/png": "[encoded data removed]",
      "text/plain": [
       "<Figure size 432x288 with 1 Axes>"
      ]
     },
     "metadata": {
      "needs_background": "light"
     },
     "output_type": "display_data"
    },
    {
     "data": {
      "image/png": "[encoded data removed]",
      "text/plain": [
       "<Figure size 432x288 with 1 Axes>"
      ]
     },
     "metadata": {
      "needs_background": "light"
     },
     "output_type": "display_data"
    },
    {
     "data": {
      "image/png": "[encoded data removed]",
      "text/plain": [
       "<Figure size 432x288 with 1 Axes>"
      ]
     },
     "metadata": {
      "needs_background": "light"
     },
     "output_type": "display_data"
    },
    {
     "data": {
      "image/png": "[encoded data removed]",
      "text/plain": [
       "<Figure size 432x288 with 1 Axes>"
      ]
     },
     "metadata": {
      "needs_background": "light"
     },
     "output_type": "display_data"
    },
    {
     "data": {
      "image/png": "[encoded data removed]",
      "text/plain": [
       "<Figure size 432x288 with 1 Axes>"
      ]
     },
     "metadata": {
      "needs_background": "light"
     },
     "output_type": "display_data"
    },
    {
     "data": {
      "image/png": "[encoded data removed]",
      "text/plain": [
       "<Figure size 432x288 with 1 Axes>"
      ]
     },
     "metadata": {
      "needs_background": "light"
     },
     "output_type": "display_data"
    },
    {
     "data": {
      "image/png": "[encoded data removed]",
      "text/plain": [
       "<Figure size 432x288 with 1 Axes>"
      ]
     },
     "metadata": {
      "needs_background": "light"
     },
     "output_type": "display_data"
    },
    {
     "data": {
      "image/png": "[encoded data removed]",
      "text/plain": [
       "<Figure size 432x288 with 1 Axes>"
      ]
     },
     "metadata": {
      "needs_background": "light"
     },
     "output_type": "display_data"
    },
    {
     "data": {
      "image/png": "[encoded data removed]",
      "text/plain": [
       "<Figure size 432x288 with 1 Axes>"
      ]
     },
     "metadata": {
      "needs_background": "light"
     },
     "output_type": "display_data"
    },
    {
     "data": {
      "image/png": "[encoded data removed]",
      "text/plain": [
       "<Figure size 432x288 with 1 Axes>"
      ]
     },
     "metadata": {
      "needs_background": "light"
     },
     "output_type": "display_data"
    },
    {
     "data": {
      "image/png": "[encoded data removed]",
      "text/plain": [
       "<Figure size 432x288 with 1 Axes>"
      ]
     },
     "metadata": {
      "needs_background": "light"
     },
     "output_type": "display_data"
    },
    {
     "data": {
      "image/png": "[encoded data removed]",
      "text/plain": [
       "<Figure size 432x288 with 1 Axes>"
      ]
     },
     "metadata": {
      "needs_background": "light"
     },
     "output_type": "display_data"
    },
    {
     "data": {
      "image/png": "[encoded data removed]",
      "text/plain": [
       "<Figure size 432x288 with 1 Axes>"
      ]
     },
     "metadata": {
      "needs_background": "light"
     },
     "output_type": "display_data"
    },
    {
     "data": {
      "image/png": "[encoded data removed]",
      "text/plain": [
       "<Figure size 432x288 with 1 Axes>"
      ]
     },
     "metadata": {
      "needs_background": "light"
     },
     "output_type": "display_data"
    },
    {
     "data": {
      "image/png": "[encoded data removed]",
      "text/plain": [
       "<Figure size 432x288 with 1 Axes>"
      ]
     },
     "metadata": {
      "needs_background": "light"
     },
     "output_type": "display_data"
    },
    {
     "data": {
      "image/png": "[encoded data removed]",
      "text/plain": [
       "<Figure size 432x288 with 1 Axes>"
      ]
     },
     "metadata": {
      "needs_background": "light"
     },
     "output_type": "display_data"
    },
    {
     "data": {
      "image/png": "[encoded data removed]",
      "text/plain": [
       "<Figure size 432x288 with 1 Axes>"
      ]
     },
     "metadata": {
      "needs_background": "light"
     },
     "output_type": "display_data"
    }
   ],
   "source": [
    "from matplotlib import pyplot as plt\n",
    "\n",
    "for i in range(50):\n",
    "    plt.imshow(x_test[i], interpolation='nearest')\n",
    "    plt.title(str(y_test[i]))\n",
    "    plt.show()"
   ]
  },
  {
   "cell_type": "code",
   "execution_count": null,
   "metadata": {},
   "outputs": [],
   "source": []
  }
 ],
 "metadata": {
  "accelerator": "GPU",
  "colab": {
   "collapsed_sections": [],
   "name": "CNN.ipynb",
   "provenance": []
  },
  "kernelspec": {
   "display_name": "Python 3 (ipykernel)",
   "language": "python",
   "name": "python3"
  },
  "language_info": {
   "codemirror_mode": {
    "name": "ipython",
    "version": 3
   },
   "file_extension": ".py",
   "mimetype": "text/x-python",
   "name": "python",
   "nbconvert_exporter": "python",
   "pygments_lexer": "ipython3",
   "version": "3.9.7"
  }
 },
 "nbformat": 4,
 "nbformat_minor": 1
}
