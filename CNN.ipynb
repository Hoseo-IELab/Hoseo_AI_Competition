{
 "cells": [
  {
   "cell_type": "code",
   "execution_count": 1,
   "metadata": {
    "id": "HC1-EG0zDVKY"
   },
   "outputs": [],
   "source": [
    "# data analysis and wrangling\n",
    "import numpy as np\n",
    "import pandas as pd\n",
    "import json\n",
    "\n",
    "# visualization\n",
    "import seaborn as sns\n",
    "import matplotlib.pyplot as plt\n",
    "%matplotlib inline\n",
    "\n",
    "# machine learning\n",
    "from sklearn.model_selection import train_test_split\n",
    "from sklearn.preprocessing import RobustScaler\n",
    "from sklearn.preprocessing import StandardScaler\n",
    "from sklearn.metrics import classification_report, accuracy_score\n",
    "from sklearn.metrics import confusion_matrix\n",
    "from sklearn.model_selection import KFold, StratifiedKFold\n",
    "\n",
    "import xgboost as xgb\n",
    "from xgboost import XGBClassifier\n",
    "from xgboost import plot_importance\n",
    "from sklearn.ensemble import RandomForestClassifier\n",
    "from sklearn.tree import DecisionTreeClassifier\n",
    "from sklearn.neighbors import KNeighborsClassifier\n",
    "from sklearn.ensemble import AdaBoostClassifier\n",
    "\n",
    "import tensorflow as tf\n",
    "\n",
    "from tensorflow.keras import datasets, layers, models\n",
    "\n",
    "# ignore Warnings\n",
    "import warnings\n",
    "warnings.filterwarnings('ignore')"
   ]
  },
  {
   "cell_type": "code",
   "execution_count": 2,
   "metadata": {
    "id": "fBrryCh4DeVq"
   },
   "outputs": [],
   "source": [
    "train_df = pd.read_csv(\"preprocessed_train.csv\", encoding='euc-kr')"
   ]
  },
  {
   "cell_type": "code",
   "execution_count": 3,
   "metadata": {
    "colab": {
     "base_uri": "https://localhost:8080/",
     "height": 325
    },
    "id": "XQ6VDjBhEw2q",
    "outputId": "50c32d61-72e0-4d23-dda5-4a41824239ee"
   },
   "outputs": [
    {
     "data": {
      "text/html": [
       "<div>\n",
       "<style scoped>\n",
       "    .dataframe tbody tr th:only-of-type {\n",
       "        vertical-align: middle;\n",
       "    }\n",
       "\n",
       "    .dataframe tbody tr th {\n",
       "        vertical-align: top;\n",
       "    }\n",
       "\n",
       "    .dataframe thead th {\n",
       "        text-align: right;\n",
       "    }\n",
       "</style>\n",
       "<table border=\"1\" class=\"dataframe\">\n",
       "  <thead>\n",
       "    <tr style=\"text-align: right;\">\n",
       "      <th></th>\n",
       "      <th>분석데이터</th>\n",
       "      <th>label</th>\n",
       "      <th>numstrings</th>\n",
       "      <th>avlength</th>\n",
       "      <th>printables</th>\n",
       "      <th>entropy</th>\n",
       "      <th>paths</th>\n",
       "      <th>urls</th>\n",
       "      <th>registry</th>\n",
       "      <th>MZ</th>\n",
       "      <th>...</th>\n",
       "      <th>dist_86</th>\n",
       "      <th>dist_87</th>\n",
       "      <th>dist_88</th>\n",
       "      <th>dist_89</th>\n",
       "      <th>dist_90</th>\n",
       "      <th>dist_91</th>\n",
       "      <th>dist_92</th>\n",
       "      <th>dist_93</th>\n",
       "      <th>dist_94</th>\n",
       "      <th>dist_95</th>\n",
       "    </tr>\n",
       "  </thead>\n",
       "  <tbody>\n",
       "    <tr>\n",
       "      <th>0</th>\n",
       "      <td>1</td>\n",
       "      <td>1</td>\n",
       "      <td>144</td>\n",
       "      <td>12.298611</td>\n",
       "      <td>1771</td>\n",
       "      <td>5.356616</td>\n",
       "      <td>0</td>\n",
       "      <td>0</td>\n",
       "      <td>0</td>\n",
       "      <td>1</td>\n",
       "      <td>...</td>\n",
       "      <td>10</td>\n",
       "      <td>4</td>\n",
       "      <td>10</td>\n",
       "      <td>9</td>\n",
       "      <td>4</td>\n",
       "      <td>0</td>\n",
       "      <td>1</td>\n",
       "      <td>0</td>\n",
       "      <td>0</td>\n",
       "      <td>0</td>\n",
       "    </tr>\n",
       "    <tr>\n",
       "      <th>1</th>\n",
       "      <td>2</td>\n",
       "      <td>1</td>\n",
       "      <td>804</td>\n",
       "      <td>9.580846</td>\n",
       "      <td>7703</td>\n",
       "      <td>6.063542</td>\n",
       "      <td>0</td>\n",
       "      <td>0</td>\n",
       "      <td>0</td>\n",
       "      <td>6</td>\n",
       "      <td>...</td>\n",
       "      <td>43</td>\n",
       "      <td>121</td>\n",
       "      <td>84</td>\n",
       "      <td>78</td>\n",
       "      <td>47</td>\n",
       "      <td>36</td>\n",
       "      <td>40</td>\n",
       "      <td>45</td>\n",
       "      <td>27</td>\n",
       "      <td>36</td>\n",
       "    </tr>\n",
       "    <tr>\n",
       "      <th>2</th>\n",
       "      <td>3</td>\n",
       "      <td>0</td>\n",
       "      <td>2205</td>\n",
       "      <td>12.736054</td>\n",
       "      <td>28083</td>\n",
       "      <td>6.107050</td>\n",
       "      <td>9</td>\n",
       "      <td>0</td>\n",
       "      <td>0</td>\n",
       "      <td>6</td>\n",
       "      <td>...</td>\n",
       "      <td>326</td>\n",
       "      <td>268</td>\n",
       "      <td>239</td>\n",
       "      <td>286</td>\n",
       "      <td>199</td>\n",
       "      <td>148</td>\n",
       "      <td>154</td>\n",
       "      <td>37</td>\n",
       "      <td>48</td>\n",
       "      <td>36</td>\n",
       "    </tr>\n",
       "    <tr>\n",
       "      <th>3</th>\n",
       "      <td>4</td>\n",
       "      <td>0</td>\n",
       "      <td>2602</td>\n",
       "      <td>10.288240</td>\n",
       "      <td>26770</td>\n",
       "      <td>5.373013</td>\n",
       "      <td>8</td>\n",
       "      <td>0</td>\n",
       "      <td>0</td>\n",
       "      <td>1</td>\n",
       "      <td>...</td>\n",
       "      <td>336</td>\n",
       "      <td>230</td>\n",
       "      <td>206</td>\n",
       "      <td>245</td>\n",
       "      <td>76</td>\n",
       "      <td>0</td>\n",
       "      <td>26</td>\n",
       "      <td>702</td>\n",
       "      <td>1</td>\n",
       "      <td>5</td>\n",
       "    </tr>\n",
       "    <tr>\n",
       "      <th>4</th>\n",
       "      <td>5</td>\n",
       "      <td>1</td>\n",
       "      <td>8980</td>\n",
       "      <td>23.252339</td>\n",
       "      <td>208806</td>\n",
       "      <td>5.775223</td>\n",
       "      <td>0</td>\n",
       "      <td>28</td>\n",
       "      <td>16</td>\n",
       "      <td>3</td>\n",
       "      <td>...</td>\n",
       "      <td>731</td>\n",
       "      <td>882</td>\n",
       "      <td>1171</td>\n",
       "      <td>1010</td>\n",
       "      <td>322</td>\n",
       "      <td>64</td>\n",
       "      <td>327</td>\n",
       "      <td>84</td>\n",
       "      <td>75</td>\n",
       "      <td>244</td>\n",
       "    </tr>\n",
       "  </tbody>\n",
       "</table>\n",
       "<p>5 rows × 618 columns</p>\n",
       "</div>"
      ],
      "text/plain": [
       "   분석데이터  label  numstrings   avlength  printables   entropy  paths  urls  \\\n",
       "0      1      1         144  12.298611        1771  5.356616      0     0   \n",
       "1      2      1         804   9.580846        7703  6.063542      0     0   \n",
       "2      3      0        2205  12.736054       28083  6.107050      9     0   \n",
       "3      4      0        2602  10.288240       26770  5.373013      8     0   \n",
       "4      5      1        8980  23.252339      208806  5.775223      0    28   \n",
       "\n",
       "   registry  MZ  ...  dist_86  dist_87  dist_88  dist_89  dist_90  dist_91  \\\n",
       "0         0   1  ...       10        4       10        9        4        0   \n",
       "1         0   6  ...       43      121       84       78       47       36   \n",
       "2         0   6  ...      326      268      239      286      199      148   \n",
       "3         0   1  ...      336      230      206      245       76        0   \n",
       "4        16   3  ...      731      882     1171     1010      322       64   \n",
       "\n",
       "   dist_92  dist_93  dist_94  dist_95  \n",
       "0        1        0        0        0  \n",
       "1       40       45       27       36  \n",
       "2      154       37       48       36  \n",
       "3       26      702        1        5  \n",
       "4      327       84       75      244  \n",
       "\n",
       "[5 rows x 618 columns]"
      ]
     },
     "execution_count": 3,
     "metadata": {},
     "output_type": "execute_result"
    }
   ],
   "source": [
    "train_df.head()"
   ]
  },
  {
   "cell_type": "code",
   "execution_count": 4,
   "metadata": {
    "colab": {
     "base_uri": "https://localhost:8080/"
    },
    "id": "pg_43SoFE3sr",
    "outputId": "f5f2306a-43fd-4b45-d5cd-ae8dc529bed8"
   },
   "outputs": [
    {
     "data": {
      "text/plain": [
       "분석데이터           int64\n",
       "label           int64\n",
       "numstrings      int64\n",
       "avlength      float64\n",
       "printables      int64\n",
       "               ...   \n",
       "dist_91         int64\n",
       "dist_92         int64\n",
       "dist_93         int64\n",
       "dist_94         int64\n",
       "dist_95         int64\n",
       "Length: 618, dtype: object"
      ]
     },
     "execution_count": 4,
     "metadata": {},
     "output_type": "execute_result"
    }
   ],
   "source": [
    "train_df.dtypes"
   ]
  },
  {
   "cell_type": "code",
   "execution_count": 5,
   "metadata": {
    "id": "wOVZUPIOPg1E"
   },
   "outputs": [],
   "source": [
    "train_df2 = train_df.drop(columns=['분석데이터'], axis=1)"
   ]
  },
  {
   "cell_type": "code",
   "execution_count": 6,
   "metadata": {
    "id": "ptITjDLGPjCA"
   },
   "outputs": [],
   "source": [
    "train_df_x = train_df2.drop(['label'], axis=1)"
   ]
  },
  {
   "cell_type": "code",
   "execution_count": 7,
   "metadata": {
    "id": "LkWQtdc0PlBW"
   },
   "outputs": [],
   "source": [
    "train_df_y = train_df2['label']"
   ]
  },
  {
   "cell_type": "code",
   "execution_count": 8,
   "metadata": {
    "id": "Jx1lFxp0E6Nn"
   },
   "outputs": [],
   "source": [
    "train_df_x = train_df.drop(['분석데이터','label'], axis=1)\n",
    "train_df_y = train_df['label']\n",
    "train_df_y = train_df_y.astype('int')"
   ]
  },
  {
   "cell_type": "code",
   "execution_count": 9,
   "metadata": {
    "id": "jeFoejFRFDXE"
   },
   "outputs": [],
   "source": [
    "x_train, x_test, y_train, y_test = train_test_split(train_df_x, train_df_y, test_size=0.2, random_state=42, stratify=train_df_y)"
   ]
  },
  {
   "cell_type": "code",
   "execution_count": 10,
   "metadata": {
    "colab": {
     "base_uri": "https://localhost:8080/",
     "height": 443
    },
    "id": "8b8z3fLOFF_g",
    "outputId": "8b7de591-e8a5-489b-af3f-b022e690f73a"
   },
   "outputs": [
    {
     "data": {
      "text/html": [
       "<div>\n",
       "<style scoped>\n",
       "    .dataframe tbody tr th:only-of-type {\n",
       "        vertical-align: middle;\n",
       "    }\n",
       "\n",
       "    .dataframe tbody tr th {\n",
       "        vertical-align: top;\n",
       "    }\n",
       "\n",
       "    .dataframe thead th {\n",
       "        text-align: right;\n",
       "    }\n",
       "</style>\n",
       "<table border=\"1\" class=\"dataframe\">\n",
       "  <thead>\n",
       "    <tr style=\"text-align: right;\">\n",
       "      <th></th>\n",
       "      <th>numstrings</th>\n",
       "      <th>avlength</th>\n",
       "      <th>printables</th>\n",
       "      <th>entropy</th>\n",
       "      <th>paths</th>\n",
       "      <th>urls</th>\n",
       "      <th>registry</th>\n",
       "      <th>MZ</th>\n",
       "      <th>a_0</th>\n",
       "      <th>a_1</th>\n",
       "      <th>...</th>\n",
       "      <th>dist_86</th>\n",
       "      <th>dist_87</th>\n",
       "      <th>dist_88</th>\n",
       "      <th>dist_89</th>\n",
       "      <th>dist_90</th>\n",
       "      <th>dist_91</th>\n",
       "      <th>dist_92</th>\n",
       "      <th>dist_93</th>\n",
       "      <th>dist_94</th>\n",
       "      <th>dist_95</th>\n",
       "    </tr>\n",
       "  </thead>\n",
       "  <tbody>\n",
       "    <tr>\n",
       "      <th>3042</th>\n",
       "      <td>1160</td>\n",
       "      <td>13.968103</td>\n",
       "      <td>16203</td>\n",
       "      <td>5.592541</td>\n",
       "      <td>0</td>\n",
       "      <td>0</td>\n",
       "      <td>0</td>\n",
       "      <td>2</td>\n",
       "      <td>390735</td>\n",
       "      <td>29870</td>\n",
       "      <td>...</td>\n",
       "      <td>93</td>\n",
       "      <td>130</td>\n",
       "      <td>121</td>\n",
       "      <td>103</td>\n",
       "      <td>9</td>\n",
       "      <td>2</td>\n",
       "      <td>19</td>\n",
       "      <td>2</td>\n",
       "      <td>5</td>\n",
       "      <td>18</td>\n",
       "    </tr>\n",
       "    <tr>\n",
       "      <th>688</th>\n",
       "      <td>7256</td>\n",
       "      <td>6.037486</td>\n",
       "      <td>43808</td>\n",
       "      <td>6.565055</td>\n",
       "      <td>0</td>\n",
       "      <td>16</td>\n",
       "      <td>0</td>\n",
       "      <td>17</td>\n",
       "      <td>1131891</td>\n",
       "      <td>2778</td>\n",
       "      <td>...</td>\n",
       "      <td>486</td>\n",
       "      <td>477</td>\n",
       "      <td>451</td>\n",
       "      <td>428</td>\n",
       "      <td>446</td>\n",
       "      <td>449</td>\n",
       "      <td>415</td>\n",
       "      <td>401</td>\n",
       "      <td>434</td>\n",
       "      <td>419</td>\n",
       "    </tr>\n",
       "    <tr>\n",
       "      <th>2401</th>\n",
       "      <td>4</td>\n",
       "      <td>139.500000</td>\n",
       "      <td>558</td>\n",
       "      <td>3.311878</td>\n",
       "      <td>0</td>\n",
       "      <td>0</td>\n",
       "      <td>0</td>\n",
       "      <td>1</td>\n",
       "      <td>175208</td>\n",
       "      <td>9429</td>\n",
       "      <td>...</td>\n",
       "      <td>0</td>\n",
       "      <td>0</td>\n",
       "      <td>0</td>\n",
       "      <td>0</td>\n",
       "      <td>0</td>\n",
       "      <td>0</td>\n",
       "      <td>0</td>\n",
       "      <td>0</td>\n",
       "      <td>0</td>\n",
       "      <td>0</td>\n",
       "    </tr>\n",
       "    <tr>\n",
       "      <th>7919</th>\n",
       "      <td>30385</td>\n",
       "      <td>5.665756</td>\n",
       "      <td>172154</td>\n",
       "      <td>6.583076</td>\n",
       "      <td>0</td>\n",
       "      <td>12</td>\n",
       "      <td>0</td>\n",
       "      <td>112</td>\n",
       "      <td>565634</td>\n",
       "      <td>151579</td>\n",
       "      <td>...</td>\n",
       "      <td>1801</td>\n",
       "      <td>1812</td>\n",
       "      <td>1644</td>\n",
       "      <td>1829</td>\n",
       "      <td>1764</td>\n",
       "      <td>1606</td>\n",
       "      <td>1685</td>\n",
       "      <td>1709</td>\n",
       "      <td>1707</td>\n",
       "      <td>1707</td>\n",
       "    </tr>\n",
       "    <tr>\n",
       "      <th>5888</th>\n",
       "      <td>582</td>\n",
       "      <td>16.383162</td>\n",
       "      <td>9535</td>\n",
       "      <td>5.765152</td>\n",
       "      <td>0</td>\n",
       "      <td>1</td>\n",
       "      <td>0</td>\n",
       "      <td>1</td>\n",
       "      <td>80061</td>\n",
       "      <td>4706</td>\n",
       "      <td>...</td>\n",
       "      <td>69</td>\n",
       "      <td>55</td>\n",
       "      <td>89</td>\n",
       "      <td>176</td>\n",
       "      <td>48</td>\n",
       "      <td>1</td>\n",
       "      <td>0</td>\n",
       "      <td>12</td>\n",
       "      <td>111</td>\n",
       "      <td>2</td>\n",
       "    </tr>\n",
       "    <tr>\n",
       "      <th>...</th>\n",
       "      <td>...</td>\n",
       "      <td>...</td>\n",
       "      <td>...</td>\n",
       "      <td>...</td>\n",
       "      <td>...</td>\n",
       "      <td>...</td>\n",
       "      <td>...</td>\n",
       "      <td>...</td>\n",
       "      <td>...</td>\n",
       "      <td>...</td>\n",
       "      <td>...</td>\n",
       "      <td>...</td>\n",
       "      <td>...</td>\n",
       "      <td>...</td>\n",
       "      <td>...</td>\n",
       "      <td>...</td>\n",
       "      <td>...</td>\n",
       "      <td>...</td>\n",
       "      <td>...</td>\n",
       "      <td>...</td>\n",
       "      <td>...</td>\n",
       "    </tr>\n",
       "    <tr>\n",
       "      <th>2385</th>\n",
       "      <td>12946</td>\n",
       "      <td>22.648926</td>\n",
       "      <td>293213</td>\n",
       "      <td>6.212143</td>\n",
       "      <td>0</td>\n",
       "      <td>93</td>\n",
       "      <td>0</td>\n",
       "      <td>26</td>\n",
       "      <td>24649</td>\n",
       "      <td>2051</td>\n",
       "      <td>...</td>\n",
       "      <td>2249</td>\n",
       "      <td>2223</td>\n",
       "      <td>3324</td>\n",
       "      <td>2459</td>\n",
       "      <td>1424</td>\n",
       "      <td>1420</td>\n",
       "      <td>1623</td>\n",
       "      <td>1453</td>\n",
       "      <td>1248</td>\n",
       "      <td>671</td>\n",
       "    </tr>\n",
       "    <tr>\n",
       "      <th>5118</th>\n",
       "      <td>6790</td>\n",
       "      <td>206.887923</td>\n",
       "      <td>1404769</td>\n",
       "      <td>5.018292</td>\n",
       "      <td>0</td>\n",
       "      <td>9</td>\n",
       "      <td>0</td>\n",
       "      <td>11</td>\n",
       "      <td>50303</td>\n",
       "      <td>42452</td>\n",
       "      <td>...</td>\n",
       "      <td>21705</td>\n",
       "      <td>19933</td>\n",
       "      <td>27071</td>\n",
       "      <td>31742</td>\n",
       "      <td>74191</td>\n",
       "      <td>67</td>\n",
       "      <td>194</td>\n",
       "      <td>101</td>\n",
       "      <td>76</td>\n",
       "      <td>66</td>\n",
       "    </tr>\n",
       "    <tr>\n",
       "      <th>3563</th>\n",
       "      <td>542</td>\n",
       "      <td>20.575646</td>\n",
       "      <td>11152</td>\n",
       "      <td>5.279839</td>\n",
       "      <td>11</td>\n",
       "      <td>0</td>\n",
       "      <td>0</td>\n",
       "      <td>2</td>\n",
       "      <td>4703</td>\n",
       "      <td>1493</td>\n",
       "      <td>...</td>\n",
       "      <td>75</td>\n",
       "      <td>47</td>\n",
       "      <td>79</td>\n",
       "      <td>70</td>\n",
       "      <td>10</td>\n",
       "      <td>8</td>\n",
       "      <td>4</td>\n",
       "      <td>7</td>\n",
       "      <td>1</td>\n",
       "      <td>1</td>\n",
       "    </tr>\n",
       "    <tr>\n",
       "      <th>5511</th>\n",
       "      <td>3468</td>\n",
       "      <td>11.835928</td>\n",
       "      <td>41047</td>\n",
       "      <td>6.048495</td>\n",
       "      <td>0</td>\n",
       "      <td>188</td>\n",
       "      <td>0</td>\n",
       "      <td>32</td>\n",
       "      <td>25817</td>\n",
       "      <td>549</td>\n",
       "      <td>...</td>\n",
       "      <td>532</td>\n",
       "      <td>261</td>\n",
       "      <td>288</td>\n",
       "      <td>290</td>\n",
       "      <td>151</td>\n",
       "      <td>129</td>\n",
       "      <td>115</td>\n",
       "      <td>135</td>\n",
       "      <td>104</td>\n",
       "      <td>114</td>\n",
       "    </tr>\n",
       "    <tr>\n",
       "      <th>1212</th>\n",
       "      <td>881</td>\n",
       "      <td>15.948922</td>\n",
       "      <td>14051</td>\n",
       "      <td>5.498081</td>\n",
       "      <td>1</td>\n",
       "      <td>0</td>\n",
       "      <td>7</td>\n",
       "      <td>4</td>\n",
       "      <td>221971</td>\n",
       "      <td>15353</td>\n",
       "      <td>...</td>\n",
       "      <td>174</td>\n",
       "      <td>88</td>\n",
       "      <td>87</td>\n",
       "      <td>95</td>\n",
       "      <td>18</td>\n",
       "      <td>5</td>\n",
       "      <td>8</td>\n",
       "      <td>5</td>\n",
       "      <td>4</td>\n",
       "      <td>13</td>\n",
       "    </tr>\n",
       "  </tbody>\n",
       "</table>\n",
       "<p>8000 rows × 616 columns</p>\n",
       "</div>"
      ],
      "text/plain": [
       "      numstrings    avlength  printables   entropy  paths  urls  registry  \\\n",
       "3042        1160   13.968103       16203  5.592541      0     0         0   \n",
       "688         7256    6.037486       43808  6.565055      0    16         0   \n",
       "2401           4  139.500000         558  3.311878      0     0         0   \n",
       "7919       30385    5.665756      172154  6.583076      0    12         0   \n",
       "5888         582   16.383162        9535  5.765152      0     1         0   \n",
       "...          ...         ...         ...       ...    ...   ...       ...   \n",
       "2385       12946   22.648926      293213  6.212143      0    93         0   \n",
       "5118        6790  206.887923     1404769  5.018292      0     9         0   \n",
       "3563         542   20.575646       11152  5.279839     11     0         0   \n",
       "5511        3468   11.835928       41047  6.048495      0   188         0   \n",
       "1212         881   15.948922       14051  5.498081      1     0         7   \n",
       "\n",
       "       MZ      a_0     a_1  ...  dist_86  dist_87  dist_88  dist_89  dist_90  \\\n",
       "3042    2   390735   29870  ...       93      130      121      103        9   \n",
       "688    17  1131891    2778  ...      486      477      451      428      446   \n",
       "2401    1   175208    9429  ...        0        0        0        0        0   \n",
       "7919  112   565634  151579  ...     1801     1812     1644     1829     1764   \n",
       "5888    1    80061    4706  ...       69       55       89      176       48   \n",
       "...   ...      ...     ...  ...      ...      ...      ...      ...      ...   \n",
       "2385   26    24649    2051  ...     2249     2223     3324     2459     1424   \n",
       "5118   11    50303   42452  ...    21705    19933    27071    31742    74191   \n",
       "3563    2     4703    1493  ...       75       47       79       70       10   \n",
       "5511   32    25817     549  ...      532      261      288      290      151   \n",
       "1212    4   221971   15353  ...      174       88       87       95       18   \n",
       "\n",
       "      dist_91  dist_92  dist_93  dist_94  dist_95  \n",
       "3042        2       19        2        5       18  \n",
       "688       449      415      401      434      419  \n",
       "2401        0        0        0        0        0  \n",
       "7919     1606     1685     1709     1707     1707  \n",
       "5888        1        0       12      111        2  \n",
       "...       ...      ...      ...      ...      ...  \n",
       "2385     1420     1623     1453     1248      671  \n",
       "5118       67      194      101       76       66  \n",
       "3563        8        4        7        1        1  \n",
       "5511      129      115      135      104      114  \n",
       "1212        5        8        5        4       13  \n",
       "\n",
       "[8000 rows x 616 columns]"
      ]
     },
     "execution_count": 10,
     "metadata": {},
     "output_type": "execute_result"
    }
   ],
   "source": [
    "x_train"
   ]
  },
  {
   "cell_type": "code",
   "execution_count": 11,
   "metadata": {
    "colab": {
     "base_uri": "https://localhost:8080/",
     "height": 443
    },
    "id": "qNQgrzbFFJPl",
    "outputId": "12e6651f-acf7-4e23-d32a-0005bf92b72c"
   },
   "outputs": [
    {
     "data": {
      "text/html": [
       "<div>\n",
       "<style scoped>\n",
       "    .dataframe tbody tr th:only-of-type {\n",
       "        vertical-align: middle;\n",
       "    }\n",
       "\n",
       "    .dataframe tbody tr th {\n",
       "        vertical-align: top;\n",
       "    }\n",
       "\n",
       "    .dataframe thead th {\n",
       "        text-align: right;\n",
       "    }\n",
       "</style>\n",
       "<table border=\"1\" class=\"dataframe\">\n",
       "  <thead>\n",
       "    <tr style=\"text-align: right;\">\n",
       "      <th></th>\n",
       "      <th>numstrings</th>\n",
       "      <th>avlength</th>\n",
       "      <th>printables</th>\n",
       "      <th>entropy</th>\n",
       "      <th>paths</th>\n",
       "      <th>urls</th>\n",
       "      <th>registry</th>\n",
       "      <th>MZ</th>\n",
       "      <th>a_0</th>\n",
       "      <th>a_1</th>\n",
       "      <th>...</th>\n",
       "      <th>dist_86</th>\n",
       "      <th>dist_87</th>\n",
       "      <th>dist_88</th>\n",
       "      <th>dist_89</th>\n",
       "      <th>dist_90</th>\n",
       "      <th>dist_91</th>\n",
       "      <th>dist_92</th>\n",
       "      <th>dist_93</th>\n",
       "      <th>dist_94</th>\n",
       "      <th>dist_95</th>\n",
       "    </tr>\n",
       "  </thead>\n",
       "  <tbody>\n",
       "    <tr>\n",
       "      <th>4856</th>\n",
       "      <td>2016</td>\n",
       "      <td>13.085813</td>\n",
       "      <td>26381</td>\n",
       "      <td>6.024467</td>\n",
       "      <td>1</td>\n",
       "      <td>14</td>\n",
       "      <td>0</td>\n",
       "      <td>3</td>\n",
       "      <td>18560</td>\n",
       "      <td>416</td>\n",
       "      <td>...</td>\n",
       "      <td>133</td>\n",
       "      <td>143</td>\n",
       "      <td>189</td>\n",
       "      <td>164</td>\n",
       "      <td>56</td>\n",
       "      <td>29</td>\n",
       "      <td>105</td>\n",
       "      <td>25</td>\n",
       "      <td>38</td>\n",
       "      <td>33</td>\n",
       "    </tr>\n",
       "    <tr>\n",
       "      <th>488</th>\n",
       "      <td>4</td>\n",
       "      <td>43.250000</td>\n",
       "      <td>173</td>\n",
       "      <td>4.148725</td>\n",
       "      <td>0</td>\n",
       "      <td>0</td>\n",
       "      <td>0</td>\n",
       "      <td>1</td>\n",
       "      <td>349327</td>\n",
       "      <td>2935</td>\n",
       "      <td>...</td>\n",
       "      <td>1</td>\n",
       "      <td>1</td>\n",
       "      <td>0</td>\n",
       "      <td>0</td>\n",
       "      <td>0</td>\n",
       "      <td>0</td>\n",
       "      <td>0</td>\n",
       "      <td>0</td>\n",
       "      <td>0</td>\n",
       "      <td>0</td>\n",
       "    </tr>\n",
       "    <tr>\n",
       "      <th>7193</th>\n",
       "      <td>3</td>\n",
       "      <td>60.333333</td>\n",
       "      <td>181</td>\n",
       "      <td>3.884033</td>\n",
       "      <td>0</td>\n",
       "      <td>0</td>\n",
       "      <td>0</td>\n",
       "      <td>1</td>\n",
       "      <td>3058</td>\n",
       "      <td>50</td>\n",
       "      <td>...</td>\n",
       "      <td>0</td>\n",
       "      <td>0</td>\n",
       "      <td>0</td>\n",
       "      <td>0</td>\n",
       "      <td>0</td>\n",
       "      <td>0</td>\n",
       "      <td>0</td>\n",
       "      <td>0</td>\n",
       "      <td>0</td>\n",
       "      <td>0</td>\n",
       "    </tr>\n",
       "    <tr>\n",
       "      <th>9317</th>\n",
       "      <td>3446</td>\n",
       "      <td>18.289611</td>\n",
       "      <td>63026</td>\n",
       "      <td>5.796207</td>\n",
       "      <td>3</td>\n",
       "      <td>94</td>\n",
       "      <td>2</td>\n",
       "      <td>22</td>\n",
       "      <td>12583</td>\n",
       "      <td>509</td>\n",
       "      <td>...</td>\n",
       "      <td>410</td>\n",
       "      <td>625</td>\n",
       "      <td>388</td>\n",
       "      <td>542</td>\n",
       "      <td>83</td>\n",
       "      <td>15</td>\n",
       "      <td>201</td>\n",
       "      <td>24</td>\n",
       "      <td>347</td>\n",
       "      <td>45</td>\n",
       "    </tr>\n",
       "    <tr>\n",
       "      <th>72</th>\n",
       "      <td>1491</td>\n",
       "      <td>10.094567</td>\n",
       "      <td>15051</td>\n",
       "      <td>5.932281</td>\n",
       "      <td>0</td>\n",
       "      <td>0</td>\n",
       "      <td>0</td>\n",
       "      <td>1</td>\n",
       "      <td>82020</td>\n",
       "      <td>13439</td>\n",
       "      <td>...</td>\n",
       "      <td>178</td>\n",
       "      <td>45</td>\n",
       "      <td>121</td>\n",
       "      <td>58</td>\n",
       "      <td>21</td>\n",
       "      <td>27</td>\n",
       "      <td>56</td>\n",
       "      <td>37</td>\n",
       "      <td>22</td>\n",
       "      <td>29</td>\n",
       "    </tr>\n",
       "    <tr>\n",
       "      <th>...</th>\n",
       "      <td>...</td>\n",
       "      <td>...</td>\n",
       "      <td>...</td>\n",
       "      <td>...</td>\n",
       "      <td>...</td>\n",
       "      <td>...</td>\n",
       "      <td>...</td>\n",
       "      <td>...</td>\n",
       "      <td>...</td>\n",
       "      <td>...</td>\n",
       "      <td>...</td>\n",
       "      <td>...</td>\n",
       "      <td>...</td>\n",
       "      <td>...</td>\n",
       "      <td>...</td>\n",
       "      <td>...</td>\n",
       "      <td>...</td>\n",
       "      <td>...</td>\n",
       "      <td>...</td>\n",
       "      <td>...</td>\n",
       "      <td>...</td>\n",
       "    </tr>\n",
       "    <tr>\n",
       "      <th>5044</th>\n",
       "      <td>149216</td>\n",
       "      <td>5.882171</td>\n",
       "      <td>877714</td>\n",
       "      <td>6.579395</td>\n",
       "      <td>1</td>\n",
       "      <td>1</td>\n",
       "      <td>0</td>\n",
       "      <td>501</td>\n",
       "      <td>23524</td>\n",
       "      <td>429</td>\n",
       "      <td>...</td>\n",
       "      <td>9027</td>\n",
       "      <td>8845</td>\n",
       "      <td>8741</td>\n",
       "      <td>9247</td>\n",
       "      <td>8740</td>\n",
       "      <td>8855</td>\n",
       "      <td>9306</td>\n",
       "      <td>8700</td>\n",
       "      <td>9056</td>\n",
       "      <td>9146</td>\n",
       "    </tr>\n",
       "    <tr>\n",
       "      <th>9504</th>\n",
       "      <td>264</td>\n",
       "      <td>10.359848</td>\n",
       "      <td>2735</td>\n",
       "      <td>6.015467</td>\n",
       "      <td>0</td>\n",
       "      <td>0</td>\n",
       "      <td>0</td>\n",
       "      <td>1</td>\n",
       "      <td>4825</td>\n",
       "      <td>95</td>\n",
       "      <td>...</td>\n",
       "      <td>14</td>\n",
       "      <td>9</td>\n",
       "      <td>26</td>\n",
       "      <td>27</td>\n",
       "      <td>5</td>\n",
       "      <td>3</td>\n",
       "      <td>15</td>\n",
       "      <td>4</td>\n",
       "      <td>7</td>\n",
       "      <td>3</td>\n",
       "    </tr>\n",
       "    <tr>\n",
       "      <th>3437</th>\n",
       "      <td>2757</td>\n",
       "      <td>9.026478</td>\n",
       "      <td>24886</td>\n",
       "      <td>5.759953</td>\n",
       "      <td>4</td>\n",
       "      <td>0</td>\n",
       "      <td>0</td>\n",
       "      <td>1</td>\n",
       "      <td>19979</td>\n",
       "      <td>1386</td>\n",
       "      <td>...</td>\n",
       "      <td>261</td>\n",
       "      <td>139</td>\n",
       "      <td>409</td>\n",
       "      <td>474</td>\n",
       "      <td>86</td>\n",
       "      <td>36</td>\n",
       "      <td>417</td>\n",
       "      <td>129</td>\n",
       "      <td>150</td>\n",
       "      <td>346</td>\n",
       "    </tr>\n",
       "    <tr>\n",
       "      <th>5854</th>\n",
       "      <td>5609</td>\n",
       "      <td>18.947049</td>\n",
       "      <td>106274</td>\n",
       "      <td>6.230731</td>\n",
       "      <td>4</td>\n",
       "      <td>64</td>\n",
       "      <td>5</td>\n",
       "      <td>12</td>\n",
       "      <td>7429</td>\n",
       "      <td>463</td>\n",
       "      <td>...</td>\n",
       "      <td>845</td>\n",
       "      <td>1178</td>\n",
       "      <td>1107</td>\n",
       "      <td>989</td>\n",
       "      <td>513</td>\n",
       "      <td>224</td>\n",
       "      <td>286</td>\n",
       "      <td>225</td>\n",
       "      <td>166</td>\n",
       "      <td>246</td>\n",
       "    </tr>\n",
       "    <tr>\n",
       "      <th>3981</th>\n",
       "      <td>6688</td>\n",
       "      <td>12.515849</td>\n",
       "      <td>83706</td>\n",
       "      <td>6.033713</td>\n",
       "      <td>3</td>\n",
       "      <td>3</td>\n",
       "      <td>0</td>\n",
       "      <td>3</td>\n",
       "      <td>3090645</td>\n",
       "      <td>266409</td>\n",
       "      <td>...</td>\n",
       "      <td>639</td>\n",
       "      <td>408</td>\n",
       "      <td>717</td>\n",
       "      <td>720</td>\n",
       "      <td>180</td>\n",
       "      <td>91</td>\n",
       "      <td>243</td>\n",
       "      <td>136</td>\n",
       "      <td>130</td>\n",
       "      <td>131</td>\n",
       "    </tr>\n",
       "  </tbody>\n",
       "</table>\n",
       "<p>2000 rows × 616 columns</p>\n",
       "</div>"
      ],
      "text/plain": [
       "      numstrings   avlength  printables   entropy  paths  urls  registry   MZ  \\\n",
       "4856        2016  13.085813       26381  6.024467      1    14         0    3   \n",
       "488            4  43.250000         173  4.148725      0     0         0    1   \n",
       "7193           3  60.333333         181  3.884033      0     0         0    1   \n",
       "9317        3446  18.289611       63026  5.796207      3    94         2   22   \n",
       "72          1491  10.094567       15051  5.932281      0     0         0    1   \n",
       "...          ...        ...         ...       ...    ...   ...       ...  ...   \n",
       "5044      149216   5.882171      877714  6.579395      1     1         0  501   \n",
       "9504         264  10.359848        2735  6.015467      0     0         0    1   \n",
       "3437        2757   9.026478       24886  5.759953      4     0         0    1   \n",
       "5854        5609  18.947049      106274  6.230731      4    64         5   12   \n",
       "3981        6688  12.515849       83706  6.033713      3     3         0    3   \n",
       "\n",
       "          a_0     a_1  ...  dist_86  dist_87  dist_88  dist_89  dist_90  \\\n",
       "4856    18560     416  ...      133      143      189      164       56   \n",
       "488    349327    2935  ...        1        1        0        0        0   \n",
       "7193     3058      50  ...        0        0        0        0        0   \n",
       "9317    12583     509  ...      410      625      388      542       83   \n",
       "72      82020   13439  ...      178       45      121       58       21   \n",
       "...       ...     ...  ...      ...      ...      ...      ...      ...   \n",
       "5044    23524     429  ...     9027     8845     8741     9247     8740   \n",
       "9504     4825      95  ...       14        9       26       27        5   \n",
       "3437    19979    1386  ...      261      139      409      474       86   \n",
       "5854     7429     463  ...      845     1178     1107      989      513   \n",
       "3981  3090645  266409  ...      639      408      717      720      180   \n",
       "\n",
       "      dist_91  dist_92  dist_93  dist_94  dist_95  \n",
       "4856       29      105       25       38       33  \n",
       "488         0        0        0        0        0  \n",
       "7193        0        0        0        0        0  \n",
       "9317       15      201       24      347       45  \n",
       "72         27       56       37       22       29  \n",
       "...       ...      ...      ...      ...      ...  \n",
       "5044     8855     9306     8700     9056     9146  \n",
       "9504        3       15        4        7        3  \n",
       "3437       36      417      129      150      346  \n",
       "5854      224      286      225      166      246  \n",
       "3981       91      243      136      130      131  \n",
       "\n",
       "[2000 rows x 616 columns]"
      ]
     },
     "execution_count": 11,
     "metadata": {},
     "output_type": "execute_result"
    }
   ],
   "source": [
    "x_test"
   ]
  },
  {
   "cell_type": "code",
   "execution_count": 12,
   "metadata": {
    "colab": {
     "base_uri": "https://localhost:8080/"
    },
    "id": "eWY-sqPwFJnq",
    "outputId": "58ec8c47-570c-4cfb-98bc-bf06edbe51f3"
   },
   "outputs": [
    {
     "data": {
      "text/plain": [
       "3042    0\n",
       "688     1\n",
       "2401    0\n",
       "7919    1\n",
       "5888    0\n",
       "       ..\n",
       "2385    1\n",
       "5118    0\n",
       "3563    1\n",
       "5511    0\n",
       "1212    0\n",
       "Name: label, Length: 8000, dtype: int32"
      ]
     },
     "execution_count": 12,
     "metadata": {},
     "output_type": "execute_result"
    }
   ],
   "source": [
    "y_train"
   ]
  },
  {
   "cell_type": "code",
   "execution_count": 13,
   "metadata": {
    "colab": {
     "base_uri": "https://localhost:8080/"
    },
    "id": "Qs3Sgj_PFMCf",
    "outputId": "c99832a2-1043-4369-ecdd-cd9cbeb48e7b"
   },
   "outputs": [
    {
     "data": {
      "text/plain": [
       "4856    1\n",
       "488     1\n",
       "7193    0\n",
       "9317    1\n",
       "72      0\n",
       "       ..\n",
       "5044    1\n",
       "9504    0\n",
       "3437    1\n",
       "5854    1\n",
       "3981    1\n",
       "Name: label, Length: 2000, dtype: int32"
      ]
     },
     "execution_count": 13,
     "metadata": {},
     "output_type": "execute_result"
    }
   ],
   "source": [
    "y_test"
   ]
  },
  {
   "cell_type": "code",
   "execution_count": 14,
   "metadata": {
    "colab": {
     "base_uri": "https://localhost:8080/"
    },
    "id": "55a6EKh8FXoW",
    "outputId": "ce5e4cff-d64a-43ec-b576-1f9b1dccbd93"
   },
   "outputs": [
    {
     "data": {
      "text/plain": [
       "dtype('int32')"
      ]
     },
     "execution_count": 14,
     "metadata": {},
     "output_type": "execute_result"
    }
   ],
   "source": [
    "y_train.dtypes"
   ]
  },
  {
   "cell_type": "code",
   "execution_count": 15,
   "metadata": {
    "id": "6MN8TKlFFZ2V"
   },
   "outputs": [],
   "source": [
    "#x_train.astype('float')"
   ]
  },
  {
   "cell_type": "code",
   "execution_count": 16,
   "metadata": {
    "id": "EQzTHRyFK2IN"
   },
   "outputs": [],
   "source": [
    "xgb = XGBClassifier(silent=False,\n",
    "                    n_estimators = 1000,\n",
    "                    booster='gbtree',\n",
    "                    tree_method='gpu_hist',\n",
    "                    preidctor= 'gpu_predictor',\n",
    "                    scale_pos_weight=1,\n",
    "                    learning_rate=0.01,\n",
    "                    objective='binary:logistic',\n",
    "                    max_depth = 10,\n",
    "                    subsample = 0.8,\n",
    "                    colsample_bytree = 0.8,\n",
    "                    min_child_weight = 1,\n",
    "                    gamma = 0.5, seed=42)"
   ]
  },
  {
   "cell_type": "code",
   "execution_count": 17,
   "metadata": {
    "colab": {
     "base_uri": "https://localhost:8080/"
    },
    "id": "PMEvDVnzNTej",
    "outputId": "544bc47d-01ff-4835-cc0c-e2abe1db56b9"
   },
   "outputs": [
    {
     "name": "stdout",
     "output_type": "stream",
     "text": [
      "[20:33:39] WARNING: C:/Users/Administrator/workspace/xgboost-win64_release_1.4.0/src/learner.cc:573: \n",
      "Parameters: { \"preidctor\", \"silent\" } might not be used.\n",
      "\n",
      "  This may not be accurate due to some parameters are only used in language bindings but\n",
      "  passed down to XGBoost core.  Or some parameters are not used but slip through this\n",
      "  verification. Please open an issue if you find above cases.\n",
      "\n",
      "\n",
      "[20:33:39] WARNING: C:/Users/Administrator/workspace/xgboost-win64_release_1.4.0/src/learner.cc:1095: Starting in XGBoost 1.3.0, the default evaluation metric used with the objective 'binary:logistic' was changed from 'error' to 'logloss'. Explicitly set eval_metric if you'd like to restore the old behavior.\n"
     ]
    },
    {
     "data": {
      "text/plain": [
       "XGBClassifier(base_score=0.5, booster='gbtree', colsample_bylevel=1,\n",
       "              colsample_bynode=1, colsample_bytree=0.8, gamma=0.5, gpu_id=0,\n",
       "              importance_type='gain', interaction_constraints='',\n",
       "              learning_rate=0.01, max_delta_step=0, max_depth=10,\n",
       "              min_child_weight=1, missing=nan, monotone_constraints='()',\n",
       "              n_estimators=1000, n_jobs=12, num_parallel_tree=1,\n",
       "              preidctor='gpu_predictor', random_state=42, reg_alpha=0,\n",
       "              reg_lambda=1, scale_pos_weight=1, seed=42, silent=False,\n",
       "              subsample=0.8, tree_method='gpu_hist', validate_parameters=1,\n",
       "              verbosity=None)"
      ]
     },
     "execution_count": 17,
     "metadata": {},
     "output_type": "execute_result"
    }
   ],
   "source": [
    "xgb.fit(x_train, y_train)"
   ]
  },
  {
   "cell_type": "code",
   "execution_count": 18,
   "metadata": {
    "colab": {
     "base_uri": "https://localhost:8080/",
     "height": 390
    },
    "id": "Q4l5adK3PEfY",
    "outputId": "fb7a85c6-9ffb-47f1-e7d2-ebe94eec84f8"
   },
   "outputs": [
    {
     "data": {
      "image/png": "[encoded data removed]",
      "text/plain": [
       "<Figure size 576x432 with 1 Axes>"
      ]
     },
     "metadata": {
      "needs_background": "light"
     },
     "output_type": "display_data"
    }
   ],
   "source": [
    "ft_importance_values = xgb.feature_importances_\n",
    "\n",
    "ft_series = pd.Series(ft_importance_values, index = x_train.columns)\n",
    "ft_top20 = ft_series.sort_values(ascending=False)[:20]\n",
    "\n",
    "plt.figure(figsize=(8,6))\n",
    "plt.title('Top 20 Feature Importances (XGB)')\n",
    "sns.barplot(x=ft_top20, y=ft_top20.index)\n",
    "plt.show()"
   ]
  },
  {
   "cell_type": "code",
   "execution_count": 19,
   "metadata": {
    "id": "KhYq7bBkPopd"
   },
   "outputs": [],
   "source": [
    "data_copy = train_df2.copy()"
   ]
  },
  {
   "cell_type": "code",
   "execution_count": 20,
   "metadata": {
    "id": "Te37QRmWPqW-"
   },
   "outputs": [],
   "source": [
    "def remove_outlier_0(df, column):\n",
    "    fraud_column_data = df[df['label']==0][column]\n",
    "    quantile_25 = np.percentile(fraud_column_data.values, 25)\n",
    "    quantile_75 = np.percentile(fraud_column_data.values, 75)\n",
    "    \n",
    "    IQR = quantile_75 - quantile_25\n",
    "    IQR_weight = IQR * 1.5\n",
    "    \n",
    "    lowest = quantile_25 - IQR_weight\n",
    "    highest = quantile_75 + IQR_weight\n",
    "    \n",
    "    outlier_idx = fraud_column_data[ (fraud_column_data < lowest) | (fraud_column_data > highest) ].index\n",
    "    print(len(outlier_idx))\n",
    "    df.drop(outlier_idx, axis=0, inplace=True)\n",
    "    print(df.shape)\n",
    "    return df"
   ]
  },
  {
   "cell_type": "code",
   "execution_count": 21,
   "metadata": {
    "id": "sQFKKxBwP4Ei"
   },
   "outputs": [],
   "source": [
    "def remove_outlier_1(df, column):\n",
    "    fraud_column_data = df[df['label']==1][column]\n",
    "    quantile_25 = np.percentile(fraud_column_data.values, 25)\n",
    "    quantile_75 = np.percentile(fraud_column_data.values, 75)\n",
    "    \n",
    "    IQR = quantile_75 - quantile_25\n",
    "    IQR_weight = IQR * 1.5\n",
    "    \n",
    "    lowest = quantile_25 - IQR_weight\n",
    "    highest = quantile_75 + IQR_weight\n",
    "    \n",
    "    outlier_idx = fraud_column_data[ (fraud_column_data < lowest) | (fraud_column_data > highest) ].index\n",
    "    print(len(outlier_idx))\n",
    "    df.drop(outlier_idx, axis=0, inplace=True)\n",
    "    print(df.shape)\n",
    "    return df"
   ]
  },
  {
   "cell_type": "code",
   "execution_count": 22,
   "metadata": {
    "colab": {
     "base_uri": "https://localhost:8080/"
    },
    "id": "He4Cto0EP6dN",
    "outputId": "62b2b59b-1012-4a7c-cfb8-83717e148114"
   },
   "outputs": [
    {
     "name": "stdout",
     "output_type": "stream",
     "text": [
      "972\n",
      "(9028, 617)\n"
     ]
    }
   ],
   "source": [
    "data_copy = remove_outlier_0(data_copy, 'b_255')"
   ]
  },
  {
   "cell_type": "code",
   "execution_count": 23,
   "metadata": {
    "id": "FeLAjFXoP8bU"
   },
   "outputs": [],
   "source": [
    "data_copy_x = data_copy.drop(columns=['label'], axis=1)"
   ]
  },
  {
   "cell_type": "code",
   "execution_count": 24,
   "metadata": {
    "id": "QnkjU0IdP-Nq"
   },
   "outputs": [],
   "source": [
    "data_copy_y = data_copy['label']"
   ]
  },
  {
   "cell_type": "code",
   "execution_count": 25,
   "metadata": {
    "id": "l5x5ob2uQAOO"
   },
   "outputs": [],
   "source": [
    "x_train, x_test, y_train, y_test = train_test_split(data_copy_x, data_copy_y, test_size=0.2, random_state=42)"
   ]
  },
  {
   "cell_type": "markdown",
   "metadata": {
    "id": "RcBwiUIRea7s"
   },
   "source": [
    "57/57 - 0s - loss: 2.2932 - accuracy: 0.7791\n",
    "0.7790697813034058"
   ]
  },
  {
   "cell_type": "markdown",
   "metadata": {
    "id": "xI5S_DLBebvz"
   },
   "source": [
    "b_240의 이상치도 제거하고 시험해보기"
   ]
  },
  {
   "cell_type": "code",
   "execution_count": 26,
   "metadata": {
    "colab": {
     "base_uri": "https://localhost:8080/"
    },
    "id": "Npng0fK5eenz",
    "outputId": "e746afc7-b5c8-40eb-b44f-52edaa0a5980"
   },
   "outputs": [
    {
     "name": "stdout",
     "output_type": "stream",
     "text": [
      "796\n",
      "(8232, 617)\n"
     ]
    }
   ],
   "source": [
    "data_copy = remove_outlier_0(data_copy, 'b_240')"
   ]
  },
  {
   "cell_type": "code",
   "execution_count": 27,
   "metadata": {
    "colab": {
     "base_uri": "https://localhost:8080/"
    },
    "id": "OL9ziZYUehYY",
    "outputId": "51a2a7bd-59a0-4bf1-85d7-bdf2fedc45fe"
   },
   "outputs": [
    {
     "name": "stdout",
     "output_type": "stream",
     "text": [
      "788\n",
      "(7444, 617)\n"
     ]
    }
   ],
   "source": [
    "data_copy = remove_outlier_1(data_copy, 'b_240')"
   ]
  },
  {
   "cell_type": "code",
   "execution_count": 28,
   "metadata": {
    "id": "LmxOxVgMelFV"
   },
   "outputs": [],
   "source": [
    "data_copy_x = data_copy.drop(columns=['label'], axis=1)"
   ]
  },
  {
   "cell_type": "code",
   "execution_count": 29,
   "metadata": {
    "id": "71u7iZZTel6_"
   },
   "outputs": [],
   "source": [
    "data_copy_y = data_copy['label']"
   ]
  },
  {
   "cell_type": "code",
   "execution_count": 30,
   "metadata": {
    "id": "5AQ-8p6Wen8A"
   },
   "outputs": [],
   "source": [
    "x_train, x_test, y_train, y_test = train_test_split(data_copy_x, data_copy_y, test_size=0.2, random_state=42)"
   ]
  },
  {
   "cell_type": "markdown",
   "metadata": {
    "id": "pmsn2Ob2VB7R"
   },
   "source": [
    "MinMaxScaler"
   ]
  },
  {
   "cell_type": "code",
   "execution_count": 31,
   "metadata": {
    "id": "3DXStUcUU67G"
   },
   "outputs": [],
   "source": [
    "from sklearn.preprocessing import MinMaxScaler"
   ]
  },
  {
   "cell_type": "code",
   "execution_count": 32,
   "metadata": {
    "id": "qaqEr45pWOUd"
   },
   "outputs": [],
   "source": [
    "transformer = MinMaxScaler() #transformer = MinMaxScaler(feature_range=(0, 1))\n",
    "transformer.fit(x_train) #MinMaxScaler 모델에 x_train_df 데이터 적용 (최소값, 최대값 계산)\n",
    "x_train = transformer.transform(x_train)\n",
    "\n",
    "transformer.fit(x_test) #MinMaxScaler 모델에 x_train_df 데이터 적용 (최소값, 최대값 계산)\n",
    "x_test = transformer.transform(x_test)"
   ]
  },
  {
   "cell_type": "code",
   "execution_count": 33,
   "metadata": {
    "colab": {
     "base_uri": "https://localhost:8080/"
    },
    "id": "xFAxYbwLWclM",
    "outputId": "15da4ead-6481-4ad5-efd2-7573fe9e488b"
   },
   "outputs": [
    {
     "data": {
      "text/plain": [
       "(5955, 616)"
      ]
     },
     "execution_count": 33,
     "metadata": {},
     "output_type": "execute_result"
    }
   ],
   "source": [
    "x_train.shape"
   ]
  },
  {
   "cell_type": "code",
   "execution_count": 34,
   "metadata": {
    "id": "3G0FpaB5WuE0"
   },
   "outputs": [],
   "source": [
    "x3 = np.zeros((5955,22,28))\n",
    "x4 = np.zeros((5955,22,28,1))\n",
    "for i in range(5955):\n",
    "    x3[i] = x_train[i].reshape((22,28))\n",
    "    for j in range(22):\n",
    "        for k in range(28):\n",
    "            x4[i][j][k][0] = x3[i][j][k]"
   ]
  },
  {
   "cell_type": "code",
   "execution_count": 35,
   "metadata": {
    "id": "Mb1QB3gJYCe6"
   },
   "outputs": [],
   "source": [
    "x_train = x4"
   ]
  },
  {
   "cell_type": "code",
   "execution_count": 36,
   "metadata": {
    "colab": {
     "base_uri": "https://localhost:8080/"
    },
    "id": "TAm6VXazYUhu",
    "outputId": "895d3c9b-694f-4292-d2f0-f5d430bb7a0c"
   },
   "outputs": [
    {
     "data": {
      "text/plain": [
       "(5955, 22, 28, 1)"
      ]
     },
     "execution_count": 36,
     "metadata": {},
     "output_type": "execute_result"
    }
   ],
   "source": [
    "x_train.shape"
   ]
  },
  {
   "cell_type": "code",
   "execution_count": 37,
   "metadata": {
    "id": "bBVAFVOOYHG_"
   },
   "outputs": [],
   "source": [
    "y_train = y_train.to_numpy()"
   ]
  },
  {
   "cell_type": "code",
   "execution_count": 38,
   "metadata": {
    "colab": {
     "base_uri": "https://localhost:8080/"
    },
    "id": "hQcePwCWZoDk",
    "outputId": "55907b72-b172-4002-8234-7f7fa0e5bf07"
   },
   "outputs": [
    {
     "data": {
      "text/plain": [
       "(1489, 616)"
      ]
     },
     "execution_count": 38,
     "metadata": {},
     "output_type": "execute_result"
    }
   ],
   "source": [
    "x_test.shape"
   ]
  },
  {
   "cell_type": "code",
   "execution_count": 39,
   "metadata": {
    "id": "v8pixXwRZXAC"
   },
   "outputs": [],
   "source": [
    "xt3 = np.zeros((1489,22,28))\n",
    "xt4 = np.zeros((1489,22,28,1))\n",
    "for i in range(1489):\n",
    "    xt3[i] = x_test[i].reshape((22,28))\n",
    "    for j in range(22):\n",
    "        for k in range(28):\n",
    "            xt4[i][j][k][0] = xt3[i][j][k]"
   ]
  },
  {
   "cell_type": "code",
   "execution_count": 40,
   "metadata": {
    "id": "VE5w-OZxZZas"
   },
   "outputs": [],
   "source": [
    "x_test = xt4"
   ]
  },
  {
   "cell_type": "code",
   "execution_count": 41,
   "metadata": {
    "colab": {
     "base_uri": "https://localhost:8080/"
    },
    "id": "uPbGt94tZes6",
    "outputId": "d5162d44-00e4-4f65-cb52-8cbc12c69183"
   },
   "outputs": [
    {
     "data": {
      "text/plain": [
       "(1489, 22, 28, 1)"
      ]
     },
     "execution_count": 41,
     "metadata": {},
     "output_type": "execute_result"
    }
   ],
   "source": [
    "x_test.shape"
   ]
  },
  {
   "cell_type": "code",
   "execution_count": 42,
   "metadata": {
    "id": "bVUP6DtnRTNv"
   },
   "outputs": [],
   "source": [
    "# 합성곱 층 만들기\n",
    "\n",
    "model = models.Sequential()\n",
    "model.add(layers.Conv2D(32, (3,3), activation='relu', input_shape=(22, 28, 1)))\n",
    "model.add(layers.MaxPooling2D((2,2)))\n",
    "model.add(layers.Dropout(0.25))\n",
    "model.add(layers.Conv2D(64, (3,3), activation='relu'))\n",
    "model.add(layers.MaxPooling2D((2,2)))\n",
    "model.add(layers.Dropout(0.25))\n",
    "model.add(layers.Conv2D(64, (3,3), activation='relu'))"
   ]
  },
  {
   "cell_type": "code",
   "execution_count": 43,
   "metadata": {
    "id": "5UJx-4bARV5a"
   },
   "outputs": [],
   "source": [
    "# 마지막에 Dense 층 추가하기\n",
    "model.add(layers.Dropout(0.25))\n",
    "model.add(layers.Flatten())\n",
    "model.add(layers.Dense(64, activation='relu'))\n",
    "model.add(layers.Dropout(0.25))\n",
    "model.add(layers.Dense(2, activation='softmax'))"
   ]
  },
  {
   "cell_type": "code",
   "execution_count": 44,
   "metadata": {
    "colab": {
     "base_uri": "https://localhost:8080/"
    },
    "id": "1Oh0ykMdRYlY",
    "outputId": "90183b9e-1768-4e6a-92ac-b48eac3dac3c"
   },
   "outputs": [
    {
     "name": "stdout",
     "output_type": "stream",
     "text": [
      "Model: \"sequential\"\n",
      "_________________________________________________________________\n",
      "Layer (type)                 Output Shape              Param #   \n",
      "=================================================================\n",
      "conv2d (Conv2D)              (None, 20, 26, 32)        320       \n",
      "_________________________________________________________________\n",
      "max_pooling2d (MaxPooling2D) (None, 10, 13, 32)        0         \n",
      "_________________________________________________________________\n",
      "dropout (Dropout)            (None, 10, 13, 32)        0         \n",
      "_________________________________________________________________\n",
      "conv2d_1 (Conv2D)            (None, 8, 11, 64)         18496     \n",
      "_________________________________________________________________\n",
      "max_pooling2d_1 (MaxPooling2 (None, 4, 5, 64)          0         \n",
      "_________________________________________________________________\n",
      "dropout_1 (Dropout)          (None, 4, 5, 64)          0         \n",
      "_________________________________________________________________\n",
      "conv2d_2 (Conv2D)            (None, 2, 3, 64)          36928     \n",
      "_________________________________________________________________\n",
      "dropout_2 (Dropout)          (None, 2, 3, 64)          0         \n",
      "_________________________________________________________________\n",
      "flatten (Flatten)            (None, 384)               0         \n",
      "_________________________________________________________________\n",
      "dense (Dense)                (None, 64)                24640     \n",
      "_________________________________________________________________\n",
      "dropout_3 (Dropout)          (None, 64)                0         \n",
      "_________________________________________________________________\n",
      "dense_1 (Dense)              (None, 2)                 130       \n",
      "=================================================================\n",
      "Total params: 80,514\n",
      "Trainable params: 80,514\n",
      "Non-trainable params: 0\n",
      "_________________________________________________________________\n"
     ]
    }
   ],
   "source": [
    "model.summary()"
   ]
  },
  {
   "cell_type": "code",
   "execution_count": 45,
   "metadata": {
    "colab": {
     "base_uri": "https://localhost:8080/"
    },
    "id": "KckyK8nRRama",
    "outputId": "51facd5c-d6b0-4be8-f59a-6966fb4a77ab"
   },
   "outputs": [
    {
     "name": "stdout",
     "output_type": "stream",
     "text": [
      "Epoch 1/100\n",
      "187/187 [==============================] - 2s 4ms/step - loss: 0.4861 - accuracy: 0.7422\n",
      "Epoch 2/100\n",
      "187/187 [==============================] - 1s 4ms/step - loss: 0.3791 - accuracy: 0.8242\n",
      "Epoch 3/100\n",
      "187/187 [==============================] - 1s 4ms/step - loss: 0.3417 - accuracy: 0.8490\n",
      "Epoch 4/100\n",
      "187/187 [==============================] - 1s 4ms/step - loss: 0.3194 - accuracy: 0.8591\n",
      "Epoch 5/100\n",
      "187/187 [==============================] - 1s 4ms/step - loss: 0.3031 - accuracy: 0.8675\n",
      "Epoch 6/100\n",
      "187/187 [==============================] - 1s 4ms/step - loss: 0.2942 - accuracy: 0.8729\n",
      "Epoch 7/100\n",
      "187/187 [==============================] - 1s 4ms/step - loss: 0.2754 - accuracy: 0.8835\n",
      "Epoch 8/100\n",
      "187/187 [==============================] - 1s 4ms/step - loss: 0.2660 - accuracy: 0.8902\n",
      "Epoch 9/100\n",
      "187/187 [==============================] - 1s 4ms/step - loss: 0.2589 - accuracy: 0.8945\n",
      "Epoch 10/100\n",
      "187/187 [==============================] - 1s 4ms/step - loss: 0.2551 - accuracy: 0.8908\n",
      "Epoch 11/100\n",
      "187/187 [==============================] - 1s 4ms/step - loss: 0.2422 - accuracy: 0.8969\n",
      "Epoch 12/100\n",
      "187/187 [==============================] - 1s 4ms/step - loss: 0.2379 - accuracy: 0.9041\n",
      "Epoch 13/100\n",
      "187/187 [==============================] - 1s 4ms/step - loss: 0.2402 - accuracy: 0.9046\n",
      "Epoch 14/100\n",
      "187/187 [==============================] - 1s 4ms/step - loss: 0.2346 - accuracy: 0.9058\n",
      "Epoch 15/100\n",
      "187/187 [==============================] - 1s 4ms/step - loss: 0.2293 - accuracy: 0.9081\n",
      "Epoch 16/100\n",
      "187/187 [==============================] - 1s 4ms/step - loss: 0.2228 - accuracy: 0.9107\n",
      "Epoch 17/100\n",
      "187/187 [==============================] - 1s 4ms/step - loss: 0.2228 - accuracy: 0.9103\n",
      "Epoch 18/100\n",
      "187/187 [==============================] - 1s 4ms/step - loss: 0.2198 - accuracy: 0.9135\n",
      "Epoch 19/100\n",
      "187/187 [==============================] - 1s 4ms/step - loss: 0.2180 - accuracy: 0.9132\n",
      "Epoch 20/100\n",
      "187/187 [==============================] - 1s 4ms/step - loss: 0.2057 - accuracy: 0.9170\n",
      "Epoch 21/100\n",
      "187/187 [==============================] - 1s 4ms/step - loss: 0.2067 - accuracy: 0.9169\n",
      "Epoch 22/100\n",
      "187/187 [==============================] - 1s 4ms/step - loss: 0.2030 - accuracy: 0.9207\n",
      "Epoch 23/100\n",
      "187/187 [==============================] - 1s 4ms/step - loss: 0.1984 - accuracy: 0.9194\n",
      "Epoch 24/100\n",
      "187/187 [==============================] - 1s 4ms/step - loss: 0.2070 - accuracy: 0.9177\n",
      "Epoch 25/100\n",
      "187/187 [==============================] - 1s 4ms/step - loss: 0.1941 - accuracy: 0.9244\n",
      "Epoch 26/100\n",
      "187/187 [==============================] - 1s 4ms/step - loss: 0.1965 - accuracy: 0.9229\n",
      "Epoch 27/100\n",
      "187/187 [==============================] - 1s 4ms/step - loss: 0.1861 - accuracy: 0.9288\n",
      "Epoch 28/100\n",
      "187/187 [==============================] - 1s 4ms/step - loss: 0.1906 - accuracy: 0.9238\n",
      "Epoch 29/100\n",
      "187/187 [==============================] - 1s 4ms/step - loss: 0.1886 - accuracy: 0.9258\n",
      "Epoch 30/100\n",
      "187/187 [==============================] - 1s 4ms/step - loss: 0.1896 - accuracy: 0.9264\n",
      "Epoch 31/100\n",
      "187/187 [==============================] - 1s 4ms/step - loss: 0.1859 - accuracy: 0.9281\n",
      "Epoch 32/100\n",
      "187/187 [==============================] - 1s 4ms/step - loss: 0.1796 - accuracy: 0.9306\n",
      "Epoch 33/100\n",
      "187/187 [==============================] - 1s 4ms/step - loss: 0.1808 - accuracy: 0.9286\n",
      "Epoch 34/100\n",
      "187/187 [==============================] - 1s 4ms/step - loss: 0.1811 - accuracy: 0.9293\n",
      "Epoch 35/100\n",
      "187/187 [==============================] - 1s 4ms/step - loss: 0.1847 - accuracy: 0.9305\n",
      "Epoch 36/100\n",
      "187/187 [==============================] - 1s 4ms/step - loss: 0.1787 - accuracy: 0.9315\n",
      "Epoch 37/100\n",
      "187/187 [==============================] - 1s 4ms/step - loss: 0.1749 - accuracy: 0.9345\n",
      "Epoch 38/100\n",
      "187/187 [==============================] - 1s 5ms/step - loss: 0.1745 - accuracy: 0.9315\n",
      "Epoch 39/100\n",
      "187/187 [==============================] - 1s 4ms/step - loss: 0.1765 - accuracy: 0.9325\n",
      "Epoch 40/100\n",
      "187/187 [==============================] - 1s 4ms/step - loss: 0.1777 - accuracy: 0.9317\n",
      "Epoch 41/100\n",
      "187/187 [==============================] - 1s 4ms/step - loss: 0.1722 - accuracy: 0.9301\n",
      "Epoch 42/100\n",
      "187/187 [==============================] - 1s 4ms/step - loss: 0.1707 - accuracy: 0.9332\n",
      "Epoch 43/100\n",
      "187/187 [==============================] - 1s 4ms/step - loss: 0.1672 - accuracy: 0.9355\n",
      "Epoch 44/100\n",
      "187/187 [==============================] - 1s 4ms/step - loss: 0.1677 - accuracy: 0.9365\n",
      "Epoch 45/100\n",
      "187/187 [==============================] - 1s 4ms/step - loss: 0.1666 - accuracy: 0.9352\n",
      "Epoch 46/100\n",
      "187/187 [==============================] - 1s 4ms/step - loss: 0.1631 - accuracy: 0.9382\n",
      "Epoch 47/100\n",
      "187/187 [==============================] - 1s 4ms/step - loss: 0.1673 - accuracy: 0.9352\n",
      "Epoch 48/100\n",
      "187/187 [==============================] - 1s 4ms/step - loss: 0.1581 - accuracy: 0.9394\n",
      "Epoch 49/100\n",
      "187/187 [==============================] - 1s 4ms/step - loss: 0.1610 - accuracy: 0.9377\n",
      "Epoch 50/100\n",
      "187/187 [==============================] - 1s 4ms/step - loss: 0.1603 - accuracy: 0.9395\n",
      "Epoch 51/100\n",
      "187/187 [==============================] - 1s 4ms/step - loss: 0.1611 - accuracy: 0.9372\n",
      "Epoch 52/100\n",
      "187/187 [==============================] - 1s 4ms/step - loss: 0.1650 - accuracy: 0.9374\n",
      "Epoch 53/100\n",
      "187/187 [==============================] - 1s 4ms/step - loss: 0.1575 - accuracy: 0.9414\n",
      "Epoch 54/100\n",
      "187/187 [==============================] - 1s 4ms/step - loss: 0.1550 - accuracy: 0.9395\n",
      "Epoch 55/100\n",
      "187/187 [==============================] - 1s 4ms/step - loss: 0.1563 - accuracy: 0.9416\n",
      "Epoch 56/100\n",
      "187/187 [==============================] - 1s 4ms/step - loss: 0.1561 - accuracy: 0.9392\n",
      "Epoch 57/100\n",
      "187/187 [==============================] - 1s 4ms/step - loss: 0.1522 - accuracy: 0.9424\n",
      "Epoch 58/100\n",
      "187/187 [==============================] - 1s 4ms/step - loss: 0.1555 - accuracy: 0.9384\n",
      "Epoch 59/100\n",
      "187/187 [==============================] - 1s 4ms/step - loss: 0.1483 - accuracy: 0.9434\n",
      "Epoch 60/100\n",
      "187/187 [==============================] - 1s 3ms/step - loss: 0.1500 - accuracy: 0.9424\n",
      "Epoch 61/100\n",
      "187/187 [==============================] - 1s 4ms/step - loss: 0.1486 - accuracy: 0.9449\n",
      "Epoch 62/100\n",
      "187/187 [==============================] - 1s 4ms/step - loss: 0.1509 - accuracy: 0.9436\n",
      "Epoch 63/100\n",
      "187/187 [==============================] - 1s 3ms/step - loss: 0.1536 - accuracy: 0.9444\n",
      "Epoch 64/100\n",
      "187/187 [==============================] - 1s 3ms/step - loss: 0.1392 - accuracy: 0.9466\n",
      "Epoch 65/100\n",
      "187/187 [==============================] - 1s 3ms/step - loss: 0.1454 - accuracy: 0.9426\n",
      "Epoch 66/100\n",
      "187/187 [==============================] - 1s 3ms/step - loss: 0.1455 - accuracy: 0.9458\n",
      "Epoch 67/100\n",
      "187/187 [==============================] - 1s 3ms/step - loss: 0.1459 - accuracy: 0.9464\n",
      "Epoch 68/100\n",
      "187/187 [==============================] - 1s 3ms/step - loss: 0.1455 - accuracy: 0.9441\n",
      "Epoch 69/100\n",
      "187/187 [==============================] - 1s 3ms/step - loss: 0.1413 - accuracy: 0.9478\n",
      "Epoch 70/100\n",
      "187/187 [==============================] - 1s 4ms/step - loss: 0.1426 - accuracy: 0.9476\n",
      "Epoch 71/100\n",
      "187/187 [==============================] - 1s 4ms/step - loss: 0.1556 - accuracy: 0.9401\n",
      "Epoch 72/100\n",
      "187/187 [==============================] - 1s 4ms/step - loss: 0.1379 - accuracy: 0.9478\n",
      "Epoch 73/100\n",
      "187/187 [==============================] - 1s 3ms/step - loss: 0.1442 - accuracy: 0.9442\n",
      "Epoch 74/100\n",
      "187/187 [==============================] - 1s 4ms/step - loss: 0.1410 - accuracy: 0.9476\n",
      "Epoch 75/100\n",
      "187/187 [==============================] - 1s 3ms/step - loss: 0.1412 - accuracy: 0.9479\n",
      "Epoch 76/100\n",
      "187/187 [==============================] - 1s 3ms/step - loss: 0.1417 - accuracy: 0.9473\n",
      "Epoch 77/100\n",
      "187/187 [==============================] - 1s 3ms/step - loss: 0.1396 - accuracy: 0.9488\n",
      "Epoch 78/100\n",
      "187/187 [==============================] - 1s 4ms/step - loss: 0.1400 - accuracy: 0.9481\n",
      "Epoch 79/100\n",
      "187/187 [==============================] - 1s 3ms/step - loss: 0.1379 - accuracy: 0.9500\n",
      "Epoch 80/100\n",
      "187/187 [==============================] - 1s 3ms/step - loss: 0.1367 - accuracy: 0.9496\n",
      "Epoch 81/100\n"
     ]
    },
    {
     "name": "stdout",
     "output_type": "stream",
     "text": [
      "187/187 [==============================] - 1s 4ms/step - loss: 0.1905 - accuracy: 0.9243\n",
      "Epoch 82/100\n",
      "187/187 [==============================] - 1s 3ms/step - loss: 0.1521 - accuracy: 0.9414\n",
      "Epoch 83/100\n",
      "187/187 [==============================] - 1s 3ms/step - loss: 0.1367 - accuracy: 0.9493\n",
      "Epoch 84/100\n",
      "187/187 [==============================] - 1s 3ms/step - loss: 0.1368 - accuracy: 0.9484\n",
      "Epoch 85/100\n",
      "187/187 [==============================] - 1s 3ms/step - loss: 0.1355 - accuracy: 0.9488\n",
      "Epoch 86/100\n",
      "187/187 [==============================] - 1s 4ms/step - loss: 0.1365 - accuracy: 0.9523\n",
      "Epoch 87/100\n",
      "187/187 [==============================] - 1s 4ms/step - loss: 0.1328 - accuracy: 0.9513\n",
      "Epoch 88/100\n",
      "187/187 [==============================] - 1s 4ms/step - loss: 0.1387 - accuracy: 0.9488\n",
      "Epoch 89/100\n",
      "187/187 [==============================] - 1s 3ms/step - loss: 0.1356 - accuracy: 0.9500\n",
      "Epoch 90/100\n",
      "187/187 [==============================] - 1s 4ms/step - loss: 0.1329 - accuracy: 0.9526\n",
      "Epoch 91/100\n",
      "187/187 [==============================] - 1s 4ms/step - loss: 0.1313 - accuracy: 0.9513\n",
      "Epoch 92/100\n",
      "187/187 [==============================] - 1s 4ms/step - loss: 0.1303 - accuracy: 0.9521\n",
      "Epoch 93/100\n",
      "187/187 [==============================] - 1s 4ms/step - loss: 0.1377 - accuracy: 0.9493\n",
      "Epoch 94/100\n",
      "187/187 [==============================] - 1s 4ms/step - loss: 0.1264 - accuracy: 0.9523\n",
      "Epoch 95/100\n",
      "187/187 [==============================] - 1s 4ms/step - loss: 0.1277 - accuracy: 0.9563\n",
      "Epoch 96/100\n",
      "187/187 [==============================] - 1s 4ms/step - loss: 0.1318 - accuracy: 0.9520\n",
      "Epoch 97/100\n",
      "187/187 [==============================] - 1s 4ms/step - loss: 0.1292 - accuracy: 0.9552\n",
      "Epoch 98/100\n",
      "187/187 [==============================] - 1s 4ms/step - loss: 0.1326 - accuracy: 0.9511\n",
      "Epoch 99/100\n",
      "187/187 [==============================] - 1s 4ms/step - loss: 0.1280 - accuracy: 0.9562\n",
      "Epoch 100/100\n",
      "187/187 [==============================] - 1s 4ms/step - loss: 0.1339 - accuracy: 0.9528\n"
     ]
    },
    {
     "data": {
      "text/plain": [
       "<keras.callbacks.History at 0x240198eadc0>"
      ]
     },
     "execution_count": 45,
     "metadata": {},
     "output_type": "execute_result"
    }
   ],
   "source": [
    "# 모델 컴파일과 훈련하기\n",
    "model.compile(optimizer='adam', \n",
    "              loss='sparse_categorical_crossentropy', \n",
    "              metrics=['accuracy'])\n",
    "model.fit(x_train, y_train, epochs=100)"
   ]
  },
  {
   "cell_type": "code",
   "execution_count": 46,
   "metadata": {
    "colab": {
     "base_uri": "https://localhost:8080/"
    },
    "id": "LSYJLi60SK7j",
    "outputId": "5a9fb56c-8e9b-4064-dbaa-af8fcff2af49"
   },
   "outputs": [
    {
     "name": "stdout",
     "output_type": "stream",
     "text": [
      "47/47 - 0s - loss: 0.3591 - accuracy: 0.9167\n",
      "0.9167226552963257\n"
     ]
    }
   ],
   "source": [
    "# 모델 평가\n",
    "test_loss, test_acc = model.evaluate(x_test, y_test, verbose=2)\n",
    "print(test_acc)"
   ]
  }
 ],
 "metadata": {
  "accelerator": "GPU",
  "colab": {
   "collapsed_sections": [],
   "name": "CNN.ipynb",
   "provenance": []
  },
  "kernelspec": {
   "display_name": "Python 3 (ipykernel)",
   "language": "python",
   "name": "python3"
  },
  "language_info": {
   "codemirror_mode": {
    "name": "ipython",
    "version": 3
   },
   "file_extension": ".py",
   "mimetype": "text/x-python",
   "name": "python",
   "nbconvert_exporter": "python",
   "pygments_lexer": "ipython3",
   "version": "3.9.7"
  }
 },
 "nbformat": 4,
 "nbformat_minor": 1
}
