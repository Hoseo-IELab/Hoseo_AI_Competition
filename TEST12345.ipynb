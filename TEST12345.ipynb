{
 "cells": [
  {
   "cell_type": "code",
   "execution_count": 1,
   "metadata": {},
   "outputs": [],
   "source": [
    "import numpy as np\n",
    "import pandas as pd\n",
    "\n",
    "from sklearn.ensemble import RandomForestClassifier\n",
    "from xgboost import XGBClassifier\n",
    "from lightgbm import LGBMClassifier\n",
    "from catboost import CatBoostClassifier\n",
    "\n",
    "from sklearn.model_selection import StratifiedKFold\n",
    "from sklearn.model_selection import train_test_split\n",
    "\n",
    "from sklearn.metrics import classification_report, accuracy_score, confusion_matrix\n",
    "from sklearn.metrics import roc_auc_score\n",
    "\n",
    "\n",
    "%matplotlib inline\n",
    "import matplotlib\n",
    "import matplotlib.pyplot as plt\n",
    "import seaborn as sns"
   ]
  },
  {
   "cell_type": "code",
   "execution_count": 2,
   "metadata": {},
   "outputs": [],
   "source": [
    "train = pd.read_csv(\"preprocessed_train.csv\", encoding='euc-kr')"
   ]
  },
  {
   "cell_type": "code",
   "execution_count": 3,
   "metadata": {},
   "outputs": [],
   "source": [
    "train = train.drop(columns=['분석데이터'], axis=1)"
   ]
  },
  {
   "cell_type": "code",
   "execution_count": 4,
   "metadata": {
    "scrolled": false
   },
   "outputs": [
    {
     "data": {
      "text/html": [
       "<div>\n",
       "<style scoped>\n",
       "    .dataframe tbody tr th:only-of-type {\n",
       "        vertical-align: middle;\n",
       "    }\n",
       "\n",
       "    .dataframe tbody tr th {\n",
       "        vertical-align: top;\n",
       "    }\n",
       "\n",
       "    .dataframe thead th {\n",
       "        text-align: right;\n",
       "    }\n",
       "</style>\n",
       "<table border=\"1\" class=\"dataframe\">\n",
       "  <thead>\n",
       "    <tr style=\"text-align: right;\">\n",
       "      <th></th>\n",
       "      <th>label</th>\n",
       "      <th>numstrings</th>\n",
       "      <th>avlength</th>\n",
       "      <th>printables</th>\n",
       "      <th>entropy</th>\n",
       "      <th>paths</th>\n",
       "      <th>urls</th>\n",
       "      <th>registry</th>\n",
       "      <th>MZ</th>\n",
       "      <th>a_0</th>\n",
       "      <th>...</th>\n",
       "      <th>dist_86</th>\n",
       "      <th>dist_87</th>\n",
       "      <th>dist_88</th>\n",
       "      <th>dist_89</th>\n",
       "      <th>dist_90</th>\n",
       "      <th>dist_91</th>\n",
       "      <th>dist_92</th>\n",
       "      <th>dist_93</th>\n",
       "      <th>dist_94</th>\n",
       "      <th>dist_95</th>\n",
       "    </tr>\n",
       "  </thead>\n",
       "  <tbody>\n",
       "    <tr>\n",
       "      <th>0</th>\n",
       "      <td>1</td>\n",
       "      <td>144</td>\n",
       "      <td>12.298611</td>\n",
       "      <td>1771</td>\n",
       "      <td>5.356616</td>\n",
       "      <td>0</td>\n",
       "      <td>0</td>\n",
       "      <td>0</td>\n",
       "      <td>1</td>\n",
       "      <td>2399</td>\n",
       "      <td>...</td>\n",
       "      <td>10</td>\n",
       "      <td>4</td>\n",
       "      <td>10</td>\n",
       "      <td>9</td>\n",
       "      <td>4</td>\n",
       "      <td>0</td>\n",
       "      <td>1</td>\n",
       "      <td>0</td>\n",
       "      <td>0</td>\n",
       "      <td>0</td>\n",
       "    </tr>\n",
       "    <tr>\n",
       "      <th>1</th>\n",
       "      <td>1</td>\n",
       "      <td>804</td>\n",
       "      <td>9.580846</td>\n",
       "      <td>7703</td>\n",
       "      <td>6.063542</td>\n",
       "      <td>0</td>\n",
       "      <td>0</td>\n",
       "      <td>0</td>\n",
       "      <td>6</td>\n",
       "      <td>183376</td>\n",
       "      <td>...</td>\n",
       "      <td>43</td>\n",
       "      <td>121</td>\n",
       "      <td>84</td>\n",
       "      <td>78</td>\n",
       "      <td>47</td>\n",
       "      <td>36</td>\n",
       "      <td>40</td>\n",
       "      <td>45</td>\n",
       "      <td>27</td>\n",
       "      <td>36</td>\n",
       "    </tr>\n",
       "    <tr>\n",
       "      <th>2</th>\n",
       "      <td>0</td>\n",
       "      <td>2205</td>\n",
       "      <td>12.736054</td>\n",
       "      <td>28083</td>\n",
       "      <td>6.107050</td>\n",
       "      <td>9</td>\n",
       "      <td>0</td>\n",
       "      <td>0</td>\n",
       "      <td>6</td>\n",
       "      <td>1178</td>\n",
       "      <td>...</td>\n",
       "      <td>326</td>\n",
       "      <td>268</td>\n",
       "      <td>239</td>\n",
       "      <td>286</td>\n",
       "      <td>199</td>\n",
       "      <td>148</td>\n",
       "      <td>154</td>\n",
       "      <td>37</td>\n",
       "      <td>48</td>\n",
       "      <td>36</td>\n",
       "    </tr>\n",
       "    <tr>\n",
       "      <th>3</th>\n",
       "      <td>0</td>\n",
       "      <td>2602</td>\n",
       "      <td>10.288240</td>\n",
       "      <td>26770</td>\n",
       "      <td>5.373013</td>\n",
       "      <td>8</td>\n",
       "      <td>0</td>\n",
       "      <td>0</td>\n",
       "      <td>1</td>\n",
       "      <td>56851</td>\n",
       "      <td>...</td>\n",
       "      <td>336</td>\n",
       "      <td>230</td>\n",
       "      <td>206</td>\n",
       "      <td>245</td>\n",
       "      <td>76</td>\n",
       "      <td>0</td>\n",
       "      <td>26</td>\n",
       "      <td>702</td>\n",
       "      <td>1</td>\n",
       "      <td>5</td>\n",
       "    </tr>\n",
       "    <tr>\n",
       "      <th>4</th>\n",
       "      <td>1</td>\n",
       "      <td>8980</td>\n",
       "      <td>23.252339</td>\n",
       "      <td>208806</td>\n",
       "      <td>5.775223</td>\n",
       "      <td>0</td>\n",
       "      <td>28</td>\n",
       "      <td>16</td>\n",
       "      <td>3</td>\n",
       "      <td>124274</td>\n",
       "      <td>...</td>\n",
       "      <td>731</td>\n",
       "      <td>882</td>\n",
       "      <td>1171</td>\n",
       "      <td>1010</td>\n",
       "      <td>322</td>\n",
       "      <td>64</td>\n",
       "      <td>327</td>\n",
       "      <td>84</td>\n",
       "      <td>75</td>\n",
       "      <td>244</td>\n",
       "    </tr>\n",
       "    <tr>\n",
       "      <th>...</th>\n",
       "      <td>...</td>\n",
       "      <td>...</td>\n",
       "      <td>...</td>\n",
       "      <td>...</td>\n",
       "      <td>...</td>\n",
       "      <td>...</td>\n",
       "      <td>...</td>\n",
       "      <td>...</td>\n",
       "      <td>...</td>\n",
       "      <td>...</td>\n",
       "      <td>...</td>\n",
       "      <td>...</td>\n",
       "      <td>...</td>\n",
       "      <td>...</td>\n",
       "      <td>...</td>\n",
       "      <td>...</td>\n",
       "      <td>...</td>\n",
       "      <td>...</td>\n",
       "      <td>...</td>\n",
       "      <td>...</td>\n",
       "      <td>...</td>\n",
       "    </tr>\n",
       "    <tr>\n",
       "      <th>9995</th>\n",
       "      <td>1</td>\n",
       "      <td>2018</td>\n",
       "      <td>13.938057</td>\n",
       "      <td>28127</td>\n",
       "      <td>5.940442</td>\n",
       "      <td>0</td>\n",
       "      <td>70</td>\n",
       "      <td>0</td>\n",
       "      <td>11</td>\n",
       "      <td>255044</td>\n",
       "      <td>...</td>\n",
       "      <td>246</td>\n",
       "      <td>186</td>\n",
       "      <td>206</td>\n",
       "      <td>235</td>\n",
       "      <td>88</td>\n",
       "      <td>33</td>\n",
       "      <td>81</td>\n",
       "      <td>58</td>\n",
       "      <td>61</td>\n",
       "      <td>72</td>\n",
       "    </tr>\n",
       "    <tr>\n",
       "      <th>9996</th>\n",
       "      <td>0</td>\n",
       "      <td>1105</td>\n",
       "      <td>16.437104</td>\n",
       "      <td>18163</td>\n",
       "      <td>5.766962</td>\n",
       "      <td>0</td>\n",
       "      <td>11</td>\n",
       "      <td>0</td>\n",
       "      <td>3</td>\n",
       "      <td>181296</td>\n",
       "      <td>...</td>\n",
       "      <td>199</td>\n",
       "      <td>57</td>\n",
       "      <td>134</td>\n",
       "      <td>123</td>\n",
       "      <td>20</td>\n",
       "      <td>25</td>\n",
       "      <td>28</td>\n",
       "      <td>25</td>\n",
       "      <td>41</td>\n",
       "      <td>13</td>\n",
       "    </tr>\n",
       "    <tr>\n",
       "      <th>9997</th>\n",
       "      <td>0</td>\n",
       "      <td>4</td>\n",
       "      <td>58.500000</td>\n",
       "      <td>234</td>\n",
       "      <td>3.811827</td>\n",
       "      <td>0</td>\n",
       "      <td>0</td>\n",
       "      <td>0</td>\n",
       "      <td>1</td>\n",
       "      <td>68736</td>\n",
       "      <td>...</td>\n",
       "      <td>0</td>\n",
       "      <td>0</td>\n",
       "      <td>0</td>\n",
       "      <td>0</td>\n",
       "      <td>0</td>\n",
       "      <td>0</td>\n",
       "      <td>0</td>\n",
       "      <td>0</td>\n",
       "      <td>0</td>\n",
       "      <td>0</td>\n",
       "    </tr>\n",
       "    <tr>\n",
       "      <th>9998</th>\n",
       "      <td>1</td>\n",
       "      <td>3312</td>\n",
       "      <td>24.939312</td>\n",
       "      <td>82599</td>\n",
       "      <td>5.834730</td>\n",
       "      <td>0</td>\n",
       "      <td>39</td>\n",
       "      <td>0</td>\n",
       "      <td>8</td>\n",
       "      <td>90648</td>\n",
       "      <td>...</td>\n",
       "      <td>438</td>\n",
       "      <td>985</td>\n",
       "      <td>806</td>\n",
       "      <td>851</td>\n",
       "      <td>113</td>\n",
       "      <td>123</td>\n",
       "      <td>181</td>\n",
       "      <td>100</td>\n",
       "      <td>75</td>\n",
       "      <td>86</td>\n",
       "    </tr>\n",
       "    <tr>\n",
       "      <th>9999</th>\n",
       "      <td>0</td>\n",
       "      <td>655</td>\n",
       "      <td>6.077863</td>\n",
       "      <td>3981</td>\n",
       "      <td>6.519481</td>\n",
       "      <td>0</td>\n",
       "      <td>0</td>\n",
       "      <td>0</td>\n",
       "      <td>4</td>\n",
       "      <td>14738</td>\n",
       "      <td>...</td>\n",
       "      <td>44</td>\n",
       "      <td>32</td>\n",
       "      <td>26</td>\n",
       "      <td>32</td>\n",
       "      <td>28</td>\n",
       "      <td>30</td>\n",
       "      <td>33</td>\n",
       "      <td>23</td>\n",
       "      <td>26</td>\n",
       "      <td>32</td>\n",
       "    </tr>\n",
       "  </tbody>\n",
       "</table>\n",
       "<p>10000 rows × 617 columns</p>\n",
       "</div>"
      ],
      "text/plain": [
       "      label  numstrings   avlength  printables   entropy  paths  urls  \\\n",
       "0         1         144  12.298611        1771  5.356616      0     0   \n",
       "1         1         804   9.580846        7703  6.063542      0     0   \n",
       "2         0        2205  12.736054       28083  6.107050      9     0   \n",
       "3         0        2602  10.288240       26770  5.373013      8     0   \n",
       "4         1        8980  23.252339      208806  5.775223      0    28   \n",
       "...     ...         ...        ...         ...       ...    ...   ...   \n",
       "9995      1        2018  13.938057       28127  5.940442      0    70   \n",
       "9996      0        1105  16.437104       18163  5.766962      0    11   \n",
       "9997      0           4  58.500000         234  3.811827      0     0   \n",
       "9998      1        3312  24.939312       82599  5.834730      0    39   \n",
       "9999      0         655   6.077863        3981  6.519481      0     0   \n",
       "\n",
       "      registry  MZ     a_0  ...  dist_86  dist_87  dist_88  dist_89  dist_90  \\\n",
       "0            0   1    2399  ...       10        4       10        9        4   \n",
       "1            0   6  183376  ...       43      121       84       78       47   \n",
       "2            0   6    1178  ...      326      268      239      286      199   \n",
       "3            0   1   56851  ...      336      230      206      245       76   \n",
       "4           16   3  124274  ...      731      882     1171     1010      322   \n",
       "...        ...  ..     ...  ...      ...      ...      ...      ...      ...   \n",
       "9995         0  11  255044  ...      246      186      206      235       88   \n",
       "9996         0   3  181296  ...      199       57      134      123       20   \n",
       "9997         0   1   68736  ...        0        0        0        0        0   \n",
       "9998         0   8   90648  ...      438      985      806      851      113   \n",
       "9999         0   4   14738  ...       44       32       26       32       28   \n",
       "\n",
       "      dist_91  dist_92  dist_93  dist_94  dist_95  \n",
       "0           0        1        0        0        0  \n",
       "1          36       40       45       27       36  \n",
       "2         148      154       37       48       36  \n",
       "3           0       26      702        1        5  \n",
       "4          64      327       84       75      244  \n",
       "...       ...      ...      ...      ...      ...  \n",
       "9995       33       81       58       61       72  \n",
       "9996       25       28       25       41       13  \n",
       "9997        0        0        0        0        0  \n",
       "9998      123      181      100       75       86  \n",
       "9999       30       33       23       26       32  \n",
       "\n",
       "[10000 rows x 617 columns]"
      ]
     },
     "execution_count": 4,
     "metadata": {},
     "output_type": "execute_result"
    }
   ],
   "source": [
    "train"
   ]
  },
  {
   "cell_type": "code",
   "execution_count": 5,
   "metadata": {},
   "outputs": [],
   "source": [
    "train_df_x = train.drop(['label'], axis=1)"
   ]
  },
  {
   "cell_type": "code",
   "execution_count": 6,
   "metadata": {},
   "outputs": [],
   "source": [
    "train_df_y = train['label']"
   ]
  },
  {
   "cell_type": "code",
   "execution_count": 7,
   "metadata": {},
   "outputs": [],
   "source": [
    "x_train, x_test, y_train, y_test = train_test_split(train_df_x, train_df_y, test_size=0.2, random_state=42)"
   ]
  },
  {
   "cell_type": "code",
   "execution_count": 8,
   "metadata": {},
   "outputs": [],
   "source": [
    "from sklearn.preprocessing import StandardScaler\n",
    "\n",
    "scaler = StandardScaler().fit(x_train)\n",
    "x_train_scaled = scaler.transform(x_train)\n",
    "x_test_scaled = scaler.transform(x_test)"
   ]
  },
  {
   "cell_type": "code",
   "execution_count": 9,
   "metadata": {},
   "outputs": [],
   "source": [
    "x = scaler.transform(train_df_x)"
   ]
  },
  {
   "cell_type": "code",
   "execution_count": 11,
   "metadata": {},
   "outputs": [],
   "source": [
    "features = train_df_x.columns.values"
   ]
  },
  {
   "cell_type": "code",
   "execution_count": 12,
   "metadata": {},
   "outputs": [],
   "source": [
    "x = pd.DataFrame(data=x, columns=features)"
   ]
  },
  {
   "cell_type": "code",
   "execution_count": 13,
   "metadata": {},
   "outputs": [
    {
     "data": {
      "text/html": [
       "<div>\n",
       "<style scoped>\n",
       "    .dataframe tbody tr th:only-of-type {\n",
       "        vertical-align: middle;\n",
       "    }\n",
       "\n",
       "    .dataframe tbody tr th {\n",
       "        vertical-align: top;\n",
       "    }\n",
       "\n",
       "    .dataframe thead th {\n",
       "        text-align: right;\n",
       "    }\n",
       "</style>\n",
       "<table border=\"1\" class=\"dataframe\">\n",
       "  <thead>\n",
       "    <tr style=\"text-align: right;\">\n",
       "      <th></th>\n",
       "      <th>numstrings</th>\n",
       "      <th>avlength</th>\n",
       "      <th>printables</th>\n",
       "      <th>entropy</th>\n",
       "      <th>paths</th>\n",
       "      <th>urls</th>\n",
       "      <th>registry</th>\n",
       "      <th>MZ</th>\n",
       "      <th>a_0</th>\n",
       "      <th>a_1</th>\n",
       "      <th>...</th>\n",
       "      <th>dist_86</th>\n",
       "      <th>dist_87</th>\n",
       "      <th>dist_88</th>\n",
       "      <th>dist_89</th>\n",
       "      <th>dist_90</th>\n",
       "      <th>dist_91</th>\n",
       "      <th>dist_92</th>\n",
       "      <th>dist_93</th>\n",
       "      <th>dist_94</th>\n",
       "      <th>dist_95</th>\n",
       "    </tr>\n",
       "  </thead>\n",
       "  <tbody>\n",
       "    <tr>\n",
       "      <th>0</th>\n",
       "      <td>-0.455925</td>\n",
       "      <td>-0.106437</td>\n",
       "      <td>-0.397631</td>\n",
       "      <td>-0.525787</td>\n",
       "      <td>-0.024564</td>\n",
       "      <td>-0.263464</td>\n",
       "      <td>-0.180745</td>\n",
       "      <td>-0.290310</td>\n",
       "      <td>-0.191748</td>\n",
       "      <td>-0.390284</td>\n",
       "      <td>...</td>\n",
       "      <td>-0.318129</td>\n",
       "      <td>-0.291736</td>\n",
       "      <td>-0.309491</td>\n",
       "      <td>-0.305251</td>\n",
       "      <td>-0.194456</td>\n",
       "      <td>-0.247290</td>\n",
       "      <td>-0.390138</td>\n",
       "      <td>-0.264375</td>\n",
       "      <td>-0.396086</td>\n",
       "      <td>-0.374704</td>\n",
       "    </tr>\n",
       "    <tr>\n",
       "      <th>1</th>\n",
       "      <td>-0.415236</td>\n",
       "      <td>-0.124612</td>\n",
       "      <td>-0.377245</td>\n",
       "      <td>0.430533</td>\n",
       "      <td>-0.024564</td>\n",
       "      <td>-0.263464</td>\n",
       "      <td>-0.180745</td>\n",
       "      <td>-0.199413</td>\n",
       "      <td>-0.005651</td>\n",
       "      <td>-0.143875</td>\n",
       "      <td>...</td>\n",
       "      <td>-0.308489</td>\n",
       "      <td>-0.263467</td>\n",
       "      <td>-0.293106</td>\n",
       "      <td>-0.292545</td>\n",
       "      <td>-0.190753</td>\n",
       "      <td>-0.217074</td>\n",
       "      <td>-0.347790</td>\n",
       "      <td>-0.223377</td>\n",
       "      <td>-0.359557</td>\n",
       "      <td>-0.328061</td>\n",
       "    </tr>\n",
       "    <tr>\n",
       "      <th>2</th>\n",
       "      <td>-0.328864</td>\n",
       "      <td>-0.103512</td>\n",
       "      <td>-0.307209</td>\n",
       "      <td>0.489389</td>\n",
       "      <td>0.055828</td>\n",
       "      <td>-0.263464</td>\n",
       "      <td>-0.180745</td>\n",
       "      <td>-0.199413</td>\n",
       "      <td>-0.193003</td>\n",
       "      <td>-0.407241</td>\n",
       "      <td>...</td>\n",
       "      <td>-0.225815</td>\n",
       "      <td>-0.227950</td>\n",
       "      <td>-0.258784</td>\n",
       "      <td>-0.254242</td>\n",
       "      <td>-0.177662</td>\n",
       "      <td>-0.123071</td>\n",
       "      <td>-0.224003</td>\n",
       "      <td>-0.230666</td>\n",
       "      <td>-0.331145</td>\n",
       "      <td>-0.328061</td>\n",
       "    </tr>\n",
       "    <tr>\n",
       "      <th>3</th>\n",
       "      <td>-0.304389</td>\n",
       "      <td>-0.119881</td>\n",
       "      <td>-0.311721</td>\n",
       "      <td>-0.503605</td>\n",
       "      <td>0.046896</td>\n",
       "      <td>-0.263464</td>\n",
       "      <td>-0.180745</td>\n",
       "      <td>-0.290310</td>\n",
       "      <td>-0.135755</td>\n",
       "      <td>-0.326289</td>\n",
       "      <td>...</td>\n",
       "      <td>-0.222894</td>\n",
       "      <td>-0.237131</td>\n",
       "      <td>-0.266091</td>\n",
       "      <td>-0.261792</td>\n",
       "      <td>-0.188255</td>\n",
       "      <td>-0.247290</td>\n",
       "      <td>-0.362992</td>\n",
       "      <td>0.375192</td>\n",
       "      <td>-0.394733</td>\n",
       "      <td>-0.368225</td>\n",
       "    </tr>\n",
       "    <tr>\n",
       "      <th>4</th>\n",
       "      <td>0.088814</td>\n",
       "      <td>-0.033188</td>\n",
       "      <td>0.313850</td>\n",
       "      <td>0.040499</td>\n",
       "      <td>-0.024564</td>\n",
       "      <td>0.440422</td>\n",
       "      <td>6.885656</td>\n",
       "      <td>-0.253951</td>\n",
       "      <td>-0.066425</td>\n",
       "      <td>-0.228006</td>\n",
       "      <td>...</td>\n",
       "      <td>-0.107501</td>\n",
       "      <td>-0.079600</td>\n",
       "      <td>-0.052412</td>\n",
       "      <td>-0.120917</td>\n",
       "      <td>-0.167069</td>\n",
       "      <td>-0.193573</td>\n",
       "      <td>-0.036152</td>\n",
       "      <td>-0.187846</td>\n",
       "      <td>-0.294616</td>\n",
       "      <td>-0.058574</td>\n",
       "    </tr>\n",
       "    <tr>\n",
       "      <th>...</th>\n",
       "      <td>...</td>\n",
       "      <td>...</td>\n",
       "      <td>...</td>\n",
       "      <td>...</td>\n",
       "      <td>...</td>\n",
       "      <td>...</td>\n",
       "      <td>...</td>\n",
       "      <td>...</td>\n",
       "      <td>...</td>\n",
       "      <td>...</td>\n",
       "      <td>...</td>\n",
       "      <td>...</td>\n",
       "      <td>...</td>\n",
       "      <td>...</td>\n",
       "      <td>...</td>\n",
       "      <td>...</td>\n",
       "      <td>...</td>\n",
       "      <td>...</td>\n",
       "      <td>...</td>\n",
       "      <td>...</td>\n",
       "      <td>...</td>\n",
       "    </tr>\n",
       "    <tr>\n",
       "      <th>9995</th>\n",
       "      <td>-0.340393</td>\n",
       "      <td>-0.095474</td>\n",
       "      <td>-0.307058</td>\n",
       "      <td>0.264004</td>\n",
       "      <td>-0.024564</td>\n",
       "      <td>1.496249</td>\n",
       "      <td>-0.180745</td>\n",
       "      <td>-0.108515</td>\n",
       "      <td>0.068045</td>\n",
       "      <td>0.138350</td>\n",
       "      <td>...</td>\n",
       "      <td>-0.249186</td>\n",
       "      <td>-0.247762</td>\n",
       "      <td>-0.266091</td>\n",
       "      <td>-0.263633</td>\n",
       "      <td>-0.187222</td>\n",
       "      <td>-0.219592</td>\n",
       "      <td>-0.303270</td>\n",
       "      <td>-0.211533</td>\n",
       "      <td>-0.313557</td>\n",
       "      <td>-0.281419</td>\n",
       "    </tr>\n",
       "    <tr>\n",
       "      <th>9996</th>\n",
       "      <td>-0.396679</td>\n",
       "      <td>-0.078763</td>\n",
       "      <td>-0.341299</td>\n",
       "      <td>0.029323</td>\n",
       "      <td>-0.024564</td>\n",
       "      <td>0.013063</td>\n",
       "      <td>-0.180745</td>\n",
       "      <td>-0.253951</td>\n",
       "      <td>-0.007790</td>\n",
       "      <td>-0.248299</td>\n",
       "      <td>...</td>\n",
       "      <td>-0.262916</td>\n",
       "      <td>-0.278930</td>\n",
       "      <td>-0.282034</td>\n",
       "      <td>-0.284258</td>\n",
       "      <td>-0.193078</td>\n",
       "      <td>-0.226307</td>\n",
       "      <td>-0.360820</td>\n",
       "      <td>-0.241599</td>\n",
       "      <td>-0.340616</td>\n",
       "      <td>-0.357861</td>\n",
       "    </tr>\n",
       "    <tr>\n",
       "      <th>9997</th>\n",
       "      <td>-0.464556</td>\n",
       "      <td>0.202520</td>\n",
       "      <td>-0.402913</td>\n",
       "      <td>-2.615553</td>\n",
       "      <td>-0.024564</td>\n",
       "      <td>-0.263464</td>\n",
       "      <td>-0.180745</td>\n",
       "      <td>-0.290310</td>\n",
       "      <td>-0.123534</td>\n",
       "      <td>-0.335049</td>\n",
       "      <td>...</td>\n",
       "      <td>-0.321050</td>\n",
       "      <td>-0.292702</td>\n",
       "      <td>-0.311706</td>\n",
       "      <td>-0.306909</td>\n",
       "      <td>-0.194800</td>\n",
       "      <td>-0.247290</td>\n",
       "      <td>-0.391224</td>\n",
       "      <td>-0.264375</td>\n",
       "      <td>-0.396086</td>\n",
       "      <td>-0.374704</td>\n",
       "    </tr>\n",
       "    <tr>\n",
       "      <th>9998</th>\n",
       "      <td>-0.260618</td>\n",
       "      <td>-0.021907</td>\n",
       "      <td>-0.119864</td>\n",
       "      <td>0.120998</td>\n",
       "      <td>-0.024564</td>\n",
       "      <td>0.716948</td>\n",
       "      <td>-0.180745</td>\n",
       "      <td>-0.163054</td>\n",
       "      <td>-0.101002</td>\n",
       "      <td>-0.366407</td>\n",
       "      <td>...</td>\n",
       "      <td>-0.193096</td>\n",
       "      <td>-0.054714</td>\n",
       "      <td>-0.133233</td>\n",
       "      <td>-0.150197</td>\n",
       "      <td>-0.185068</td>\n",
       "      <td>-0.144054</td>\n",
       "      <td>-0.194685</td>\n",
       "      <td>-0.173269</td>\n",
       "      <td>-0.294616</td>\n",
       "      <td>-0.263281</td>\n",
       "    </tr>\n",
       "    <tr>\n",
       "      <th>9999</th>\n",
       "      <td>-0.424422</td>\n",
       "      <td>-0.148037</td>\n",
       "      <td>-0.390036</td>\n",
       "      <td>1.047320</td>\n",
       "      <td>-0.024564</td>\n",
       "      <td>-0.263464</td>\n",
       "      <td>-0.180745</td>\n",
       "      <td>-0.235772</td>\n",
       "      <td>-0.179060</td>\n",
       "      <td>-0.385671</td>\n",
       "      <td>...</td>\n",
       "      <td>-0.308197</td>\n",
       "      <td>-0.284971</td>\n",
       "      <td>-0.305949</td>\n",
       "      <td>-0.301016</td>\n",
       "      <td>-0.192389</td>\n",
       "      <td>-0.222110</td>\n",
       "      <td>-0.355391</td>\n",
       "      <td>-0.243421</td>\n",
       "      <td>-0.360910</td>\n",
       "      <td>-0.333244</td>\n",
       "    </tr>\n",
       "  </tbody>\n",
       "</table>\n",
       "<p>10000 rows × 616 columns</p>\n",
       "</div>"
      ],
      "text/plain": [
       "      numstrings  avlength  printables   entropy     paths      urls  \\\n",
       "0      -0.455925 -0.106437   -0.397631 -0.525787 -0.024564 -0.263464   \n",
       "1      -0.415236 -0.124612   -0.377245  0.430533 -0.024564 -0.263464   \n",
       "2      -0.328864 -0.103512   -0.307209  0.489389  0.055828 -0.263464   \n",
       "3      -0.304389 -0.119881   -0.311721 -0.503605  0.046896 -0.263464   \n",
       "4       0.088814 -0.033188    0.313850  0.040499 -0.024564  0.440422   \n",
       "...          ...       ...         ...       ...       ...       ...   \n",
       "9995   -0.340393 -0.095474   -0.307058  0.264004 -0.024564  1.496249   \n",
       "9996   -0.396679 -0.078763   -0.341299  0.029323 -0.024564  0.013063   \n",
       "9997   -0.464556  0.202520   -0.402913 -2.615553 -0.024564 -0.263464   \n",
       "9998   -0.260618 -0.021907   -0.119864  0.120998 -0.024564  0.716948   \n",
       "9999   -0.424422 -0.148037   -0.390036  1.047320 -0.024564 -0.263464   \n",
       "\n",
       "      registry        MZ       a_0       a_1  ...   dist_86   dist_87  \\\n",
       "0    -0.180745 -0.290310 -0.191748 -0.390284  ... -0.318129 -0.291736   \n",
       "1    -0.180745 -0.199413 -0.005651 -0.143875  ... -0.308489 -0.263467   \n",
       "2    -0.180745 -0.199413 -0.193003 -0.407241  ... -0.225815 -0.227950   \n",
       "3    -0.180745 -0.290310 -0.135755 -0.326289  ... -0.222894 -0.237131   \n",
       "4     6.885656 -0.253951 -0.066425 -0.228006  ... -0.107501 -0.079600   \n",
       "...        ...       ...       ...       ...  ...       ...       ...   \n",
       "9995 -0.180745 -0.108515  0.068045  0.138350  ... -0.249186 -0.247762   \n",
       "9996 -0.180745 -0.253951 -0.007790 -0.248299  ... -0.262916 -0.278930   \n",
       "9997 -0.180745 -0.290310 -0.123534 -0.335049  ... -0.321050 -0.292702   \n",
       "9998 -0.180745 -0.163054 -0.101002 -0.366407  ... -0.193096 -0.054714   \n",
       "9999 -0.180745 -0.235772 -0.179060 -0.385671  ... -0.308197 -0.284971   \n",
       "\n",
       "       dist_88   dist_89   dist_90   dist_91   dist_92   dist_93   dist_94  \\\n",
       "0    -0.309491 -0.305251 -0.194456 -0.247290 -0.390138 -0.264375 -0.396086   \n",
       "1    -0.293106 -0.292545 -0.190753 -0.217074 -0.347790 -0.223377 -0.359557   \n",
       "2    -0.258784 -0.254242 -0.177662 -0.123071 -0.224003 -0.230666 -0.331145   \n",
       "3    -0.266091 -0.261792 -0.188255 -0.247290 -0.362992  0.375192 -0.394733   \n",
       "4    -0.052412 -0.120917 -0.167069 -0.193573 -0.036152 -0.187846 -0.294616   \n",
       "...        ...       ...       ...       ...       ...       ...       ...   \n",
       "9995 -0.266091 -0.263633 -0.187222 -0.219592 -0.303270 -0.211533 -0.313557   \n",
       "9996 -0.282034 -0.284258 -0.193078 -0.226307 -0.360820 -0.241599 -0.340616   \n",
       "9997 -0.311706 -0.306909 -0.194800 -0.247290 -0.391224 -0.264375 -0.396086   \n",
       "9998 -0.133233 -0.150197 -0.185068 -0.144054 -0.194685 -0.173269 -0.294616   \n",
       "9999 -0.305949 -0.301016 -0.192389 -0.222110 -0.355391 -0.243421 -0.360910   \n",
       "\n",
       "       dist_95  \n",
       "0    -0.374704  \n",
       "1    -0.328061  \n",
       "2    -0.328061  \n",
       "3    -0.368225  \n",
       "4    -0.058574  \n",
       "...        ...  \n",
       "9995 -0.281419  \n",
       "9996 -0.357861  \n",
       "9997 -0.374704  \n",
       "9998 -0.263281  \n",
       "9999 -0.333244  \n",
       "\n",
       "[10000 rows x 616 columns]"
      ]
     },
     "execution_count": 13,
     "metadata": {},
     "output_type": "execute_result"
    }
   ],
   "source": [
    "x"
   ]
  },
  {
   "cell_type": "code",
   "execution_count": null,
   "metadata": {},
   "outputs": [],
   "source": [
    "xgb_params = {'n_estimators': 10000,\n",
    "               'learning_rate': 0.03689407512484644,\n",
    "               'max_depth': 8,\n",
    "               'colsample_bytree': 0.3723914688159835,\n",
    "               'subsample': 0.780714581166012,\n",
    "               'eval_metric': 'auc',\n",
    "               'use_label_encoder': False,\n",
    "               'gamma': 0,\n",
    "               'reg_lambda': 50.0,\n",
    "               'tree_method': 'gpu_hist',\n",
    "               'gpu_id': 0,\n",
    "               'predictor': 'gpu_predictor',\n",
    "               'random_state': 42 }\n",
    "\n",
    "lgb_params = {'n_estimators': 10000,\n",
    "              'learning_rate':0.09416659111369403,\n",
    "              'max_depth':43,\n",
    "              'boosting':'gbdt',\n",
    "              'objective': 'binary',\n",
    "              'metric': 'binary_logloss',\n",
    "              'is_training_metric': True,\n",
    "              'num_leaves':41,\n",
    "              'min_data_in_leaf':10,\n",
    "              'feature_fraction':0.8,\n",
    "              'bagging_fraction':0.9,\n",
    "              'bagging_freq':0,\n",
    "              'alpha': 0.019782149081578264 }\n",
    "\n",
    "cat_params = {'objective': 'CrossEntropy',\n",
    "              'colsample_bylevel': 0.043529438827711514,\n",
    "              'depth': 12,\n",
    "              'boosting_type': 'Ordered',\n",
    "              'bootstrap_type': 'Bernoulli',\n",
    "              'learning_rate': 0.19719860541901787,\n",
    "              'iterations': 205,\n",
    "              'random_strength': 34,\n",
    "              'od_type': 'IncToDec',\n",
    "              'subsample': 0.9558805603499683\n",
    "             }"
   ]
  },
  {
   "cell_type": "code",
   "execution_count": null,
   "metadata": {},
   "outputs": [],
   "source": [
    "lgb_params = {'n_estimators': 10000,\n",
    "              'learning_rate':0.03,\n",
    "              'boosting': 'goss',\n",
    "              'objective': 'binary'\n",
    "             }\n",
    "\n",
    "xgb_params = {'n_estimators': 3000,\n",
    "              'learning_rate': 0.045,\n",
    "              'max_depth': 21,\n",
    "              'predictor': 'gpu_predictor',\n",
    "              'tree_method': 'gpu_hist',\n",
    "              'objective': 'binary:logistic',\n",
    "              'eval_metric': 'error',\n",
    "              'booster': 'dart',\n",
    "              'rate_drop': 0.2,\n",
    "              'skip_drop': 0.7,\n",
    "             }"
   ]
  },
  {
   "cell_type": "code",
   "execution_count": null,
   "metadata": {},
   "outputs": [],
   "source": [
    "lgbm = LGBMClassifier(**lgb_params)\n",
    "\n",
    "xgb = XGBClassifier(**xgb_params)\n",
    "\n",
    "cat = CatBoostClassifier(**cat_params)"
   ]
  },
  {
   "cell_type": "code",
   "execution_count": null,
   "metadata": {},
   "outputs": [],
   "source": [
    "rf = RandomForestClassifier(n_estimators= 1000)"
   ]
  },
  {
   "cell_type": "code",
   "execution_count": null,
   "metadata": {},
   "outputs": [],
   "source": [
    "# pred_lgbm = lgbm.fit(x_train_scaled, y_train).predict(x_test_scaled)"
   ]
  },
  {
   "cell_type": "code",
   "execution_count": null,
   "metadata": {},
   "outputs": [],
   "source": [
    "pred_xgb = xgb.fit(x_train_scaled, y_train).predict(x_test_scaled)"
   ]
  },
  {
   "cell_type": "code",
   "execution_count": null,
   "metadata": {},
   "outputs": [],
   "source": [
    "# pred_rf = rf.fit(x_train_scaled, y_train).predict(x_test_scaled)"
   ]
  },
  {
   "cell_type": "code",
   "execution_count": null,
   "metadata": {
    "scrolled": true
   },
   "outputs": [],
   "source": [
    "accuracy_score(y_test, pred_lgbm)"
   ]
  },
  {
   "cell_type": "markdown",
   "metadata": {},
   "source": [
    "LGBM\n",
    "1. optuna -> 0.925  \n",
    "2. 'n_estimators': 10000, 'learning_rate': 0.01 -> 0.9285  \n",
    "3. 'n_estimators': 20000. 'learning_rate': 0.01 -> 0.9285  \n",
    ".  \n",
    "4. 'n_estimators': 10000,  \n",
    "    'learning_rate':0.03,  \n",
    "    'boosting': 'goss'  \n",
    "    => 0.9295"
   ]
  },
  {
   "cell_type": "code",
   "execution_count": null,
   "metadata": {
    "scrolled": true
   },
   "outputs": [],
   "source": [
    "accuracy_score(y_test, pred_xgb)"
   ]
  },
  {
   "cell_type": "code",
   "execution_count": null,
   "metadata": {},
   "outputs": [],
   "source": [
    "sub_data = pd.read_csv('preprocessed_test.csv', encoding='euc-kr')"
   ]
  },
  {
   "cell_type": "code",
   "execution_count": null,
   "metadata": {},
   "outputs": [],
   "source": [
    "sub_data = sub_data.drop(columns=['분석대상'], axis=1)"
   ]
  },
  {
   "cell_type": "code",
   "execution_count": null,
   "metadata": {},
   "outputs": [],
   "source": [
    "sub_data_scaled = scaler.transform(sub_data)"
   ]
  },
  {
   "cell_type": "code",
   "execution_count": null,
   "metadata": {},
   "outputs": [],
   "source": [
    "temp_pred = xgb.predict(sub_data_scaled)"
   ]
  },
  {
   "cell_type": "code",
   "execution_count": null,
   "metadata": {},
   "outputs": [],
   "source": [
    "sub = pd.read_csv('submission_ex.csv', encoding='euc-kr')\n",
    "sub['정답지'] = temp_pred\n",
    "sub.to_csv('sub_xgb_dart.csv', index = 0, encoding='euc-kr')"
   ]
  },
  {
   "cell_type": "code",
   "execution_count": null,
   "metadata": {},
   "outputs": [],
   "source": [
    "sub_rf = pd.read_csv('rf_sub.csv', encoding='euc-kr')"
   ]
  },
  {
   "cell_type": "code",
   "execution_count": null,
   "metadata": {},
   "outputs": [],
   "source": [
    "compare = pd.DataFrame(columns=['status'])"
   ]
  },
  {
   "cell_type": "code",
   "execution_count": null,
   "metadata": {},
   "outputs": [],
   "source": [
    "sub_xgb_dart = pd.read_csv('sub_xgb_dart.csv', encoding='euc-kr')"
   ]
  },
  {
   "cell_type": "code",
   "execution_count": null,
   "metadata": {},
   "outputs": [],
   "source": [
    "for i in range(5000):\n",
    "    if sub_xgb_dart['정답지'][i] == sub_rf['정답지'][i]:\n",
    "        compare.loc[i] = 0\n",
    "    else:\n",
    "        compare.loc[i] = 1"
   ]
  },
  {
   "cell_type": "code",
   "execution_count": null,
   "metadata": {},
   "outputs": [],
   "source": [
    "(compare['status']==0).sum()"
   ]
  },
  {
   "cell_type": "code",
   "execution_count": null,
   "metadata": {},
   "outputs": [],
   "source": [
    "(compare['status']==1).sum()"
   ]
  },
  {
   "cell_type": "code",
   "execution_count": null,
   "metadata": {},
   "outputs": [],
   "source": [
    "(sub_rf['정답지'] == 1).sum()"
   ]
  },
  {
   "cell_type": "code",
   "execution_count": null,
   "metadata": {},
   "outputs": [],
   "source": [
    "(sub_rf['정답지'] == 0).sum()"
   ]
  },
  {
   "cell_type": "code",
   "execution_count": null,
   "metadata": {},
   "outputs": [],
   "source": [
    "(sub_xgb_dart['정답지'] == 1).sum()"
   ]
  },
  {
   "cell_type": "code",
   "execution_count": null,
   "metadata": {},
   "outputs": [],
   "source": [
    "(sub_xgb_dart['정답지'] == 0).sum()"
   ]
  },
  {
   "cell_type": "code",
   "execution_count": null,
   "metadata": {},
   "outputs": [],
   "source": [
    "filename = 'xgb_dart.model'"
   ]
  },
  {
   "cell_type": "code",
   "execution_count": null,
   "metadata": {},
   "outputs": [],
   "source": [
    "xgb.save_model(filename)"
   ]
  },
  {
   "cell_type": "code",
   "execution_count": 139,
   "metadata": {},
   "outputs": [],
   "source": [
    "xgb_params = {'n_estimators': 3000,\n",
    "              'learning_rate': 0.045,\n",
    "              'max_depth': 21,\n",
    "              'predictor': 'gpu_predictor',\n",
    "              'tree_method': 'gpu_hist',\n",
    "              'objective': 'binary:logistic',\n",
    "              'eval_metric': 'error'\n",
    "             }\n",
    "\n",
    "rf_params = {\n",
    "    'n_estimators': 1400,\n",
    "    'min_samples_split': 2,\n",
    "    'min_samples_leaf': 1,\n",
    "    'max_features': 'sqrt',\n",
    "    'max_depth':80,\n",
    "    'bootstrap': 'False',\n",
    "    'n_jobs': -1\n",
    "}\n",
    "\n",
    "lgbm_params = {\n",
    "    'max_bin' : 400,\n",
    "    'n_estimators': 5000,\n",
    "    'learning_rate':0.09416659111369403,\n",
    "    'max_depth':-1,\n",
    "    'boosting':'gbdt',\n",
    "    'objective': 'binary',\n",
    "    'metric': 'binary_logloss',\n",
    "    'is_training_metric': True,\n",
    "    'num_leaves':60,\n",
    "    'min_data_in_leaf':10,\n",
    "    'feature_fraction':0.5,\n",
    "    'bagging_fraction':0.3,\n",
    "    'bagging_freq':0,\n",
    "}"
   ]
  },
  {
   "cell_type": "code",
   "execution_count": 130,
   "metadata": {},
   "outputs": [],
   "source": [
    "xgb = XGBClassifier(**xgb_params)"
   ]
  },
  {
   "cell_type": "code",
   "execution_count": 131,
   "metadata": {},
   "outputs": [],
   "source": [
    "rf = RandomForestClassifier(**rf_params)"
   ]
  },
  {
   "cell_type": "code",
   "execution_count": 140,
   "metadata": {},
   "outputs": [],
   "source": [
    "lgbm = LGBMClassifier(**lgbm_params)"
   ]
  },
  {
   "cell_type": "code",
   "execution_count": 133,
   "metadata": {},
   "outputs": [
    {
     "name": "stderr",
     "output_type": "stream",
     "text": [
      "C:\\ProgramData\\Anaconda3\\lib\\site-packages\\xgboost\\sklearn.py:1146: UserWarning: The use of label encoder in XGBClassifier is deprecated and will be removed in a future release. To remove this warning, do the following: 1) Pass option use_label_encoder=False when constructing XGBClassifier object; and 2) Encode your labels (y) as integers starting with 0, i.e. 0, 1, 2, ..., [num_class - 1].\n",
      "  warnings.warn(label_encoder_deprecation_msg, UserWarning)\n"
     ]
    }
   ],
   "source": [
    "pred_xgb = xgb.fit(x_train_scaled, y_train).predict(x_test_scaled)"
   ]
  },
  {
   "cell_type": "code",
   "execution_count": 134,
   "metadata": {
    "scrolled": true
   },
   "outputs": [
    {
     "data": {
      "text/plain": [
       "0.9305"
      ]
     },
     "execution_count": 134,
     "metadata": {},
     "output_type": "execute_result"
    }
   ],
   "source": [
    "accuracy_score(y_test, pred_xgb)"
   ]
  },
  {
   "cell_type": "code",
   "execution_count": 153,
   "metadata": {},
   "outputs": [
    {
     "data": {
      "text/plain": [
       "array([[ 829,   71],\n",
       "       [  68, 1032]], dtype=int64)"
      ]
     },
     "execution_count": 153,
     "metadata": {},
     "output_type": "execute_result"
    }
   ],
   "source": [
    "confusion_matrix(y_test, pred_xgb)"
   ]
  },
  {
   "cell_type": "code",
   "execution_count": 135,
   "metadata": {},
   "outputs": [],
   "source": [
    "pred_rf = rf.fit(x_train_scaled, y_train).predict(x_test_scaled)"
   ]
  },
  {
   "cell_type": "code",
   "execution_count": 136,
   "metadata": {},
   "outputs": [
    {
     "data": {
      "text/plain": [
       "0.9"
      ]
     },
     "execution_count": 136,
     "metadata": {},
     "output_type": "execute_result"
    }
   ],
   "source": [
    "accuracy_score(y_test, pred_rf)"
   ]
  },
  {
   "cell_type": "code",
   "execution_count": 154,
   "metadata": {},
   "outputs": [
    {
     "data": {
      "text/plain": [
       "array([[ 796,  104],\n",
       "       [  96, 1004]], dtype=int64)"
      ]
     },
     "execution_count": 154,
     "metadata": {},
     "output_type": "execute_result"
    }
   ],
   "source": [
    "confusion_matrix(y_test, pred_rf)"
   ]
  },
  {
   "cell_type": "code",
   "execution_count": 141,
   "metadata": {},
   "outputs": [
    {
     "name": "stdout",
     "output_type": "stream",
     "text": [
      "[LightGBM] [Warning] boosting is set=gbdt, boosting_type=gbdt will be ignored. Current value: boosting=gbdt\n",
      "[LightGBM] [Warning] feature_fraction is set=0.5, colsample_bytree=1.0 will be ignored. Current value: feature_fraction=0.5\n",
      "[LightGBM] [Warning] min_data_in_leaf is set=10, min_child_samples=20 will be ignored. Current value: min_data_in_leaf=10\n",
      "[LightGBM] [Warning] bagging_fraction is set=0.3, subsample=1.0 will be ignored. Current value: bagging_fraction=0.3\n",
      "[LightGBM] [Warning] bagging_freq is set=0, subsample_freq=0 will be ignored. Current value: bagging_freq=0\n"
     ]
    }
   ],
   "source": [
    "pred_lgbm = lgbm.fit(x_train_scaled, y_train).predict(x_test_scaled)"
   ]
  },
  {
   "cell_type": "code",
   "execution_count": 142,
   "metadata": {},
   "outputs": [
    {
     "data": {
      "text/plain": [
       "0.93"
      ]
     },
     "execution_count": 142,
     "metadata": {},
     "output_type": "execute_result"
    }
   ],
   "source": [
    "accuracy_score(y_test, pred_lgbm)"
   ]
  },
  {
   "cell_type": "code",
   "execution_count": 155,
   "metadata": {},
   "outputs": [
    {
     "data": {
      "text/plain": [
       "array([[ 828,   72],\n",
       "       [  68, 1032]], dtype=int64)"
      ]
     },
     "execution_count": 155,
     "metadata": {},
     "output_type": "execute_result"
    }
   ],
   "source": [
    "confusion_matrix(y_test, pred_lgbm)"
   ]
  },
  {
   "cell_type": "markdown",
   "metadata": {},
   "source": [
    "XGBoost\n",
    "1. optuna -> 0.9205 \n",
    "2. 0.9125  \n",
    "3. 'n_estimators': 5000,  \n",
    "    'learning_rate': 0.05,  \n",
    "    'max_depth': 20,  \n",
    "    'predictor': 'gpu_predictor',  \n",
    "    'tree_method': 'exact',  \n",
    "    'boosting' : 'dart'  \n",
    "     => 0.9275  \n",
    "     .  \n",
    "4. 'n_estimators': 3000,  \n",
    "    'learning_rate': 0.05,  \n",
    "    'max_depth': 20,  \n",
    "    'predictor': 'gpu_predictor',  \n",
    "    'tree_method': 'exact',  \n",
    "    'boosting' : 'dart'  \n",
    "     => 0.929  \n",
    "     .    \n",
    "5. 'n_estimators': 2000,  \n",
    "    'learning_rate': 0.05,  \n",
    "    'max_depth': 20,  \n",
    "    'predictor': 'gpu_predictor',  \n",
    "    'tree_method': 'exact',  \n",
    "    'boosting' : 'dart'  \n",
    "     => 0.9285  \n",
    "    .    \n",
    "5. 'n_estimators': 1000,  \n",
    "    'learning_rate': 0.05,  \n",
    "    'max_depth': 20,  \n",
    "    'predictor': 'gpu_predictor',  \n",
    "    'tree_method': 'exact',  \n",
    "    'boosting' : 'dart'  \n",
    "     => 0.9275  \n",
    "     .    \n",
    "5. 'n_estimators': 1500,  \n",
    "    'learning_rate': 0.05,  \n",
    "    'max_depth': 20,  \n",
    "    'predictor': 'gpu_predictor',  \n",
    "    'tree_method': 'exact',  \n",
    "    'boosting' : 'dart'  \n",
    "     => 0.9285  \n",
    "     .    \n",
    "5. 'n_estimators': 3000,  \n",
    "    'learning_rate': 0.05,  \n",
    "    'max_depth': 20,  \n",
    "    'predictor': 'gpu_predictor',  \n",
    "    'tree_method': 'gpu_hist',  \n",
    "    'boosting' : 'dart'  \n",
    "     => 0.9295  \n",
    "     .    \n",
    "5. 'n_estimators': 3000,  \n",
    "    'learning_rate': 0.045,  \n",
    "    'max_depth': 21,  \n",
    "    'predictor': 'gpu_predictor',  \n",
    "    'tree_method': 'gpu_hist',  \n",
    "    'boosting' : 'dart'  \n",
    "     => 0.9305  \n",
    "     .  \n",
    "6. max_depth: 22 => 0.928  \n",
    "7. max_depth: 23 => 0.928  "
   ]
  },
  {
   "cell_type": "markdown",
   "metadata": {},
   "source": [
    "## Soft Voting (LGBM + XGB + RF)"
   ]
  },
  {
   "cell_type": "markdown",
   "metadata": {},
   "source": [
    "from sklearn.ensemble import VotingClassifier"
   ]
  },
  {
   "cell_type": "code",
   "execution_count": 145,
   "metadata": {},
   "outputs": [],
   "source": [
    "from sklearn.ensemble import VotingClassifier"
   ]
  },
  {
   "cell_type": "code",
   "execution_count": 146,
   "metadata": {},
   "outputs": [],
   "source": [
    "voting_estimators = [ ('LGBM', lgbm),\n",
    "                    ('XGB', xgb),\n",
    "                    ('RandomForest', rf)]"
   ]
  },
  {
   "cell_type": "code",
   "execution_count": 147,
   "metadata": {},
   "outputs": [],
   "source": [
    "voting_model = VotingClassifier(estimators= voting_estimators, voting='soft')"
   ]
  },
  {
   "cell_type": "code",
   "execution_count": 148,
   "metadata": {
    "scrolled": true
   },
   "outputs": [
    {
     "name": "stdout",
     "output_type": "stream",
     "text": [
      "[LightGBM] [Warning] boosting is set=gbdt, boosting_type=gbdt will be ignored. Current value: boosting=gbdt\n",
      "[LightGBM] [Warning] feature_fraction is set=0.5, colsample_bytree=1.0 will be ignored. Current value: feature_fraction=0.5\n",
      "[LightGBM] [Warning] min_data_in_leaf is set=10, min_child_samples=20 will be ignored. Current value: min_data_in_leaf=10\n",
      "[LightGBM] [Warning] bagging_fraction is set=0.3, subsample=1.0 will be ignored. Current value: bagging_fraction=0.3\n",
      "[LightGBM] [Warning] bagging_freq is set=0, subsample_freq=0 will be ignored. Current value: bagging_freq=0\n"
     ]
    },
    {
     "name": "stderr",
     "output_type": "stream",
     "text": [
      "C:\\ProgramData\\Anaconda3\\lib\\site-packages\\xgboost\\sklearn.py:1146: UserWarning: The use of label encoder in XGBClassifier is deprecated and will be removed in a future release. To remove this warning, do the following: 1) Pass option use_label_encoder=False when constructing XGBClassifier object; and 2) Encode your labels (y) as integers starting with 0, i.e. 0, 1, 2, ..., [num_class - 1].\n",
      "  warnings.warn(label_encoder_deprecation_msg, UserWarning)\n"
     ]
    }
   ],
   "source": [
    "voting_model.fit(x_train_scaled, y_train)\n",
    "pred_voting = voting_model.predict(x_test_scaled)"
   ]
  },
  {
   "cell_type": "code",
   "execution_count": 149,
   "metadata": {
    "scrolled": false
   },
   "outputs": [
    {
     "data": {
      "text/plain": [
       "0.932"
      ]
     },
     "execution_count": 149,
     "metadata": {},
     "output_type": "execute_result"
    }
   ],
   "source": [
    "accuracy_score(y_test, pred_voting)"
   ]
  },
  {
   "cell_type": "code",
   "execution_count": 156,
   "metadata": {},
   "outputs": [
    {
     "data": {
      "text/plain": [
       "array([[ 828,   72],\n",
       "       [  64, 1036]], dtype=int64)"
      ]
     },
     "execution_count": 156,
     "metadata": {},
     "output_type": "execute_result"
    }
   ],
   "source": [
    "confusion_matrix(y_test, pred_voting)"
   ]
  },
  {
   "cell_type": "code",
   "execution_count": 159,
   "metadata": {},
   "outputs": [],
   "source": [
    "sub_data = pd.read_csv('preprocessed_test.csv', encoding='euc-kr')"
   ]
  },
  {
   "cell_type": "code",
   "execution_count": 160,
   "metadata": {},
   "outputs": [],
   "source": [
    "sub_data = sub_data.drop(columns=['분석대상'], axis=1)"
   ]
  },
  {
   "cell_type": "code",
   "execution_count": 161,
   "metadata": {},
   "outputs": [
    {
     "data": {
      "text/html": [
       "<div>\n",
       "<style scoped>\n",
       "    .dataframe tbody tr th:only-of-type {\n",
       "        vertical-align: middle;\n",
       "    }\n",
       "\n",
       "    .dataframe tbody tr th {\n",
       "        vertical-align: top;\n",
       "    }\n",
       "\n",
       "    .dataframe thead th {\n",
       "        text-align: right;\n",
       "    }\n",
       "</style>\n",
       "<table border=\"1\" class=\"dataframe\">\n",
       "  <thead>\n",
       "    <tr style=\"text-align: right;\">\n",
       "      <th></th>\n",
       "      <th>numstrings</th>\n",
       "      <th>avlength</th>\n",
       "      <th>printables</th>\n",
       "      <th>entropy</th>\n",
       "      <th>paths</th>\n",
       "      <th>urls</th>\n",
       "      <th>registry</th>\n",
       "      <th>MZ</th>\n",
       "      <th>a_0</th>\n",
       "      <th>a_1</th>\n",
       "      <th>...</th>\n",
       "      <th>dist_86</th>\n",
       "      <th>dist_87</th>\n",
       "      <th>dist_88</th>\n",
       "      <th>dist_89</th>\n",
       "      <th>dist_90</th>\n",
       "      <th>dist_91</th>\n",
       "      <th>dist_92</th>\n",
       "      <th>dist_93</th>\n",
       "      <th>dist_94</th>\n",
       "      <th>dist_95</th>\n",
       "    </tr>\n",
       "  </thead>\n",
       "  <tbody>\n",
       "    <tr>\n",
       "      <th>0</th>\n",
       "      <td>5063</td>\n",
       "      <td>9.419514</td>\n",
       "      <td>47691</td>\n",
       "      <td>5.630504</td>\n",
       "      <td>6</td>\n",
       "      <td>1</td>\n",
       "      <td>1</td>\n",
       "      <td>11</td>\n",
       "      <td>68704</td>\n",
       "      <td>24061</td>\n",
       "      <td>...</td>\n",
       "      <td>212</td>\n",
       "      <td>4485</td>\n",
       "      <td>451</td>\n",
       "      <td>312</td>\n",
       "      <td>128</td>\n",
       "      <td>159</td>\n",
       "      <td>135</td>\n",
       "      <td>283</td>\n",
       "      <td>101</td>\n",
       "      <td>277</td>\n",
       "    </tr>\n",
       "    <tr>\n",
       "      <th>1</th>\n",
       "      <td>5347</td>\n",
       "      <td>15.560875</td>\n",
       "      <td>83204</td>\n",
       "      <td>5.773314</td>\n",
       "      <td>0</td>\n",
       "      <td>2</td>\n",
       "      <td>14</td>\n",
       "      <td>4</td>\n",
       "      <td>4026</td>\n",
       "      <td>1829</td>\n",
       "      <td>...</td>\n",
       "      <td>824</td>\n",
       "      <td>492</td>\n",
       "      <td>1159</td>\n",
       "      <td>574</td>\n",
       "      <td>90</td>\n",
       "      <td>25</td>\n",
       "      <td>47</td>\n",
       "      <td>22</td>\n",
       "      <td>26</td>\n",
       "      <td>27</td>\n",
       "    </tr>\n",
       "    <tr>\n",
       "      <th>2</th>\n",
       "      <td>4523</td>\n",
       "      <td>11.875083</td>\n",
       "      <td>53711</td>\n",
       "      <td>6.146246</td>\n",
       "      <td>0</td>\n",
       "      <td>37</td>\n",
       "      <td>0</td>\n",
       "      <td>1</td>\n",
       "      <td>65732</td>\n",
       "      <td>973</td>\n",
       "      <td>...</td>\n",
       "      <td>249</td>\n",
       "      <td>307</td>\n",
       "      <td>372</td>\n",
       "      <td>289</td>\n",
       "      <td>115</td>\n",
       "      <td>90</td>\n",
       "      <td>248</td>\n",
       "      <td>95</td>\n",
       "      <td>118</td>\n",
       "      <td>77</td>\n",
       "    </tr>\n",
       "    <tr>\n",
       "      <th>3</th>\n",
       "      <td>6174</td>\n",
       "      <td>7.378037</td>\n",
       "      <td>45552</td>\n",
       "      <td>6.473256</td>\n",
       "      <td>0</td>\n",
       "      <td>1</td>\n",
       "      <td>17</td>\n",
       "      <td>13</td>\n",
       "      <td>30028</td>\n",
       "      <td>1158</td>\n",
       "      <td>...</td>\n",
       "      <td>366</td>\n",
       "      <td>441</td>\n",
       "      <td>363</td>\n",
       "      <td>469</td>\n",
       "      <td>331</td>\n",
       "      <td>272</td>\n",
       "      <td>457</td>\n",
       "      <td>311</td>\n",
       "      <td>320</td>\n",
       "      <td>291</td>\n",
       "    </tr>\n",
       "    <tr>\n",
       "      <th>4</th>\n",
       "      <td>22</td>\n",
       "      <td>7.090909</td>\n",
       "      <td>156</td>\n",
       "      <td>5.324630</td>\n",
       "      <td>0</td>\n",
       "      <td>0</td>\n",
       "      <td>0</td>\n",
       "      <td>1</td>\n",
       "      <td>22922</td>\n",
       "      <td>464</td>\n",
       "      <td>...</td>\n",
       "      <td>0</td>\n",
       "      <td>1</td>\n",
       "      <td>3</td>\n",
       "      <td>0</td>\n",
       "      <td>0</td>\n",
       "      <td>0</td>\n",
       "      <td>0</td>\n",
       "      <td>0</td>\n",
       "      <td>0</td>\n",
       "      <td>0</td>\n",
       "    </tr>\n",
       "    <tr>\n",
       "      <th>...</th>\n",
       "      <td>...</td>\n",
       "      <td>...</td>\n",
       "      <td>...</td>\n",
       "      <td>...</td>\n",
       "      <td>...</td>\n",
       "      <td>...</td>\n",
       "      <td>...</td>\n",
       "      <td>...</td>\n",
       "      <td>...</td>\n",
       "      <td>...</td>\n",
       "      <td>...</td>\n",
       "      <td>...</td>\n",
       "      <td>...</td>\n",
       "      <td>...</td>\n",
       "      <td>...</td>\n",
       "      <td>...</td>\n",
       "      <td>...</td>\n",
       "      <td>...</td>\n",
       "      <td>...</td>\n",
       "      <td>...</td>\n",
       "      <td>...</td>\n",
       "    </tr>\n",
       "    <tr>\n",
       "      <th>4995</th>\n",
       "      <td>473</td>\n",
       "      <td>5.835095</td>\n",
       "      <td>2760</td>\n",
       "      <td>6.547591</td>\n",
       "      <td>0</td>\n",
       "      <td>0</td>\n",
       "      <td>0</td>\n",
       "      <td>3</td>\n",
       "      <td>2367</td>\n",
       "      <td>199</td>\n",
       "      <td>...</td>\n",
       "      <td>28</td>\n",
       "      <td>27</td>\n",
       "      <td>33</td>\n",
       "      <td>45</td>\n",
       "      <td>25</td>\n",
       "      <td>27</td>\n",
       "      <td>26</td>\n",
       "      <td>23</td>\n",
       "      <td>26</td>\n",
       "      <td>30</td>\n",
       "    </tr>\n",
       "    <tr>\n",
       "      <th>4996</th>\n",
       "      <td>658</td>\n",
       "      <td>9.749240</td>\n",
       "      <td>6415</td>\n",
       "      <td>6.147939</td>\n",
       "      <td>0</td>\n",
       "      <td>9</td>\n",
       "      <td>0</td>\n",
       "      <td>3</td>\n",
       "      <td>30788</td>\n",
       "      <td>5078</td>\n",
       "      <td>...</td>\n",
       "      <td>170</td>\n",
       "      <td>101</td>\n",
       "      <td>83</td>\n",
       "      <td>48</td>\n",
       "      <td>27</td>\n",
       "      <td>22</td>\n",
       "      <td>27</td>\n",
       "      <td>17</td>\n",
       "      <td>19</td>\n",
       "      <td>40</td>\n",
       "    </tr>\n",
       "    <tr>\n",
       "      <th>4997</th>\n",
       "      <td>1111</td>\n",
       "      <td>9.737174</td>\n",
       "      <td>10818</td>\n",
       "      <td>5.775273</td>\n",
       "      <td>0</td>\n",
       "      <td>0</td>\n",
       "      <td>0</td>\n",
       "      <td>4</td>\n",
       "      <td>110979</td>\n",
       "      <td>7409</td>\n",
       "      <td>...</td>\n",
       "      <td>65</td>\n",
       "      <td>80</td>\n",
       "      <td>91</td>\n",
       "      <td>96</td>\n",
       "      <td>57</td>\n",
       "      <td>22</td>\n",
       "      <td>22</td>\n",
       "      <td>77</td>\n",
       "      <td>32</td>\n",
       "      <td>36</td>\n",
       "    </tr>\n",
       "    <tr>\n",
       "      <th>4998</th>\n",
       "      <td>1664</td>\n",
       "      <td>6.364183</td>\n",
       "      <td>10590</td>\n",
       "      <td>6.495400</td>\n",
       "      <td>0</td>\n",
       "      <td>1</td>\n",
       "      <td>0</td>\n",
       "      <td>6</td>\n",
       "      <td>114572</td>\n",
       "      <td>6942</td>\n",
       "      <td>...</td>\n",
       "      <td>95</td>\n",
       "      <td>103</td>\n",
       "      <td>116</td>\n",
       "      <td>95</td>\n",
       "      <td>62</td>\n",
       "      <td>59</td>\n",
       "      <td>94</td>\n",
       "      <td>54</td>\n",
       "      <td>74</td>\n",
       "      <td>72</td>\n",
       "    </tr>\n",
       "    <tr>\n",
       "      <th>4999</th>\n",
       "      <td>1560</td>\n",
       "      <td>27.337821</td>\n",
       "      <td>42647</td>\n",
       "      <td>5.343624</td>\n",
       "      <td>0</td>\n",
       "      <td>108</td>\n",
       "      <td>0</td>\n",
       "      <td>5</td>\n",
       "      <td>27760</td>\n",
       "      <td>4964</td>\n",
       "      <td>...</td>\n",
       "      <td>323</td>\n",
       "      <td>1007</td>\n",
       "      <td>234</td>\n",
       "      <td>339</td>\n",
       "      <td>37</td>\n",
       "      <td>65</td>\n",
       "      <td>22</td>\n",
       "      <td>46</td>\n",
       "      <td>13</td>\n",
       "      <td>18</td>\n",
       "    </tr>\n",
       "  </tbody>\n",
       "</table>\n",
       "<p>5000 rows × 616 columns</p>\n",
       "</div>"
      ],
      "text/plain": [
       "      numstrings   avlength  printables   entropy  paths  urls  registry  MZ  \\\n",
       "0           5063   9.419514       47691  5.630504      6     1         1  11   \n",
       "1           5347  15.560875       83204  5.773314      0     2        14   4   \n",
       "2           4523  11.875083       53711  6.146246      0    37         0   1   \n",
       "3           6174   7.378037       45552  6.473256      0     1        17  13   \n",
       "4             22   7.090909         156  5.324630      0     0         0   1   \n",
       "...          ...        ...         ...       ...    ...   ...       ...  ..   \n",
       "4995         473   5.835095        2760  6.547591      0     0         0   3   \n",
       "4996         658   9.749240        6415  6.147939      0     9         0   3   \n",
       "4997        1111   9.737174       10818  5.775273      0     0         0   4   \n",
       "4998        1664   6.364183       10590  6.495400      0     1         0   6   \n",
       "4999        1560  27.337821       42647  5.343624      0   108         0   5   \n",
       "\n",
       "         a_0    a_1  ...  dist_86  dist_87  dist_88  dist_89  dist_90  \\\n",
       "0      68704  24061  ...      212     4485      451      312      128   \n",
       "1       4026   1829  ...      824      492     1159      574       90   \n",
       "2      65732    973  ...      249      307      372      289      115   \n",
       "3      30028   1158  ...      366      441      363      469      331   \n",
       "4      22922    464  ...        0        1        3        0        0   \n",
       "...      ...    ...  ...      ...      ...      ...      ...      ...   \n",
       "4995    2367    199  ...       28       27       33       45       25   \n",
       "4996   30788   5078  ...      170      101       83       48       27   \n",
       "4997  110979   7409  ...       65       80       91       96       57   \n",
       "4998  114572   6942  ...       95      103      116       95       62   \n",
       "4999   27760   4964  ...      323     1007      234      339       37   \n",
       "\n",
       "      dist_91  dist_92  dist_93  dist_94  dist_95  \n",
       "0         159      135      283      101      277  \n",
       "1          25       47       22       26       27  \n",
       "2          90      248       95      118       77  \n",
       "3         272      457      311      320      291  \n",
       "4           0        0        0        0        0  \n",
       "...       ...      ...      ...      ...      ...  \n",
       "4995       27       26       23       26       30  \n",
       "4996       22       27       17       19       40  \n",
       "4997       22       22       77       32       36  \n",
       "4998       59       94       54       74       72  \n",
       "4999       65       22       46       13       18  \n",
       "\n",
       "[5000 rows x 616 columns]"
      ]
     },
     "execution_count": 161,
     "metadata": {},
     "output_type": "execute_result"
    }
   ],
   "source": [
    "sub_data"
   ]
  },
  {
   "cell_type": "code",
   "execution_count": 162,
   "metadata": {},
   "outputs": [],
   "source": [
    "sub_data_scaled = scaler.transform(sub_data)"
   ]
  },
  {
   "cell_type": "code",
   "execution_count": 163,
   "metadata": {},
   "outputs": [
    {
     "data": {
      "text/plain": [
       "array([[-0.15266893, -0.12569043, -0.23982573, ..., -0.00654395,\n",
       "        -0.25943956, -0.01581832],\n",
       "       [-0.13516034, -0.08462205, -0.11778444, ..., -0.24433172,\n",
       "        -0.36090951, -0.33972194],\n",
       "       [-0.18595989, -0.1092696 , -0.21913785, ..., -0.17782403,\n",
       "        -0.2364397 , -0.27494122],\n",
       "       ...,\n",
       "       [-0.39630945, -0.12356618, -0.36654069, ..., -0.19422319,\n",
       "        -0.35279192, -0.32806141],\n",
       "       [-0.36221704, -0.14612197, -0.36732422, ..., -0.21517766,\n",
       "        -0.29596874, -0.28141929],\n",
       "       [-0.36862863, -0.00586751, -0.25715956, ..., -0.22246618,\n",
       "        -0.37849764, -0.35138247]])"
      ]
     },
     "execution_count": 163,
     "metadata": {},
     "output_type": "execute_result"
    }
   ],
   "source": [
    "sub_data_scaled"
   ]
  },
  {
   "cell_type": "code",
   "execution_count": 164,
   "metadata": {},
   "outputs": [],
   "source": [
    "temp_pred = voting_model.predict(sub_data_scaled)"
   ]
  },
  {
   "cell_type": "code",
   "execution_count": 165,
   "metadata": {},
   "outputs": [
    {
     "data": {
      "text/plain": [
       "array([1, 1, 1, ..., 0, 1, 0], dtype=int64)"
      ]
     },
     "execution_count": 165,
     "metadata": {},
     "output_type": "execute_result"
    }
   ],
   "source": [
    "temp_pred"
   ]
  },
  {
   "cell_type": "code",
   "execution_count": 166,
   "metadata": {},
   "outputs": [
    {
     "data": {
      "text/plain": [
       "(5000,)"
      ]
     },
     "execution_count": 166,
     "metadata": {},
     "output_type": "execute_result"
    }
   ],
   "source": [
    "temp_pred.shape"
   ]
  },
  {
   "cell_type": "code",
   "execution_count": 167,
   "metadata": {},
   "outputs": [],
   "source": [
    "sub = pd.read_csv('submission_ex.csv', encoding='euc-kr')\n",
    "sub['정답지'] = temp_pred\n",
    "sub.to_csv('sub_voting.csv', index = 0, encoding='euc-kr')"
   ]
  },
  {
   "cell_type": "code",
   "execution_count": 168,
   "metadata": {},
   "outputs": [],
   "source": [
    "compare = pd.DataFrame(columns=['status'])"
   ]
  },
  {
   "cell_type": "code",
   "execution_count": 169,
   "metadata": {},
   "outputs": [],
   "source": [
    "sub_voting = pd.read_csv('sub_voting.csv', encoding='euc-kr')"
   ]
  },
  {
   "cell_type": "code",
   "execution_count": 170,
   "metadata": {},
   "outputs": [],
   "source": [
    "sub_rf = pd.read_csv('rf_sub.csv', encoding='euc-kr')"
   ]
  },
  {
   "cell_type": "code",
   "execution_count": 171,
   "metadata": {},
   "outputs": [],
   "source": [
    "for i in range(5000):\n",
    "    if sub_voting['정답지'][i] == sub_rf['정답지'][i]:\n",
    "        compare.loc[i] = 0\n",
    "    else:\n",
    "        compare.loc[i] = 1"
   ]
  },
  {
   "cell_type": "code",
   "execution_count": 172,
   "metadata": {},
   "outputs": [
    {
     "data": {
      "text/plain": [
       "4568"
      ]
     },
     "execution_count": 172,
     "metadata": {},
     "output_type": "execute_result"
    }
   ],
   "source": [
    "(compare['status']==0).sum()"
   ]
  },
  {
   "cell_type": "code",
   "execution_count": 173,
   "metadata": {},
   "outputs": [
    {
     "data": {
      "text/plain": [
       "432"
      ]
     },
     "execution_count": 173,
     "metadata": {},
     "output_type": "execute_result"
    }
   ],
   "source": [
    "(compare['status']==1).sum()"
   ]
  },
  {
   "cell_type": "code",
   "execution_count": 174,
   "metadata": {},
   "outputs": [
    {
     "data": {
      "text/plain": [
       "3485"
      ]
     },
     "execution_count": 174,
     "metadata": {},
     "output_type": "execute_result"
    }
   ],
   "source": [
    "(sub_rf['정답지'] == 1).sum()"
   ]
  },
  {
   "cell_type": "code",
   "execution_count": 175,
   "metadata": {},
   "outputs": [
    {
     "data": {
      "text/plain": [
       "1515"
      ]
     },
     "execution_count": 175,
     "metadata": {},
     "output_type": "execute_result"
    }
   ],
   "source": [
    "(sub_rf['정답지'] == 0).sum()"
   ]
  },
  {
   "cell_type": "code",
   "execution_count": 176,
   "metadata": {},
   "outputs": [
    {
     "data": {
      "text/plain": [
       "3469"
      ]
     },
     "execution_count": 176,
     "metadata": {},
     "output_type": "execute_result"
    }
   ],
   "source": [
    "(sub_voting['정답지'] == 1).sum()"
   ]
  },
  {
   "cell_type": "code",
   "execution_count": 177,
   "metadata": {},
   "outputs": [
    {
     "data": {
      "text/plain": [
       "1531"
      ]
     },
     "execution_count": 177,
     "metadata": {},
     "output_type": "execute_result"
    }
   ],
   "source": [
    "(sub_voting['정답지'] == 0).sum()"
   ]
  },
  {
   "cell_type": "code",
   "execution_count": null,
   "metadata": {},
   "outputs": [],
   "source": []
  },
  {
   "cell_type": "code",
   "execution_count": null,
   "metadata": {},
   "outputs": [],
   "source": []
  },
  {
   "cell_type": "code",
   "execution_count": null,
   "metadata": {},
   "outputs": [],
   "source": []
  },
  {
   "cell_type": "code",
   "execution_count": 150,
   "metadata": {},
   "outputs": [],
   "source": [
    "voting_model2 = VotingClassifier(estimators= voting_estimators, voting='hard')"
   ]
  },
  {
   "cell_type": "code",
   "execution_count": 151,
   "metadata": {},
   "outputs": [
    {
     "name": "stdout",
     "output_type": "stream",
     "text": [
      "[LightGBM] [Warning] boosting is set=gbdt, boosting_type=gbdt will be ignored. Current value: boosting=gbdt\n",
      "[LightGBM] [Warning] feature_fraction is set=0.5, colsample_bytree=1.0 will be ignored. Current value: feature_fraction=0.5\n",
      "[LightGBM] [Warning] min_data_in_leaf is set=10, min_child_samples=20 will be ignored. Current value: min_data_in_leaf=10\n",
      "[LightGBM] [Warning] bagging_fraction is set=0.3, subsample=1.0 will be ignored. Current value: bagging_fraction=0.3\n",
      "[LightGBM] [Warning] bagging_freq is set=0, subsample_freq=0 will be ignored. Current value: bagging_freq=0\n"
     ]
    },
    {
     "name": "stderr",
     "output_type": "stream",
     "text": [
      "C:\\ProgramData\\Anaconda3\\lib\\site-packages\\xgboost\\sklearn.py:1146: UserWarning: The use of label encoder in XGBClassifier is deprecated and will be removed in a future release. To remove this warning, do the following: 1) Pass option use_label_encoder=False when constructing XGBClassifier object; and 2) Encode your labels (y) as integers starting with 0, i.e. 0, 1, 2, ..., [num_class - 1].\n",
      "  warnings.warn(label_encoder_deprecation_msg, UserWarning)\n"
     ]
    }
   ],
   "source": [
    "voting_model2.fit(x_train_scaled, y_train)\n",
    "pred_voting2 = voting_model.predict(x_test_scaled)"
   ]
  },
  {
   "cell_type": "code",
   "execution_count": 152,
   "metadata": {},
   "outputs": [
    {
     "data": {
      "text/plain": [
       "0.932"
      ]
     },
     "execution_count": 152,
     "metadata": {},
     "output_type": "execute_result"
    }
   ],
   "source": [
    "accuracy_score(y_test, pred_voting2)"
   ]
  },
  {
   "cell_type": "code",
   "execution_count": 158,
   "metadata": {},
   "outputs": [
    {
     "data": {
      "text/plain": [
       "array([[ 828,   72],\n",
       "       [  64, 1036]], dtype=int64)"
      ]
     },
     "execution_count": 158,
     "metadata": {},
     "output_type": "execute_result"
    }
   ],
   "source": [
    "confusion_matrix(y_test, pred_voting2)"
   ]
  },
  {
   "cell_type": "markdown",
   "metadata": {},
   "source": [
    "Result  \n",
    "1. Optuna & voting -> 0.929  \n",
    "2. based & voting (soft) -> 0.9285\n",
    "3. based & voting (hard) -> 0.9265"
   ]
  },
  {
   "cell_type": "markdown",
   "metadata": {},
   "source": [
    "## Remove_Outlier (LGBM)"
   ]
  },
  {
   "cell_type": "code",
   "execution_count": null,
   "metadata": {},
   "outputs": [],
   "source": [
    "ft_importance_values = lgbm.feature_importances_\n",
    "\n",
    "ft_series = pd.Series(ft_importance_values, index = x_train.columns)\n",
    "ft_top20 = ft_series.sort_values(ascending=False)[:20]\n",
    "\n",
    "plt.figure(figsize=(8,6))\n",
    "plt.title('Top 20 Feature Importances (LGBM)')\n",
    "sns.barplot(x=ft_top20, y=ft_top20.index)\n",
    "plt.show()"
   ]
  },
  {
   "cell_type": "code",
   "execution_count": null,
   "metadata": {},
   "outputs": [],
   "source": [
    "train = pd.read_csv(\"preprocessed_train.csv\", encoding='euc-kr')\n",
    "train = train.drop(columns=['분석데이터'], axis=1)\n",
    "train_df_x = train.drop(['label'], axis=1)\n",
    "train_df_y = train['label']"
   ]
  },
  {
   "cell_type": "code",
   "execution_count": 14,
   "metadata": {},
   "outputs": [],
   "source": [
    "x_train, x_test, y_train, y_test = train_test_split(train_df_x, train_df_y, test_size=0.2, random_state=42)"
   ]
  },
  {
   "cell_type": "code",
   "execution_count": 15,
   "metadata": {
    "scrolled": false
   },
   "outputs": [
    {
     "data": {
      "text/html": [
       "<div>\n",
       "<style scoped>\n",
       "    .dataframe tbody tr th:only-of-type {\n",
       "        vertical-align: middle;\n",
       "    }\n",
       "\n",
       "    .dataframe tbody tr th {\n",
       "        vertical-align: top;\n",
       "    }\n",
       "\n",
       "    .dataframe thead th {\n",
       "        text-align: right;\n",
       "    }\n",
       "</style>\n",
       "<table border=\"1\" class=\"dataframe\">\n",
       "  <thead>\n",
       "    <tr style=\"text-align: right;\">\n",
       "      <th></th>\n",
       "      <th>numstrings</th>\n",
       "      <th>avlength</th>\n",
       "      <th>printables</th>\n",
       "      <th>entropy</th>\n",
       "      <th>paths</th>\n",
       "      <th>urls</th>\n",
       "      <th>registry</th>\n",
       "      <th>MZ</th>\n",
       "      <th>a_0</th>\n",
       "      <th>a_1</th>\n",
       "      <th>...</th>\n",
       "      <th>dist_86</th>\n",
       "      <th>dist_87</th>\n",
       "      <th>dist_88</th>\n",
       "      <th>dist_89</th>\n",
       "      <th>dist_90</th>\n",
       "      <th>dist_91</th>\n",
       "      <th>dist_92</th>\n",
       "      <th>dist_93</th>\n",
       "      <th>dist_94</th>\n",
       "      <th>dist_95</th>\n",
       "    </tr>\n",
       "  </thead>\n",
       "  <tbody>\n",
       "    <tr>\n",
       "      <th>9254</th>\n",
       "      <td>92</td>\n",
       "      <td>13.500000</td>\n",
       "      <td>1242</td>\n",
       "      <td>5.617271</td>\n",
       "      <td>0</td>\n",
       "      <td>0</td>\n",
       "      <td>0</td>\n",
       "      <td>1</td>\n",
       "      <td>16738</td>\n",
       "      <td>4323</td>\n",
       "      <td>...</td>\n",
       "      <td>9</td>\n",
       "      <td>11</td>\n",
       "      <td>5</td>\n",
       "      <td>12</td>\n",
       "      <td>3</td>\n",
       "      <td>0</td>\n",
       "      <td>2</td>\n",
       "      <td>3</td>\n",
       "      <td>2</td>\n",
       "      <td>0</td>\n",
       "    </tr>\n",
       "    <tr>\n",
       "      <th>1561</th>\n",
       "      <td>629</td>\n",
       "      <td>11.941176</td>\n",
       "      <td>7511</td>\n",
       "      <td>6.061898</td>\n",
       "      <td>0</td>\n",
       "      <td>0</td>\n",
       "      <td>0</td>\n",
       "      <td>4</td>\n",
       "      <td>36467</td>\n",
       "      <td>335</td>\n",
       "      <td>...</td>\n",
       "      <td>72</td>\n",
       "      <td>35</td>\n",
       "      <td>84</td>\n",
       "      <td>76</td>\n",
       "      <td>27</td>\n",
       "      <td>13</td>\n",
       "      <td>34</td>\n",
       "      <td>20</td>\n",
       "      <td>21</td>\n",
       "      <td>24</td>\n",
       "    </tr>\n",
       "    <tr>\n",
       "      <th>1670</th>\n",
       "      <td>362</td>\n",
       "      <td>5.748619</td>\n",
       "      <td>2081</td>\n",
       "      <td>6.047759</td>\n",
       "      <td>0</td>\n",
       "      <td>0</td>\n",
       "      <td>0</td>\n",
       "      <td>7</td>\n",
       "      <td>393967</td>\n",
       "      <td>32891</td>\n",
       "      <td>...</td>\n",
       "      <td>9</td>\n",
       "      <td>5</td>\n",
       "      <td>8</td>\n",
       "      <td>23</td>\n",
       "      <td>4</td>\n",
       "      <td>19</td>\n",
       "      <td>11</td>\n",
       "      <td>10</td>\n",
       "      <td>7</td>\n",
       "      <td>4</td>\n",
       "    </tr>\n",
       "    <tr>\n",
       "      <th>6087</th>\n",
       "      <td>27790</td>\n",
       "      <td>5.742965</td>\n",
       "      <td>159597</td>\n",
       "      <td>6.560686</td>\n",
       "      <td>0</td>\n",
       "      <td>0</td>\n",
       "      <td>0</td>\n",
       "      <td>75</td>\n",
       "      <td>4663</td>\n",
       "      <td>170</td>\n",
       "      <td>...</td>\n",
       "      <td>1796</td>\n",
       "      <td>1502</td>\n",
       "      <td>2255</td>\n",
       "      <td>1308</td>\n",
       "      <td>2056</td>\n",
       "      <td>1381</td>\n",
       "      <td>1569</td>\n",
       "      <td>1239</td>\n",
       "      <td>1632</td>\n",
       "      <td>1320</td>\n",
       "    </tr>\n",
       "    <tr>\n",
       "      <th>6669</th>\n",
       "      <td>2042</td>\n",
       "      <td>8.457884</td>\n",
       "      <td>17271</td>\n",
       "      <td>6.306899</td>\n",
       "      <td>0</td>\n",
       "      <td>9</td>\n",
       "      <td>0</td>\n",
       "      <td>3</td>\n",
       "      <td>16454</td>\n",
       "      <td>9185</td>\n",
       "      <td>...</td>\n",
       "      <td>138</td>\n",
       "      <td>138</td>\n",
       "      <td>141</td>\n",
       "      <td>171</td>\n",
       "      <td>114</td>\n",
       "      <td>84</td>\n",
       "      <td>122</td>\n",
       "      <td>99</td>\n",
       "      <td>98</td>\n",
       "      <td>82</td>\n",
       "    </tr>\n",
       "    <tr>\n",
       "      <th>...</th>\n",
       "      <td>...</td>\n",
       "      <td>...</td>\n",
       "      <td>...</td>\n",
       "      <td>...</td>\n",
       "      <td>...</td>\n",
       "      <td>...</td>\n",
       "      <td>...</td>\n",
       "      <td>...</td>\n",
       "      <td>...</td>\n",
       "      <td>...</td>\n",
       "      <td>...</td>\n",
       "      <td>...</td>\n",
       "      <td>...</td>\n",
       "      <td>...</td>\n",
       "      <td>...</td>\n",
       "      <td>...</td>\n",
       "      <td>...</td>\n",
       "      <td>...</td>\n",
       "      <td>...</td>\n",
       "      <td>...</td>\n",
       "      <td>...</td>\n",
       "    </tr>\n",
       "    <tr>\n",
       "      <th>5734</th>\n",
       "      <td>728</td>\n",
       "      <td>21.414835</td>\n",
       "      <td>15590</td>\n",
       "      <td>5.339247</td>\n",
       "      <td>0</td>\n",
       "      <td>0</td>\n",
       "      <td>0</td>\n",
       "      <td>1</td>\n",
       "      <td>5083</td>\n",
       "      <td>22</td>\n",
       "      <td>...</td>\n",
       "      <td>151</td>\n",
       "      <td>19</td>\n",
       "      <td>23</td>\n",
       "      <td>172</td>\n",
       "      <td>2</td>\n",
       "      <td>0</td>\n",
       "      <td>0</td>\n",
       "      <td>0</td>\n",
       "      <td>0</td>\n",
       "      <td>0</td>\n",
       "    </tr>\n",
       "    <tr>\n",
       "      <th>5191</th>\n",
       "      <td>31774</td>\n",
       "      <td>11.639391</td>\n",
       "      <td>369830</td>\n",
       "      <td>5.401709</td>\n",
       "      <td>0</td>\n",
       "      <td>31</td>\n",
       "      <td>0</td>\n",
       "      <td>1</td>\n",
       "      <td>125002</td>\n",
       "      <td>6049</td>\n",
       "      <td>...</td>\n",
       "      <td>1930</td>\n",
       "      <td>2522</td>\n",
       "      <td>2864</td>\n",
       "      <td>4418</td>\n",
       "      <td>690</td>\n",
       "      <td>381</td>\n",
       "      <td>338</td>\n",
       "      <td>440</td>\n",
       "      <td>231</td>\n",
       "      <td>335</td>\n",
       "    </tr>\n",
       "    <tr>\n",
       "      <th>5390</th>\n",
       "      <td>596</td>\n",
       "      <td>7.041946</td>\n",
       "      <td>4197</td>\n",
       "      <td>6.054880</td>\n",
       "      <td>0</td>\n",
       "      <td>0</td>\n",
       "      <td>0</td>\n",
       "      <td>6</td>\n",
       "      <td>220163</td>\n",
       "      <td>20051</td>\n",
       "      <td>...</td>\n",
       "      <td>28</td>\n",
       "      <td>40</td>\n",
       "      <td>19</td>\n",
       "      <td>27</td>\n",
       "      <td>24</td>\n",
       "      <td>18</td>\n",
       "      <td>37</td>\n",
       "      <td>24</td>\n",
       "      <td>11</td>\n",
       "      <td>15</td>\n",
       "    </tr>\n",
       "    <tr>\n",
       "      <th>860</th>\n",
       "      <td>205</td>\n",
       "      <td>11.965854</td>\n",
       "      <td>2453</td>\n",
       "      <td>5.786017</td>\n",
       "      <td>0</td>\n",
       "      <td>0</td>\n",
       "      <td>0</td>\n",
       "      <td>1</td>\n",
       "      <td>43248</td>\n",
       "      <td>24338</td>\n",
       "      <td>...</td>\n",
       "      <td>13</td>\n",
       "      <td>15</td>\n",
       "      <td>16</td>\n",
       "      <td>11</td>\n",
       "      <td>1</td>\n",
       "      <td>1</td>\n",
       "      <td>0</td>\n",
       "      <td>1</td>\n",
       "      <td>1</td>\n",
       "      <td>3</td>\n",
       "    </tr>\n",
       "    <tr>\n",
       "      <th>7270</th>\n",
       "      <td>388</td>\n",
       "      <td>16.280928</td>\n",
       "      <td>6317</td>\n",
       "      <td>4.917050</td>\n",
       "      <td>1</td>\n",
       "      <td>0</td>\n",
       "      <td>0</td>\n",
       "      <td>1</td>\n",
       "      <td>1304770</td>\n",
       "      <td>46850</td>\n",
       "      <td>...</td>\n",
       "      <td>20</td>\n",
       "      <td>18</td>\n",
       "      <td>39</td>\n",
       "      <td>82</td>\n",
       "      <td>8</td>\n",
       "      <td>0</td>\n",
       "      <td>0</td>\n",
       "      <td>0</td>\n",
       "      <td>0</td>\n",
       "      <td>0</td>\n",
       "    </tr>\n",
       "  </tbody>\n",
       "</table>\n",
       "<p>8000 rows × 616 columns</p>\n",
       "</div>"
      ],
      "text/plain": [
       "      numstrings   avlength  printables   entropy  paths  urls  registry  MZ  \\\n",
       "9254          92  13.500000        1242  5.617271      0     0         0   1   \n",
       "1561         629  11.941176        7511  6.061898      0     0         0   4   \n",
       "1670         362   5.748619        2081  6.047759      0     0         0   7   \n",
       "6087       27790   5.742965      159597  6.560686      0     0         0  75   \n",
       "6669        2042   8.457884       17271  6.306899      0     9         0   3   \n",
       "...          ...        ...         ...       ...    ...   ...       ...  ..   \n",
       "5734         728  21.414835       15590  5.339247      0     0         0   1   \n",
       "5191       31774  11.639391      369830  5.401709      0    31         0   1   \n",
       "5390         596   7.041946        4197  6.054880      0     0         0   6   \n",
       "860          205  11.965854        2453  5.786017      0     0         0   1   \n",
       "7270         388  16.280928        6317  4.917050      1     0         0   1   \n",
       "\n",
       "          a_0    a_1  ...  dist_86  dist_87  dist_88  dist_89  dist_90  \\\n",
       "9254    16738   4323  ...        9       11        5       12        3   \n",
       "1561    36467    335  ...       72       35       84       76       27   \n",
       "1670   393967  32891  ...        9        5        8       23        4   \n",
       "6087     4663    170  ...     1796     1502     2255     1308     2056   \n",
       "6669    16454   9185  ...      138      138      141      171      114   \n",
       "...       ...    ...  ...      ...      ...      ...      ...      ...   \n",
       "5734     5083     22  ...      151       19       23      172        2   \n",
       "5191   125002   6049  ...     1930     2522     2864     4418      690   \n",
       "5390   220163  20051  ...       28       40       19       27       24   \n",
       "860     43248  24338  ...       13       15       16       11        1   \n",
       "7270  1304770  46850  ...       20       18       39       82        8   \n",
       "\n",
       "      dist_91  dist_92  dist_93  dist_94  dist_95  \n",
       "9254        0        2        3        2        0  \n",
       "1561       13       34       20       21       24  \n",
       "1670       19       11       10        7        4  \n",
       "6087     1381     1569     1239     1632     1320  \n",
       "6669       84      122       99       98       82  \n",
       "...       ...      ...      ...      ...      ...  \n",
       "5734        0        0        0        0        0  \n",
       "5191      381      338      440      231      335  \n",
       "5390       18       37       24       11       15  \n",
       "860         1        0        1        1        3  \n",
       "7270        0        0        0        0        0  \n",
       "\n",
       "[8000 rows x 616 columns]"
      ]
     },
     "execution_count": 15,
     "metadata": {},
     "output_type": "execute_result"
    }
   ],
   "source": [
    "x_train"
   ]
  },
  {
   "cell_type": "code",
   "execution_count": 16,
   "metadata": {},
   "outputs": [],
   "source": [
    "outlier_data = pd.concat([x_train, y_train], axis=1)"
   ]
  },
  {
   "cell_type": "code",
   "execution_count": 17,
   "metadata": {},
   "outputs": [
    {
     "data": {
      "text/plain": [
       "(8000, 617)"
      ]
     },
     "execution_count": 17,
     "metadata": {},
     "output_type": "execute_result"
    }
   ],
   "source": [
    "outlier_data.shape"
   ]
  },
  {
   "cell_type": "code",
   "execution_count": 18,
   "metadata": {},
   "outputs": [
    {
     "data": {
      "text/html": [
       "<div>\n",
       "<style scoped>\n",
       "    .dataframe tbody tr th:only-of-type {\n",
       "        vertical-align: middle;\n",
       "    }\n",
       "\n",
       "    .dataframe tbody tr th {\n",
       "        vertical-align: top;\n",
       "    }\n",
       "\n",
       "    .dataframe thead th {\n",
       "        text-align: right;\n",
       "    }\n",
       "</style>\n",
       "<table border=\"1\" class=\"dataframe\">\n",
       "  <thead>\n",
       "    <tr style=\"text-align: right;\">\n",
       "      <th></th>\n",
       "      <th>numstrings</th>\n",
       "      <th>avlength</th>\n",
       "      <th>printables</th>\n",
       "      <th>entropy</th>\n",
       "      <th>paths</th>\n",
       "      <th>urls</th>\n",
       "      <th>registry</th>\n",
       "      <th>MZ</th>\n",
       "      <th>a_0</th>\n",
       "      <th>a_1</th>\n",
       "      <th>...</th>\n",
       "      <th>dist_87</th>\n",
       "      <th>dist_88</th>\n",
       "      <th>dist_89</th>\n",
       "      <th>dist_90</th>\n",
       "      <th>dist_91</th>\n",
       "      <th>dist_92</th>\n",
       "      <th>dist_93</th>\n",
       "      <th>dist_94</th>\n",
       "      <th>dist_95</th>\n",
       "      <th>label</th>\n",
       "    </tr>\n",
       "  </thead>\n",
       "  <tbody>\n",
       "    <tr>\n",
       "      <th>9254</th>\n",
       "      <td>92</td>\n",
       "      <td>13.500000</td>\n",
       "      <td>1242</td>\n",
       "      <td>5.617271</td>\n",
       "      <td>0</td>\n",
       "      <td>0</td>\n",
       "      <td>0</td>\n",
       "      <td>1</td>\n",
       "      <td>16738</td>\n",
       "      <td>4323</td>\n",
       "      <td>...</td>\n",
       "      <td>11</td>\n",
       "      <td>5</td>\n",
       "      <td>12</td>\n",
       "      <td>3</td>\n",
       "      <td>0</td>\n",
       "      <td>2</td>\n",
       "      <td>3</td>\n",
       "      <td>2</td>\n",
       "      <td>0</td>\n",
       "      <td>0</td>\n",
       "    </tr>\n",
       "    <tr>\n",
       "      <th>1561</th>\n",
       "      <td>629</td>\n",
       "      <td>11.941176</td>\n",
       "      <td>7511</td>\n",
       "      <td>6.061898</td>\n",
       "      <td>0</td>\n",
       "      <td>0</td>\n",
       "      <td>0</td>\n",
       "      <td>4</td>\n",
       "      <td>36467</td>\n",
       "      <td>335</td>\n",
       "      <td>...</td>\n",
       "      <td>35</td>\n",
       "      <td>84</td>\n",
       "      <td>76</td>\n",
       "      <td>27</td>\n",
       "      <td>13</td>\n",
       "      <td>34</td>\n",
       "      <td>20</td>\n",
       "      <td>21</td>\n",
       "      <td>24</td>\n",
       "      <td>1</td>\n",
       "    </tr>\n",
       "    <tr>\n",
       "      <th>1670</th>\n",
       "      <td>362</td>\n",
       "      <td>5.748619</td>\n",
       "      <td>2081</td>\n",
       "      <td>6.047759</td>\n",
       "      <td>0</td>\n",
       "      <td>0</td>\n",
       "      <td>0</td>\n",
       "      <td>7</td>\n",
       "      <td>393967</td>\n",
       "      <td>32891</td>\n",
       "      <td>...</td>\n",
       "      <td>5</td>\n",
       "      <td>8</td>\n",
       "      <td>23</td>\n",
       "      <td>4</td>\n",
       "      <td>19</td>\n",
       "      <td>11</td>\n",
       "      <td>10</td>\n",
       "      <td>7</td>\n",
       "      <td>4</td>\n",
       "      <td>1</td>\n",
       "    </tr>\n",
       "    <tr>\n",
       "      <th>6087</th>\n",
       "      <td>27790</td>\n",
       "      <td>5.742965</td>\n",
       "      <td>159597</td>\n",
       "      <td>6.560686</td>\n",
       "      <td>0</td>\n",
       "      <td>0</td>\n",
       "      <td>0</td>\n",
       "      <td>75</td>\n",
       "      <td>4663</td>\n",
       "      <td>170</td>\n",
       "      <td>...</td>\n",
       "      <td>1502</td>\n",
       "      <td>2255</td>\n",
       "      <td>1308</td>\n",
       "      <td>2056</td>\n",
       "      <td>1381</td>\n",
       "      <td>1569</td>\n",
       "      <td>1239</td>\n",
       "      <td>1632</td>\n",
       "      <td>1320</td>\n",
       "      <td>0</td>\n",
       "    </tr>\n",
       "    <tr>\n",
       "      <th>6669</th>\n",
       "      <td>2042</td>\n",
       "      <td>8.457884</td>\n",
       "      <td>17271</td>\n",
       "      <td>6.306899</td>\n",
       "      <td>0</td>\n",
       "      <td>9</td>\n",
       "      <td>0</td>\n",
       "      <td>3</td>\n",
       "      <td>16454</td>\n",
       "      <td>9185</td>\n",
       "      <td>...</td>\n",
       "      <td>138</td>\n",
       "      <td>141</td>\n",
       "      <td>171</td>\n",
       "      <td>114</td>\n",
       "      <td>84</td>\n",
       "      <td>122</td>\n",
       "      <td>99</td>\n",
       "      <td>98</td>\n",
       "      <td>82</td>\n",
       "      <td>0</td>\n",
       "    </tr>\n",
       "    <tr>\n",
       "      <th>...</th>\n",
       "      <td>...</td>\n",
       "      <td>...</td>\n",
       "      <td>...</td>\n",
       "      <td>...</td>\n",
       "      <td>...</td>\n",
       "      <td>...</td>\n",
       "      <td>...</td>\n",
       "      <td>...</td>\n",
       "      <td>...</td>\n",
       "      <td>...</td>\n",
       "      <td>...</td>\n",
       "      <td>...</td>\n",
       "      <td>...</td>\n",
       "      <td>...</td>\n",
       "      <td>...</td>\n",
       "      <td>...</td>\n",
       "      <td>...</td>\n",
       "      <td>...</td>\n",
       "      <td>...</td>\n",
       "      <td>...</td>\n",
       "      <td>...</td>\n",
       "    </tr>\n",
       "    <tr>\n",
       "      <th>5734</th>\n",
       "      <td>728</td>\n",
       "      <td>21.414835</td>\n",
       "      <td>15590</td>\n",
       "      <td>5.339247</td>\n",
       "      <td>0</td>\n",
       "      <td>0</td>\n",
       "      <td>0</td>\n",
       "      <td>1</td>\n",
       "      <td>5083</td>\n",
       "      <td>22</td>\n",
       "      <td>...</td>\n",
       "      <td>19</td>\n",
       "      <td>23</td>\n",
       "      <td>172</td>\n",
       "      <td>2</td>\n",
       "      <td>0</td>\n",
       "      <td>0</td>\n",
       "      <td>0</td>\n",
       "      <td>0</td>\n",
       "      <td>0</td>\n",
       "      <td>1</td>\n",
       "    </tr>\n",
       "    <tr>\n",
       "      <th>5191</th>\n",
       "      <td>31774</td>\n",
       "      <td>11.639391</td>\n",
       "      <td>369830</td>\n",
       "      <td>5.401709</td>\n",
       "      <td>0</td>\n",
       "      <td>31</td>\n",
       "      <td>0</td>\n",
       "      <td>1</td>\n",
       "      <td>125002</td>\n",
       "      <td>6049</td>\n",
       "      <td>...</td>\n",
       "      <td>2522</td>\n",
       "      <td>2864</td>\n",
       "      <td>4418</td>\n",
       "      <td>690</td>\n",
       "      <td>381</td>\n",
       "      <td>338</td>\n",
       "      <td>440</td>\n",
       "      <td>231</td>\n",
       "      <td>335</td>\n",
       "      <td>1</td>\n",
       "    </tr>\n",
       "    <tr>\n",
       "      <th>5390</th>\n",
       "      <td>596</td>\n",
       "      <td>7.041946</td>\n",
       "      <td>4197</td>\n",
       "      <td>6.054880</td>\n",
       "      <td>0</td>\n",
       "      <td>0</td>\n",
       "      <td>0</td>\n",
       "      <td>6</td>\n",
       "      <td>220163</td>\n",
       "      <td>20051</td>\n",
       "      <td>...</td>\n",
       "      <td>40</td>\n",
       "      <td>19</td>\n",
       "      <td>27</td>\n",
       "      <td>24</td>\n",
       "      <td>18</td>\n",
       "      <td>37</td>\n",
       "      <td>24</td>\n",
       "      <td>11</td>\n",
       "      <td>15</td>\n",
       "      <td>0</td>\n",
       "    </tr>\n",
       "    <tr>\n",
       "      <th>860</th>\n",
       "      <td>205</td>\n",
       "      <td>11.965854</td>\n",
       "      <td>2453</td>\n",
       "      <td>5.786017</td>\n",
       "      <td>0</td>\n",
       "      <td>0</td>\n",
       "      <td>0</td>\n",
       "      <td>1</td>\n",
       "      <td>43248</td>\n",
       "      <td>24338</td>\n",
       "      <td>...</td>\n",
       "      <td>15</td>\n",
       "      <td>16</td>\n",
       "      <td>11</td>\n",
       "      <td>1</td>\n",
       "      <td>1</td>\n",
       "      <td>0</td>\n",
       "      <td>1</td>\n",
       "      <td>1</td>\n",
       "      <td>3</td>\n",
       "      <td>1</td>\n",
       "    </tr>\n",
       "    <tr>\n",
       "      <th>7270</th>\n",
       "      <td>388</td>\n",
       "      <td>16.280928</td>\n",
       "      <td>6317</td>\n",
       "      <td>4.917050</td>\n",
       "      <td>1</td>\n",
       "      <td>0</td>\n",
       "      <td>0</td>\n",
       "      <td>1</td>\n",
       "      <td>1304770</td>\n",
       "      <td>46850</td>\n",
       "      <td>...</td>\n",
       "      <td>18</td>\n",
       "      <td>39</td>\n",
       "      <td>82</td>\n",
       "      <td>8</td>\n",
       "      <td>0</td>\n",
       "      <td>0</td>\n",
       "      <td>0</td>\n",
       "      <td>0</td>\n",
       "      <td>0</td>\n",
       "      <td>0</td>\n",
       "    </tr>\n",
       "  </tbody>\n",
       "</table>\n",
       "<p>8000 rows × 617 columns</p>\n",
       "</div>"
      ],
      "text/plain": [
       "      numstrings   avlength  printables   entropy  paths  urls  registry  MZ  \\\n",
       "9254          92  13.500000        1242  5.617271      0     0         0   1   \n",
       "1561         629  11.941176        7511  6.061898      0     0         0   4   \n",
       "1670         362   5.748619        2081  6.047759      0     0         0   7   \n",
       "6087       27790   5.742965      159597  6.560686      0     0         0  75   \n",
       "6669        2042   8.457884       17271  6.306899      0     9         0   3   \n",
       "...          ...        ...         ...       ...    ...   ...       ...  ..   \n",
       "5734         728  21.414835       15590  5.339247      0     0         0   1   \n",
       "5191       31774  11.639391      369830  5.401709      0    31         0   1   \n",
       "5390         596   7.041946        4197  6.054880      0     0         0   6   \n",
       "860          205  11.965854        2453  5.786017      0     0         0   1   \n",
       "7270         388  16.280928        6317  4.917050      1     0         0   1   \n",
       "\n",
       "          a_0    a_1  ...  dist_87  dist_88  dist_89  dist_90  dist_91  \\\n",
       "9254    16738   4323  ...       11        5       12        3        0   \n",
       "1561    36467    335  ...       35       84       76       27       13   \n",
       "1670   393967  32891  ...        5        8       23        4       19   \n",
       "6087     4663    170  ...     1502     2255     1308     2056     1381   \n",
       "6669    16454   9185  ...      138      141      171      114       84   \n",
       "...       ...    ...  ...      ...      ...      ...      ...      ...   \n",
       "5734     5083     22  ...       19       23      172        2        0   \n",
       "5191   125002   6049  ...     2522     2864     4418      690      381   \n",
       "5390   220163  20051  ...       40       19       27       24       18   \n",
       "860     43248  24338  ...       15       16       11        1        1   \n",
       "7270  1304770  46850  ...       18       39       82        8        0   \n",
       "\n",
       "      dist_92  dist_93  dist_94  dist_95  label  \n",
       "9254        2        3        2        0      0  \n",
       "1561       34       20       21       24      1  \n",
       "1670       11       10        7        4      1  \n",
       "6087     1569     1239     1632     1320      0  \n",
       "6669      122       99       98       82      0  \n",
       "...       ...      ...      ...      ...    ...  \n",
       "5734        0        0        0        0      1  \n",
       "5191      338      440      231      335      1  \n",
       "5390       37       24       11       15      0  \n",
       "860         0        1        1        3      1  \n",
       "7270        0        0        0        0      0  \n",
       "\n",
       "[8000 rows x 617 columns]"
      ]
     },
     "execution_count": 18,
     "metadata": {},
     "output_type": "execute_result"
    }
   ],
   "source": [
    "outlier_data"
   ]
  },
  {
   "cell_type": "code",
   "execution_count": null,
   "metadata": {},
   "outputs": [],
   "source": [
    "f, axes = plt.subplots(ncols=2, figsize=(15,8))\n",
    "\n",
    "sns.boxplot(x='label', y='b_0',data=outlier_data, ax=axes[0])\n",
    "axes[0].set_title('b_0 vs Label')\n",
    "\n",
    "sns.boxplot(x='label', y='a_89',data=outlier_data, ax=axes[1])\n",
    "axes[1].set_title('a_89 vs Label')"
   ]
  },
  {
   "cell_type": "code",
   "execution_count": 19,
   "metadata": {},
   "outputs": [],
   "source": [
    "import numpy as np\n",
    "\n",
    "def get_outlier(df=None, column=None, weight=1.5):\n",
    "  # target 값과 상관관계가 높은 열을 우선적으로 진행\n",
    "    quantile_25 = np.percentile(df[column].values, 25)\n",
    "    quantile_75 = np.percentile(df[column].values, 75)\n",
    "    \n",
    "    IQR = quantile_75 - quantile_25\n",
    "    IQR_weight = IQR*weight\n",
    "    \n",
    "    lowest = quantile_25 - IQR_weight\n",
    "    highest = quantile_75 + IQR_weight\n",
    "  \n",
    "    outlier_idx = df[column][ (df[column] < lowest) | (df[column] > highest) ].index\n",
    "    return outlier_idx"
   ]
  },
  {
   "cell_type": "code",
   "execution_count": 20,
   "metadata": {},
   "outputs": [],
   "source": [
    "outlier_idx = get_outlier(df=outlier_data, column='a_89', weight=1.5)"
   ]
  },
  {
   "cell_type": "code",
   "execution_count": 21,
   "metadata": {},
   "outputs": [],
   "source": [
    "outlier_data.drop(outlier_idx, axis=0, inplace=True)"
   ]
  },
  {
   "cell_type": "code",
   "execution_count": 22,
   "metadata": {},
   "outputs": [],
   "source": [
    "outlier_idx = get_outlier(df=outlier_data, column='b_0', weight=1.5)"
   ]
  },
  {
   "cell_type": "code",
   "execution_count": 23,
   "metadata": {},
   "outputs": [],
   "source": [
    "outlier_data.drop(outlier_idx, axis=0, inplace=True)"
   ]
  },
  {
   "cell_type": "code",
   "execution_count": 24,
   "metadata": {},
   "outputs": [],
   "source": [
    "x_train = outlier_data.drop(columns=['label'], axis=1)"
   ]
  },
  {
   "cell_type": "code",
   "execution_count": 25,
   "metadata": {},
   "outputs": [],
   "source": [
    "y_train = outlier_data['label']"
   ]
  },
  {
   "cell_type": "code",
   "execution_count": 26,
   "metadata": {},
   "outputs": [
    {
     "data": {
      "text/plain": [
       "((6240, 616), (6240,))"
      ]
     },
     "execution_count": 26,
     "metadata": {},
     "output_type": "execute_result"
    }
   ],
   "source": [
    "x_train.shape, y_train.shape"
   ]
  },
  {
   "cell_type": "code",
   "execution_count": 27,
   "metadata": {},
   "outputs": [],
   "source": [
    "from sklearn.preprocessing import StandardScaler\n",
    "\n",
    "scaler = StandardScaler().fit(x_train)\n",
    "x_train_scaled = scaler.transform(x_train)\n",
    "x_test_scaled = scaler.transform(x_test)"
   ]
  },
  {
   "cell_type": "code",
   "execution_count": 28,
   "metadata": {},
   "outputs": [
    {
     "data": {
      "text/plain": [
       "array([[-0.47402531, -0.09438057, -0.42125577, ..., -0.24635151,\n",
       "        -0.39302399, -0.36917917],\n",
       "       [-0.43981176, -0.10385043, -0.39833036, ..., -0.23200274,\n",
       "        -0.36766335, -0.33877131],\n",
       "       [-0.45682297, -0.14147023, -0.41818759, ..., -0.24044319,\n",
       "        -0.38635014, -0.36411119],\n",
       "       ...,\n",
       "       [-0.43350424, -0.04629792, -0.36878588, ..., -0.24888365,\n",
       "        -0.39569353, -0.36917917],\n",
       "       [ 1.54451043, -0.10568378,  0.92665126, ...,  0.12249646,\n",
       "        -0.08736158,  0.05526389],\n",
       "       [-0.44191427, -0.13361326, -0.41044949, ..., -0.22862655,\n",
       "        -0.38101105, -0.35017426]])"
      ]
     },
     "execution_count": 28,
     "metadata": {},
     "output_type": "execute_result"
    }
   ],
   "source": [
    "x_train_scaled"
   ]
  },
  {
   "cell_type": "code",
   "execution_count": null,
   "metadata": {},
   "outputs": [],
   "source": [
    "x_test_scaled"
   ]
  },
  {
   "cell_type": "code",
   "execution_count": null,
   "metadata": {},
   "outputs": [],
   "source": [
    "pred_outlier = lgbm.fit(x_train_scaled, y_train).predict(x_test_scaled)"
   ]
  },
  {
   "cell_type": "code",
   "execution_count": null,
   "metadata": {},
   "outputs": [],
   "source": [
    "accuracy_score(y_test, pred_outlier)"
   ]
  },
  {
   "cell_type": "code",
   "execution_count": null,
   "metadata": {},
   "outputs": [],
   "source": [
    "sub_data = pd.read_csv('preprocessed_test.csv', encoding='euc-kr')"
   ]
  },
  {
   "cell_type": "code",
   "execution_count": null,
   "metadata": {},
   "outputs": [],
   "source": [
    "sub_data"
   ]
  },
  {
   "cell_type": "code",
   "execution_count": null,
   "metadata": {},
   "outputs": [],
   "source": [
    "sub_data = sub_data.drop(columns=['분석대상'], axis=1)"
   ]
  },
  {
   "cell_type": "code",
   "execution_count": null,
   "metadata": {},
   "outputs": [],
   "source": [
    "sub_data"
   ]
  },
  {
   "cell_type": "code",
   "execution_count": null,
   "metadata": {},
   "outputs": [],
   "source": [
    "lgbm = lgbm.fit(x_train, y_train)"
   ]
  },
  {
   "cell_type": "code",
   "execution_count": null,
   "metadata": {},
   "outputs": [],
   "source": [
    "pred_lgbm = lgbm.predict(sub_data)"
   ]
  },
  {
   "cell_type": "code",
   "execution_count": null,
   "metadata": {},
   "outputs": [],
   "source": [
    "sub = pd.read_csv('submission_ex.csv', encoding='euc-kr')\n",
    "sub['정답지'] = pred_lgbm\n",
    "sub.to_csv('sub_lgbm.csv', index = 0, encoding='euc-kr')"
   ]
  },
  {
   "cell_type": "code",
   "execution_count": null,
   "metadata": {},
   "outputs": [],
   "source": [
    "sub_rf = pd.read_csv('rf_sub.csv', encoding='euc-kr')"
   ]
  },
  {
   "cell_type": "code",
   "execution_count": null,
   "metadata": {},
   "outputs": [],
   "source": [
    "compare = pd.DataFrame(columns=['status'])"
   ]
  },
  {
   "cell_type": "code",
   "execution_count": null,
   "metadata": {},
   "outputs": [],
   "source": [
    "sub_lgbm = pd.read_csv('sub_lgbm.csv', encoding='euc-kr')"
   ]
  },
  {
   "cell_type": "code",
   "execution_count": null,
   "metadata": {},
   "outputs": [],
   "source": [
    "for i in range(5000):\n",
    "    if sub_lgbm['정답지'][i] == sub_rf['정답지'][i]:\n",
    "        compare.loc[i] = 0\n",
    "    else:\n",
    "        compare.loc[i] = 1"
   ]
  },
  {
   "cell_type": "code",
   "execution_count": null,
   "metadata": {},
   "outputs": [],
   "source": [
    "(compare['status']==0).sum()"
   ]
  },
  {
   "cell_type": "code",
   "execution_count": null,
   "metadata": {},
   "outputs": [],
   "source": [
    "(compare['status']==1).sum()"
   ]
  },
  {
   "cell_type": "code",
   "execution_count": null,
   "metadata": {},
   "outputs": [],
   "source": [
    "(sub_rf['정답지'] == 1).sum()"
   ]
  },
  {
   "cell_type": "code",
   "execution_count": null,
   "metadata": {},
   "outputs": [],
   "source": [
    "(sub_rf['정답지'] == 0).sum()"
   ]
  },
  {
   "cell_type": "code",
   "execution_count": null,
   "metadata": {},
   "outputs": [],
   "source": [
    "(sub_lgbm['정답지'] == 1).sum()"
   ]
  },
  {
   "cell_type": "code",
   "execution_count": null,
   "metadata": {
    "scrolled": true
   },
   "outputs": [],
   "source": [
    "(sub_lgbm['정답지'] == 0).sum()"
   ]
  },
  {
   "cell_type": "code",
   "execution_count": null,
   "metadata": {
    "scrolled": true
   },
   "outputs": [],
   "source": [
    "(y_train == 0).sum()"
   ]
  },
  {
   "cell_type": "code",
   "execution_count": null,
   "metadata": {},
   "outputs": [],
   "source": [
    "(y_train == 1).sum()"
   ]
  },
  {
   "cell_type": "code",
   "execution_count": null,
   "metadata": {},
   "outputs": [],
   "source": [
    "predict_proba = lgbm.predict_proba"
   ]
  },
  {
   "cell_type": "code",
   "execution_count": null,
   "metadata": {},
   "outputs": [],
   "source": [
    "predict_proba(x_test)[:]"
   ]
  },
  {
   "cell_type": "code",
   "execution_count": null,
   "metadata": {},
   "outputs": [],
   "source": [
    "predict_proba(x_test)[:,1]"
   ]
  },
  {
   "cell_type": "code",
   "execution_count": null,
   "metadata": {},
   "outputs": [],
   "source": []
  }
 ],
 "metadata": {
  "kernelspec": {
   "display_name": "Python 3",
   "language": "python",
   "name": "python3"
  },
  "language_info": {
   "codemirror_mode": {
    "name": "ipython",
    "version": 3
   },
   "file_extension": ".py",
   "mimetype": "text/x-python",
   "name": "python",
   "nbconvert_exporter": "python",
   "pygments_lexer": "ipython3",
   "version": "3.8.5"
  }
 },
 "nbformat": 4,
 "nbformat_minor": 4
}
