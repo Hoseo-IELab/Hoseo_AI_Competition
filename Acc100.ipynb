{
 "cells": [
  {
   "cell_type": "code",
   "execution_count": 1,
   "metadata": {},
   "outputs": [],
   "source": [
    "import numpy as np\n",
    "import pandas as pd\n",
    "import seaborn as sns\n",
    "import matplotlib.pyplot as plt"
   ]
  },
  {
   "cell_type": "code",
   "execution_count": 2,
   "metadata": {},
   "outputs": [],
   "source": [
    "import json\n",
    "import re"
   ]
  },
  {
   "cell_type": "code",
   "execution_count": 3,
   "metadata": {},
   "outputs": [],
   "source": [
    "train_df = pd.read_csv(\"train.csv\", encoding='euc-kr')\n",
    "test_df = pd.read_csv(\"test.csv\", encoding=\"euc-kr\")\n",
    "combine = [train_df, test_df]"
   ]
  },
  {
   "cell_type": "code",
   "execution_count": 4,
   "metadata": {},
   "outputs": [
    {
     "data": {
      "text/plain": [
       "(10000, 5)"
      ]
     },
     "execution_count": 4,
     "metadata": {},
     "output_type": "execute_result"
    }
   ],
   "source": [
    "train_df.shape"
   ]
  },
  {
   "cell_type": "code",
   "execution_count": 5,
   "metadata": {},
   "outputs": [
    {
     "data": {
      "text/plain": [
       "분석데이터               int64\n",
       "label               int64\n",
       "Feature_Group_A    object\n",
       "Feature_Group_B    object\n",
       "Feature_Group_C    object\n",
       "dtype: object"
      ]
     },
     "execution_count": 5,
     "metadata": {},
     "output_type": "execute_result"
    }
   ],
   "source": [
    "train_df.dtypes"
   ]
  },
  {
   "cell_type": "code",
   "execution_count": 6,
   "metadata": {
    "scrolled": true
   },
   "outputs": [
    {
     "name": "stdout",
     "output_type": "stream",
     "text": [
      "['분석데이터' 'label' 'Feature_Group_A' 'Feature_Group_B' 'Feature_Group_C']\n"
     ]
    }
   ],
   "source": [
    "print(train_df.columns.values)"
   ]
  },
  {
   "cell_type": "code",
   "execution_count": 7,
   "metadata": {},
   "outputs": [
    {
     "data": {
      "text/html": [
       "<div>\n",
       "<style scoped>\n",
       "    .dataframe tbody tr th:only-of-type {\n",
       "        vertical-align: middle;\n",
       "    }\n",
       "\n",
       "    .dataframe tbody tr th {\n",
       "        vertical-align: top;\n",
       "    }\n",
       "\n",
       "    .dataframe thead th {\n",
       "        text-align: right;\n",
       "    }\n",
       "</style>\n",
       "<table border=\"1\" class=\"dataframe\">\n",
       "  <thead>\n",
       "    <tr style=\"text-align: right;\">\n",
       "      <th></th>\n",
       "      <th>분석데이터</th>\n",
       "      <th>label</th>\n",
       "      <th>Feature_Group_A</th>\n",
       "      <th>Feature_Group_B</th>\n",
       "      <th>Feature_Group_C</th>\n",
       "    </tr>\n",
       "  </thead>\n",
       "  <tbody>\n",
       "    <tr>\n",
       "      <th>0</th>\n",
       "      <td>1</td>\n",
       "      <td>1</td>\n",
       "      <td>[2399, 572, 519, 673, 555, 516, 558, 510, 709,...</td>\n",
       "      <td>[0, 0, 0, 0, 0, 0, 0, 0, 0, 0, 0, 0, 0, 0, 0, ...</td>\n",
       "      <td>{'numstrings': 655, 'avlength': 6.077862595419...</td>\n",
       "    </tr>\n",
       "    <tr>\n",
       "      <th>1</th>\n",
       "      <td>2</td>\n",
       "      <td>1</td>\n",
       "      <td>[183376, 8477, 4514, 3921, 7260, 2869, 2414, 2...</td>\n",
       "      <td>[1008, 0, 0, 6, 9, 6, 3, 0, 0, 0, 3, 3, 9, 0, ...</td>\n",
       "      <td>{'numstrings': 3312, 'avlength': 24.9393115942...</td>\n",
       "    </tr>\n",
       "    <tr>\n",
       "      <th>2</th>\n",
       "      <td>3</td>\n",
       "      <td>0</td>\n",
       "      <td>[1178, 28, 9, 6, 20, 4, 6, 0, 2, 2, 4, 3, 1, 3...</td>\n",
       "      <td>[0, 0, 0, 0, 0, 0, 0, 0, 0, 0, 0, 0, 0, 0, 0, ...</td>\n",
       "      <td>{'numstrings': 4, 'avlength': 58.5, 'printable...</td>\n",
       "    </tr>\n",
       "    <tr>\n",
       "      <th>3</th>\n",
       "      <td>4</td>\n",
       "      <td>0</td>\n",
       "      <td>[56851, 2625, 1520, 1351, 3266, 802, 1173, 681...</td>\n",
       "      <td>[14336, 0, 0, 0, 0, 0, 0, 0, 0, 0, 0, 0, 0, 0,...</td>\n",
       "      <td>{'numstrings': 1105, 'avlength': 16.4371040723...</td>\n",
       "    </tr>\n",
       "    <tr>\n",
       "      <th>4</th>\n",
       "      <td>5</td>\n",
       "      <td>1</td>\n",
       "      <td>[124274, 5778, 3669, 3595, 6210, 11804, 12076,...</td>\n",
       "      <td>[0, 0, 0, 0, 0, 0, 0, 0, 0, 0, 0, 0, 0, 0, 0, ...</td>\n",
       "      <td>{'numstrings': 2018, 'avlength': 13.9380574826...</td>\n",
       "    </tr>\n",
       "  </tbody>\n",
       "</table>\n",
       "</div>"
      ],
      "text/plain": [
       "   분석데이터  label                                    Feature_Group_A  \\\n",
       "0      1      1  [2399, 572, 519, 673, 555, 516, 558, 510, 709,...   \n",
       "1      2      1  [183376, 8477, 4514, 3921, 7260, 2869, 2414, 2...   \n",
       "2      3      0  [1178, 28, 9, 6, 20, 4, 6, 0, 2, 2, 4, 3, 1, 3...   \n",
       "3      4      0  [56851, 2625, 1520, 1351, 3266, 802, 1173, 681...   \n",
       "4      5      1  [124274, 5778, 3669, 3595, 6210, 11804, 12076,...   \n",
       "\n",
       "                                     Feature_Group_B  \\\n",
       "0  [0, 0, 0, 0, 0, 0, 0, 0, 0, 0, 0, 0, 0, 0, 0, ...   \n",
       "1  [1008, 0, 0, 6, 9, 6, 3, 0, 0, 0, 3, 3, 9, 0, ...   \n",
       "2  [0, 0, 0, 0, 0, 0, 0, 0, 0, 0, 0, 0, 0, 0, 0, ...   \n",
       "3  [14336, 0, 0, 0, 0, 0, 0, 0, 0, 0, 0, 0, 0, 0,...   \n",
       "4  [0, 0, 0, 0, 0, 0, 0, 0, 0, 0, 0, 0, 0, 0, 0, ...   \n",
       "\n",
       "                                     Feature_Group_C  \n",
       "0  {'numstrings': 655, 'avlength': 6.077862595419...  \n",
       "1  {'numstrings': 3312, 'avlength': 24.9393115942...  \n",
       "2  {'numstrings': 4, 'avlength': 58.5, 'printable...  \n",
       "3  {'numstrings': 1105, 'avlength': 16.4371040723...  \n",
       "4  {'numstrings': 2018, 'avlength': 13.9380574826...  "
      ]
     },
     "execution_count": 7,
     "metadata": {},
     "output_type": "execute_result"
    }
   ],
   "source": [
    "train_df.head()"
   ]
  },
  {
   "cell_type": "code",
   "execution_count": 8,
   "metadata": {},
   "outputs": [
    {
     "data": {
      "text/html": [
       "<div>\n",
       "<style scoped>\n",
       "    .dataframe tbody tr th:only-of-type {\n",
       "        vertical-align: middle;\n",
       "    }\n",
       "\n",
       "    .dataframe tbody tr th {\n",
       "        vertical-align: top;\n",
       "    }\n",
       "\n",
       "    .dataframe thead th {\n",
       "        text-align: right;\n",
       "    }\n",
       "</style>\n",
       "<table border=\"1\" class=\"dataframe\">\n",
       "  <thead>\n",
       "    <tr style=\"text-align: right;\">\n",
       "      <th></th>\n",
       "      <th>분석데이터</th>\n",
       "      <th>label</th>\n",
       "      <th>Feature_Group_A</th>\n",
       "      <th>Feature_Group_B</th>\n",
       "      <th>Feature_Group_C</th>\n",
       "    </tr>\n",
       "  </thead>\n",
       "  <tbody>\n",
       "    <tr>\n",
       "      <th>9995</th>\n",
       "      <td>9996</td>\n",
       "      <td>1</td>\n",
       "      <td>[255044, 17531, 8711, 7958, 17524, 7218, 7336,...</td>\n",
       "      <td>[28672, 0, 0, 0, 0, 0, 0, 0, 0, 0, 0, 0, 0, 0,...</td>\n",
       "      <td>{'numstrings': 8980, 'avlength': 23.2523385300...</td>\n",
       "    </tr>\n",
       "    <tr>\n",
       "      <th>9996</th>\n",
       "      <td>9997</td>\n",
       "      <td>0</td>\n",
       "      <td>[181296, 5127, 4027, 5738, 5468, 1564, 1349, 4...</td>\n",
       "      <td>[16384, 0, 0, 0, 0, 0, 0, 0, 0, 0, 0, 0, 0, 0,...</td>\n",
       "      <td>{'numstrings': 2602, 'avlength': 10.2882398155...</td>\n",
       "    </tr>\n",
       "    <tr>\n",
       "      <th>9997</th>\n",
       "      <td>9998</td>\n",
       "      <td>0</td>\n",
       "      <td>[68736, 2344, 1699, 1073, 1604, 756, 877, 934,...</td>\n",
       "      <td>[42986, 0, 0, 0, 1, 5, 0, 1, 0, 2, 0, 1, 4, 1,...</td>\n",
       "      <td>{'numstrings': 2205, 'avlength': 12.7360544217...</td>\n",
       "    </tr>\n",
       "    <tr>\n",
       "      <th>9998</th>\n",
       "      <td>9999</td>\n",
       "      <td>1</td>\n",
       "      <td>[90648, 1338, 964, 1440, 1677, 2390, 674, 740,...</td>\n",
       "      <td>[0, 0, 0, 0, 0, 0, 0, 0, 0, 0, 0, 0, 0, 0, 0, ...</td>\n",
       "      <td>{'numstrings': 804, 'avlength': 9.580845771144...</td>\n",
       "    </tr>\n",
       "    <tr>\n",
       "      <th>9999</th>\n",
       "      <td>10000</td>\n",
       "      <td>0</td>\n",
       "      <td>[14738, 720, 159, 103, 355, 83, 51, 42, 210, 5...</td>\n",
       "      <td>[16325, 17, 3, 1, 2, 9, 2, 6, 5, 2, 7, 1, 1, 1...</td>\n",
       "      <td>{'numstrings': 144, 'avlength': 12.29861111111...</td>\n",
       "    </tr>\n",
       "  </tbody>\n",
       "</table>\n",
       "</div>"
      ],
      "text/plain": [
       "      분석데이터  label                                    Feature_Group_A  \\\n",
       "9995   9996      1  [255044, 17531, 8711, 7958, 17524, 7218, 7336,...   \n",
       "9996   9997      0  [181296, 5127, 4027, 5738, 5468, 1564, 1349, 4...   \n",
       "9997   9998      0  [68736, 2344, 1699, 1073, 1604, 756, 877, 934,...   \n",
       "9998   9999      1  [90648, 1338, 964, 1440, 1677, 2390, 674, 740,...   \n",
       "9999  10000      0  [14738, 720, 159, 103, 355, 83, 51, 42, 210, 5...   \n",
       "\n",
       "                                        Feature_Group_B  \\\n",
       "9995  [28672, 0, 0, 0, 0, 0, 0, 0, 0, 0, 0, 0, 0, 0,...   \n",
       "9996  [16384, 0, 0, 0, 0, 0, 0, 0, 0, 0, 0, 0, 0, 0,...   \n",
       "9997  [42986, 0, 0, 0, 1, 5, 0, 1, 0, 2, 0, 1, 4, 1,...   \n",
       "9998  [0, 0, 0, 0, 0, 0, 0, 0, 0, 0, 0, 0, 0, 0, 0, ...   \n",
       "9999  [16325, 17, 3, 1, 2, 9, 2, 6, 5, 2, 7, 1, 1, 1...   \n",
       "\n",
       "                                        Feature_Group_C  \n",
       "9995  {'numstrings': 8980, 'avlength': 23.2523385300...  \n",
       "9996  {'numstrings': 2602, 'avlength': 10.2882398155...  \n",
       "9997  {'numstrings': 2205, 'avlength': 12.7360544217...  \n",
       "9998  {'numstrings': 804, 'avlength': 9.580845771144...  \n",
       "9999  {'numstrings': 144, 'avlength': 12.29861111111...  "
      ]
     },
     "execution_count": 8,
     "metadata": {},
     "output_type": "execute_result"
    }
   ],
   "source": [
    "train_df.tail()"
   ]
  },
  {
   "cell_type": "code",
   "execution_count": 9,
   "metadata": {},
   "outputs": [
    {
     "name": "stdout",
     "output_type": "stream",
     "text": [
      "<class 'pandas.core.frame.DataFrame'>\n",
      "RangeIndex: 10000 entries, 0 to 9999\n",
      "Data columns (total 5 columns):\n",
      " #   Column           Non-Null Count  Dtype \n",
      "---  ------           --------------  ----- \n",
      " 0   분석데이터            10000 non-null  int64 \n",
      " 1   label            10000 non-null  int64 \n",
      " 2   Feature_Group_A  10000 non-null  object\n",
      " 3   Feature_Group_B  10000 non-null  object\n",
      " 4   Feature_Group_C  10000 non-null  object\n",
      "dtypes: int64(2), object(3)\n",
      "memory usage: 390.8+ KB\n",
      "________________________________________\n",
      "<class 'pandas.core.frame.DataFrame'>\n",
      "RangeIndex: 5000 entries, 0 to 4999\n",
      "Data columns (total 4 columns):\n",
      " #   Column           Non-Null Count  Dtype \n",
      "---  ------           --------------  ----- \n",
      " 0   분석대상             5000 non-null   int64 \n",
      " 1   Feature_Group_A  5000 non-null   object\n",
      " 2   Feature_Group_B  5000 non-null   object\n",
      " 3   Feature_Group_C  5000 non-null   object\n",
      "dtypes: int64(1), object(3)\n",
      "memory usage: 156.4+ KB\n"
     ]
    }
   ],
   "source": [
    "train_df.info()\n",
    "print('_'*40)\n",
    "test_df.info()"
   ]
  },
  {
   "cell_type": "code",
   "execution_count": 10,
   "metadata": {
    "scrolled": true
   },
   "outputs": [
    {
     "data": {
      "text/html": [
       "<div>\n",
       "<style scoped>\n",
       "    .dataframe tbody tr th:only-of-type {\n",
       "        vertical-align: middle;\n",
       "    }\n",
       "\n",
       "    .dataframe tbody tr th {\n",
       "        vertical-align: top;\n",
       "    }\n",
       "\n",
       "    .dataframe thead th {\n",
       "        text-align: right;\n",
       "    }\n",
       "</style>\n",
       "<table border=\"1\" class=\"dataframe\">\n",
       "  <thead>\n",
       "    <tr style=\"text-align: right;\">\n",
       "      <th></th>\n",
       "      <th>분석데이터</th>\n",
       "      <th>label</th>\n",
       "    </tr>\n",
       "  </thead>\n",
       "  <tbody>\n",
       "    <tr>\n",
       "      <th>count</th>\n",
       "      <td>10000.00000</td>\n",
       "      <td>10000.000000</td>\n",
       "    </tr>\n",
       "    <tr>\n",
       "      <th>mean</th>\n",
       "      <td>5000.50000</td>\n",
       "      <td>0.550000</td>\n",
       "    </tr>\n",
       "    <tr>\n",
       "      <th>std</th>\n",
       "      <td>2886.89568</td>\n",
       "      <td>0.497519</td>\n",
       "    </tr>\n",
       "    <tr>\n",
       "      <th>min</th>\n",
       "      <td>1.00000</td>\n",
       "      <td>0.000000</td>\n",
       "    </tr>\n",
       "    <tr>\n",
       "      <th>25%</th>\n",
       "      <td>2500.75000</td>\n",
       "      <td>0.000000</td>\n",
       "    </tr>\n",
       "    <tr>\n",
       "      <th>50%</th>\n",
       "      <td>5000.50000</td>\n",
       "      <td>1.000000</td>\n",
       "    </tr>\n",
       "    <tr>\n",
       "      <th>75%</th>\n",
       "      <td>7500.25000</td>\n",
       "      <td>1.000000</td>\n",
       "    </tr>\n",
       "    <tr>\n",
       "      <th>max</th>\n",
       "      <td>10000.00000</td>\n",
       "      <td>1.000000</td>\n",
       "    </tr>\n",
       "  </tbody>\n",
       "</table>\n",
       "</div>"
      ],
      "text/plain": [
       "             분석데이터         label\n",
       "count  10000.00000  10000.000000\n",
       "mean    5000.50000      0.550000\n",
       "std     2886.89568      0.497519\n",
       "min        1.00000      0.000000\n",
       "25%     2500.75000      0.000000\n",
       "50%     5000.50000      1.000000\n",
       "75%     7500.25000      1.000000\n",
       "max    10000.00000      1.000000"
      ]
     },
     "execution_count": 10,
     "metadata": {},
     "output_type": "execute_result"
    }
   ],
   "source": [
    "train_df.describe()"
   ]
  },
  {
   "cell_type": "code",
   "execution_count": 11,
   "metadata": {},
   "outputs": [],
   "source": [
    "a = [2399, 572, 519, 673, 555, 516, 558, 510, 709, 640, 515, 854, 571, 675, 510, 511, 508, 485, 423, 432, 387, 393, 468, 428, 413, 382, 377, 422, 374, 366, 400, 401, 541, 444, 432, 422, 344, 360, 433, 327, 353, 289, 333, 362, 436, 344, 436, 383, 467, 366, 424, 436, 536, 405, 475, 437, 355, 388, 355, 419, 352, 337, 370, 335, 630, 629, 557, 545, 519, 478, 462, 496, 363, 395, 399, 375, 386, 510, 568, 402, 447, 425, 426, 384, 432, 364, 605, 394, 365, 390, 419, 430, 378, 343, 398, 420, 487, 389, 534, 452, 454, 558, 422, 392, 493, 499, 462, 348, 517, 455, 491, 484, 397, 280, 477, 481, 460, 447, 475, 332, 336, 294, 376, 284, 355, 312, 379, 354, 508, 435, 588, 525, 424, 442, 477, 355, 433, 389, 562, 476, 385, 474, 513, 376, 407, 307, 422, 301, 235, 283, 490, 289, 292, 301, 700, 358, 265, 271, 525, 283, 536, 501, 513, 483, 408, 422, 675, 381, 368, 250, 412, 352, 278, 377, 564, 301, 453, 426, 433, 389, 366, 372, 558, 408, 453, 475, 527, 568, 378, 443, 475, 504, 460, 436, 384, 357, 271, 301, 319, 306, 396, 330, 281, 314, 268, 328, 386, 333, 354, 340, 285, 340, 265, 272, 658, 274, 373, 357, 325, 408, 305, 349, 330, 398, 376, 323, 332, 266, 374, 241, 358, 274, 326, 387, 304, 496, 306, 342, 388, 345, 613, 574, 521, 491, 438, 374, 576, 440, 349, 263, 307, 315, 381, 328, 545, 1432]"
   ]
  },
  {
   "cell_type": "code",
   "execution_count": 12,
   "metadata": {
    "scrolled": false
   },
   "outputs": [
    {
     "data": {
      "text/plain": [
       "256"
      ]
     },
     "execution_count": 12,
     "metadata": {},
     "output_type": "execute_result"
    }
   ],
   "source": [
    "len(a)"
   ]
  },
  {
   "cell_type": "code",
   "execution_count": 13,
   "metadata": {},
   "outputs": [],
   "source": [
    "b = [0, 0, 0, 0, 0, 0, 0, 0, 0, 0, 0, 0, 0, 0, 0, 0, 0, 0, 0, 0, 0, 0, 0, 0, 0, 0, 0, 0, 0, 0, 0, 0, 0, 0, 0, 0, 0, 0, 0, 0, 0, 0, 0, 0, 0, 0, 0, 0, 0, 0, 0, 0, 0, 0, 0, 0, 0, 0, 0, 0, 0, 0, 0, 0, 0, 0, 0, 0, 0, 0, 0, 0, 0, 0, 0, 0, 0, 0, 0, 0, 0, 0, 0, 0, 0, 0, 0, 0, 0, 0, 0, 0, 0, 0, 0, 0, 0, 0, 0, 0, 0, 0, 0, 0, 0, 0, 0, 0, 0, 0, 0, 0, 0, 0, 0, 0, 0, 0, 0, 0, 0, 0, 0, 0, 0, 0, 0, 0, 0, 0, 0, 0, 0, 0, 0, 0, 0, 0, 0, 0, 0, 0, 0, 0, 0, 0, 0, 0, 0, 0, 0, 0, 0, 0, 0, 0, 0, 0, 0, 0, 0, 0, 0, 0, 0, 0, 0, 0, 0, 0, 0, 0, 0, 0, 0, 0, 0, 0, 0, 0, 0, 0, 0, 0, 0, 0, 0, 0, 0, 0, 0, 0, 1843, 157, 133, 137, 183, 219, 300, 223, 200, 63, 49, 101, 117, 107, 106, 158, 0, 0, 0, 0, 0, 0, 0, 0, 0, 0, 0, 0, 0, 0, 0, 0, 169, 148, 142, 148, 137, 157, 164, 222, 157, 131, 917, 755, 155, 139, 150, 405, 18387, 12997, 12154, 12567, 14994, 12764, 14134, 11491, 14357, 11245, 12666, 13568, 10658, 11016, 10611, 15287]"
   ]
  },
  {
   "cell_type": "code",
   "execution_count": 14,
   "metadata": {
    "scrolled": true
   },
   "outputs": [
    {
     "data": {
      "text/plain": [
       "256"
      ]
     },
     "execution_count": 14,
     "metadata": {},
     "output_type": "execute_result"
    }
   ],
   "source": [
    "len(b)"
   ]
  },
  {
   "cell_type": "code",
   "execution_count": 15,
   "metadata": {},
   "outputs": [
    {
     "data": {
      "text/plain": [
       "0       {'numstrings': 655, 'avlength': 6.077862595419...\n",
       "1       {'numstrings': 3312, 'avlength': 24.9393115942...\n",
       "2       {'numstrings': 4, 'avlength': 58.5, 'printable...\n",
       "3       {'numstrings': 1105, 'avlength': 16.4371040723...\n",
       "4       {'numstrings': 2018, 'avlength': 13.9380574826...\n",
       "                              ...                        \n",
       "9995    {'numstrings': 8980, 'avlength': 23.2523385300...\n",
       "9996    {'numstrings': 2602, 'avlength': 10.2882398155...\n",
       "9997    {'numstrings': 2205, 'avlength': 12.7360544217...\n",
       "9998    {'numstrings': 804, 'avlength': 9.580845771144...\n",
       "9999    {'numstrings': 144, 'avlength': 12.29861111111...\n",
       "Name: Feature_Group_C, Length: 10000, dtype: object"
      ]
     },
     "execution_count": 15,
     "metadata": {},
     "output_type": "execute_result"
    }
   ],
   "source": [
    "train_df['Feature_Group_C']"
   ]
  },
  {
   "cell_type": "code",
   "execution_count": 16,
   "metadata": {},
   "outputs": [
    {
     "data": {
      "text/plain": [
       "\"{'numstrings': 655, 'avlength': 6.077862595419847, 'printabledist': [57, 37, 41, 41, 33, 27, 38, 35, 30, 23, 35, 35, 41, 20, 46, 33, 42, 21, 51, 37, 42, 36, 36, 34, 25, 27, 36, 32, 26, 24, 26, 30, 48, 61, 52, 61, 50, 50, 41, 44, 36, 33, 38, 27, 49, 46, 49, 58, 58, 52, 61, 60, 50, 39, 72, 42, 29, 39, 44, 27, 44, 28, 34, 46, 45, 60, 62, 52, 48, 69, 37, 39, 48, 64, 52, 38, 60, 42, 55, 70, 29, 20, 62, 54, 49, 55, 44, 32, 26, 32, 28, 30, 33, 23, 26, 32], 'printables': 3981, 'entropy': 6.519481182098389, 'paths': 0, 'urls': 0, 'registry': 0, 'MZ': 4}\""
      ]
     },
     "execution_count": 16,
     "metadata": {},
     "output_type": "execute_result"
    }
   ],
   "source": [
    "train_df['Feature_Group_C'][0]"
   ]
  },
  {
   "cell_type": "code",
   "execution_count": 17,
   "metadata": {},
   "outputs": [],
   "source": [
    "abcd = train_df['Feature_Group_C'][0]"
   ]
  },
  {
   "cell_type": "code",
   "execution_count": 18,
   "metadata": {
    "scrolled": true
   },
   "outputs": [
    {
     "name": "stdout",
     "output_type": "stream",
     "text": [
      "'numstrings': 655, 'avlength': 6.077862595419847, 'printabledist': [57, 37, 41, 41, 33, 27, 38, 35, 30, 23, 35, 35, 41, 20, 46, 33, 42, 21, 51, 37, 42, 36, 36, 34, 25, 27, 36, 32, 26, 24, 26, 30, 48, 61, 52, 61, 50, 50, 41, 44, 36, 33, 38, 27, 49, 46, 49, 58, 58, 52, 61, 60, 50, 39, 72, 42, 29, 39, 44, 27, 44, 28, 34, 46, 45, 60, 62, 52, 48, 69, 37, 39, 48, 64, 52, 38, 60, 42, 55, 70, 29, 20, 62, 54, 49, 55, 44, 32, 26, 32, 28, 30, 33, 23, 26, 32], 'printables': 3981, 'entropy': 6.519481182098389, 'paths': 0, 'urls': 0, 'registry': 0, 'MZ': 4\n"
     ]
    }
   ],
   "source": [
    "characters = \"{}\"\n",
    "\n",
    "for x in range(len(characters)):\n",
    "    abcd = abcd.replace(characters[x],\"\")\n",
    "\n",
    "print(abcd)"
   ]
  },
  {
   "cell_type": "code",
   "execution_count": 19,
   "metadata": {},
   "outputs": [],
   "source": [
    "abcd2 = train_df['Feature_Group_C'][0]"
   ]
  },
  {
   "cell_type": "code",
   "execution_count": 20,
   "metadata": {
    "scrolled": true
   },
   "outputs": [
    {
     "data": {
      "text/plain": [
       "\"{'numstrings': 655, 'avlength': 6.077862595419847, 'printabledist': [57, 37, 41, 41, 33, 27, 38, 35, 30, 23, 35, 35, 41, 20, 46, 33, 42, 21, 51, 37, 42, 36, 36, 34, 25, 27, 36, 32, 26, 24, 26, 30, 48, 61, 52, 61, 50, 50, 41, 44, 36, 33, 38, 27, 49, 46, 49, 58, 58, 52, 61, 60, 50, 39, 72, 42, 29, 39, 44, 27, 44, 28, 34, 46, 45, 60, 62, 52, 48, 69, 37, 39, 48, 64, 52, 38, 60, 42, 55, 70, 29, 20, 62, 54, 49, 55, 44, 32, 26, 32, 28, 30, 33, 23, 26, 32], 'printables': 3981, 'entropy': 6.519481182098389, 'paths': 0, 'urls': 0, 'registry': 0, 'MZ': 4}\""
      ]
     },
     "execution_count": 20,
     "metadata": {},
     "output_type": "execute_result"
    }
   ],
   "source": [
    "abcd2"
   ]
  },
  {
   "cell_type": "code",
   "execution_count": 21,
   "metadata": {},
   "outputs": [
    {
     "name": "stdout",
     "output_type": "stream",
     "text": [
      "{\"numstrings\": 655, \"avlength\": 6.077862595419847, \"printabledist\": [57, 37, 41, 41, 33, 27, 38, 35, 30, 23, 35, 35, 41, 20, 46, 33, 42, 21, 51, 37, 42, 36, 36, 34, 25, 27, 36, 32, 26, 24, 26, 30, 48, 61, 52, 61, 50, 50, 41, 44, 36, 33, 38, 27, 49, 46, 49, 58, 58, 52, 61, 60, 50, 39, 72, 42, 29, 39, 44, 27, 44, 28, 34, 46, 45, 60, 62, 52, 48, 69, 37, 39, 48, 64, 52, 38, 60, 42, 55, 70, 29, 20, 62, 54, 49, 55, 44, 32, 26, 32, 28, 30, 33, 23, 26, 32], \"printables\": 3981, \"entropy\": 6.519481182098389, \"paths\": 0, \"urls\": 0, \"registry\": 0, \"MZ\": 4}\n"
     ]
    }
   ],
   "source": [
    "characters = \"\\'\"\n",
    "\n",
    "for x in range(len(characters)):\n",
    "    abcd2 = abcd2.replace(characters[x],\"\\\"\")\n",
    "\n",
    "print(abcd2)"
   ]
  },
  {
   "cell_type": "code",
   "execution_count": 22,
   "metadata": {},
   "outputs": [
    {
     "data": {
      "text/plain": [
       "{'numstrings': 655,\n",
       " 'avlength': 6.077862595419847,\n",
       " 'printabledist': [57,\n",
       "  37,\n",
       "  41,\n",
       "  41,\n",
       "  33,\n",
       "  27,\n",
       "  38,\n",
       "  35,\n",
       "  30,\n",
       "  23,\n",
       "  35,\n",
       "  35,\n",
       "  41,\n",
       "  20,\n",
       "  46,\n",
       "  33,\n",
       "  42,\n",
       "  21,\n",
       "  51,\n",
       "  37,\n",
       "  42,\n",
       "  36,\n",
       "  36,\n",
       "  34,\n",
       "  25,\n",
       "  27,\n",
       "  36,\n",
       "  32,\n",
       "  26,\n",
       "  24,\n",
       "  26,\n",
       "  30,\n",
       "  48,\n",
       "  61,\n",
       "  52,\n",
       "  61,\n",
       "  50,\n",
       "  50,\n",
       "  41,\n",
       "  44,\n",
       "  36,\n",
       "  33,\n",
       "  38,\n",
       "  27,\n",
       "  49,\n",
       "  46,\n",
       "  49,\n",
       "  58,\n",
       "  58,\n",
       "  52,\n",
       "  61,\n",
       "  60,\n",
       "  50,\n",
       "  39,\n",
       "  72,\n",
       "  42,\n",
       "  29,\n",
       "  39,\n",
       "  44,\n",
       "  27,\n",
       "  44,\n",
       "  28,\n",
       "  34,\n",
       "  46,\n",
       "  45,\n",
       "  60,\n",
       "  62,\n",
       "  52,\n",
       "  48,\n",
       "  69,\n",
       "  37,\n",
       "  39,\n",
       "  48,\n",
       "  64,\n",
       "  52,\n",
       "  38,\n",
       "  60,\n",
       "  42,\n",
       "  55,\n",
       "  70,\n",
       "  29,\n",
       "  20,\n",
       "  62,\n",
       "  54,\n",
       "  49,\n",
       "  55,\n",
       "  44,\n",
       "  32,\n",
       "  26,\n",
       "  32,\n",
       "  28,\n",
       "  30,\n",
       "  33,\n",
       "  23,\n",
       "  26,\n",
       "  32],\n",
       " 'printables': 3981,\n",
       " 'entropy': 6.519481182098389,\n",
       " 'paths': 0,\n",
       " 'urls': 0,\n",
       " 'registry': 0,\n",
       " 'MZ': 4}"
      ]
     },
     "execution_count": 22,
     "metadata": {},
     "output_type": "execute_result"
    }
   ],
   "source": [
    "json.loads(abcd2)"
   ]
  },
  {
   "cell_type": "code",
   "execution_count": 23,
   "metadata": {},
   "outputs": [
    {
     "data": {
      "text/plain": [
       "{'numstrings': 655,\n",
       " 'avlength': 6.077862595419847,\n",
       " 'printabledist': [57,\n",
       "  37,\n",
       "  41,\n",
       "  41,\n",
       "  33,\n",
       "  27,\n",
       "  38,\n",
       "  35,\n",
       "  30,\n",
       "  23,\n",
       "  35,\n",
       "  35,\n",
       "  41,\n",
       "  20,\n",
       "  46,\n",
       "  33,\n",
       "  42,\n",
       "  21,\n",
       "  51,\n",
       "  37,\n",
       "  42,\n",
       "  36,\n",
       "  36,\n",
       "  34,\n",
       "  25,\n",
       "  27,\n",
       "  36,\n",
       "  32,\n",
       "  26,\n",
       "  24,\n",
       "  26,\n",
       "  30,\n",
       "  48,\n",
       "  61,\n",
       "  52,\n",
       "  61,\n",
       "  50,\n",
       "  50,\n",
       "  41,\n",
       "  44,\n",
       "  36,\n",
       "  33,\n",
       "  38,\n",
       "  27,\n",
       "  49,\n",
       "  46,\n",
       "  49,\n",
       "  58,\n",
       "  58,\n",
       "  52,\n",
       "  61,\n",
       "  60,\n",
       "  50,\n",
       "  39,\n",
       "  72,\n",
       "  42,\n",
       "  29,\n",
       "  39,\n",
       "  44,\n",
       "  27,\n",
       "  44,\n",
       "  28,\n",
       "  34,\n",
       "  46,\n",
       "  45,\n",
       "  60,\n",
       "  62,\n",
       "  52,\n",
       "  48,\n",
       "  69,\n",
       "  37,\n",
       "  39,\n",
       "  48,\n",
       "  64,\n",
       "  52,\n",
       "  38,\n",
       "  60,\n",
       "  42,\n",
       "  55,\n",
       "  70,\n",
       "  29,\n",
       "  20,\n",
       "  62,\n",
       "  54,\n",
       "  49,\n",
       "  55,\n",
       "  44,\n",
       "  32,\n",
       "  26,\n",
       "  32,\n",
       "  28,\n",
       "  30,\n",
       "  33,\n",
       "  23,\n",
       "  26,\n",
       "  32],\n",
       " 'printables': 3981,\n",
       " 'entropy': 6.519481182098389,\n",
       " 'paths': 0,\n",
       " 'urls': 0,\n",
       " 'registry': 0,\n",
       " 'MZ': 4}"
      ]
     },
     "execution_count": 23,
     "metadata": {},
     "output_type": "execute_result"
    }
   ],
   "source": [
    "json.loads(abcd2)"
   ]
  },
  {
   "cell_type": "code",
   "execution_count": null,
   "metadata": {},
   "outputs": [],
   "source": []
  },
  {
   "cell_type": "code",
   "execution_count": 24,
   "metadata": {},
   "outputs": [],
   "source": [
    "qwer = train_df['Feature_Group_A'][0]"
   ]
  },
  {
   "cell_type": "code",
   "execution_count": 25,
   "metadata": {},
   "outputs": [
    {
     "name": "stdout",
     "output_type": "stream",
     "text": [
      "2399 572 519 673 555 516 558 510 709 640 515 854 571 675 510 511 508 485 423 432 387 393 468 428 413 382 377 422 374 366 400 401 541 444 432 422 344 360 433 327 353 289 333 362 436 344 436 383 467 366 424 436 536 405 475 437 355 388 355 419 352 337 370 335 630 629 557 545 519 478 462 496 363 395 399 375 386 510 568 402 447 425 426 384 432 364 605 394 365 390 419 430 378 343 398 420 487 389 534 452 454 558 422 392 493 499 462 348 517 455 491 484 397 280 477 481 460 447 475 332 336 294 376 284 355 312 379 354 508 435 588 525 424 442 477 355 433 389 562 476 385 474 513 376 407 307 422 301 235 283 490 289 292 301 700 358 265 271 525 283 536 501 513 483 408 422 675 381 368 250 412 352 278 377 564 301 453 426 433 389 366 372 558 408 453 475 527 568 378 443 475 504 460 436 384 357 271 301 319 306 396 330 281 314 268 328 386 333 354 340 285 340 265 272 658 274 373 357 325 408 305 349 330 398 376 323 332 266 374 241 358 274 326 387 304 496 306 342 388 345 613 574 521 491 438 374 576 440 349 263 307 315 381 328 545 1432\n"
     ]
    }
   ],
   "source": [
    "characters = \"[],\"\n",
    "\n",
    "for x in range(len(characters)):\n",
    "    qwer = qwer.replace(characters[x],\"\")\n",
    "\n",
    "print(qwer)"
   ]
  },
  {
   "cell_type": "code",
   "execution_count": 26,
   "metadata": {
    "scrolled": true
   },
   "outputs": [],
   "source": [
    "qwer = qwer.split(' ')"
   ]
  },
  {
   "cell_type": "code",
   "execution_count": 27,
   "metadata": {
    "scrolled": true
   },
   "outputs": [
    {
     "data": {
      "text/plain": [
       "['2399',\n",
       " '572',\n",
       " '519',\n",
       " '673',\n",
       " '555',\n",
       " '516',\n",
       " '558',\n",
       " '510',\n",
       " '709',\n",
       " '640',\n",
       " '515',\n",
       " '854',\n",
       " '571',\n",
       " '675',\n",
       " '510',\n",
       " '511',\n",
       " '508',\n",
       " '485',\n",
       " '423',\n",
       " '432',\n",
       " '387',\n",
       " '393',\n",
       " '468',\n",
       " '428',\n",
       " '413',\n",
       " '382',\n",
       " '377',\n",
       " '422',\n",
       " '374',\n",
       " '366',\n",
       " '400',\n",
       " '401',\n",
       " '541',\n",
       " '444',\n",
       " '432',\n",
       " '422',\n",
       " '344',\n",
       " '360',\n",
       " '433',\n",
       " '327',\n",
       " '353',\n",
       " '289',\n",
       " '333',\n",
       " '362',\n",
       " '436',\n",
       " '344',\n",
       " '436',\n",
       " '383',\n",
       " '467',\n",
       " '366',\n",
       " '424',\n",
       " '436',\n",
       " '536',\n",
       " '405',\n",
       " '475',\n",
       " '437',\n",
       " '355',\n",
       " '388',\n",
       " '355',\n",
       " '419',\n",
       " '352',\n",
       " '337',\n",
       " '370',\n",
       " '335',\n",
       " '630',\n",
       " '629',\n",
       " '557',\n",
       " '545',\n",
       " '519',\n",
       " '478',\n",
       " '462',\n",
       " '496',\n",
       " '363',\n",
       " '395',\n",
       " '399',\n",
       " '375',\n",
       " '386',\n",
       " '510',\n",
       " '568',\n",
       " '402',\n",
       " '447',\n",
       " '425',\n",
       " '426',\n",
       " '384',\n",
       " '432',\n",
       " '364',\n",
       " '605',\n",
       " '394',\n",
       " '365',\n",
       " '390',\n",
       " '419',\n",
       " '430',\n",
       " '378',\n",
       " '343',\n",
       " '398',\n",
       " '420',\n",
       " '487',\n",
       " '389',\n",
       " '534',\n",
       " '452',\n",
       " '454',\n",
       " '558',\n",
       " '422',\n",
       " '392',\n",
       " '493',\n",
       " '499',\n",
       " '462',\n",
       " '348',\n",
       " '517',\n",
       " '455',\n",
       " '491',\n",
       " '484',\n",
       " '397',\n",
       " '280',\n",
       " '477',\n",
       " '481',\n",
       " '460',\n",
       " '447',\n",
       " '475',\n",
       " '332',\n",
       " '336',\n",
       " '294',\n",
       " '376',\n",
       " '284',\n",
       " '355',\n",
       " '312',\n",
       " '379',\n",
       " '354',\n",
       " '508',\n",
       " '435',\n",
       " '588',\n",
       " '525',\n",
       " '424',\n",
       " '442',\n",
       " '477',\n",
       " '355',\n",
       " '433',\n",
       " '389',\n",
       " '562',\n",
       " '476',\n",
       " '385',\n",
       " '474',\n",
       " '513',\n",
       " '376',\n",
       " '407',\n",
       " '307',\n",
       " '422',\n",
       " '301',\n",
       " '235',\n",
       " '283',\n",
       " '490',\n",
       " '289',\n",
       " '292',\n",
       " '301',\n",
       " '700',\n",
       " '358',\n",
       " '265',\n",
       " '271',\n",
       " '525',\n",
       " '283',\n",
       " '536',\n",
       " '501',\n",
       " '513',\n",
       " '483',\n",
       " '408',\n",
       " '422',\n",
       " '675',\n",
       " '381',\n",
       " '368',\n",
       " '250',\n",
       " '412',\n",
       " '352',\n",
       " '278',\n",
       " '377',\n",
       " '564',\n",
       " '301',\n",
       " '453',\n",
       " '426',\n",
       " '433',\n",
       " '389',\n",
       " '366',\n",
       " '372',\n",
       " '558',\n",
       " '408',\n",
       " '453',\n",
       " '475',\n",
       " '527',\n",
       " '568',\n",
       " '378',\n",
       " '443',\n",
       " '475',\n",
       " '504',\n",
       " '460',\n",
       " '436',\n",
       " '384',\n",
       " '357',\n",
       " '271',\n",
       " '301',\n",
       " '319',\n",
       " '306',\n",
       " '396',\n",
       " '330',\n",
       " '281',\n",
       " '314',\n",
       " '268',\n",
       " '328',\n",
       " '386',\n",
       " '333',\n",
       " '354',\n",
       " '340',\n",
       " '285',\n",
       " '340',\n",
       " '265',\n",
       " '272',\n",
       " '658',\n",
       " '274',\n",
       " '373',\n",
       " '357',\n",
       " '325',\n",
       " '408',\n",
       " '305',\n",
       " '349',\n",
       " '330',\n",
       " '398',\n",
       " '376',\n",
       " '323',\n",
       " '332',\n",
       " '266',\n",
       " '374',\n",
       " '241',\n",
       " '358',\n",
       " '274',\n",
       " '326',\n",
       " '387',\n",
       " '304',\n",
       " '496',\n",
       " '306',\n",
       " '342',\n",
       " '388',\n",
       " '345',\n",
       " '613',\n",
       " '574',\n",
       " '521',\n",
       " '491',\n",
       " '438',\n",
       " '374',\n",
       " '576',\n",
       " '440',\n",
       " '349',\n",
       " '263',\n",
       " '307',\n",
       " '315',\n",
       " '381',\n",
       " '328',\n",
       " '545',\n",
       " '1432']"
      ]
     },
     "execution_count": 27,
     "metadata": {},
     "output_type": "execute_result"
    }
   ],
   "source": [
    "qwer"
   ]
  },
  {
   "cell_type": "code",
   "execution_count": 28,
   "metadata": {},
   "outputs": [],
   "source": [
    "list1 = [57, 37, 41, 41, 33, 27, 38, 35, 30, 23, 35, 35, 41, 20, 46, 33, 42, 21, 51, 37, 42, 36, 36, 34, 25, 27, 36, 32, 26, 24, 26, 30, 48, 61, 52, 61, 50, 50, 41, 44, 36, 33, 38, 27, 49, 46, 49, 58, 58, 52, 61, 60, 50, 39, 72, 42, 29, 39, 44, 27, 44, 28, 34, 46, 45, 60, 62, 52, 48, 69, 37, 39, 48, 64, 52, 38, 60, 42, 55, 70, 29, 20, 62, 54, 49, 55, 44, 32, 26, 32, 28, 30, 33, 23, 26, 32]"
   ]
  },
  {
   "cell_type": "code",
   "execution_count": 29,
   "metadata": {},
   "outputs": [
    {
     "data": {
      "text/plain": [
       "96"
      ]
     },
     "execution_count": 29,
     "metadata": {},
     "output_type": "execute_result"
    }
   ],
   "source": [
    "len(list1)"
   ]
  },
  {
   "cell_type": "code",
   "execution_count": 30,
   "metadata": {},
   "outputs": [],
   "source": [
    "list2 = [5963, 67, 449, 124, 398, 49, 90, 154, 326, 218, 65, 103, 491, 306, 802, 451, 1097, 727, 615, 602, 712, 633, 589, 508, 638, 529, 668, 759, 853, 531, 687, 738, 1020, 1084, 294, 733, 760, 831, 427, 336, 383, 782, 113, 83, 612, 327, 376, 542, 1055, 289, 527, 812, 883, 489, 558, 658, 314, 283, 145, 103, 223, 91, 99, 412, 244, 3157, 869, 1713, 1846, 5152, 913, 973, 1322, 2815, 321, 306, 2263, 990, 3001, 3620, 1423, 200, 3392, 2378, 4119, 1238, 438, 985, 806, 851, 113, 123, 181, 100, 75, 86]"
   ]
  },
  {
   "cell_type": "code",
   "execution_count": 31,
   "metadata": {},
   "outputs": [
    {
     "data": {
      "text/plain": [
       "96"
      ]
     },
     "execution_count": 31,
     "metadata": {},
     "output_type": "execute_result"
    }
   ],
   "source": [
    "len(list2)"
   ]
  },
  {
   "cell_type": "code",
   "execution_count": null,
   "metadata": {},
   "outputs": [],
   "source": []
  }
 ],
 "metadata": {
  "kernelspec": {
   "display_name": "Python 3",
   "language": "python",
   "name": "python3"
  },
  "language_info": {
   "codemirror_mode": {
    "name": "ipython",
    "version": 3
   },
   "file_extension": ".py",
   "mimetype": "text/x-python",
   "name": "python",
   "nbconvert_exporter": "python",
   "pygments_lexer": "ipython3",
   "version": "3.8.5"
  }
 },
 "nbformat": 4,
 "nbformat_minor": 4
}
