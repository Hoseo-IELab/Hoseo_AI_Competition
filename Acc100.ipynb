{
 "cells": [
  {
   "cell_type": "markdown",
   "metadata": {},
   "source": [
    "# 2021 AI Competition hosted by Hoseo University."
   ]
  },
  {
   "cell_type": "markdown",
   "metadata": {},
   "source": [
    "## Team Acc100\n",
    "(Minseok Song, 희중 Kim, Jesung Lim)"
   ]
  },
  {
   "cell_type": "markdown",
   "metadata": {},
   "source": [
    "Our members belong to the I.E.(Intelligent Engineering) laboratory in Hoseo University."
   ]
  },
  {
   "cell_type": "markdown",
   "metadata": {},
   "source": [
    "## Importng."
   ]
  },
  {
   "cell_type": "code",
   "execution_count": 1,
   "metadata": {},
   "outputs": [],
   "source": [
    "# data analysis and wrangling\n",
    "import numpy as np\n",
    "import pandas as pd\n",
    "import json\n",
    "\n",
    "# visualization\n",
    "import seaborn as sns\n",
    "import matplotlib.pyplot as plt\n",
    "%matplotlib inline\n",
    "\n",
    "# machine learning"
   ]
  },
  {
   "cell_type": "markdown",
   "metadata": {},
   "source": [
    "## Acquire Data"
   ]
  },
  {
   "cell_type": "markdown",
   "metadata": {},
   "source": [
    "We were provided with two data files.<br>\n",
    "They mean training datasets and test datasets."
   ]
  },
  {
   "cell_type": "code",
   "execution_count": 2,
   "metadata": {},
   "outputs": [],
   "source": [
    "train_df = pd.read_csv(\"train.csv\", encoding='euc-kr')\n",
    "test_df = pd.read_csv(\"test.csv\", encoding=\"euc-kr\")"
   ]
  },
  {
   "cell_type": "code",
   "execution_count": 3,
   "metadata": {},
   "outputs": [
    {
     "data": {
      "text/plain": [
       "(10000, 5)"
      ]
     },
     "execution_count": 3,
     "metadata": {},
     "output_type": "execute_result"
    }
   ],
   "source": [
    "train_df.shape"
   ]
  },
  {
   "cell_type": "code",
   "execution_count": 4,
   "metadata": {
    "scrolled": true
   },
   "outputs": [
    {
     "data": {
      "text/plain": [
       "분석데이터               int64\n",
       "label               int64\n",
       "Feature_Group_A    object\n",
       "Feature_Group_B    object\n",
       "Feature_Group_C    object\n",
       "dtype: object"
      ]
     },
     "execution_count": 4,
     "metadata": {},
     "output_type": "execute_result"
    }
   ],
   "source": [
    "train_df.dtypes"
   ]
  },
  {
   "cell_type": "code",
   "execution_count": 5,
   "metadata": {
    "scrolled": true
   },
   "outputs": [
    {
     "name": "stdout",
     "output_type": "stream",
     "text": [
      "['분석데이터' 'label' 'Feature_Group_A' 'Feature_Group_B' 'Feature_Group_C']\n"
     ]
    }
   ],
   "source": [
    "print(train_df.columns.values)"
   ]
  },
  {
   "cell_type": "code",
   "execution_count": 6,
   "metadata": {},
   "outputs": [
    {
     "data": {
      "text/html": [
       "<div>\n",
       "<style scoped>\n",
       "    .dataframe tbody tr th:only-of-type {\n",
       "        vertical-align: middle;\n",
       "    }\n",
       "\n",
       "    .dataframe tbody tr th {\n",
       "        vertical-align: top;\n",
       "    }\n",
       "\n",
       "    .dataframe thead th {\n",
       "        text-align: right;\n",
       "    }\n",
       "</style>\n",
       "<table border=\"1\" class=\"dataframe\">\n",
       "  <thead>\n",
       "    <tr style=\"text-align: right;\">\n",
       "      <th></th>\n",
       "      <th>분석데이터</th>\n",
       "      <th>label</th>\n",
       "      <th>Feature_Group_A</th>\n",
       "      <th>Feature_Group_B</th>\n",
       "      <th>Feature_Group_C</th>\n",
       "    </tr>\n",
       "  </thead>\n",
       "  <tbody>\n",
       "    <tr>\n",
       "      <th>0</th>\n",
       "      <td>1</td>\n",
       "      <td>1</td>\n",
       "      <td>[2399, 572, 519, 673, 555, 516, 558, 510, 709,...</td>\n",
       "      <td>[0, 0, 0, 0, 0, 0, 0, 0, 0, 0, 0, 0, 0, 0, 0, ...</td>\n",
       "      <td>{'numstrings': 655, 'avlength': 6.077862595419...</td>\n",
       "    </tr>\n",
       "    <tr>\n",
       "      <th>1</th>\n",
       "      <td>2</td>\n",
       "      <td>1</td>\n",
       "      <td>[183376, 8477, 4514, 3921, 7260, 2869, 2414, 2...</td>\n",
       "      <td>[1008, 0, 0, 6, 9, 6, 3, 0, 0, 0, 3, 3, 9, 0, ...</td>\n",
       "      <td>{'numstrings': 3312, 'avlength': 24.9393115942...</td>\n",
       "    </tr>\n",
       "    <tr>\n",
       "      <th>2</th>\n",
       "      <td>3</td>\n",
       "      <td>0</td>\n",
       "      <td>[1178, 28, 9, 6, 20, 4, 6, 0, 2, 2, 4, 3, 1, 3...</td>\n",
       "      <td>[0, 0, 0, 0, 0, 0, 0, 0, 0, 0, 0, 0, 0, 0, 0, ...</td>\n",
       "      <td>{'numstrings': 4, 'avlength': 58.5, 'printable...</td>\n",
       "    </tr>\n",
       "    <tr>\n",
       "      <th>3</th>\n",
       "      <td>4</td>\n",
       "      <td>0</td>\n",
       "      <td>[56851, 2625, 1520, 1351, 3266, 802, 1173, 681...</td>\n",
       "      <td>[14336, 0, 0, 0, 0, 0, 0, 0, 0, 0, 0, 0, 0, 0,...</td>\n",
       "      <td>{'numstrings': 1105, 'avlength': 16.4371040723...</td>\n",
       "    </tr>\n",
       "    <tr>\n",
       "      <th>4</th>\n",
       "      <td>5</td>\n",
       "      <td>1</td>\n",
       "      <td>[124274, 5778, 3669, 3595, 6210, 11804, 12076,...</td>\n",
       "      <td>[0, 0, 0, 0, 0, 0, 0, 0, 0, 0, 0, 0, 0, 0, 0, ...</td>\n",
       "      <td>{'numstrings': 2018, 'avlength': 13.9380574826...</td>\n",
       "    </tr>\n",
       "  </tbody>\n",
       "</table>\n",
       "</div>"
      ],
      "text/plain": [
       "   분석데이터  label                                    Feature_Group_A  \\\n",
       "0      1      1  [2399, 572, 519, 673, 555, 516, 558, 510, 709,...   \n",
       "1      2      1  [183376, 8477, 4514, 3921, 7260, 2869, 2414, 2...   \n",
       "2      3      0  [1178, 28, 9, 6, 20, 4, 6, 0, 2, 2, 4, 3, 1, 3...   \n",
       "3      4      0  [56851, 2625, 1520, 1351, 3266, 802, 1173, 681...   \n",
       "4      5      1  [124274, 5778, 3669, 3595, 6210, 11804, 12076,...   \n",
       "\n",
       "                                     Feature_Group_B  \\\n",
       "0  [0, 0, 0, 0, 0, 0, 0, 0, 0, 0, 0, 0, 0, 0, 0, ...   \n",
       "1  [1008, 0, 0, 6, 9, 6, 3, 0, 0, 0, 3, 3, 9, 0, ...   \n",
       "2  [0, 0, 0, 0, 0, 0, 0, 0, 0, 0, 0, 0, 0, 0, 0, ...   \n",
       "3  [14336, 0, 0, 0, 0, 0, 0, 0, 0, 0, 0, 0, 0, 0,...   \n",
       "4  [0, 0, 0, 0, 0, 0, 0, 0, 0, 0, 0, 0, 0, 0, 0, ...   \n",
       "\n",
       "                                     Feature_Group_C  \n",
       "0  {'numstrings': 655, 'avlength': 6.077862595419...  \n",
       "1  {'numstrings': 3312, 'avlength': 24.9393115942...  \n",
       "2  {'numstrings': 4, 'avlength': 58.5, 'printable...  \n",
       "3  {'numstrings': 1105, 'avlength': 16.4371040723...  \n",
       "4  {'numstrings': 2018, 'avlength': 13.9380574826...  "
      ]
     },
     "execution_count": 6,
     "metadata": {},
     "output_type": "execute_result"
    }
   ],
   "source": [
    "train_df.head()"
   ]
  },
  {
   "cell_type": "code",
   "execution_count": 7,
   "metadata": {},
   "outputs": [
    {
     "data": {
      "text/html": [
       "<div>\n",
       "<style scoped>\n",
       "    .dataframe tbody tr th:only-of-type {\n",
       "        vertical-align: middle;\n",
       "    }\n",
       "\n",
       "    .dataframe tbody tr th {\n",
       "        vertical-align: top;\n",
       "    }\n",
       "\n",
       "    .dataframe thead th {\n",
       "        text-align: right;\n",
       "    }\n",
       "</style>\n",
       "<table border=\"1\" class=\"dataframe\">\n",
       "  <thead>\n",
       "    <tr style=\"text-align: right;\">\n",
       "      <th></th>\n",
       "      <th>분석데이터</th>\n",
       "      <th>label</th>\n",
       "      <th>Feature_Group_A</th>\n",
       "      <th>Feature_Group_B</th>\n",
       "      <th>Feature_Group_C</th>\n",
       "    </tr>\n",
       "  </thead>\n",
       "  <tbody>\n",
       "    <tr>\n",
       "      <th>9995</th>\n",
       "      <td>9996</td>\n",
       "      <td>1</td>\n",
       "      <td>[255044, 17531, 8711, 7958, 17524, 7218, 7336,...</td>\n",
       "      <td>[28672, 0, 0, 0, 0, 0, 0, 0, 0, 0, 0, 0, 0, 0,...</td>\n",
       "      <td>{'numstrings': 8980, 'avlength': 23.2523385300...</td>\n",
       "    </tr>\n",
       "    <tr>\n",
       "      <th>9996</th>\n",
       "      <td>9997</td>\n",
       "      <td>0</td>\n",
       "      <td>[181296, 5127, 4027, 5738, 5468, 1564, 1349, 4...</td>\n",
       "      <td>[16384, 0, 0, 0, 0, 0, 0, 0, 0, 0, 0, 0, 0, 0,...</td>\n",
       "      <td>{'numstrings': 2602, 'avlength': 10.2882398155...</td>\n",
       "    </tr>\n",
       "    <tr>\n",
       "      <th>9997</th>\n",
       "      <td>9998</td>\n",
       "      <td>0</td>\n",
       "      <td>[68736, 2344, 1699, 1073, 1604, 756, 877, 934,...</td>\n",
       "      <td>[42986, 0, 0, 0, 1, 5, 0, 1, 0, 2, 0, 1, 4, 1,...</td>\n",
       "      <td>{'numstrings': 2205, 'avlength': 12.7360544217...</td>\n",
       "    </tr>\n",
       "    <tr>\n",
       "      <th>9998</th>\n",
       "      <td>9999</td>\n",
       "      <td>1</td>\n",
       "      <td>[90648, 1338, 964, 1440, 1677, 2390, 674, 740,...</td>\n",
       "      <td>[0, 0, 0, 0, 0, 0, 0, 0, 0, 0, 0, 0, 0, 0, 0, ...</td>\n",
       "      <td>{'numstrings': 804, 'avlength': 9.580845771144...</td>\n",
       "    </tr>\n",
       "    <tr>\n",
       "      <th>9999</th>\n",
       "      <td>10000</td>\n",
       "      <td>0</td>\n",
       "      <td>[14738, 720, 159, 103, 355, 83, 51, 42, 210, 5...</td>\n",
       "      <td>[16325, 17, 3, 1, 2, 9, 2, 6, 5, 2, 7, 1, 1, 1...</td>\n",
       "      <td>{'numstrings': 144, 'avlength': 12.29861111111...</td>\n",
       "    </tr>\n",
       "  </tbody>\n",
       "</table>\n",
       "</div>"
      ],
      "text/plain": [
       "      분석데이터  label                                    Feature_Group_A  \\\n",
       "9995   9996      1  [255044, 17531, 8711, 7958, 17524, 7218, 7336,...   \n",
       "9996   9997      0  [181296, 5127, 4027, 5738, 5468, 1564, 1349, 4...   \n",
       "9997   9998      0  [68736, 2344, 1699, 1073, 1604, 756, 877, 934,...   \n",
       "9998   9999      1  [90648, 1338, 964, 1440, 1677, 2390, 674, 740,...   \n",
       "9999  10000      0  [14738, 720, 159, 103, 355, 83, 51, 42, 210, 5...   \n",
       "\n",
       "                                        Feature_Group_B  \\\n",
       "9995  [28672, 0, 0, 0, 0, 0, 0, 0, 0, 0, 0, 0, 0, 0,...   \n",
       "9996  [16384, 0, 0, 0, 0, 0, 0, 0, 0, 0, 0, 0, 0, 0,...   \n",
       "9997  [42986, 0, 0, 0, 1, 5, 0, 1, 0, 2, 0, 1, 4, 1,...   \n",
       "9998  [0, 0, 0, 0, 0, 0, 0, 0, 0, 0, 0, 0, 0, 0, 0, ...   \n",
       "9999  [16325, 17, 3, 1, 2, 9, 2, 6, 5, 2, 7, 1, 1, 1...   \n",
       "\n",
       "                                        Feature_Group_C  \n",
       "9995  {'numstrings': 8980, 'avlength': 23.2523385300...  \n",
       "9996  {'numstrings': 2602, 'avlength': 10.2882398155...  \n",
       "9997  {'numstrings': 2205, 'avlength': 12.7360544217...  \n",
       "9998  {'numstrings': 804, 'avlength': 9.580845771144...  \n",
       "9999  {'numstrings': 144, 'avlength': 12.29861111111...  "
      ]
     },
     "execution_count": 7,
     "metadata": {},
     "output_type": "execute_result"
    }
   ],
   "source": [
    "train_df.tail()"
   ]
  },
  {
   "cell_type": "code",
   "execution_count": 8,
   "metadata": {
    "scrolled": false
   },
   "outputs": [
    {
     "name": "stdout",
     "output_type": "stream",
     "text": [
      "<class 'pandas.core.frame.DataFrame'>\n",
      "RangeIndex: 10000 entries, 0 to 9999\n",
      "Data columns (total 5 columns):\n",
      " #   Column           Non-Null Count  Dtype \n",
      "---  ------           --------------  ----- \n",
      " 0   분석데이터            10000 non-null  int64 \n",
      " 1   label            10000 non-null  int64 \n",
      " 2   Feature_Group_A  10000 non-null  object\n",
      " 3   Feature_Group_B  10000 non-null  object\n",
      " 4   Feature_Group_C  10000 non-null  object\n",
      "dtypes: int64(2), object(3)\n",
      "memory usage: 390.8+ KB\n",
      "________________________________________\n",
      "<class 'pandas.core.frame.DataFrame'>\n",
      "RangeIndex: 5000 entries, 0 to 4999\n",
      "Data columns (total 4 columns):\n",
      " #   Column           Non-Null Count  Dtype \n",
      "---  ------           --------------  ----- \n",
      " 0   분석대상             5000 non-null   int64 \n",
      " 1   Feature_Group_A  5000 non-null   object\n",
      " 2   Feature_Group_B  5000 non-null   object\n",
      " 3   Feature_Group_C  5000 non-null   object\n",
      "dtypes: int64(1), object(3)\n",
      "memory usage: 156.4+ KB\n"
     ]
    }
   ],
   "source": [
    "train_df.info()\n",
    "print('_'*40)\n",
    "test_df.info()"
   ]
  },
  {
   "cell_type": "code",
   "execution_count": 9,
   "metadata": {
    "scrolled": true
   },
   "outputs": [
    {
     "data": {
      "text/plain": [
       "\"{'numstrings': 655, 'avlength': 6.077862595419847, 'printabledist': [57, 37, 41, 41, 33, 27, 38, 35, 30, 23, 35, 35, 41, 20, 46, 33, 42, 21, 51, 37, 42, 36, 36, 34, 25, 27, 36, 32, 26, 24, 26, 30, 48, 61, 52, 61, 50, 50, 41, 44, 36, 33, 38, 27, 49, 46, 49, 58, 58, 52, 61, 60, 50, 39, 72, 42, 29, 39, 44, 27, 44, 28, 34, 46, 45, 60, 62, 52, 48, 69, 37, 39, 48, 64, 52, 38, 60, 42, 55, 70, 29, 20, 62, 54, 49, 55, 44, 32, 26, 32, 28, 30, 33, 23, 26, 32], 'printables': 3981, 'entropy': 6.519481182098389, 'paths': 0, 'urls': 0, 'registry': 0, 'MZ': 4}\""
      ]
     },
     "execution_count": 9,
     "metadata": {},
     "output_type": "execute_result"
    }
   ],
   "source": [
    "train_df['Feature_Group_C'][1]#ddddddd"
   ]
  },
  {
   "cell_type": "code",
   "execution_count": 10,
   "metadata": {},
   "outputs": [],
   "source": [
    "modify_feature_group_C = train_df['Feature_Group_C']"
   ]
  },
  {
   "cell_type": "code",
   "execution_count": 11,
   "metadata": {},
   "outputs": [
    {
     "data": {
      "text/plain": [
       "9995    {'numstrings': 8980, 'avlength': 23.2523385300...\n",
       "9996    {'numstrings': 2602, 'avlength': 10.2882398155...\n",
       "9997    {'numstrings': 2205, 'avlength': 12.7360544217...\n",
       "9998    {'numstrings': 804, 'avlength': 9.580845771144...\n",
       "9999    {'numstrings': 144, 'avlength': 12.29861111111...\n",
       "Name: Feature_Group_C, dtype: object"
      ]
     },
     "execution_count": 11,
     "metadata": {},
     "output_type": "execute_result"
    }
   ],
   "source": [
    "modify_feature_group_C.tail(5)"
   ]
  },
  {
   "cell_type": "code",
   "execution_count": 12,
   "metadata": {},
   "outputs": [
    {
     "name": "stderr",
     "output_type": "stream",
     "text": [
      "<ipython-input-12-caecc5cc5823>:5: SettingWithCopyWarning: \n",
      "A value is trying to be set on a copy of a slice from a DataFrame\n",
      "\n",
      "See the caveats in the documentation: https://pandas.pydata.org/pandas-docs/stable/user_guide/indexing.html#returning-a-view-versus-a-copy\n",
      "  modify_feature_group_C[x] = modify_feature_group_C[x].replace(characters[y],\"\\\"\")\n"
     ]
    },
    {
     "name": "stdout",
     "output_type": "stream",
     "text": [
      "0       {\"numstrings\": 655, \"avlength\": 6.077862595419...\n",
      "1       {\"numstrings\": 3312, \"avlength\": 24.9393115942...\n",
      "2       {\"numstrings\": 4, \"avlength\": 58.5, \"printable...\n",
      "3       {\"numstrings\": 1105, \"avlength\": 16.4371040723...\n",
      "4       {\"numstrings\": 2018, \"avlength\": 13.9380574826...\n",
      "                              ...                        \n",
      "9995    {\"numstrings\": 8980, \"avlength\": 23.2523385300...\n",
      "9996    {\"numstrings\": 2602, \"avlength\": 10.2882398155...\n",
      "9997    {\"numstrings\": 2205, \"avlength\": 12.7360544217...\n",
      "9998    {\"numstrings\": 804, \"avlength\": 9.580845771144...\n",
      "9999    {\"numstrings\": 144, \"avlength\": 12.29861111111...\n",
      "Name: Feature_Group_C, Length: 10000, dtype: object\n"
     ]
    }
   ],
   "source": [
    "characters = \"\\'\"\n",
    "\n",
    "for x in range(len(modify_feature_group_C)):\n",
    "    for y in range(len(characters)):\n",
    "        modify_feature_group_C[x] = modify_feature_group_C[x].replace(characters[y],\"\\\"\")\n",
    "\n",
    "print(modify_feature_group_C)"
   ]
  },
  {
   "cell_type": "code",
   "execution_count": 13,
   "metadata": {
    "scrolled": true
   },
   "outputs": [
    {
     "data": {
      "text/plain": [
       "'{\"numstrings\": 655, \"avlength\": 6.077862595419847, \"printabledist\": [57, 37, 41, 41, 33, 27, 38, 35, 30, 23, 35, 35, 41, 20, 46, 33, 42, 21, 51, 37, 42, 36, 36, 34, 25, 27, 36, 32, 26, 24, 26, 30, 48, 61, 52, 61, 50, 50, 41, 44, 36, 33, 38, 27, 49, 46, 49, 58, 58, 52, 61, 60, 50, 39, 72, 42, 29, 39, 44, 27, 44, 28, 34, 46, 45, 60, 62, 52, 48, 69, 37, 39, 48, 64, 52, 38, 60, 42, 55, 70, 29, 20, 62, 54, 49, 55, 44, 32, 26, 32, 28, 30, 33, 23, 26, 32], \"printables\": 3981, \"entropy\": 6.519481182098389, \"paths\": 0, \"urls\": 0, \"registry\": 0, \"MZ\": 4}'"
      ]
     },
     "execution_count": 13,
     "metadata": {},
     "output_type": "execute_result"
    }
   ],
   "source": [
    "modify_feature_group_C[0]"
   ]
  },
  {
   "cell_type": "code",
   "execution_count": 14,
   "metadata": {},
   "outputs": [
    {
     "data": {
      "text/plain": [
       "'{\"numstrings\": 144, \"avlength\": 12.29861111111111, \"printabledist\": [85, 2, 1, 0, 11, 0, 0, 0, 2, 0, 0, 3, 0, 12, 12, 1, 18, 4, 10, 6, 1, 1, 15, 2, 6, 3, 1, 1, 1, 0, 1, 0, 2, 18, 6, 20, 10, 15, 13, 22, 11, 6, 0, 2, 21, 11, 6, 4, 17, 9, 25, 35, 15, 15, 21, 22, 1, 20, 0, 20, 2, 22, 22, 23, 1, 79, 9, 35, 37, 158, 14, 22, 21, 89, 9, 2, 65, 26, 96, 89, 31, 0, 106, 42, 127, 40, 10, 4, 10, 9, 4, 0, 1, 0, 0, 0], \"printables\": 1771, \"entropy\": 5.356616020202637, \"paths\": 0, \"urls\": 0, \"registry\": 0, \"MZ\": 1}'"
      ]
     },
     "execution_count": 14,
     "metadata": {},
     "output_type": "execute_result"
    }
   ],
   "source": [
    "modify_feature_group_C[9999]"
   ]
  },
  {
   "cell_type": "code",
   "execution_count": 15,
   "metadata": {
    "scrolled": true
   },
   "outputs": [],
   "source": [
    "feature_group_c_df = pd.DataFrame(columns=['numstrings','avlength','printabledist','printables','entropy','paths','urls',\n",
    "                                           'registry','MZ'])\n",
    "\n",
    "for x in range(len(modify_feature_group_C)):\n",
    "    temp = json.loads(modify_feature_group_C[x])\n",
    "    temp2 = pd.DataFrame.from_dict(temp, orient='index')\n",
    "    temp2 = temp2.T\n",
    "    feature_group_c_df = pd.concat([temp2, feature_group_c_df], ignore_index=True)"
   ]
  },
  {
   "cell_type": "code",
   "execution_count": 16,
   "metadata": {
    "scrolled": true
   },
   "outputs": [
    {
     "data": {
      "text/html": [
       "<div>\n",
       "<style scoped>\n",
       "    .dataframe tbody tr th:only-of-type {\n",
       "        vertical-align: middle;\n",
       "    }\n",
       "\n",
       "    .dataframe tbody tr th {\n",
       "        vertical-align: top;\n",
       "    }\n",
       "\n",
       "    .dataframe thead th {\n",
       "        text-align: right;\n",
       "    }\n",
       "</style>\n",
       "<table border=\"1\" class=\"dataframe\">\n",
       "  <thead>\n",
       "    <tr style=\"text-align: right;\">\n",
       "      <th></th>\n",
       "      <th>numstrings</th>\n",
       "      <th>avlength</th>\n",
       "      <th>printabledist</th>\n",
       "      <th>printables</th>\n",
       "      <th>entropy</th>\n",
       "      <th>paths</th>\n",
       "      <th>urls</th>\n",
       "      <th>registry</th>\n",
       "      <th>MZ</th>\n",
       "    </tr>\n",
       "  </thead>\n",
       "  <tbody>\n",
       "    <tr>\n",
       "      <th>0</th>\n",
       "      <td>144</td>\n",
       "      <td>12.2986</td>\n",
       "      <td>[85, 2, 1, 0, 11, 0, 0, 0, 2, 0, 0, 3, 0, 12, ...</td>\n",
       "      <td>1771</td>\n",
       "      <td>5.35662</td>\n",
       "      <td>0</td>\n",
       "      <td>0</td>\n",
       "      <td>0</td>\n",
       "      <td>1</td>\n",
       "    </tr>\n",
       "    <tr>\n",
       "      <th>1</th>\n",
       "      <td>804</td>\n",
       "      <td>9.58085</td>\n",
       "      <td>[125, 43, 68, 20, 21, 25, 19, 22, 37, 38, 26, ...</td>\n",
       "      <td>7703</td>\n",
       "      <td>6.06354</td>\n",
       "      <td>0</td>\n",
       "      <td>0</td>\n",
       "      <td>0</td>\n",
       "      <td>6</td>\n",
       "    </tr>\n",
       "    <tr>\n",
       "      <th>2</th>\n",
       "      <td>2205</td>\n",
       "      <td>12.7361</td>\n",
       "      <td>[957, 102, 85, 84, 119, 189, 178, 117, 40, 231...</td>\n",
       "      <td>28083</td>\n",
       "      <td>6.10705</td>\n",
       "      <td>9</td>\n",
       "      <td>0</td>\n",
       "      <td>0</td>\n",
       "      <td>6</td>\n",
       "    </tr>\n",
       "    <tr>\n",
       "      <th>3</th>\n",
       "      <td>2602</td>\n",
       "      <td>10.2882</td>\n",
       "      <td>[748, 4, 0, 9, 178, 0, 49, 1, 53, 0, 0, 1, 60,...</td>\n",
       "      <td>26770</td>\n",
       "      <td>5.37301</td>\n",
       "      <td>8</td>\n",
       "      <td>0</td>\n",
       "      <td>0</td>\n",
       "      <td>1</td>\n",
       "    </tr>\n",
       "    <tr>\n",
       "      <th>4</th>\n",
       "      <td>8980</td>\n",
       "      <td>23.2523</td>\n",
       "      <td>[4847, 116, 142, 115, 1090, 957, 136, 200, 454...</td>\n",
       "      <td>208806</td>\n",
       "      <td>5.77522</td>\n",
       "      <td>0</td>\n",
       "      <td>28</td>\n",
       "      <td>16</td>\n",
       "      <td>3</td>\n",
       "    </tr>\n",
       "  </tbody>\n",
       "</table>\n",
       "</div>"
      ],
      "text/plain": [
       "  numstrings avlength                                      printabledist  \\\n",
       "0        144  12.2986  [85, 2, 1, 0, 11, 0, 0, 0, 2, 0, 0, 3, 0, 12, ...   \n",
       "1        804  9.58085  [125, 43, 68, 20, 21, 25, 19, 22, 37, 38, 26, ...   \n",
       "2       2205  12.7361  [957, 102, 85, 84, 119, 189, 178, 117, 40, 231...   \n",
       "3       2602  10.2882  [748, 4, 0, 9, 178, 0, 49, 1, 53, 0, 0, 1, 60,...   \n",
       "4       8980  23.2523  [4847, 116, 142, 115, 1090, 957, 136, 200, 454...   \n",
       "\n",
       "  printables  entropy paths urls registry MZ  \n",
       "0       1771  5.35662     0    0        0  1  \n",
       "1       7703  6.06354     0    0        0  6  \n",
       "2      28083  6.10705     9    0        0  6  \n",
       "3      26770  5.37301     8    0        0  1  \n",
       "4     208806  5.77522     0   28       16  3  "
      ]
     },
     "execution_count": 16,
     "metadata": {},
     "output_type": "execute_result"
    }
   ],
   "source": [
    "feature_group_c_df.head()"
   ]
  },
  {
   "cell_type": "code",
   "execution_count": 17,
   "metadata": {
    "scrolled": false
   },
   "outputs": [
    {
     "data": {
      "text/html": [
       "<div>\n",
       "<style scoped>\n",
       "    .dataframe tbody tr th:only-of-type {\n",
       "        vertical-align: middle;\n",
       "    }\n",
       "\n",
       "    .dataframe tbody tr th {\n",
       "        vertical-align: top;\n",
       "    }\n",
       "\n",
       "    .dataframe thead th {\n",
       "        text-align: right;\n",
       "    }\n",
       "</style>\n",
       "<table border=\"1\" class=\"dataframe\">\n",
       "  <thead>\n",
       "    <tr style=\"text-align: right;\">\n",
       "      <th></th>\n",
       "      <th>numstrings</th>\n",
       "      <th>avlength</th>\n",
       "      <th>printabledist</th>\n",
       "      <th>printables</th>\n",
       "      <th>entropy</th>\n",
       "      <th>paths</th>\n",
       "      <th>urls</th>\n",
       "      <th>registry</th>\n",
       "      <th>MZ</th>\n",
       "    </tr>\n",
       "  </thead>\n",
       "  <tbody>\n",
       "    <tr>\n",
       "      <th>9995</th>\n",
       "      <td>2018</td>\n",
       "      <td>13.9381</td>\n",
       "      <td>[1010, 88, 71, 112, 231, 200, 64, 104, 110, 87...</td>\n",
       "      <td>28127</td>\n",
       "      <td>5.94044</td>\n",
       "      <td>0</td>\n",
       "      <td>70</td>\n",
       "      <td>0</td>\n",
       "      <td>11</td>\n",
       "    </tr>\n",
       "    <tr>\n",
       "      <th>9996</th>\n",
       "      <td>1105</td>\n",
       "      <td>16.4371</td>\n",
       "      <td>[455, 11, 66, 4, 49, 150, 21, 60, 19, 11, 60, ...</td>\n",
       "      <td>18163</td>\n",
       "      <td>5.76696</td>\n",
       "      <td>0</td>\n",
       "      <td>11</td>\n",
       "      <td>0</td>\n",
       "      <td>3</td>\n",
       "    </tr>\n",
       "    <tr>\n",
       "      <th>9997</th>\n",
       "      <td>4</td>\n",
       "      <td>58.5</td>\n",
       "      <td>[7, 1, 0, 0, 0, 0, 0, 0, 0, 0, 0, 0, 0, 0, 3, ...</td>\n",
       "      <td>234</td>\n",
       "      <td>3.81183</td>\n",
       "      <td>0</td>\n",
       "      <td>0</td>\n",
       "      <td>0</td>\n",
       "      <td>1</td>\n",
       "    </tr>\n",
       "    <tr>\n",
       "      <th>9998</th>\n",
       "      <td>3312</td>\n",
       "      <td>24.9393</td>\n",
       "      <td>[5963, 67, 449, 124, 398, 49, 90, 154, 326, 21...</td>\n",
       "      <td>82599</td>\n",
       "      <td>5.83473</td>\n",
       "      <td>0</td>\n",
       "      <td>39</td>\n",
       "      <td>0</td>\n",
       "      <td>8</td>\n",
       "    </tr>\n",
       "    <tr>\n",
       "      <th>9999</th>\n",
       "      <td>655</td>\n",
       "      <td>6.07786</td>\n",
       "      <td>[57, 37, 41, 41, 33, 27, 38, 35, 30, 23, 35, 3...</td>\n",
       "      <td>3981</td>\n",
       "      <td>6.51948</td>\n",
       "      <td>0</td>\n",
       "      <td>0</td>\n",
       "      <td>0</td>\n",
       "      <td>4</td>\n",
       "    </tr>\n",
       "  </tbody>\n",
       "</table>\n",
       "</div>"
      ],
      "text/plain": [
       "     numstrings avlength                                      printabledist  \\\n",
       "9995       2018  13.9381  [1010, 88, 71, 112, 231, 200, 64, 104, 110, 87...   \n",
       "9996       1105  16.4371  [455, 11, 66, 4, 49, 150, 21, 60, 19, 11, 60, ...   \n",
       "9997          4     58.5  [7, 1, 0, 0, 0, 0, 0, 0, 0, 0, 0, 0, 0, 0, 3, ...   \n",
       "9998       3312  24.9393  [5963, 67, 449, 124, 398, 49, 90, 154, 326, 21...   \n",
       "9999        655  6.07786  [57, 37, 41, 41, 33, 27, 38, 35, 30, 23, 35, 3...   \n",
       "\n",
       "     printables  entropy paths urls registry  MZ  \n",
       "9995      28127  5.94044     0   70        0  11  \n",
       "9996      18163  5.76696     0   11        0   3  \n",
       "9997        234  3.81183     0    0        0   1  \n",
       "9998      82599  5.83473     0   39        0   8  \n",
       "9999       3981  6.51948     0    0        0   4  "
      ]
     },
     "execution_count": 17,
     "metadata": {},
     "output_type": "execute_result"
    }
   ],
   "source": [
    "feature_group_c_df.tail()"
   ]
  },
  {
   "cell_type": "code",
   "execution_count": 18,
   "metadata": {},
   "outputs": [],
   "source": [
    "train_df = pd.concat([train_df, feature_group_c_df], axis=1)"
   ]
  },
  {
   "cell_type": "code",
   "execution_count": 19,
   "metadata": {},
   "outputs": [],
   "source": [
    "train_df = train_df.drop(columns=['Feature_Group_C'], axis=1)"
   ]
  },
  {
   "cell_type": "code",
   "execution_count": 20,
   "metadata": {
    "scrolled": true
   },
   "outputs": [
    {
     "data": {
      "text/html": [
       "<div>\n",
       "<style scoped>\n",
       "    .dataframe tbody tr th:only-of-type {\n",
       "        vertical-align: middle;\n",
       "    }\n",
       "\n",
       "    .dataframe tbody tr th {\n",
       "        vertical-align: top;\n",
       "    }\n",
       "\n",
       "    .dataframe thead th {\n",
       "        text-align: right;\n",
       "    }\n",
       "</style>\n",
       "<table border=\"1\" class=\"dataframe\">\n",
       "  <thead>\n",
       "    <tr style=\"text-align: right;\">\n",
       "      <th></th>\n",
       "      <th>분석데이터</th>\n",
       "      <th>label</th>\n",
       "      <th>Feature_Group_A</th>\n",
       "      <th>Feature_Group_B</th>\n",
       "      <th>numstrings</th>\n",
       "      <th>avlength</th>\n",
       "      <th>printabledist</th>\n",
       "      <th>printables</th>\n",
       "      <th>entropy</th>\n",
       "      <th>paths</th>\n",
       "      <th>urls</th>\n",
       "      <th>registry</th>\n",
       "      <th>MZ</th>\n",
       "    </tr>\n",
       "  </thead>\n",
       "  <tbody>\n",
       "    <tr>\n",
       "      <th>0</th>\n",
       "      <td>1</td>\n",
       "      <td>1</td>\n",
       "      <td>[2399, 572, 519, 673, 555, 516, 558, 510, 709,...</td>\n",
       "      <td>[0, 0, 0, 0, 0, 0, 0, 0, 0, 0, 0, 0, 0, 0, 0, ...</td>\n",
       "      <td>144</td>\n",
       "      <td>12.2986</td>\n",
       "      <td>[85, 2, 1, 0, 11, 0, 0, 0, 2, 0, 0, 3, 0, 12, ...</td>\n",
       "      <td>1771</td>\n",
       "      <td>5.35662</td>\n",
       "      <td>0</td>\n",
       "      <td>0</td>\n",
       "      <td>0</td>\n",
       "      <td>1</td>\n",
       "    </tr>\n",
       "    <tr>\n",
       "      <th>1</th>\n",
       "      <td>2</td>\n",
       "      <td>1</td>\n",
       "      <td>[183376, 8477, 4514, 3921, 7260, 2869, 2414, 2...</td>\n",
       "      <td>[1008, 0, 0, 6, 9, 6, 3, 0, 0, 0, 3, 3, 9, 0, ...</td>\n",
       "      <td>804</td>\n",
       "      <td>9.58085</td>\n",
       "      <td>[125, 43, 68, 20, 21, 25, 19, 22, 37, 38, 26, ...</td>\n",
       "      <td>7703</td>\n",
       "      <td>6.06354</td>\n",
       "      <td>0</td>\n",
       "      <td>0</td>\n",
       "      <td>0</td>\n",
       "      <td>6</td>\n",
       "    </tr>\n",
       "    <tr>\n",
       "      <th>2</th>\n",
       "      <td>3</td>\n",
       "      <td>0</td>\n",
       "      <td>[1178, 28, 9, 6, 20, 4, 6, 0, 2, 2, 4, 3, 1, 3...</td>\n",
       "      <td>[0, 0, 0, 0, 0, 0, 0, 0, 0, 0, 0, 0, 0, 0, 0, ...</td>\n",
       "      <td>2205</td>\n",
       "      <td>12.7361</td>\n",
       "      <td>[957, 102, 85, 84, 119, 189, 178, 117, 40, 231...</td>\n",
       "      <td>28083</td>\n",
       "      <td>6.10705</td>\n",
       "      <td>9</td>\n",
       "      <td>0</td>\n",
       "      <td>0</td>\n",
       "      <td>6</td>\n",
       "    </tr>\n",
       "    <tr>\n",
       "      <th>3</th>\n",
       "      <td>4</td>\n",
       "      <td>0</td>\n",
       "      <td>[56851, 2625, 1520, 1351, 3266, 802, 1173, 681...</td>\n",
       "      <td>[14336, 0, 0, 0, 0, 0, 0, 0, 0, 0, 0, 0, 0, 0,...</td>\n",
       "      <td>2602</td>\n",
       "      <td>10.2882</td>\n",
       "      <td>[748, 4, 0, 9, 178, 0, 49, 1, 53, 0, 0, 1, 60,...</td>\n",
       "      <td>26770</td>\n",
       "      <td>5.37301</td>\n",
       "      <td>8</td>\n",
       "      <td>0</td>\n",
       "      <td>0</td>\n",
       "      <td>1</td>\n",
       "    </tr>\n",
       "    <tr>\n",
       "      <th>4</th>\n",
       "      <td>5</td>\n",
       "      <td>1</td>\n",
       "      <td>[124274, 5778, 3669, 3595, 6210, 11804, 12076,...</td>\n",
       "      <td>[0, 0, 0, 0, 0, 0, 0, 0, 0, 0, 0, 0, 0, 0, 0, ...</td>\n",
       "      <td>8980</td>\n",
       "      <td>23.2523</td>\n",
       "      <td>[4847, 116, 142, 115, 1090, 957, 136, 200, 454...</td>\n",
       "      <td>208806</td>\n",
       "      <td>5.77522</td>\n",
       "      <td>0</td>\n",
       "      <td>28</td>\n",
       "      <td>16</td>\n",
       "      <td>3</td>\n",
       "    </tr>\n",
       "  </tbody>\n",
       "</table>\n",
       "</div>"
      ],
      "text/plain": [
       "   분석데이터  label                                    Feature_Group_A  \\\n",
       "0      1      1  [2399, 572, 519, 673, 555, 516, 558, 510, 709,...   \n",
       "1      2      1  [183376, 8477, 4514, 3921, 7260, 2869, 2414, 2...   \n",
       "2      3      0  [1178, 28, 9, 6, 20, 4, 6, 0, 2, 2, 4, 3, 1, 3...   \n",
       "3      4      0  [56851, 2625, 1520, 1351, 3266, 802, 1173, 681...   \n",
       "4      5      1  [124274, 5778, 3669, 3595, 6210, 11804, 12076,...   \n",
       "\n",
       "                                     Feature_Group_B numstrings avlength  \\\n",
       "0  [0, 0, 0, 0, 0, 0, 0, 0, 0, 0, 0, 0, 0, 0, 0, ...        144  12.2986   \n",
       "1  [1008, 0, 0, 6, 9, 6, 3, 0, 0, 0, 3, 3, 9, 0, ...        804  9.58085   \n",
       "2  [0, 0, 0, 0, 0, 0, 0, 0, 0, 0, 0, 0, 0, 0, 0, ...       2205  12.7361   \n",
       "3  [14336, 0, 0, 0, 0, 0, 0, 0, 0, 0, 0, 0, 0, 0,...       2602  10.2882   \n",
       "4  [0, 0, 0, 0, 0, 0, 0, 0, 0, 0, 0, 0, 0, 0, 0, ...       8980  23.2523   \n",
       "\n",
       "                                       printabledist printables  entropy  \\\n",
       "0  [85, 2, 1, 0, 11, 0, 0, 0, 2, 0, 0, 3, 0, 12, ...       1771  5.35662   \n",
       "1  [125, 43, 68, 20, 21, 25, 19, 22, 37, 38, 26, ...       7703  6.06354   \n",
       "2  [957, 102, 85, 84, 119, 189, 178, 117, 40, 231...      28083  6.10705   \n",
       "3  [748, 4, 0, 9, 178, 0, 49, 1, 53, 0, 0, 1, 60,...      26770  5.37301   \n",
       "4  [4847, 116, 142, 115, 1090, 957, 136, 200, 454...     208806  5.77522   \n",
       "\n",
       "  paths urls registry MZ  \n",
       "0     0    0        0  1  \n",
       "1     0    0        0  6  \n",
       "2     9    0        0  6  \n",
       "3     8    0        0  1  \n",
       "4     0   28       16  3  "
      ]
     },
     "execution_count": 20,
     "metadata": {},
     "output_type": "execute_result"
    }
   ],
   "source": [
    "train_df.head()"
   ]
  },
  {
   "cell_type": "code",
   "execution_count": 21,
   "metadata": {},
   "outputs": [],
   "source": [
    "qwer = train_df['Feature_Group_A'][0]"
   ]
  },
  {
   "cell_type": "code",
   "execution_count": 22,
   "metadata": {},
   "outputs": [
    {
     "name": "stdout",
     "output_type": "stream",
     "text": [
      "2399 572 519 673 555 516 558 510 709 640 515 854 571 675 510 511 508 485 423 432 387 393 468 428 413 382 377 422 374 366 400 401 541 444 432 422 344 360 433 327 353 289 333 362 436 344 436 383 467 366 424 436 536 405 475 437 355 388 355 419 352 337 370 335 630 629 557 545 519 478 462 496 363 395 399 375 386 510 568 402 447 425 426 384 432 364 605 394 365 390 419 430 378 343 398 420 487 389 534 452 454 558 422 392 493 499 462 348 517 455 491 484 397 280 477 481 460 447 475 332 336 294 376 284 355 312 379 354 508 435 588 525 424 442 477 355 433 389 562 476 385 474 513 376 407 307 422 301 235 283 490 289 292 301 700 358 265 271 525 283 536 501 513 483 408 422 675 381 368 250 412 352 278 377 564 301 453 426 433 389 366 372 558 408 453 475 527 568 378 443 475 504 460 436 384 357 271 301 319 306 396 330 281 314 268 328 386 333 354 340 285 340 265 272 658 274 373 357 325 408 305 349 330 398 376 323 332 266 374 241 358 274 326 387 304 496 306 342 388 345 613 574 521 491 438 374 576 440 349 263 307 315 381 328 545 1432\n"
     ]
    }
   ],
   "source": [
    "characters = \"[],\"\n",
    "\n",
    "for x in range(len(characters)):\n",
    "    qwer = qwer.replace(characters[x],\"\")\n",
    "\n",
    "print(qwer)"
   ]
  },
  {
   "cell_type": "code",
   "execution_count": 23,
   "metadata": {
    "scrolled": true
   },
   "outputs": [],
   "source": [
    "qwer = qwer.split(' ')"
   ]
  },
  {
   "cell_type": "code",
   "execution_count": 24,
   "metadata": {},
   "outputs": [],
   "source": [
    "list1 = [57, 37, 41, 41, 33, 27, 38, 35, 30, 23, 35, 35, 41, 20, 46, 33, 42, 21, 51, 37, 42, 36, 36, 34, 25, 27, 36, 32, 26, 24, 26, 30, 48, 61, 52, 61, 50, 50, 41, 44, 36, 33, 38, 27, 49, 46, 49, 58, 58, 52, 61, 60, 50, 39, 72, 42, 29, 39, 44, 27, 44, 28, 34, 46, 45, 60, 62, 52, 48, 69, 37, 39, 48, 64, 52, 38, 60, 42, 55, 70, 29, 20, 62, 54, 49, 55, 44, 32, 26, 32, 28, 30, 33, 23, 26, 32]"
   ]
  },
  {
   "cell_type": "code",
   "execution_count": 25,
   "metadata": {},
   "outputs": [
    {
     "data": {
      "text/plain": [
       "96"
      ]
     },
     "execution_count": 25,
     "metadata": {},
     "output_type": "execute_result"
    }
   ],
   "source": [
    "len(list1)"
   ]
  },
  {
   "cell_type": "code",
   "execution_count": 26,
   "metadata": {},
   "outputs": [],
   "source": [
    "list2 = [5963, 67, 449, 124, 398, 49, 90, 154, 326, 218, 65, 103, 491, 306, 802, 451, 1097, 727, 615, 602, 712, 633, 589, 508, 638, 529, 668, 759, 853, 531, 687, 738, 1020, 1084, 294, 733, 760, 831, 427, 336, 383, 782, 113, 83, 612, 327, 376, 542, 1055, 289, 527, 812, 883, 489, 558, 658, 314, 283, 145, 103, 223, 91, 99, 412, 244, 3157, 869, 1713, 1846, 5152, 913, 973, 1322, 2815, 321, 306, 2263, 990, 3001, 3620, 1423, 200, 3392, 2378, 4119, 1238, 438, 985, 806, 851, 113, 123, 181, 100, 75, 86]"
   ]
  },
  {
   "cell_type": "code",
   "execution_count": 27,
   "metadata": {},
   "outputs": [
    {
     "data": {
      "text/plain": [
       "96"
      ]
     },
     "execution_count": 27,
     "metadata": {},
     "output_type": "execute_result"
    }
   ],
   "source": [
    "len(list2)"
   ]
  },
  {
   "cell_type": "code",
   "execution_count": null,
   "metadata": {},
   "outputs": [],
   "source": []
  }
 ],
 "metadata": {
  "kernelspec": {
   "display_name": "Python 3",
   "language": "python",
   "name": "python3"
  },
  "language_info": {
   "codemirror_mode": {
    "name": "ipython",
    "version": 3
   },
   "file_extension": ".py",
   "mimetype": "text/x-python",
   "name": "python",
   "nbconvert_exporter": "python",
   "pygments_lexer": "ipython3",
   "version": "3.8.5"
  }
 },
 "nbformat": 4,
 "nbformat_minor": 4
}
