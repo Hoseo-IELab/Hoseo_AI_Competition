{
 "cells": [
  {
   "cell_type": "code",
   "execution_count": 1,
   "metadata": {},
   "outputs": [],
   "source": [
    "import numpy as np\n",
    "import pandas as pd\n",
    "\n",
    "from sklearn.ensemble import RandomForestClassifier\n",
    "from xgboost import XGBClassifier\n",
    "from lightgbm import LGBMClassifier\n",
    "from catboost import CatBoostClassifier\n",
    "\n",
    "from sklearn.model_selection import StratifiedKFold\n",
    "from sklearn.model_selection import train_test_split\n",
    "\n",
    "from sklearn.metrics import classification_report, accuracy_score, confusion_matrix\n",
    "from sklearn.metrics import roc_auc_score\n",
    "\n",
    "\n",
    "%matplotlib inline\n",
    "import matplotlib\n",
    "import matplotlib.pyplot as plt\n",
    "import seaborn as sns\n",
    "\n",
    "from sklearn.decomposition import PCA\n",
    "from sklearn.preprocessing import StandardScaler\n",
    "\n",
    "from vecstack import stacking"
   ]
  },
  {
   "cell_type": "code",
   "execution_count": 2,
   "metadata": {},
   "outputs": [],
   "source": [
    "train = pd.read_csv('preprocessed_train.csv', encoding='euc-kr')"
   ]
  },
  {
   "cell_type": "code",
   "execution_count": 3,
   "metadata": {},
   "outputs": [
    {
     "data": {
      "text/html": [
       "<div>\n",
       "<style scoped>\n",
       "    .dataframe tbody tr th:only-of-type {\n",
       "        vertical-align: middle;\n",
       "    }\n",
       "\n",
       "    .dataframe tbody tr th {\n",
       "        vertical-align: top;\n",
       "    }\n",
       "\n",
       "    .dataframe thead th {\n",
       "        text-align: right;\n",
       "    }\n",
       "</style>\n",
       "<table border=\"1\" class=\"dataframe\">\n",
       "  <thead>\n",
       "    <tr style=\"text-align: right;\">\n",
       "      <th></th>\n",
       "      <th>분석데이터</th>\n",
       "      <th>label</th>\n",
       "      <th>numstrings</th>\n",
       "      <th>avlength</th>\n",
       "      <th>printables</th>\n",
       "      <th>entropy</th>\n",
       "      <th>paths</th>\n",
       "      <th>urls</th>\n",
       "      <th>registry</th>\n",
       "      <th>MZ</th>\n",
       "      <th>...</th>\n",
       "      <th>dist_86</th>\n",
       "      <th>dist_87</th>\n",
       "      <th>dist_88</th>\n",
       "      <th>dist_89</th>\n",
       "      <th>dist_90</th>\n",
       "      <th>dist_91</th>\n",
       "      <th>dist_92</th>\n",
       "      <th>dist_93</th>\n",
       "      <th>dist_94</th>\n",
       "      <th>dist_95</th>\n",
       "    </tr>\n",
       "  </thead>\n",
       "  <tbody>\n",
       "    <tr>\n",
       "      <th>0</th>\n",
       "      <td>1</td>\n",
       "      <td>1</td>\n",
       "      <td>144</td>\n",
       "      <td>12.298611</td>\n",
       "      <td>1771</td>\n",
       "      <td>5.356616</td>\n",
       "      <td>0</td>\n",
       "      <td>0</td>\n",
       "      <td>0</td>\n",
       "      <td>1</td>\n",
       "      <td>...</td>\n",
       "      <td>10</td>\n",
       "      <td>4</td>\n",
       "      <td>10</td>\n",
       "      <td>9</td>\n",
       "      <td>4</td>\n",
       "      <td>0</td>\n",
       "      <td>1</td>\n",
       "      <td>0</td>\n",
       "      <td>0</td>\n",
       "      <td>0</td>\n",
       "    </tr>\n",
       "    <tr>\n",
       "      <th>1</th>\n",
       "      <td>2</td>\n",
       "      <td>1</td>\n",
       "      <td>804</td>\n",
       "      <td>9.580846</td>\n",
       "      <td>7703</td>\n",
       "      <td>6.063542</td>\n",
       "      <td>0</td>\n",
       "      <td>0</td>\n",
       "      <td>0</td>\n",
       "      <td>6</td>\n",
       "      <td>...</td>\n",
       "      <td>43</td>\n",
       "      <td>121</td>\n",
       "      <td>84</td>\n",
       "      <td>78</td>\n",
       "      <td>47</td>\n",
       "      <td>36</td>\n",
       "      <td>40</td>\n",
       "      <td>45</td>\n",
       "      <td>27</td>\n",
       "      <td>36</td>\n",
       "    </tr>\n",
       "    <tr>\n",
       "      <th>2</th>\n",
       "      <td>3</td>\n",
       "      <td>0</td>\n",
       "      <td>2205</td>\n",
       "      <td>12.736054</td>\n",
       "      <td>28083</td>\n",
       "      <td>6.107050</td>\n",
       "      <td>9</td>\n",
       "      <td>0</td>\n",
       "      <td>0</td>\n",
       "      <td>6</td>\n",
       "      <td>...</td>\n",
       "      <td>326</td>\n",
       "      <td>268</td>\n",
       "      <td>239</td>\n",
       "      <td>286</td>\n",
       "      <td>199</td>\n",
       "      <td>148</td>\n",
       "      <td>154</td>\n",
       "      <td>37</td>\n",
       "      <td>48</td>\n",
       "      <td>36</td>\n",
       "    </tr>\n",
       "    <tr>\n",
       "      <th>3</th>\n",
       "      <td>4</td>\n",
       "      <td>0</td>\n",
       "      <td>2602</td>\n",
       "      <td>10.288240</td>\n",
       "      <td>26770</td>\n",
       "      <td>5.373013</td>\n",
       "      <td>8</td>\n",
       "      <td>0</td>\n",
       "      <td>0</td>\n",
       "      <td>1</td>\n",
       "      <td>...</td>\n",
       "      <td>336</td>\n",
       "      <td>230</td>\n",
       "      <td>206</td>\n",
       "      <td>245</td>\n",
       "      <td>76</td>\n",
       "      <td>0</td>\n",
       "      <td>26</td>\n",
       "      <td>702</td>\n",
       "      <td>1</td>\n",
       "      <td>5</td>\n",
       "    </tr>\n",
       "    <tr>\n",
       "      <th>4</th>\n",
       "      <td>5</td>\n",
       "      <td>1</td>\n",
       "      <td>8980</td>\n",
       "      <td>23.252339</td>\n",
       "      <td>208806</td>\n",
       "      <td>5.775223</td>\n",
       "      <td>0</td>\n",
       "      <td>28</td>\n",
       "      <td>16</td>\n",
       "      <td>3</td>\n",
       "      <td>...</td>\n",
       "      <td>731</td>\n",
       "      <td>882</td>\n",
       "      <td>1171</td>\n",
       "      <td>1010</td>\n",
       "      <td>322</td>\n",
       "      <td>64</td>\n",
       "      <td>327</td>\n",
       "      <td>84</td>\n",
       "      <td>75</td>\n",
       "      <td>244</td>\n",
       "    </tr>\n",
       "  </tbody>\n",
       "</table>\n",
       "<p>5 rows × 618 columns</p>\n",
       "</div>"
      ],
      "text/plain": [
       "   분석데이터  label  numstrings   avlength  printables   entropy  paths  urls  \\\n",
       "0      1      1         144  12.298611        1771  5.356616      0     0   \n",
       "1      2      1         804   9.580846        7703  6.063542      0     0   \n",
       "2      3      0        2205  12.736054       28083  6.107050      9     0   \n",
       "3      4      0        2602  10.288240       26770  5.373013      8     0   \n",
       "4      5      1        8980  23.252339      208806  5.775223      0    28   \n",
       "\n",
       "   registry  MZ  ...  dist_86  dist_87  dist_88  dist_89  dist_90  dist_91  \\\n",
       "0         0   1  ...       10        4       10        9        4        0   \n",
       "1         0   6  ...       43      121       84       78       47       36   \n",
       "2         0   6  ...      326      268      239      286      199      148   \n",
       "3         0   1  ...      336      230      206      245       76        0   \n",
       "4        16   3  ...      731      882     1171     1010      322       64   \n",
       "\n",
       "   dist_92  dist_93  dist_94  dist_95  \n",
       "0        1        0        0        0  \n",
       "1       40       45       27       36  \n",
       "2      154       37       48       36  \n",
       "3       26      702        1        5  \n",
       "4      327       84       75      244  \n",
       "\n",
       "[5 rows x 618 columns]"
      ]
     },
     "execution_count": 3,
     "metadata": {},
     "output_type": "execute_result"
    }
   ],
   "source": [
    "train.head()"
   ]
  },
  {
   "cell_type": "code",
   "execution_count": 4,
   "metadata": {},
   "outputs": [],
   "source": [
    "train = train.drop(columns=['분석데이터'], axis=1)"
   ]
  },
  {
   "cell_type": "code",
   "execution_count": 5,
   "metadata": {},
   "outputs": [],
   "source": [
    "y = train['label']"
   ]
  },
  {
   "cell_type": "code",
   "execution_count": 6,
   "metadata": {},
   "outputs": [],
   "source": [
    "x = train.drop(columns=['label'], axis=1)"
   ]
  },
  {
   "cell_type": "code",
   "execution_count": 7,
   "metadata": {},
   "outputs": [],
   "source": [
    "features = x.columns.values"
   ]
  },
  {
   "cell_type": "code",
   "execution_count": 8,
   "metadata": {},
   "outputs": [],
   "source": [
    "scaler = StandardScaler().fit(x)"
   ]
  },
  {
   "cell_type": "code",
   "execution_count": 9,
   "metadata": {},
   "outputs": [],
   "source": [
    "x = scaler.transform(x)"
   ]
  },
  {
   "cell_type": "code",
   "execution_count": 10,
   "metadata": {},
   "outputs": [],
   "source": [
    "x = pd.DataFrame(x, columns=features)"
   ]
  },
  {
   "cell_type": "code",
   "execution_count": 11,
   "metadata": {},
   "outputs": [
    {
     "data": {
      "text/html": [
       "<div>\n",
       "<style scoped>\n",
       "    .dataframe tbody tr th:only-of-type {\n",
       "        vertical-align: middle;\n",
       "    }\n",
       "\n",
       "    .dataframe tbody tr th {\n",
       "        vertical-align: top;\n",
       "    }\n",
       "\n",
       "    .dataframe thead th {\n",
       "        text-align: right;\n",
       "    }\n",
       "</style>\n",
       "<table border=\"1\" class=\"dataframe\">\n",
       "  <thead>\n",
       "    <tr style=\"text-align: right;\">\n",
       "      <th></th>\n",
       "      <th>numstrings</th>\n",
       "      <th>avlength</th>\n",
       "      <th>printables</th>\n",
       "      <th>entropy</th>\n",
       "      <th>paths</th>\n",
       "      <th>urls</th>\n",
       "      <th>registry</th>\n",
       "      <th>MZ</th>\n",
       "      <th>a_0</th>\n",
       "      <th>a_1</th>\n",
       "      <th>...</th>\n",
       "      <th>dist_86</th>\n",
       "      <th>dist_87</th>\n",
       "      <th>dist_88</th>\n",
       "      <th>dist_89</th>\n",
       "      <th>dist_90</th>\n",
       "      <th>dist_91</th>\n",
       "      <th>dist_92</th>\n",
       "      <th>dist_93</th>\n",
       "      <th>dist_94</th>\n",
       "      <th>dist_95</th>\n",
       "    </tr>\n",
       "  </thead>\n",
       "  <tbody>\n",
       "    <tr>\n",
       "      <th>0</th>\n",
       "      <td>-0.464725</td>\n",
       "      <td>-0.036652</td>\n",
       "      <td>-0.327447</td>\n",
       "      <td>-0.540002</td>\n",
       "      <td>-0.024953</td>\n",
       "      <td>-0.238306</td>\n",
       "      <td>-0.172949</td>\n",
       "      <td>-0.225030</td>\n",
       "      <td>-0.188685</td>\n",
       "      <td>-0.376343</td>\n",
       "      <td>...</td>\n",
       "      <td>-0.233668</td>\n",
       "      <td>-0.235058</td>\n",
       "      <td>-0.253865</td>\n",
       "      <td>-0.264108</td>\n",
       "      <td>-0.188405</td>\n",
       "      <td>-0.268198</td>\n",
       "      <td>-0.402596</td>\n",
       "      <td>-0.282261</td>\n",
       "      <td>-0.391776</td>\n",
       "      <td>-0.375256</td>\n",
       "    </tr>\n",
       "    <tr>\n",
       "      <th>1</th>\n",
       "      <td>-0.423709</td>\n",
       "      <td>-0.041482</td>\n",
       "      <td>-0.310858</td>\n",
       "      <td>0.425357</td>\n",
       "      <td>-0.024953</td>\n",
       "      <td>-0.238306</td>\n",
       "      <td>-0.172949</td>\n",
       "      <td>-0.157390</td>\n",
       "      <td>-0.008605</td>\n",
       "      <td>-0.138858</td>\n",
       "      <td>...</td>\n",
       "      <td>-0.226774</td>\n",
       "      <td>-0.212625</td>\n",
       "      <td>-0.240627</td>\n",
       "      <td>-0.253218</td>\n",
       "      <td>-0.184802</td>\n",
       "      <td>-0.235944</td>\n",
       "      <td>-0.359646</td>\n",
       "      <td>-0.239533</td>\n",
       "      <td>-0.356918</td>\n",
       "      <td>-0.329717</td>\n",
       "    </tr>\n",
       "    <tr>\n",
       "      <th>2</th>\n",
       "      <td>-0.336643</td>\n",
       "      <td>-0.035875</td>\n",
       "      <td>-0.253867</td>\n",
       "      <td>0.484770</td>\n",
       "      <td>0.064761</td>\n",
       "      <td>-0.238306</td>\n",
       "      <td>-0.172949</td>\n",
       "      <td>-0.157390</td>\n",
       "      <td>-0.189900</td>\n",
       "      <td>-0.392686</td>\n",
       "      <td>...</td>\n",
       "      <td>-0.167655</td>\n",
       "      <td>-0.184440</td>\n",
       "      <td>-0.212900</td>\n",
       "      <td>-0.220390</td>\n",
       "      <td>-0.172065</td>\n",
       "      <td>-0.135601</td>\n",
       "      <td>-0.234100</td>\n",
       "      <td>-0.247130</td>\n",
       "      <td>-0.329807</td>\n",
       "      <td>-0.329717</td>\n",
       "    </tr>\n",
       "    <tr>\n",
       "      <th>3</th>\n",
       "      <td>-0.311971</td>\n",
       "      <td>-0.040225</td>\n",
       "      <td>-0.257538</td>\n",
       "      <td>-0.517611</td>\n",
       "      <td>0.054792</td>\n",
       "      <td>-0.238306</td>\n",
       "      <td>-0.172949</td>\n",
       "      <td>-0.225030</td>\n",
       "      <td>-0.134503</td>\n",
       "      <td>-0.314666</td>\n",
       "      <td>...</td>\n",
       "      <td>-0.165566</td>\n",
       "      <td>-0.191726</td>\n",
       "      <td>-0.218803</td>\n",
       "      <td>-0.226861</td>\n",
       "      <td>-0.182372</td>\n",
       "      <td>-0.268198</td>\n",
       "      <td>-0.375064</td>\n",
       "      <td>0.384291</td>\n",
       "      <td>-0.390485</td>\n",
       "      <td>-0.368931</td>\n",
       "    </tr>\n",
       "    <tr>\n",
       "      <th>4</th>\n",
       "      <td>0.084395</td>\n",
       "      <td>-0.017186</td>\n",
       "      <td>0.251516</td>\n",
       "      <td>0.031637</td>\n",
       "      <td>-0.024953</td>\n",
       "      <td>0.385573</td>\n",
       "      <td>6.611027</td>\n",
       "      <td>-0.197974</td>\n",
       "      <td>-0.067414</td>\n",
       "      <td>-0.219942</td>\n",
       "      <td>...</td>\n",
       "      <td>-0.083049</td>\n",
       "      <td>-0.066716</td>\n",
       "      <td>-0.046178</td>\n",
       "      <td>-0.106125</td>\n",
       "      <td>-0.161759</td>\n",
       "      <td>-0.210858</td>\n",
       "      <td>-0.043579</td>\n",
       "      <td>-0.202503</td>\n",
       "      <td>-0.294949</td>\n",
       "      <td>-0.066602</td>\n",
       "    </tr>\n",
       "    <tr>\n",
       "      <th>...</th>\n",
       "      <td>...</td>\n",
       "      <td>...</td>\n",
       "      <td>...</td>\n",
       "      <td>...</td>\n",
       "      <td>...</td>\n",
       "      <td>...</td>\n",
       "      <td>...</td>\n",
       "      <td>...</td>\n",
       "      <td>...</td>\n",
       "      <td>...</td>\n",
       "      <td>...</td>\n",
       "      <td>...</td>\n",
       "      <td>...</td>\n",
       "      <td>...</td>\n",
       "      <td>...</td>\n",
       "      <td>...</td>\n",
       "      <td>...</td>\n",
       "      <td>...</td>\n",
       "      <td>...</td>\n",
       "      <td>...</td>\n",
       "      <td>...</td>\n",
       "    </tr>\n",
       "    <tr>\n",
       "      <th>9995</th>\n",
       "      <td>-0.348264</td>\n",
       "      <td>-0.033739</td>\n",
       "      <td>-0.253743</td>\n",
       "      <td>0.257255</td>\n",
       "      <td>-0.024953</td>\n",
       "      <td>1.321392</td>\n",
       "      <td>-0.172949</td>\n",
       "      <td>-0.089749</td>\n",
       "      <td>0.062708</td>\n",
       "      <td>0.133147</td>\n",
       "      <td>...</td>\n",
       "      <td>-0.184367</td>\n",
       "      <td>-0.200163</td>\n",
       "      <td>-0.218803</td>\n",
       "      <td>-0.228439</td>\n",
       "      <td>-0.181366</td>\n",
       "      <td>-0.238632</td>\n",
       "      <td>-0.314493</td>\n",
       "      <td>-0.227190</td>\n",
       "      <td>-0.313023</td>\n",
       "      <td>-0.284177</td>\n",
       "    </tr>\n",
       "    <tr>\n",
       "      <th>9996</th>\n",
       "      <td>-0.405003</td>\n",
       "      <td>-0.029298</td>\n",
       "      <td>-0.281607</td>\n",
       "      <td>0.020355</td>\n",
       "      <td>-0.024953</td>\n",
       "      <td>0.006789</td>\n",
       "      <td>-0.172949</td>\n",
       "      <td>-0.197974</td>\n",
       "      <td>-0.010674</td>\n",
       "      <td>-0.239500</td>\n",
       "      <td>...</td>\n",
       "      <td>-0.194185</td>\n",
       "      <td>-0.224896</td>\n",
       "      <td>-0.231683</td>\n",
       "      <td>-0.246115</td>\n",
       "      <td>-0.187064</td>\n",
       "      <td>-0.245800</td>\n",
       "      <td>-0.372861</td>\n",
       "      <td>-0.258524</td>\n",
       "      <td>-0.338844</td>\n",
       "      <td>-0.358811</td>\n",
       "    </tr>\n",
       "    <tr>\n",
       "      <th>9997</th>\n",
       "      <td>-0.473426</td>\n",
       "      <td>0.045452</td>\n",
       "      <td>-0.331745</td>\n",
       "      <td>-2.649522</td>\n",
       "      <td>-0.024953</td>\n",
       "      <td>-0.238306</td>\n",
       "      <td>-0.172949</td>\n",
       "      <td>-0.225030</td>\n",
       "      <td>-0.122677</td>\n",
       "      <td>-0.323108</td>\n",
       "      <td>...</td>\n",
       "      <td>-0.235757</td>\n",
       "      <td>-0.235825</td>\n",
       "      <td>-0.255653</td>\n",
       "      <td>-0.265528</td>\n",
       "      <td>-0.188740</td>\n",
       "      <td>-0.268198</td>\n",
       "      <td>-0.403697</td>\n",
       "      <td>-0.282261</td>\n",
       "      <td>-0.391776</td>\n",
       "      <td>-0.375256</td>\n",
       "    </tr>\n",
       "    <tr>\n",
       "      <th>9998</th>\n",
       "      <td>-0.267848</td>\n",
       "      <td>-0.014189</td>\n",
       "      <td>-0.101415</td>\n",
       "      <td>0.112897</td>\n",
       "      <td>-0.024953</td>\n",
       "      <td>0.630669</td>\n",
       "      <td>-0.172949</td>\n",
       "      <td>-0.130334</td>\n",
       "      <td>-0.100873</td>\n",
       "      <td>-0.353331</td>\n",
       "      <td>...</td>\n",
       "      <td>-0.144258</td>\n",
       "      <td>-0.046968</td>\n",
       "      <td>-0.111471</td>\n",
       "      <td>-0.131219</td>\n",
       "      <td>-0.179271</td>\n",
       "      <td>-0.157999</td>\n",
       "      <td>-0.204366</td>\n",
       "      <td>-0.187311</td>\n",
       "      <td>-0.294949</td>\n",
       "      <td>-0.266468</td>\n",
       "    </tr>\n",
       "    <tr>\n",
       "      <th>9999</th>\n",
       "      <td>-0.432969</td>\n",
       "      <td>-0.047707</td>\n",
       "      <td>-0.321266</td>\n",
       "      <td>1.047974</td>\n",
       "      <td>-0.024953</td>\n",
       "      <td>-0.238306</td>\n",
       "      <td>-0.172949</td>\n",
       "      <td>-0.184446</td>\n",
       "      <td>-0.176407</td>\n",
       "      <td>-0.371897</td>\n",
       "      <td>...</td>\n",
       "      <td>-0.226565</td>\n",
       "      <td>-0.229689</td>\n",
       "      <td>-0.251002</td>\n",
       "      <td>-0.260478</td>\n",
       "      <td>-0.186394</td>\n",
       "      <td>-0.241320</td>\n",
       "      <td>-0.367355</td>\n",
       "      <td>-0.260423</td>\n",
       "      <td>-0.358209</td>\n",
       "      <td>-0.334776</td>\n",
       "    </tr>\n",
       "  </tbody>\n",
       "</table>\n",
       "<p>10000 rows × 616 columns</p>\n",
       "</div>"
      ],
      "text/plain": [
       "      numstrings  avlength  printables   entropy     paths      urls  \\\n",
       "0      -0.464725 -0.036652   -0.327447 -0.540002 -0.024953 -0.238306   \n",
       "1      -0.423709 -0.041482   -0.310858  0.425357 -0.024953 -0.238306   \n",
       "2      -0.336643 -0.035875   -0.253867  0.484770  0.064761 -0.238306   \n",
       "3      -0.311971 -0.040225   -0.257538 -0.517611  0.054792 -0.238306   \n",
       "4       0.084395 -0.017186    0.251516  0.031637 -0.024953  0.385573   \n",
       "...          ...       ...         ...       ...       ...       ...   \n",
       "9995   -0.348264 -0.033739   -0.253743  0.257255 -0.024953  1.321392   \n",
       "9996   -0.405003 -0.029298   -0.281607  0.020355 -0.024953  0.006789   \n",
       "9997   -0.473426  0.045452   -0.331745 -2.649522 -0.024953 -0.238306   \n",
       "9998   -0.267848 -0.014189   -0.101415  0.112897 -0.024953  0.630669   \n",
       "9999   -0.432969 -0.047707   -0.321266  1.047974 -0.024953 -0.238306   \n",
       "\n",
       "      registry        MZ       a_0       a_1  ...   dist_86   dist_87  \\\n",
       "0    -0.172949 -0.225030 -0.188685 -0.376343  ... -0.233668 -0.235058   \n",
       "1    -0.172949 -0.157390 -0.008605 -0.138858  ... -0.226774 -0.212625   \n",
       "2    -0.172949 -0.157390 -0.189900 -0.392686  ... -0.167655 -0.184440   \n",
       "3    -0.172949 -0.225030 -0.134503 -0.314666  ... -0.165566 -0.191726   \n",
       "4     6.611027 -0.197974 -0.067414 -0.219942  ... -0.083049 -0.066716   \n",
       "...        ...       ...       ...       ...  ...       ...       ...   \n",
       "9995 -0.172949 -0.089749  0.062708  0.133147  ... -0.184367 -0.200163   \n",
       "9996 -0.172949 -0.197974 -0.010674 -0.239500  ... -0.194185 -0.224896   \n",
       "9997 -0.172949 -0.225030 -0.122677 -0.323108  ... -0.235757 -0.235825   \n",
       "9998 -0.172949 -0.130334 -0.100873 -0.353331  ... -0.144258 -0.046968   \n",
       "9999 -0.172949 -0.184446 -0.176407 -0.371897  ... -0.226565 -0.229689   \n",
       "\n",
       "       dist_88   dist_89   dist_90   dist_91   dist_92   dist_93   dist_94  \\\n",
       "0    -0.253865 -0.264108 -0.188405 -0.268198 -0.402596 -0.282261 -0.391776   \n",
       "1    -0.240627 -0.253218 -0.184802 -0.235944 -0.359646 -0.239533 -0.356918   \n",
       "2    -0.212900 -0.220390 -0.172065 -0.135601 -0.234100 -0.247130 -0.329807   \n",
       "3    -0.218803 -0.226861 -0.182372 -0.268198 -0.375064  0.384291 -0.390485   \n",
       "4    -0.046178 -0.106125 -0.161759 -0.210858 -0.043579 -0.202503 -0.294949   \n",
       "...        ...       ...       ...       ...       ...       ...       ...   \n",
       "9995 -0.218803 -0.228439 -0.181366 -0.238632 -0.314493 -0.227190 -0.313023   \n",
       "9996 -0.231683 -0.246115 -0.187064 -0.245800 -0.372861 -0.258524 -0.338844   \n",
       "9997 -0.255653 -0.265528 -0.188740 -0.268198 -0.403697 -0.282261 -0.391776   \n",
       "9998 -0.111471 -0.131219 -0.179271 -0.157999 -0.204366 -0.187311 -0.294949   \n",
       "9999 -0.251002 -0.260478 -0.186394 -0.241320 -0.367355 -0.260423 -0.358209   \n",
       "\n",
       "       dist_95  \n",
       "0    -0.375256  \n",
       "1    -0.329717  \n",
       "2    -0.329717  \n",
       "3    -0.368931  \n",
       "4    -0.066602  \n",
       "...        ...  \n",
       "9995 -0.284177  \n",
       "9996 -0.358811  \n",
       "9997 -0.375256  \n",
       "9998 -0.266468  \n",
       "9999 -0.334776  \n",
       "\n",
       "[10000 rows x 616 columns]"
      ]
     },
     "execution_count": 11,
     "metadata": {},
     "output_type": "execute_result"
    }
   ],
   "source": [
    "x"
   ]
  },
  {
   "cell_type": "code",
   "execution_count": null,
   "metadata": {},
   "outputs": [],
   "source": [
    "pca = PCA(n_components=616)"
   ]
  },
  {
   "cell_type": "code",
   "execution_count": null,
   "metadata": {
    "scrolled": true
   },
   "outputs": [],
   "source": [
    "pca_array = pca.fit_transform(x)\n",
    "pca_df = pd.DataFrame(pca_array, index=x.index,\n",
    "                      columns=[f\"pca{num+1}\" for num in range(x.shape[1])])\n",
    "pca_df.head()"
   ]
  },
  {
   "cell_type": "code",
   "execution_count": null,
   "metadata": {},
   "outputs": [],
   "source": [
    "# 주성분의 설명력과 기여율 구하기\n",
    "result = pd.DataFrame({'설명가능한 분산 비율(고윳값)':pca.explained_variance_,\n",
    "             '기여율':pca.explained_variance_ratio_},\n",
    "            index=np.array([f\"pca{num+1}\" for num in range(x.shape[1])]))\n",
    "result['누적기여율'] = result['기여율'].cumsum()\n",
    "result"
   ]
  },
  {
   "cell_type": "code",
   "execution_count": null,
   "metadata": {
    "scrolled": true
   },
   "outputs": [],
   "source": [
    "result[0:30]"
   ]
  },
  {
   "cell_type": "code",
   "execution_count": null,
   "metadata": {
    "scrolled": true
   },
   "outputs": [],
   "source": [
    "result[31:60]"
   ]
  },
  {
   "cell_type": "code",
   "execution_count": null,
   "metadata": {
    "scrolled": true
   },
   "outputs": [],
   "source": [
    "result[61:80]"
   ]
  },
  {
   "cell_type": "code",
   "execution_count": null,
   "metadata": {
    "scrolled": true
   },
   "outputs": [],
   "source": [
    "result[81:100]"
   ]
  },
  {
   "cell_type": "code",
   "execution_count": null,
   "metadata": {
    "scrolled": true
   },
   "outputs": [],
   "source": [
    "result[200:210]"
   ]
  },
  {
   "cell_type": "markdown",
   "metadata": {},
   "source": [
    "pca25 : ~0.800575  \n",
    "pca60 : ~0.900173  \n",
    "pca100 : ~0.950234  \n",
    "pca210 : ~0.990096"
   ]
  },
  {
   "cell_type": "code",
   "execution_count": null,
   "metadata": {},
   "outputs": [],
   "source": [
    "x"
   ]
  },
  {
   "cell_type": "code",
   "execution_count": null,
   "metadata": {},
   "outputs": [],
   "source": [
    "pca = PCA(n_components=25)\n",
    "principalComponents = pca.fit_transform(x)\n",
    "principalDf = pd.DataFrame(data=principalComponents)"
   ]
  },
  {
   "cell_type": "code",
   "execution_count": null,
   "metadata": {},
   "outputs": [],
   "source": [
    "principalDf"
   ]
  },
  {
   "cell_type": "code",
   "execution_count": null,
   "metadata": {},
   "outputs": [],
   "source": [
    "lgbm_model = LGBMClassifier(n_estimators = 10000,\n",
    "                            learning_rate = 0.09416659111369403,\n",
    "                            max_depth = 43,\n",
    "                            boosting = 'gbdt',\n",
    "                            objective = 'binary',\n",
    "                            metric = 'binary_logloss',\n",
    "                            is_training_metric = True,\n",
    "                            num_leaves = 41,\n",
    "                            min_data_in_leaf = 10,\n",
    "                            feature_fraction = 0.8,\n",
    "                            bagging_fraction = 0.9,\n",
    "                            bagging_freq = 0,\n",
    "                            alpha = 0.019782149081578264)"
   ]
  },
  {
   "cell_type": "code",
   "execution_count": null,
   "metadata": {},
   "outputs": [],
   "source": [
    "xgb = XGBClassifier(silent=False,\n",
    "                    n_estimators = 10000,\n",
    "                    booster='gbtree',\n",
    "                    tree_method='gpu_hist',\n",
    "                    preidctor= 'gpu_predictor',\n",
    "                    scale_pos_weight=1,\n",
    "                    learning_rate=0.03689407512484644,\n",
    "                    objective='binary:logistic',\n",
    "                    max_depth = 8,\n",
    "                    subsample = 0.780714581166012,\n",
    "                    colsample_bytree = 0.3723914688159835,\n",
    "                    gamma = 0,\n",
    "                    reg_lambda = 50.0,\n",
    "                    random_state=42)"
   ]
  },
  {
   "cell_type": "code",
   "execution_count": null,
   "metadata": {},
   "outputs": [],
   "source": [
    "x_train, x_test, y_train, y_test = train_test_split(principalDf, y, test_size=0.2, random_state=42)"
   ]
  },
  {
   "cell_type": "code",
   "execution_count": null,
   "metadata": {},
   "outputs": [],
   "source": [
    "pred = lgbm_model.fit(x_train, y_train).predict(x_test)"
   ]
  },
  {
   "cell_type": "code",
   "execution_count": null,
   "metadata": {},
   "outputs": [],
   "source": [
    "accuracy_score(y_test, pred)"
   ]
  },
  {
   "cell_type": "code",
   "execution_count": null,
   "metadata": {},
   "outputs": [],
   "source": [
    "roc_auc_score(y_test, pred)"
   ]
  },
  {
   "cell_type": "code",
   "execution_count": null,
   "metadata": {},
   "outputs": [],
   "source": [
    "pred = xgb.fit(x_train, y_train).predict(x_test)"
   ]
  },
  {
   "cell_type": "code",
   "execution_count": null,
   "metadata": {},
   "outputs": [],
   "source": [
    "accuracy_score(y_test, pred)"
   ]
  },
  {
   "cell_type": "code",
   "execution_count": null,
   "metadata": {},
   "outputs": [],
   "source": [
    "roc_auc_score(y_test, pred)"
   ]
  },
  {
   "cell_type": "code",
   "execution_count": null,
   "metadata": {},
   "outputs": [],
   "source": [
    "pca = PCA(n_components=60)\n",
    "principalComponents = pca.fit_transform(x)\n",
    "principalDf2 = pd.DataFrame(data=principalComponents)"
   ]
  },
  {
   "cell_type": "code",
   "execution_count": null,
   "metadata": {},
   "outputs": [],
   "source": [
    "principalDf2"
   ]
  },
  {
   "cell_type": "code",
   "execution_count": null,
   "metadata": {},
   "outputs": [],
   "source": [
    "x_train, x_test, y_train, y_test = train_test_split(principalDf2, y, test_size=0.2, random_state=42)"
   ]
  },
  {
   "cell_type": "code",
   "execution_count": null,
   "metadata": {},
   "outputs": [],
   "source": [
    "pred = lgbm_model.fit(x_train, y_train).predict(x_test)"
   ]
  },
  {
   "cell_type": "code",
   "execution_count": null,
   "metadata": {},
   "outputs": [],
   "source": [
    "accuracy_score(y_test, pred)"
   ]
  },
  {
   "cell_type": "code",
   "execution_count": null,
   "metadata": {},
   "outputs": [],
   "source": [
    "roc_auc_score(y_test, pred)"
   ]
  },
  {
   "cell_type": "code",
   "execution_count": null,
   "metadata": {},
   "outputs": [],
   "source": [
    "pca = PCA(n_components=100)\n",
    "principalComponents = pca.fit_transform(x)\n",
    "principalDf3 = pd.DataFrame(data=principalComponents)"
   ]
  },
  {
   "cell_type": "code",
   "execution_count": null,
   "metadata": {},
   "outputs": [],
   "source": [
    "principalDf3"
   ]
  },
  {
   "cell_type": "code",
   "execution_count": null,
   "metadata": {},
   "outputs": [],
   "source": [
    "x_train, x_test, y_train, y_test = train_test_split(principalDf3, y, test_size=0.2, random_state=42)"
   ]
  },
  {
   "cell_type": "code",
   "execution_count": null,
   "metadata": {},
   "outputs": [],
   "source": [
    "x_train.head()"
   ]
  },
  {
   "cell_type": "code",
   "execution_count": null,
   "metadata": {},
   "outputs": [],
   "source": [
    "pred = lgbm_model.fit(x_train, y_train).predict(x_test)"
   ]
  },
  {
   "cell_type": "code",
   "execution_count": null,
   "metadata": {},
   "outputs": [],
   "source": [
    "accuracy_score(y_test, pred)"
   ]
  },
  {
   "cell_type": "code",
   "execution_count": null,
   "metadata": {},
   "outputs": [],
   "source": [
    "roc_auc_score(y_test, pred)"
   ]
  },
  {
   "cell_type": "code",
   "execution_count": null,
   "metadata": {},
   "outputs": [],
   "source": [
    "pca = PCA(n_components=210)\n",
    "principalComponents = pca.fit_transform(x)\n",
    "principalDf4 = pd.DataFrame(data=principalComponents)"
   ]
  },
  {
   "cell_type": "code",
   "execution_count": null,
   "metadata": {},
   "outputs": [],
   "source": [
    "principalDf4"
   ]
  },
  {
   "cell_type": "code",
   "execution_count": null,
   "metadata": {},
   "outputs": [],
   "source": [
    "x_train, x_test, y_train, y_test = train_test_split(principalDf4, y, test_size=0.2, random_state=42)"
   ]
  },
  {
   "cell_type": "code",
   "execution_count": null,
   "metadata": {},
   "outputs": [],
   "source": [
    "x_train.head()"
   ]
  },
  {
   "cell_type": "code",
   "execution_count": null,
   "metadata": {},
   "outputs": [],
   "source": [
    "pred = lgbm_model.fit(x_train, y_train).predict(x_test)"
   ]
  },
  {
   "cell_type": "code",
   "execution_count": null,
   "metadata": {},
   "outputs": [],
   "source": [
    "accuracy_score(y_test, pred)"
   ]
  },
  {
   "cell_type": "code",
   "execution_count": null,
   "metadata": {},
   "outputs": [],
   "source": [
    "roc_auc_score(y_test, pred)"
   ]
  },
  {
   "cell_type": "code",
   "execution_count": null,
   "metadata": {},
   "outputs": [],
   "source": [
    "lgbm_model = LGBMClassifier(n_estimators = 10000, learning_rate = 0.01)"
   ]
  },
  {
   "cell_type": "code",
   "execution_count": null,
   "metadata": {},
   "outputs": [],
   "source": [
    "pred = lgbm_model.fit(x_train, y_train).predict(x_test)"
   ]
  },
  {
   "cell_type": "code",
   "execution_count": 23,
   "metadata": {},
   "outputs": [],
   "source": [
    "xgb_params = {'n_estimators': 10000,\n",
    "               'learning_rate': 0.03689407512484644,\n",
    "               'max_depth': 8,\n",
    "               'colsample_bytree': 0.3723914688159835,\n",
    "               'subsample': 0.780714581166012,\n",
    "               'eval_metric': 'auc',\n",
    "               'use_label_encoder': False,\n",
    "               'gamma': 0,\n",
    "               'reg_lambda': 50.0,\n",
    "               'tree_method': 'gpu_hist',\n",
    "               'gpu_id': 0,\n",
    "               'predictor': 'gpu_predictor',\n",
    "               'random_state': 42 }\n",
    "\n",
    "lgb_params = {'n_estimators': 10000,\n",
    "              'learning_rate':0.09416659111369403,\n",
    "              'max_depth':43,\n",
    "              'boosting':'gbdt',\n",
    "              'objective': 'binary',\n",
    "              'metric': 'binary_logloss',\n",
    "              'is_training_metric': True,\n",
    "              'num_leaves':41,\n",
    "              'min_data_in_leaf':10,\n",
    "              'feature_fraction':0.8,\n",
    "              'bagging_fraction':0.9,\n",
    "              'bagging_freq':0,\n",
    "              'alpha': 0.019782149081578264 }\n",
    "\n",
    "cat_params = {'objective': 'CrossEntropy',\n",
    "              'colsample_bylevel': 0.043529438827711514,\n",
    "              'depth': 12,\n",
    "              'boosting_type': 'Ordered',\n",
    "              'bootstrap_type': 'Bernoulli',\n",
    "              'learning_rate': 0.19719860541901787,\n",
    "              'iterations': 205,\n",
    "              'random_strength': 34,\n",
    "              'od_type': 'IncToDec',\n",
    "              'subsample': 0.9558805603499683\n",
    "             }"
   ]
  },
  {
   "cell_type": "code",
   "execution_count": 24,
   "metadata": {},
   "outputs": [],
   "source": [
    "lgbm = LGBMClassifier(**lgb_params)\n",
    "\n",
    "xgb = XGBClassifier(**xgb_params)\n",
    "\n",
    "cat = CatBoostClassifier(**cat_params)"
   ]
  },
  {
   "cell_type": "code",
   "execution_count": null,
   "metadata": {},
   "outputs": [],
   "source": [
    "models = [lgbm, xgb, cat]"
   ]
  },
  {
   "cell_type": "code",
   "execution_count": null,
   "metadata": {
    "scrolled": true
   },
   "outputs": [],
   "source": [
    "S_train, S_test = stacking(models, x_train, y_train, x_test, regression=False,\n",
    "                          metric=accuracy_score, n_folds=5, stratified=True, shuffle=True, random_state=42, verbose=2)"
   ]
  },
  {
   "cell_type": "code",
   "execution_count": null,
   "metadata": {},
   "outputs": [],
   "source": [
    "model = lgbm"
   ]
  },
  {
   "cell_type": "code",
   "execution_count": null,
   "metadata": {},
   "outputs": [],
   "source": [
    "model = model.fit(S_train, y_train)"
   ]
  },
  {
   "cell_type": "code",
   "execution_count": null,
   "metadata": {},
   "outputs": [],
   "source": [
    "y_pred = model.predict(S_test)"
   ]
  },
  {
   "cell_type": "code",
   "execution_count": null,
   "metadata": {
    "scrolled": true
   },
   "outputs": [],
   "source": [
    "print('Final prediction score: [%.8f]' % accuracy_score(y_test, y_pred))"
   ]
  },
  {
   "cell_type": "code",
   "execution_count": null,
   "metadata": {},
   "outputs": [],
   "source": []
  },
  {
   "cell_type": "code",
   "execution_count": 12,
   "metadata": {},
   "outputs": [],
   "source": [
    "test = pd.read_csv('preprocessed_test.csv', encoding='euc-kr')"
   ]
  },
  {
   "cell_type": "code",
   "execution_count": 13,
   "metadata": {},
   "outputs": [],
   "source": [
    "test = test.drop(columns=['분석대상'], axis=1)"
   ]
  },
  {
   "cell_type": "code",
   "execution_count": 14,
   "metadata": {},
   "outputs": [
    {
     "data": {
      "text/html": [
       "<div>\n",
       "<style scoped>\n",
       "    .dataframe tbody tr th:only-of-type {\n",
       "        vertical-align: middle;\n",
       "    }\n",
       "\n",
       "    .dataframe tbody tr th {\n",
       "        vertical-align: top;\n",
       "    }\n",
       "\n",
       "    .dataframe thead th {\n",
       "        text-align: right;\n",
       "    }\n",
       "</style>\n",
       "<table border=\"1\" class=\"dataframe\">\n",
       "  <thead>\n",
       "    <tr style=\"text-align: right;\">\n",
       "      <th></th>\n",
       "      <th>numstrings</th>\n",
       "      <th>avlength</th>\n",
       "      <th>printables</th>\n",
       "      <th>entropy</th>\n",
       "      <th>paths</th>\n",
       "      <th>urls</th>\n",
       "      <th>registry</th>\n",
       "      <th>MZ</th>\n",
       "      <th>a_0</th>\n",
       "      <th>a_1</th>\n",
       "      <th>...</th>\n",
       "      <th>dist_86</th>\n",
       "      <th>dist_87</th>\n",
       "      <th>dist_88</th>\n",
       "      <th>dist_89</th>\n",
       "      <th>dist_90</th>\n",
       "      <th>dist_91</th>\n",
       "      <th>dist_92</th>\n",
       "      <th>dist_93</th>\n",
       "      <th>dist_94</th>\n",
       "      <th>dist_95</th>\n",
       "    </tr>\n",
       "  </thead>\n",
       "  <tbody>\n",
       "    <tr>\n",
       "      <th>0</th>\n",
       "      <td>5063</td>\n",
       "      <td>9.419514</td>\n",
       "      <td>47691</td>\n",
       "      <td>5.630504</td>\n",
       "      <td>6</td>\n",
       "      <td>1</td>\n",
       "      <td>1</td>\n",
       "      <td>11</td>\n",
       "      <td>68704</td>\n",
       "      <td>24061</td>\n",
       "      <td>...</td>\n",
       "      <td>212</td>\n",
       "      <td>4485</td>\n",
       "      <td>451</td>\n",
       "      <td>312</td>\n",
       "      <td>128</td>\n",
       "      <td>159</td>\n",
       "      <td>135</td>\n",
       "      <td>283</td>\n",
       "      <td>101</td>\n",
       "      <td>277</td>\n",
       "    </tr>\n",
       "    <tr>\n",
       "      <th>1</th>\n",
       "      <td>5347</td>\n",
       "      <td>15.560875</td>\n",
       "      <td>83204</td>\n",
       "      <td>5.773314</td>\n",
       "      <td>0</td>\n",
       "      <td>2</td>\n",
       "      <td>14</td>\n",
       "      <td>4</td>\n",
       "      <td>4026</td>\n",
       "      <td>1829</td>\n",
       "      <td>...</td>\n",
       "      <td>824</td>\n",
       "      <td>492</td>\n",
       "      <td>1159</td>\n",
       "      <td>574</td>\n",
       "      <td>90</td>\n",
       "      <td>25</td>\n",
       "      <td>47</td>\n",
       "      <td>22</td>\n",
       "      <td>26</td>\n",
       "      <td>27</td>\n",
       "    </tr>\n",
       "    <tr>\n",
       "      <th>2</th>\n",
       "      <td>4523</td>\n",
       "      <td>11.875083</td>\n",
       "      <td>53711</td>\n",
       "      <td>6.146246</td>\n",
       "      <td>0</td>\n",
       "      <td>37</td>\n",
       "      <td>0</td>\n",
       "      <td>1</td>\n",
       "      <td>65732</td>\n",
       "      <td>973</td>\n",
       "      <td>...</td>\n",
       "      <td>249</td>\n",
       "      <td>307</td>\n",
       "      <td>372</td>\n",
       "      <td>289</td>\n",
       "      <td>115</td>\n",
       "      <td>90</td>\n",
       "      <td>248</td>\n",
       "      <td>95</td>\n",
       "      <td>118</td>\n",
       "      <td>77</td>\n",
       "    </tr>\n",
       "    <tr>\n",
       "      <th>3</th>\n",
       "      <td>6174</td>\n",
       "      <td>7.378037</td>\n",
       "      <td>45552</td>\n",
       "      <td>6.473256</td>\n",
       "      <td>0</td>\n",
       "      <td>1</td>\n",
       "      <td>17</td>\n",
       "      <td>13</td>\n",
       "      <td>30028</td>\n",
       "      <td>1158</td>\n",
       "      <td>...</td>\n",
       "      <td>366</td>\n",
       "      <td>441</td>\n",
       "      <td>363</td>\n",
       "      <td>469</td>\n",
       "      <td>331</td>\n",
       "      <td>272</td>\n",
       "      <td>457</td>\n",
       "      <td>311</td>\n",
       "      <td>320</td>\n",
       "      <td>291</td>\n",
       "    </tr>\n",
       "    <tr>\n",
       "      <th>4</th>\n",
       "      <td>22</td>\n",
       "      <td>7.090909</td>\n",
       "      <td>156</td>\n",
       "      <td>5.324630</td>\n",
       "      <td>0</td>\n",
       "      <td>0</td>\n",
       "      <td>0</td>\n",
       "      <td>1</td>\n",
       "      <td>22922</td>\n",
       "      <td>464</td>\n",
       "      <td>...</td>\n",
       "      <td>0</td>\n",
       "      <td>1</td>\n",
       "      <td>3</td>\n",
       "      <td>0</td>\n",
       "      <td>0</td>\n",
       "      <td>0</td>\n",
       "      <td>0</td>\n",
       "      <td>0</td>\n",
       "      <td>0</td>\n",
       "      <td>0</td>\n",
       "    </tr>\n",
       "  </tbody>\n",
       "</table>\n",
       "<p>5 rows × 616 columns</p>\n",
       "</div>"
      ],
      "text/plain": [
       "   numstrings   avlength  printables   entropy  paths  urls  registry  MZ  \\\n",
       "0        5063   9.419514       47691  5.630504      6     1         1  11   \n",
       "1        5347  15.560875       83204  5.773314      0     2        14   4   \n",
       "2        4523  11.875083       53711  6.146246      0    37         0   1   \n",
       "3        6174   7.378037       45552  6.473256      0     1        17  13   \n",
       "4          22   7.090909         156  5.324630      0     0         0   1   \n",
       "\n",
       "     a_0    a_1  ...  dist_86  dist_87  dist_88  dist_89  dist_90  dist_91  \\\n",
       "0  68704  24061  ...      212     4485      451      312      128      159   \n",
       "1   4026   1829  ...      824      492     1159      574       90       25   \n",
       "2  65732    973  ...      249      307      372      289      115       90   \n",
       "3  30028   1158  ...      366      441      363      469      331      272   \n",
       "4  22922    464  ...        0        1        3        0        0        0   \n",
       "\n",
       "   dist_92  dist_93  dist_94  dist_95  \n",
       "0      135      283      101      277  \n",
       "1       47       22       26       27  \n",
       "2      248       95      118       77  \n",
       "3      457      311      320      291  \n",
       "4        0        0        0        0  \n",
       "\n",
       "[5 rows x 616 columns]"
      ]
     },
     "execution_count": 14,
     "metadata": {},
     "output_type": "execute_result"
    }
   ],
   "source": [
    "test.head()"
   ]
  },
  {
   "cell_type": "code",
   "execution_count": 15,
   "metadata": {},
   "outputs": [
    {
     "data": {
      "text/plain": [
       "616"
      ]
     },
     "execution_count": 15,
     "metadata": {},
     "output_type": "execute_result"
    }
   ],
   "source": [
    "len(features)"
   ]
  },
  {
   "cell_type": "code",
   "execution_count": 16,
   "metadata": {},
   "outputs": [],
   "source": [
    "test = scaler.transform(test)"
   ]
  },
  {
   "cell_type": "code",
   "execution_count": 17,
   "metadata": {},
   "outputs": [],
   "source": [
    "test = pd.DataFrame(test, columns=features)"
   ]
  },
  {
   "cell_type": "code",
   "execution_count": 18,
   "metadata": {},
   "outputs": [
    {
     "data": {
      "text/html": [
       "<div>\n",
       "<style scoped>\n",
       "    .dataframe tbody tr th:only-of-type {\n",
       "        vertical-align: middle;\n",
       "    }\n",
       "\n",
       "    .dataframe tbody tr th {\n",
       "        vertical-align: top;\n",
       "    }\n",
       "\n",
       "    .dataframe thead th {\n",
       "        text-align: right;\n",
       "    }\n",
       "</style>\n",
       "<table border=\"1\" class=\"dataframe\">\n",
       "  <thead>\n",
       "    <tr style=\"text-align: right;\">\n",
       "      <th></th>\n",
       "      <th>numstrings</th>\n",
       "      <th>avlength</th>\n",
       "      <th>printables</th>\n",
       "      <th>entropy</th>\n",
       "      <th>paths</th>\n",
       "      <th>urls</th>\n",
       "      <th>registry</th>\n",
       "      <th>MZ</th>\n",
       "      <th>a_0</th>\n",
       "      <th>a_1</th>\n",
       "      <th>...</th>\n",
       "      <th>dist_86</th>\n",
       "      <th>dist_87</th>\n",
       "      <th>dist_88</th>\n",
       "      <th>dist_89</th>\n",
       "      <th>dist_90</th>\n",
       "      <th>dist_91</th>\n",
       "      <th>dist_92</th>\n",
       "      <th>dist_93</th>\n",
       "      <th>dist_94</th>\n",
       "      <th>dist_95</th>\n",
       "    </tr>\n",
       "  </thead>\n",
       "  <tbody>\n",
       "    <tr>\n",
       "      <th>0</th>\n",
       "      <td>-0.159030</td>\n",
       "      <td>-0.041769</td>\n",
       "      <td>-0.199034</td>\n",
       "      <td>-0.165988</td>\n",
       "      <td>0.034856</td>\n",
       "      <td>-0.216025</td>\n",
       "      <td>0.251050</td>\n",
       "      <td>-0.089749</td>\n",
       "      <td>-0.122708</td>\n",
       "      <td>0.329324</td>\n",
       "      <td>...</td>\n",
       "      <td>-0.191470</td>\n",
       "      <td>0.624097</td>\n",
       "      <td>-0.174976</td>\n",
       "      <td>-0.216287</td>\n",
       "      <td>-0.178014</td>\n",
       "      <td>-0.125745</td>\n",
       "      <td>-0.255024</td>\n",
       "      <td>-0.013551</td>\n",
       "      <td>-0.261382</td>\n",
       "      <td>-0.024858</td>\n",
       "    </tr>\n",
       "    <tr>\n",
       "      <th>1</th>\n",
       "      <td>-0.141381</td>\n",
       "      <td>-0.030855</td>\n",
       "      <td>-0.099724</td>\n",
       "      <td>0.029029</td>\n",
       "      <td>-0.024953</td>\n",
       "      <td>-0.193744</td>\n",
       "      <td>5.763030</td>\n",
       "      <td>-0.184446</td>\n",
       "      <td>-0.187066</td>\n",
       "      <td>-0.338580</td>\n",
       "      <td>...</td>\n",
       "      <td>-0.063621</td>\n",
       "      <td>-0.141492</td>\n",
       "      <td>-0.048324</td>\n",
       "      <td>-0.174936</td>\n",
       "      <td>-0.181199</td>\n",
       "      <td>-0.245800</td>\n",
       "      <td>-0.351937</td>\n",
       "      <td>-0.261372</td>\n",
       "      <td>-0.358209</td>\n",
       "      <td>-0.341101</td>\n",
       "    </tr>\n",
       "    <tr>\n",
       "      <th>2</th>\n",
       "      <td>-0.192589</td>\n",
       "      <td>-0.037405</td>\n",
       "      <td>-0.182199</td>\n",
       "      <td>0.538295</td>\n",
       "      <td>-0.024953</td>\n",
       "      <td>0.586106</td>\n",
       "      <td>-0.172949</td>\n",
       "      <td>-0.225030</td>\n",
       "      <td>-0.125666</td>\n",
       "      <td>-0.364296</td>\n",
       "      <td>...</td>\n",
       "      <td>-0.183740</td>\n",
       "      <td>-0.176963</td>\n",
       "      <td>-0.189108</td>\n",
       "      <td>-0.219917</td>\n",
       "      <td>-0.179104</td>\n",
       "      <td>-0.187564</td>\n",
       "      <td>-0.130580</td>\n",
       "      <td>-0.192058</td>\n",
       "      <td>-0.239435</td>\n",
       "      <td>-0.277853</td>\n",
       "    </tr>\n",
       "    <tr>\n",
       "      <th>3</th>\n",
       "      <td>-0.089986</td>\n",
       "      <td>-0.045396</td>\n",
       "      <td>-0.205015</td>\n",
       "      <td>0.984851</td>\n",
       "      <td>-0.024953</td>\n",
       "      <td>-0.216025</td>\n",
       "      <td>7.035025</td>\n",
       "      <td>-0.062693</td>\n",
       "      <td>-0.161193</td>\n",
       "      <td>-0.358738</td>\n",
       "      <td>...</td>\n",
       "      <td>-0.159299</td>\n",
       "      <td>-0.151271</td>\n",
       "      <td>-0.190718</td>\n",
       "      <td>-0.191508</td>\n",
       "      <td>-0.161005</td>\n",
       "      <td>-0.024506</td>\n",
       "      <td>0.099587</td>\n",
       "      <td>0.013035</td>\n",
       "      <td>0.021351</td>\n",
       "      <td>-0.007148</td>\n",
       "    </tr>\n",
       "    <tr>\n",
       "      <th>4</th>\n",
       "      <td>-0.472307</td>\n",
       "      <td>-0.045907</td>\n",
       "      <td>-0.331963</td>\n",
       "      <td>-0.583681</td>\n",
       "      <td>-0.024953</td>\n",
       "      <td>-0.238306</td>\n",
       "      <td>-0.172949</td>\n",
       "      <td>-0.225030</td>\n",
       "      <td>-0.168264</td>\n",
       "      <td>-0.379588</td>\n",
       "      <td>...</td>\n",
       "      <td>-0.235757</td>\n",
       "      <td>-0.235633</td>\n",
       "      <td>-0.255117</td>\n",
       "      <td>-0.265528</td>\n",
       "      <td>-0.188740</td>\n",
       "      <td>-0.268198</td>\n",
       "      <td>-0.403697</td>\n",
       "      <td>-0.282261</td>\n",
       "      <td>-0.391776</td>\n",
       "      <td>-0.375256</td>\n",
       "    </tr>\n",
       "  </tbody>\n",
       "</table>\n",
       "<p>5 rows × 616 columns</p>\n",
       "</div>"
      ],
      "text/plain": [
       "   numstrings  avlength  printables   entropy     paths      urls  registry  \\\n",
       "0   -0.159030 -0.041769   -0.199034 -0.165988  0.034856 -0.216025  0.251050   \n",
       "1   -0.141381 -0.030855   -0.099724  0.029029 -0.024953 -0.193744  5.763030   \n",
       "2   -0.192589 -0.037405   -0.182199  0.538295 -0.024953  0.586106 -0.172949   \n",
       "3   -0.089986 -0.045396   -0.205015  0.984851 -0.024953 -0.216025  7.035025   \n",
       "4   -0.472307 -0.045907   -0.331963 -0.583681 -0.024953 -0.238306 -0.172949   \n",
       "\n",
       "         MZ       a_0       a_1  ...   dist_86   dist_87   dist_88   dist_89  \\\n",
       "0 -0.089749 -0.122708  0.329324  ... -0.191470  0.624097 -0.174976 -0.216287   \n",
       "1 -0.184446 -0.187066 -0.338580  ... -0.063621 -0.141492 -0.048324 -0.174936   \n",
       "2 -0.225030 -0.125666 -0.364296  ... -0.183740 -0.176963 -0.189108 -0.219917   \n",
       "3 -0.062693 -0.161193 -0.358738  ... -0.159299 -0.151271 -0.190718 -0.191508   \n",
       "4 -0.225030 -0.168264 -0.379588  ... -0.235757 -0.235633 -0.255117 -0.265528   \n",
       "\n",
       "    dist_90   dist_91   dist_92   dist_93   dist_94   dist_95  \n",
       "0 -0.178014 -0.125745 -0.255024 -0.013551 -0.261382 -0.024858  \n",
       "1 -0.181199 -0.245800 -0.351937 -0.261372 -0.358209 -0.341101  \n",
       "2 -0.179104 -0.187564 -0.130580 -0.192058 -0.239435 -0.277853  \n",
       "3 -0.161005 -0.024506  0.099587  0.013035  0.021351 -0.007148  \n",
       "4 -0.188740 -0.268198 -0.403697 -0.282261 -0.391776 -0.375256  \n",
       "\n",
       "[5 rows x 616 columns]"
      ]
     },
     "execution_count": 18,
     "metadata": {},
     "output_type": "execute_result"
    }
   ],
   "source": [
    "test.head()"
   ]
  },
  {
   "cell_type": "code",
   "execution_count": 19,
   "metadata": {},
   "outputs": [],
   "source": [
    "pca = PCA(n_components=210)\n",
    "pca = pca.fit(x)"
   ]
  },
  {
   "cell_type": "code",
   "execution_count": 21,
   "metadata": {},
   "outputs": [],
   "source": [
    "principalComponents = pca.fit_transform(test)\n",
    "principalDf_test = pd.DataFrame(data=principalComponents)"
   ]
  },
  {
   "cell_type": "code",
   "execution_count": 22,
   "metadata": {},
   "outputs": [
    {
     "data": {
      "text/html": [
       "<div>\n",
       "<style scoped>\n",
       "    .dataframe tbody tr th:only-of-type {\n",
       "        vertical-align: middle;\n",
       "    }\n",
       "\n",
       "    .dataframe tbody tr th {\n",
       "        vertical-align: top;\n",
       "    }\n",
       "\n",
       "    .dataframe thead th {\n",
       "        text-align: right;\n",
       "    }\n",
       "</style>\n",
       "<table border=\"1\" class=\"dataframe\">\n",
       "  <thead>\n",
       "    <tr style=\"text-align: right;\">\n",
       "      <th></th>\n",
       "      <th>0</th>\n",
       "      <th>1</th>\n",
       "      <th>2</th>\n",
       "      <th>3</th>\n",
       "      <th>4</th>\n",
       "      <th>5</th>\n",
       "      <th>6</th>\n",
       "      <th>7</th>\n",
       "      <th>8</th>\n",
       "      <th>9</th>\n",
       "      <th>...</th>\n",
       "      <th>200</th>\n",
       "      <th>201</th>\n",
       "      <th>202</th>\n",
       "      <th>203</th>\n",
       "      <th>204</th>\n",
       "      <th>205</th>\n",
       "      <th>206</th>\n",
       "      <th>207</th>\n",
       "      <th>208</th>\n",
       "      <th>209</th>\n",
       "    </tr>\n",
       "  </thead>\n",
       "  <tbody>\n",
       "    <tr>\n",
       "      <th>0</th>\n",
       "      <td>-0.479893</td>\n",
       "      <td>-1.042447</td>\n",
       "      <td>-3.695223</td>\n",
       "      <td>-0.132008</td>\n",
       "      <td>0.094294</td>\n",
       "      <td>-0.208262</td>\n",
       "      <td>0.773192</td>\n",
       "      <td>0.083199</td>\n",
       "      <td>-0.140801</td>\n",
       "      <td>0.793633</td>\n",
       "      <td>...</td>\n",
       "      <td>0.283212</td>\n",
       "      <td>-0.139991</td>\n",
       "      <td>0.064927</td>\n",
       "      <td>-0.126348</td>\n",
       "      <td>0.183153</td>\n",
       "      <td>-0.025451</td>\n",
       "      <td>-0.166701</td>\n",
       "      <td>0.077189</td>\n",
       "      <td>-0.107480</td>\n",
       "      <td>0.029718</td>\n",
       "    </tr>\n",
       "    <tr>\n",
       "      <th>1</th>\n",
       "      <td>-0.500069</td>\n",
       "      <td>-1.785700</td>\n",
       "      <td>-3.707350</td>\n",
       "      <td>-0.103911</td>\n",
       "      <td>-0.212310</td>\n",
       "      <td>-0.366211</td>\n",
       "      <td>-1.012221</td>\n",
       "      <td>-0.543733</td>\n",
       "      <td>-0.398851</td>\n",
       "      <td>-0.464197</td>\n",
       "      <td>...</td>\n",
       "      <td>0.002146</td>\n",
       "      <td>-0.004325</td>\n",
       "      <td>0.020898</td>\n",
       "      <td>-0.069919</td>\n",
       "      <td>-0.033707</td>\n",
       "      <td>-0.007819</td>\n",
       "      <td>0.026685</td>\n",
       "      <td>-0.024289</td>\n",
       "      <td>-0.045168</td>\n",
       "      <td>0.002403</td>\n",
       "    </tr>\n",
       "    <tr>\n",
       "      <th>2</th>\n",
       "      <td>-0.494533</td>\n",
       "      <td>-1.724616</td>\n",
       "      <td>-3.818495</td>\n",
       "      <td>-0.098357</td>\n",
       "      <td>-0.118539</td>\n",
       "      <td>-0.271956</td>\n",
       "      <td>-0.343362</td>\n",
       "      <td>-0.178042</td>\n",
       "      <td>-0.012371</td>\n",
       "      <td>-0.370525</td>\n",
       "      <td>...</td>\n",
       "      <td>0.062262</td>\n",
       "      <td>-0.042090</td>\n",
       "      <td>0.054276</td>\n",
       "      <td>-0.088681</td>\n",
       "      <td>-0.002868</td>\n",
       "      <td>-0.129570</td>\n",
       "      <td>0.089823</td>\n",
       "      <td>-0.059098</td>\n",
       "      <td>-0.097344</td>\n",
       "      <td>-0.062695</td>\n",
       "    </tr>\n",
       "    <tr>\n",
       "      <th>3</th>\n",
       "      <td>-0.506916</td>\n",
       "      <td>-1.894428</td>\n",
       "      <td>-4.301183</td>\n",
       "      <td>-0.099206</td>\n",
       "      <td>-0.111321</td>\n",
       "      <td>-0.104390</td>\n",
       "      <td>-0.680470</td>\n",
       "      <td>-0.183449</td>\n",
       "      <td>0.052488</td>\n",
       "      <td>-0.405840</td>\n",
       "      <td>...</td>\n",
       "      <td>0.015599</td>\n",
       "      <td>0.022321</td>\n",
       "      <td>-0.065925</td>\n",
       "      <td>0.031570</td>\n",
       "      <td>0.024398</td>\n",
       "      <td>-0.003170</td>\n",
       "      <td>-0.037472</td>\n",
       "      <td>0.019177</td>\n",
       "      <td>0.003601</td>\n",
       "      <td>0.004840</td>\n",
       "    </tr>\n",
       "    <tr>\n",
       "      <th>4</th>\n",
       "      <td>-0.515042</td>\n",
       "      <td>-1.965683</td>\n",
       "      <td>-4.359528</td>\n",
       "      <td>-0.096262</td>\n",
       "      <td>-0.171784</td>\n",
       "      <td>-0.442914</td>\n",
       "      <td>-0.794846</td>\n",
       "      <td>-0.627529</td>\n",
       "      <td>-0.862421</td>\n",
       "      <td>-0.409338</td>\n",
       "      <td>...</td>\n",
       "      <td>0.016201</td>\n",
       "      <td>-0.000173</td>\n",
       "      <td>-0.009450</td>\n",
       "      <td>0.003514</td>\n",
       "      <td>-0.011247</td>\n",
       "      <td>-0.007632</td>\n",
       "      <td>-0.010747</td>\n",
       "      <td>0.000582</td>\n",
       "      <td>-0.006895</td>\n",
       "      <td>0.004068</td>\n",
       "    </tr>\n",
       "    <tr>\n",
       "      <th>...</th>\n",
       "      <td>...</td>\n",
       "      <td>...</td>\n",
       "      <td>...</td>\n",
       "      <td>...</td>\n",
       "      <td>...</td>\n",
       "      <td>...</td>\n",
       "      <td>...</td>\n",
       "      <td>...</td>\n",
       "      <td>...</td>\n",
       "      <td>...</td>\n",
       "      <td>...</td>\n",
       "      <td>...</td>\n",
       "      <td>...</td>\n",
       "      <td>...</td>\n",
       "      <td>...</td>\n",
       "      <td>...</td>\n",
       "      <td>...</td>\n",
       "      <td>...</td>\n",
       "      <td>...</td>\n",
       "      <td>...</td>\n",
       "      <td>...</td>\n",
       "    </tr>\n",
       "    <tr>\n",
       "      <th>4995</th>\n",
       "      <td>-0.522781</td>\n",
       "      <td>-2.102479</td>\n",
       "      <td>-4.810410</td>\n",
       "      <td>-0.089096</td>\n",
       "      <td>-0.138691</td>\n",
       "      <td>-0.429368</td>\n",
       "      <td>-0.544981</td>\n",
       "      <td>-0.561986</td>\n",
       "      <td>-0.782731</td>\n",
       "      <td>-0.486986</td>\n",
       "      <td>...</td>\n",
       "      <td>0.013140</td>\n",
       "      <td>0.008911</td>\n",
       "      <td>-0.010168</td>\n",
       "      <td>-0.001211</td>\n",
       "      <td>-0.000698</td>\n",
       "      <td>-0.006150</td>\n",
       "      <td>-0.020525</td>\n",
       "      <td>-0.003843</td>\n",
       "      <td>-0.013742</td>\n",
       "      <td>0.010339</td>\n",
       "    </tr>\n",
       "    <tr>\n",
       "      <th>4996</th>\n",
       "      <td>-0.406731</td>\n",
       "      <td>-0.266547</td>\n",
       "      <td>1.277825</td>\n",
       "      <td>-0.147099</td>\n",
       "      <td>-0.443486</td>\n",
       "      <td>-0.494569</td>\n",
       "      <td>-2.094268</td>\n",
       "      <td>-0.813846</td>\n",
       "      <td>-0.802809</td>\n",
       "      <td>-0.557197</td>\n",
       "      <td>...</td>\n",
       "      <td>-0.032559</td>\n",
       "      <td>-0.020936</td>\n",
       "      <td>0.009406</td>\n",
       "      <td>0.034586</td>\n",
       "      <td>-0.052359</td>\n",
       "      <td>-0.023719</td>\n",
       "      <td>-0.032103</td>\n",
       "      <td>-0.010603</td>\n",
       "      <td>-0.013549</td>\n",
       "      <td>-0.036253</td>\n",
       "    </tr>\n",
       "    <tr>\n",
       "      <th>4997</th>\n",
       "      <td>-0.457099</td>\n",
       "      <td>-1.169472</td>\n",
       "      <td>-2.538778</td>\n",
       "      <td>-0.087031</td>\n",
       "      <td>-0.044838</td>\n",
       "      <td>-0.434240</td>\n",
       "      <td>1.221197</td>\n",
       "      <td>-0.260945</td>\n",
       "      <td>-0.729430</td>\n",
       "      <td>-0.410401</td>\n",
       "      <td>...</td>\n",
       "      <td>-0.089402</td>\n",
       "      <td>0.044033</td>\n",
       "      <td>0.031802</td>\n",
       "      <td>0.203404</td>\n",
       "      <td>0.030040</td>\n",
       "      <td>0.268306</td>\n",
       "      <td>-0.101533</td>\n",
       "      <td>-0.136026</td>\n",
       "      <td>-0.009210</td>\n",
       "      <td>0.088656</td>\n",
       "    </tr>\n",
       "    <tr>\n",
       "      <th>4998</th>\n",
       "      <td>-0.415299</td>\n",
       "      <td>-0.593689</td>\n",
       "      <td>-0.895969</td>\n",
       "      <td>-0.067875</td>\n",
       "      <td>0.123391</td>\n",
       "      <td>-0.418352</td>\n",
       "      <td>3.373624</td>\n",
       "      <td>0.189995</td>\n",
       "      <td>-0.609644</td>\n",
       "      <td>-1.548955</td>\n",
       "      <td>...</td>\n",
       "      <td>0.049782</td>\n",
       "      <td>-0.035786</td>\n",
       "      <td>0.013540</td>\n",
       "      <td>-0.038184</td>\n",
       "      <td>-0.083320</td>\n",
       "      <td>-0.056936</td>\n",
       "      <td>0.009953</td>\n",
       "      <td>-0.007405</td>\n",
       "      <td>-0.060769</td>\n",
       "      <td>-0.004641</td>\n",
       "    </tr>\n",
       "    <tr>\n",
       "      <th>4999</th>\n",
       "      <td>-0.465439</td>\n",
       "      <td>-1.246511</td>\n",
       "      <td>-2.346056</td>\n",
       "      <td>-0.113707</td>\n",
       "      <td>-0.178808</td>\n",
       "      <td>-0.336034</td>\n",
       "      <td>-0.385254</td>\n",
       "      <td>-0.454822</td>\n",
       "      <td>-0.286278</td>\n",
       "      <td>-0.432858</td>\n",
       "      <td>...</td>\n",
       "      <td>0.025813</td>\n",
       "      <td>0.002977</td>\n",
       "      <td>-0.070979</td>\n",
       "      <td>0.112958</td>\n",
       "      <td>0.016066</td>\n",
       "      <td>0.074589</td>\n",
       "      <td>0.026614</td>\n",
       "      <td>-0.036690</td>\n",
       "      <td>-0.044617</td>\n",
       "      <td>0.058834</td>\n",
       "    </tr>\n",
       "  </tbody>\n",
       "</table>\n",
       "<p>5000 rows × 210 columns</p>\n",
       "</div>"
      ],
      "text/plain": [
       "           0         1         2         3         4         5         6    \\\n",
       "0    -0.479893 -1.042447 -3.695223 -0.132008  0.094294 -0.208262  0.773192   \n",
       "1    -0.500069 -1.785700 -3.707350 -0.103911 -0.212310 -0.366211 -1.012221   \n",
       "2    -0.494533 -1.724616 -3.818495 -0.098357 -0.118539 -0.271956 -0.343362   \n",
       "3    -0.506916 -1.894428 -4.301183 -0.099206 -0.111321 -0.104390 -0.680470   \n",
       "4    -0.515042 -1.965683 -4.359528 -0.096262 -0.171784 -0.442914 -0.794846   \n",
       "...        ...       ...       ...       ...       ...       ...       ...   \n",
       "4995 -0.522781 -2.102479 -4.810410 -0.089096 -0.138691 -0.429368 -0.544981   \n",
       "4996 -0.406731 -0.266547  1.277825 -0.147099 -0.443486 -0.494569 -2.094268   \n",
       "4997 -0.457099 -1.169472 -2.538778 -0.087031 -0.044838 -0.434240  1.221197   \n",
       "4998 -0.415299 -0.593689 -0.895969 -0.067875  0.123391 -0.418352  3.373624   \n",
       "4999 -0.465439 -1.246511 -2.346056 -0.113707 -0.178808 -0.336034 -0.385254   \n",
       "\n",
       "           7         8         9    ...       200       201       202  \\\n",
       "0     0.083199 -0.140801  0.793633  ...  0.283212 -0.139991  0.064927   \n",
       "1    -0.543733 -0.398851 -0.464197  ...  0.002146 -0.004325  0.020898   \n",
       "2    -0.178042 -0.012371 -0.370525  ...  0.062262 -0.042090  0.054276   \n",
       "3    -0.183449  0.052488 -0.405840  ...  0.015599  0.022321 -0.065925   \n",
       "4    -0.627529 -0.862421 -0.409338  ...  0.016201 -0.000173 -0.009450   \n",
       "...        ...       ...       ...  ...       ...       ...       ...   \n",
       "4995 -0.561986 -0.782731 -0.486986  ...  0.013140  0.008911 -0.010168   \n",
       "4996 -0.813846 -0.802809 -0.557197  ... -0.032559 -0.020936  0.009406   \n",
       "4997 -0.260945 -0.729430 -0.410401  ... -0.089402  0.044033  0.031802   \n",
       "4998  0.189995 -0.609644 -1.548955  ...  0.049782 -0.035786  0.013540   \n",
       "4999 -0.454822 -0.286278 -0.432858  ...  0.025813  0.002977 -0.070979   \n",
       "\n",
       "           203       204       205       206       207       208       209  \n",
       "0    -0.126348  0.183153 -0.025451 -0.166701  0.077189 -0.107480  0.029718  \n",
       "1    -0.069919 -0.033707 -0.007819  0.026685 -0.024289 -0.045168  0.002403  \n",
       "2    -0.088681 -0.002868 -0.129570  0.089823 -0.059098 -0.097344 -0.062695  \n",
       "3     0.031570  0.024398 -0.003170 -0.037472  0.019177  0.003601  0.004840  \n",
       "4     0.003514 -0.011247 -0.007632 -0.010747  0.000582 -0.006895  0.004068  \n",
       "...        ...       ...       ...       ...       ...       ...       ...  \n",
       "4995 -0.001211 -0.000698 -0.006150 -0.020525 -0.003843 -0.013742  0.010339  \n",
       "4996  0.034586 -0.052359 -0.023719 -0.032103 -0.010603 -0.013549 -0.036253  \n",
       "4997  0.203404  0.030040  0.268306 -0.101533 -0.136026 -0.009210  0.088656  \n",
       "4998 -0.038184 -0.083320 -0.056936  0.009953 -0.007405 -0.060769 -0.004641  \n",
       "4999  0.112958  0.016066  0.074589  0.026614 -0.036690 -0.044617  0.058834  \n",
       "\n",
       "[5000 rows x 210 columns]"
      ]
     },
     "execution_count": 22,
     "metadata": {},
     "output_type": "execute_result"
    }
   ],
   "source": [
    "principalDf_test"
   ]
  },
  {
   "cell_type": "code",
   "execution_count": 36,
   "metadata": {
    "scrolled": true
   },
   "outputs": [
    {
     "data": {
      "text/plain": [
       "LGBMClassifier(alpha=0.019782149081578264, bagging_fraction=0.9, bagging_freq=0,\n",
       "               boosting='gbdt', feature_fraction=0.8, is_training_metric=True,\n",
       "               learning_rate=0.09416659111369403, max_depth=43,\n",
       "               metric='binary_logloss', min_data_in_leaf=10, n_estimators=10000,\n",
       "               num_leaves=41, objective='binary')"
      ]
     },
     "execution_count": 36,
     "metadata": {},
     "output_type": "execute_result"
    }
   ],
   "source": [
    "lgbm.fit(x, y)"
   ]
  },
  {
   "cell_type": "code",
   "execution_count": 32,
   "metadata": {},
   "outputs": [],
   "source": [
    "x = pca.transform(x)"
   ]
  },
  {
   "cell_type": "code",
   "execution_count": 37,
   "metadata": {},
   "outputs": [],
   "source": [
    "sub_pred = lgbm.predict(principalDf_test)"
   ]
  },
  {
   "cell_type": "code",
   "execution_count": 38,
   "metadata": {},
   "outputs": [],
   "source": [
    "sub_rf = pd.read_csv('rf_sub.csv', encoding='euc-kr')"
   ]
  },
  {
   "cell_type": "code",
   "execution_count": 39,
   "metadata": {},
   "outputs": [],
   "source": [
    "sub = pd.read_csv('submission_ex.csv', encoding='euc-kr')\n",
    "sub['정답지'] = sub_pred\n",
    "sub.to_csv('sub_pca.csv', index = 0, encoding='euc-kr')"
   ]
  },
  {
   "cell_type": "code",
   "execution_count": 40,
   "metadata": {},
   "outputs": [],
   "source": [
    "sub_pca = pd.read_csv('sub_pca.csv', encoding='euc-kr')"
   ]
  },
  {
   "cell_type": "code",
   "execution_count": 41,
   "metadata": {},
   "outputs": [],
   "source": [
    "compare = pd.DataFrame(columns=['status'])"
   ]
  },
  {
   "cell_type": "code",
   "execution_count": 42,
   "metadata": {},
   "outputs": [
    {
     "data": {
      "text/html": [
       "<div>\n",
       "<style scoped>\n",
       "    .dataframe tbody tr th:only-of-type {\n",
       "        vertical-align: middle;\n",
       "    }\n",
       "\n",
       "    .dataframe tbody tr th {\n",
       "        vertical-align: top;\n",
       "    }\n",
       "\n",
       "    .dataframe thead th {\n",
       "        text-align: right;\n",
       "    }\n",
       "</style>\n",
       "<table border=\"1\" class=\"dataframe\">\n",
       "  <thead>\n",
       "    <tr style=\"text-align: right;\">\n",
       "      <th></th>\n",
       "      <th>status</th>\n",
       "    </tr>\n",
       "  </thead>\n",
       "  <tbody>\n",
       "  </tbody>\n",
       "</table>\n",
       "</div>"
      ],
      "text/plain": [
       "Empty DataFrame\n",
       "Columns: [status]\n",
       "Index: []"
      ]
     },
     "execution_count": 42,
     "metadata": {},
     "output_type": "execute_result"
    }
   ],
   "source": [
    "compare"
   ]
  },
  {
   "cell_type": "code",
   "execution_count": 43,
   "metadata": {},
   "outputs": [],
   "source": [
    "for i in range(5000):\n",
    "    if sub_pca['정답지'][i] == sub_rf['정답지'][i]:\n",
    "        compare.loc[i] = 0\n",
    "    else:\n",
    "        compare.loc[i] = 1"
   ]
  },
  {
   "cell_type": "code",
   "execution_count": 44,
   "metadata": {},
   "outputs": [
    {
     "data": {
      "text/plain": [
       "3866"
      ]
     },
     "execution_count": 44,
     "metadata": {},
     "output_type": "execute_result"
    }
   ],
   "source": [
    "(compare['status']==0).sum()"
   ]
  },
  {
   "cell_type": "code",
   "execution_count": 45,
   "metadata": {
    "scrolled": true
   },
   "outputs": [
    {
     "data": {
      "text/plain": [
       "1134"
      ]
     },
     "execution_count": 45,
     "metadata": {},
     "output_type": "execute_result"
    }
   ],
   "source": [
    "(compare['status']==1).sum()"
   ]
  },
  {
   "cell_type": "code",
   "execution_count": 50,
   "metadata": {},
   "outputs": [],
   "source": [
    "sub_stacking = pd.read_csv('sub_stack.csv', encoding='euc-kr')"
   ]
  },
  {
   "cell_type": "code",
   "execution_count": 46,
   "metadata": {},
   "outputs": [
    {
     "data": {
      "text/plain": [
       "3485"
      ]
     },
     "execution_count": 46,
     "metadata": {},
     "output_type": "execute_result"
    }
   ],
   "source": [
    "(sub_rf['정답지'] == 1).sum()"
   ]
  },
  {
   "cell_type": "code",
   "execution_count": 47,
   "metadata": {},
   "outputs": [
    {
     "data": {
      "text/plain": [
       "1515"
      ]
     },
     "execution_count": 47,
     "metadata": {},
     "output_type": "execute_result"
    }
   ],
   "source": [
    "(sub_rf['정답지'] == 0).sum()"
   ]
  },
  {
   "cell_type": "code",
   "execution_count": 48,
   "metadata": {},
   "outputs": [
    {
     "data": {
      "text/plain": [
       "2901"
      ]
     },
     "execution_count": 48,
     "metadata": {},
     "output_type": "execute_result"
    }
   ],
   "source": [
    "(sub_pca['정답지'] == 1).sum()"
   ]
  },
  {
   "cell_type": "code",
   "execution_count": 49,
   "metadata": {},
   "outputs": [
    {
     "data": {
      "text/plain": [
       "2099"
      ]
     },
     "execution_count": 49,
     "metadata": {},
     "output_type": "execute_result"
    }
   ],
   "source": [
    "(sub_pca['정답지'] == 0).sum()"
   ]
  },
  {
   "cell_type": "code",
   "execution_count": 51,
   "metadata": {},
   "outputs": [
    {
     "data": {
      "text/plain": [
       "3456"
      ]
     },
     "execution_count": 51,
     "metadata": {},
     "output_type": "execute_result"
    }
   ],
   "source": [
    "(sub_stacking['정답지'] == 1).sum()"
   ]
  },
  {
   "cell_type": "code",
   "execution_count": 52,
   "metadata": {},
   "outputs": [
    {
     "data": {
      "text/plain": [
       "1544"
      ]
     },
     "execution_count": 52,
     "metadata": {},
     "output_type": "execute_result"
    }
   ],
   "source": [
    "(sub_stacking['정답지'] == 0).sum()"
   ]
  },
  {
   "cell_type": "code",
   "execution_count": null,
   "metadata": {},
   "outputs": [],
   "source": []
  }
 ],
 "metadata": {
  "kernelspec": {
   "display_name": "Python 3",
   "language": "python",
   "name": "python3"
  },
  "language_info": {
   "codemirror_mode": {
    "name": "ipython",
    "version": 3
   },
   "file_extension": ".py",
   "mimetype": "text/x-python",
   "name": "python",
   "nbconvert_exporter": "python",
   "pygments_lexer": "ipython3",
   "version": "3.8.5"
  }
 },
 "nbformat": 4,
 "nbformat_minor": 4
}
